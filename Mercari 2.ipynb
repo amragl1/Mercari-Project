{
 "cells": [
  {
   "cell_type": "markdown",
   "id": "44d9408f",
   "metadata": {},
   "source": [
    "#Business Objective\n",
    "\n",
    " \n",
    "\n",
    "#Clothing has strong seasonal pricing trends and is heavily influenced by brand names, while electronics have fluctuating prices based on product specs.\n",
    "\n",
    "#Mercari, Japan’s biggest community-powered shopping app, knows this problem deeply. They’d like to offer pricing suggestions to sellers, but this is tough because their sellers are enabled to put just about anything, or any bundle of things, on Mercari's marketplace.\n",
    "\n",
    "#In this project, Mercari’s challenging us to build an algorithm that automatically suggests the right product prices.\n",
    "\n",
    "  \n",
    "\n",
    "#Data Overview\n",
    " \n",
    "\n",
    "#There are two files available. They are train.tsv and test.tsv\n",
    "\n",
    "#Both are tab separated files\n",
    "\n",
    "#The following are the data fields\n",
    "\n",
    "#train_id or test_id - the id of the listing\n",
    "#name - the title of the listing. Note that we have cleaned the data to remove text that looks like prices (e.g. $20) to avoid leakage. These removed prices are represented as [rm]\n",
    "#item_condition_id - the condition of the items provided by the seller\n",
    "#category_name - category of the listing\n",
    "#brand_name\n",
    "#price - the price that the item was sold for. This is the target variable that you will predict. The unit is USD. This column doesn't exist in test.tsv since that is what you will predict.\n",
    "#shipping - 1 if shipping fee is paid by seller and 0 by buyer\n",
    "#item_description - the full description of the item. Note that we have cleaned the data to remove text that look like prices (e.g. $20) to avoid leakage. These removed prices are represented as [rm]\n",
    "  \n",
    "\n",
    "#Source  https://www.kaggle.com/c/mercari-price-suggestion-challenge/overview/description\n",
    "\n",
    " "
   ]
  },
  {
   "cell_type": "code",
   "execution_count": 14,
   "id": "9a4d9195",
   "metadata": {},
   "outputs": [],
   "source": [
    "train_df= read.csv(file='train.tsv', sep='\\t', header=TRUE)\n",
    "test_df= read.csv(file='test.tsv', sep='\\t', header=TRUE)\n"
   ]
  },
  {
   "cell_type": "code",
   "execution_count": 41,
   "id": "b4fbb24c",
   "metadata": {},
   "outputs": [
    {
     "data": {
      "text/html": [
       "<style>\n",
       ".list-inline {list-style: none; margin:0; padding: 0}\n",
       ".list-inline>li {display: inline-block}\n",
       ".list-inline>li:not(:last-child)::after {content: \"\\00b7\"; padding: 0 .5ex}\n",
       "</style>\n",
       "<ol class=list-inline><li>29999</li><li>8</li></ol>\n"
      ],
      "text/latex": [
       "\\begin{enumerate*}\n",
       "\\item 29999\n",
       "\\item 8\n",
       "\\end{enumerate*}\n"
      ],
      "text/markdown": [
       "1. 29999\n",
       "2. 8\n",
       "\n",
       "\n"
      ],
      "text/plain": [
       "[1] 29999     8"
      ]
     },
     "metadata": {},
     "output_type": "display_data"
    }
   ],
   "source": [
    "dim(train_df)"
   ]
  },
  {
   "cell_type": "code",
   "execution_count": null,
   "id": "9da31123",
   "metadata": {},
   "outputs": [],
   "source": [
    "#Approach \n",
    "\n",
    "#Exploratory Data Analysis\n",
    "#Exploratory data analysis is the process of analysing the dataset to understand its characteristics. In this step, we perform the following.\n",
    "\n",
    "#Univariate analysis - Analysis of a single variable\n",
    "#Bivariate analysis - Analysis of relationship between two variable"
   ]
  },
  {
   "cell_type": "code",
   "execution_count": 18,
   "id": "7397be64",
   "metadata": {},
   "outputs": [
    {
     "data": {
      "text/html": [
       "<style>\n",
       ".list-inline {list-style: none; margin:0; padding: 0}\n",
       ".list-inline>li {display: inline-block}\n",
       ".list-inline>li:not(:last-child)::after {content: \"\\00b7\"; padding: 0 .5ex}\n",
       "</style>\n",
       "<ol class=list-inline><li>145998</li><li>7</li></ol>\n"
      ],
      "text/latex": [
       "\\begin{enumerate*}\n",
       "\\item 145998\n",
       "\\item 7\n",
       "\\end{enumerate*}\n"
      ],
      "text/markdown": [
       "1. 145998\n",
       "2. 7\n",
       "\n",
       "\n"
      ],
      "text/plain": [
       "[1] 145998      7"
      ]
     },
     "metadata": {},
     "output_type": "display_data"
    }
   ],
   "source": [
    "dim(test_df)"
   ]
  },
  {
   "cell_type": "code",
   "execution_count": 20,
   "id": "a5e9d20a",
   "metadata": {},
   "outputs": [
    {
     "data": {
      "text/html": [
       "<style>\n",
       ".list-inline {list-style: none; margin:0; padding: 0}\n",
       ".list-inline>li {display: inline-block}\n",
       ".list-inline>li:not(:last-child)::after {content: \"\\00b7\"; padding: 0 .5ex}\n",
       "</style>\n",
       "<ol class=list-inline><li>'train_id'</li><li>'name'</li><li>'item_condition_id'</li><li>'category_name'</li><li>'brand_name'</li><li>'price'</li><li>'shipping'</li><li>'item_description'</li></ol>\n"
      ],
      "text/latex": [
       "\\begin{enumerate*}\n",
       "\\item 'train\\_id'\n",
       "\\item 'name'\n",
       "\\item 'item\\_condition\\_id'\n",
       "\\item 'category\\_name'\n",
       "\\item 'brand\\_name'\n",
       "\\item 'price'\n",
       "\\item 'shipping'\n",
       "\\item 'item\\_description'\n",
       "\\end{enumerate*}\n"
      ],
      "text/markdown": [
       "1. 'train_id'\n",
       "2. 'name'\n",
       "3. 'item_condition_id'\n",
       "4. 'category_name'\n",
       "5. 'brand_name'\n",
       "6. 'price'\n",
       "7. 'shipping'\n",
       "8. 'item_description'\n",
       "\n",
       "\n"
      ],
      "text/plain": [
       "[1] \"train_id\"          \"name\"              \"item_condition_id\"\n",
       "[4] \"category_name\"     \"brand_name\"        \"price\"            \n",
       "[7] \"shipping\"          \"item_description\" "
      ]
     },
     "metadata": {},
     "output_type": "display_data"
    }
   ],
   "source": [
    "colnames(train_df)"
   ]
  },
  {
   "cell_type": "code",
   "execution_count": 22,
   "id": "13da7246",
   "metadata": {},
   "outputs": [
    {
     "data": {
      "text/html": [
       "<style>\n",
       ".list-inline {list-style: none; margin:0; padding: 0}\n",
       ".list-inline>li {display: inline-block}\n",
       ".list-inline>li:not(:last-child)::after {content: \"\\00b7\"; padding: 0 .5ex}\n",
       "</style>\n",
       "<ol class=list-inline><li>'test_id'</li><li>'name'</li><li>'item_condition_id'</li><li>'category_name'</li><li>'brand_name'</li><li>'shipping'</li><li>'item_description'</li></ol>\n"
      ],
      "text/latex": [
       "\\begin{enumerate*}\n",
       "\\item 'test\\_id'\n",
       "\\item 'name'\n",
       "\\item 'item\\_condition\\_id'\n",
       "\\item 'category\\_name'\n",
       "\\item 'brand\\_name'\n",
       "\\item 'shipping'\n",
       "\\item 'item\\_description'\n",
       "\\end{enumerate*}\n"
      ],
      "text/markdown": [
       "1. 'test_id'\n",
       "2. 'name'\n",
       "3. 'item_condition_id'\n",
       "4. 'category_name'\n",
       "5. 'brand_name'\n",
       "6. 'shipping'\n",
       "7. 'item_description'\n",
       "\n",
       "\n"
      ],
      "text/plain": [
       "[1] \"test_id\"           \"name\"              \"item_condition_id\"\n",
       "[4] \"category_name\"     \"brand_name\"        \"shipping\"         \n",
       "[7] \"item_description\" "
      ]
     },
     "metadata": {},
     "output_type": "display_data"
    }
   ],
   "source": [
    "colnames(test_df)"
   ]
  },
  {
   "cell_type": "code",
   "execution_count": 24,
   "id": "877b4fd9",
   "metadata": {},
   "outputs": [
    {
     "name": "stdout",
     "output_type": "stream",
     "text": [
      "[1] \"Unique category count\"\n"
     ]
    },
    {
     "data": {
      "text/html": [
       "1203"
      ],
      "text/latex": [
       "1203"
      ],
      "text/markdown": [
       "1203"
      ],
      "text/plain": [
       "[1] 1203"
      ]
     },
     "metadata": {},
     "output_type": "display_data"
    },
    {
     "name": "stdout",
     "output_type": "stream",
     "text": [
      "[1] \"Unique item condition coun\"\n"
     ]
    },
    {
     "data": {
      "text/html": [
       "5"
      ],
      "text/latex": [
       "5"
      ],
      "text/markdown": [
       "5"
      ],
      "text/plain": [
       "[1] 5"
      ]
     },
     "metadata": {},
     "output_type": "display_data"
    },
    {
     "name": "stdout",
     "output_type": "stream",
     "text": [
      "[1] \"Unique brand count\"\n"
     ]
    },
    {
     "data": {
      "text/html": [
       "3752"
      ],
      "text/latex": [
       "3752"
      ],
      "text/markdown": [
       "3752"
      ],
      "text/plain": [
       "[1] 3752"
      ]
     },
     "metadata": {},
     "output_type": "display_data"
    }
   ],
   "source": [
    "print(\"Unique category count\")\n",
    "length(unique(train_df$category_name))\n",
    "print(\"Unique item condition coun\")\n",
    "length(unique(train_df$item_condition_id))\n",
    "print(\"Unique brand count\")\n",
    "length(unique(train_df$brand_name))"
   ]
  },
  {
   "cell_type": "code",
   "execution_count": 26,
   "id": "6b71a026",
   "metadata": {},
   "outputs": [
    {
     "name": "stdout",
     "output_type": "stream",
     "text": [
      "[1] \"Train data summary\"\n"
     ]
    },
    {
     "data": {
      "text/plain": [
       "    train_id          name           item_condition_id category_name     \n",
       " Min.   :     0   Length:593376      Min.   :1.000     Length:593376     \n",
       " 1st Qu.:148344   Class :character   1st Qu.:1.000     Class :character  \n",
       " Median :296688   Mode  :character   Median :2.000     Mode  :character  \n",
       " Mean   :296688                      Mean   :1.908                       \n",
       " 3rd Qu.:445031                      3rd Qu.:3.000                       \n",
       " Max.   :593375                      Max.   :5.000                       \n",
       "  brand_name            price            shipping      item_description  \n",
       " Length:593376      Min.   :   0.00   Min.   :0.0000   Length:593376     \n",
       " Class :character   1st Qu.:  10.00   1st Qu.:0.0000   Class :character  \n",
       " Mode  :character   Median :  17.00   Median :0.0000   Mode  :character  \n",
       "                    Mean   :  26.69   Mean   :0.4463                     \n",
       "                    3rd Qu.:  29.00   3rd Qu.:1.0000                     \n",
       "                    Max.   :2000.00   Max.   :1.0000                     "
      ]
     },
     "metadata": {},
     "output_type": "display_data"
    },
    {
     "name": "stdout",
     "output_type": "stream",
     "text": [
      "[1] \"Test data summary\"\n"
     ]
    },
    {
     "data": {
      "text/plain": [
       "    test_id           name           item_condition_id category_name     \n",
       " Min.   :     0   Length:145998      Min.   :1.000     Length:145998     \n",
       " 1st Qu.: 36499   Class :character   1st Qu.:1.000     Class :character  \n",
       " Median : 72999   Mode  :character   Median :2.000     Mode  :character  \n",
       " Mean   : 72999                      Mean   :1.909                       \n",
       " 3rd Qu.:109498                      3rd Qu.:3.000                       \n",
       " Max.   :145997                      Max.   :5.000                       \n",
       "  brand_name           shipping      item_description  \n",
       " Length:145998      Min.   :0.0000   Length:145998     \n",
       " Class :character   1st Qu.:0.0000   Class :character  \n",
       " Mode  :character   Median :0.0000   Mode  :character  \n",
       "                    Mean   :0.4467                     \n",
       "                    3rd Qu.:1.0000                     \n",
       "                    Max.   :1.0000                     "
      ]
     },
     "metadata": {},
     "output_type": "display_data"
    }
   ],
   "source": [
    "print(\"Train data summary\")\n",
    "summary(train_df)\n",
    "print(\"Test data summary\")\n",
    "summary(test_df)"
   ]
  },
  {
   "cell_type": "code",
   "execution_count": 40,
   "id": "30f33de8",
   "metadata": {},
   "outputs": [],
   "source": [
    "library(tidyverse)"
   ]
  },
  {
   "cell_type": "code",
   "execution_count": 14,
   "id": "8612217f",
   "metadata": {},
   "outputs": [
    {
     "ename": "ERROR",
     "evalue": "Error in head(train_df): object 'train_df' not found\n",
     "output_type": "error",
     "traceback": [
      "Error in head(train_df): object 'train_df' not found\nTraceback:\n",
      "1. head(train_df)"
     ]
    }
   ],
   "source": [
    "head(train_df)"
   ]
  },
  {
   "cell_type": "code",
   "execution_count": 46,
   "id": "e08211f9",
   "metadata": {},
   "outputs": [
    {
     "name": "stderr",
     "output_type": "stream",
     "text": [
      "`stat_bin()` using `bins = 30`. Pick better value with `binwidth`.\n",
      "\n",
      "`stat_bin()` using `bins = 30`. Pick better value with `binwidth`.\n",
      "\n"
     ]
    },
    {
     "data": {
      "image/png": "[encoded data removed]",
      "text/plain": [
       "plot without title"
      ]
     },
     "metadata": {
      "image/png": {
       "height": 420,
       "width": 420
      }
     },
     "output_type": "display_data"
    },
    {
     "data": {
      "image/png": "[encoded data removed]",
      "text/plain": [
       "plot without title"
      ]
     },
     "metadata": {
      "image/png": {
       "height": 420,
       "width": 420
      }
     },
     "output_type": "display_data"
    }
   ],
   "source": [
    "ggplot(data=train_df,aes(x=price)) +\n",
    "  geom_histogram(fill='red') +\n",
    "   labs(title=\"Histogram of Prices\")\n",
    "\n",
    "ggplot(data=train_df,aes(x=log(price))) +\n",
    "  geom_histogram(fill='red') +\n",
    "   labs(title='Histogram of Log of Prices')\n",
    "\n",
    "  "
   ]
  },
  {
   "cell_type": "code",
   "execution_count": 48,
   "id": "deffaaf6",
   "metadata": {},
   "outputs": [
    {
     "data": {
      "image/png": "[encoded data removed]",
      "text/plain": [
       "plot without title"
      ]
     },
     "metadata": {
      "image/png": {
       "height": 420,
       "width": 420
      }
     },
     "output_type": "display_data"
    }
   ],
   "source": [
    "#Box Plot of item vs Price\n",
    "\n",
    "train_df$item_condition_id<-as.factor(train_df$item_condition_id)\n",
    "\n",
    "ggplot(data=train_df,aes(x=as.factor(item_condition_id),y=log(price+1))) +\n",
    "    geom_boxplot(fill= 'orange',color='blue') +\n",
    "    labs(title= 'Box Plot of item_condition_id vs Log Price')\n"
   ]
  },
  {
   "cell_type": "code",
   "execution_count": 49,
   "id": "0e77a1d2",
   "metadata": {},
   "outputs": [
    {
     "data": {
      "image/png": "[encoded data removed]",
      "text/plain": [
       "plot without title"
      ]
     },
     "metadata": {
      "image/png": {
       "height": 420,
       "width": 420
      }
     },
     "output_type": "display_data"
    }
   ],
   "source": [
    "train_df$item_condition_id<-as.factor(train_df$item_condition_id)\n",
    "\n",
    "ggplot(data=train_df,aes(x=as.factor(item_condition_id), y=price)) +\n",
    "    geom_boxplot(fill= 'orange',color= 'blue') +\n",
    "    labs(title= 'Box Plot of item_condition_id vs price')\n"
   ]
  },
  {
   "cell_type": "code",
   "execution_count": 50,
   "id": "3859e131",
   "metadata": {},
   "outputs": [
    {
     "data": {
      "text/plain": [
       "                Df Sum Sq Mean Sq F value Pr(>F)    \n",
       "price            1   1402  1402.4    5730 <2e-16 ***\n",
       "Residuals   593374 145230     0.2                   \n",
       "---\n",
       "Signif. codes:  0 '***' 0.001 '**' 0.01 '*' 0.05 '.' 0.1 ' ' 1"
      ]
     },
     "metadata": {},
     "output_type": "display_data"
    }
   ],
   "source": [
    "#Analysis of variants\n",
    "\n",
    "one.way <- aov(shipping  ~  price, data = train_df)\n",
    "summary(one.way)\n"
   ]
  },
  {
   "cell_type": "code",
   "execution_count": 54,
   "id": "6f4c8276",
   "metadata": {},
   "outputs": [
    {
     "data": {
      "image/png": "[encoded data removed]",
      "text/plain": [
       "plot without title"
      ]
     },
     "metadata": {
      "image/png": {
       "height": 420,
       "width": 420
      }
     },
     "output_type": "display_data"
    }
   ],
   "source": [
    "# Density graph of shipping vs price\n",
    "\n",
    "train_df %>%\n",
    "     ggplot(aes(x=log(price+1), fill=factor(shipping))) +\n",
    "     geom_density(alpha=0.5) +\n",
    "     labs(title= 'Plot of shipping price vs non shipping price')\n"
   ]
  },
  {
   "cell_type": "code",
   "execution_count": 62,
   "id": "6e862b94",
   "metadata": {},
   "outputs": [
    {
     "ename": "ERROR",
     "evalue": "Error in ddply(train_df, (brand_name), summarize, mean = mean(price), : could not find function \"ddply\"\n",
     "output_type": "error",
     "traceback": [
      "Error in ddply(train_df, (brand_name), summarize, mean = mean(price), : could not find function \"ddply\"\nTraceback:\n"
     ]
    }
   ],
   "source": [
    "#Top 10 Based on average and median price\n",
    "\n",
    "data=ddply(train_df,(brand_name), summarize, \"mean\"=mean(price), \"median\"=median(price))\n",
    "data %>% arrange(desc(mean)) %>% head(10) %>%\n",
    "  ggplot_point(color='red') +\n",
    "   coord_flip() +\n",
    "    scale_y_continous(labels=scales::dollar) +\n",
    "     labs(title= 'Top 10 brand on average price')\n",
    "\n",
    "\n",
    "\n"
   ]
  },
  {
   "cell_type": "code",
   "execution_count": 63,
   "id": "fa9f9e2b",
   "metadata": {},
   "outputs": [
    {
     "ename": "ERROR",
     "evalue": "Error in library(plyr): there is no package called 'plyr'\n",
     "output_type": "error",
     "traceback": [
      "Error in library(plyr): there is no package called 'plyr'\nTraceback:\n",
      "1. library(plyr)"
     ]
    }
   ],
   "source": [
    "library(plyr)"
   ]
  },
  {
   "cell_type": "code",
   "execution_count": 64,
   "id": "e6736e12",
   "metadata": {},
   "outputs": [
    {
     "data": {
      "text/html": [
       "<strong>CRAN:</strong> 'https://cran.r-project.org'"
      ],
      "text/latex": [
       "\\textbf{CRAN:} 'https://cran.r-project.org'"
      ],
      "text/markdown": [
       "**CRAN:** 'https://cran.r-project.org'"
      ],
      "text/plain": [
       "                        CRAN \n",
       "\"https://cran.r-project.org\" "
      ]
     },
     "metadata": {},
     "output_type": "display_data"
    }
   ],
   "source": [
    "options(\"repos\")[[1]][1]"
   ]
  },
  {
   "cell_type": "markdown",
   "id": "7666cf65",
   "metadata": {
    "scrolled": true
   },
   "source": [
    "#Top 10 Brand based on average and median price\n",
    "\n",
    "data=ddply(train_df,.(brand_name), summarize, \"mean\"=mean(price), \"median\"=median(price))\n",
    "data %>% arrange(desc(mean)) %>% head(10) %>%\n",
    "  ggplot(aes(x=reorder(brand_name,mean), y=mean)) +\n",
    "   geom_point(color='red') +\n",
    "     coord_flip() +\n",
    "     scale_y_continuous(labels=scales::dollar) +\n",
    "     labs(title= 'Top 10 brand on average price')"
   ]
  },
  {
   "cell_type": "code",
   "execution_count": 85,
   "id": "cd6a16c5",
   "metadata": {},
   "outputs": [
    {
     "data": {
      "image/png": "[encoded data removed]",
      "text/plain": [
       "plot without title"
      ]
     },
     "metadata": {
      "image/png": {
       "height": 420,
       "width": 420
      }
     },
     "output_type": "display_data"
    }
   ],
   "source": [
    "#Box Plot of Category vs Price\n",
    "\n",
    "train_df %>%\n",
    "  separate(category_name, c(\"main_category\", \"subcat_1\", \"subcat_2\"), sep=\"/\") %>% \n",
    "  ggplot(aes(x=main_category, y=log(price+1))) +\n",
    "    geom_boxplot(fill='orange', color ='blue') +\n",
    "     coord_flip() +\n",
    "      labs(title= 'Box Plot of main category vs log price')"
   ]
  },
  {
   "cell_type": "code",
   "execution_count": 90,
   "id": "d5029343",
   "metadata": {},
   "outputs": [],
   "source": [
    "# Lets separate category variable into 3 categories\n",
    "\n",
    "category_name=train_df$category_name\n",
    "train_df = train_df %>% separate(category_name, c(\"main_category\", \"subcat_1\", \"subcate_2\"), sep=\"/\")\n",
    "train_df$category_name=category_name"
   ]
  },
  {
   "cell_type": "code",
   "execution_count": 92,
   "id": "d7ea65c5",
   "metadata": {},
   "outputs": [
    {
     "data": {
      "text/html": [
       "<table class=\"dataframe\">\n",
       "<caption>A data.frame: 6 × 11</caption>\n",
       "<thead>\n",
       "\t<tr><th></th><th scope=col>train_id</th><th scope=col>name</th><th scope=col>item_condition_id</th><th scope=col>brand_name</th><th scope=col>price</th><th scope=col>shipping</th><th scope=col>item_description</th><th scope=col>main_category</th><th scope=col>subcat_1</th><th scope=col>subcate_2</th><th scope=col>category_name</th></tr>\n",
       "\t<tr><th></th><th scope=col>&lt;int&gt;</th><th scope=col>&lt;chr&gt;</th><th scope=col>&lt;fct&gt;</th><th scope=col>&lt;chr&gt;</th><th scope=col>&lt;dbl&gt;</th><th scope=col>&lt;int&gt;</th><th scope=col>&lt;chr&gt;</th><th scope=col>&lt;chr&gt;</th><th scope=col>&lt;chr&gt;</th><th scope=col>&lt;chr&gt;</th><th scope=col>&lt;chr&gt;</th></tr>\n",
       "</thead>\n",
       "<tbody>\n",
       "\t<tr><th scope=row>1</th><td>0</td><td>MLB Cincinnati Reds T Shirt Size XL</td><td>3</td><td>      </td><td>10</td><td>1</td><td>No description yet                                                                                                                                                                          </td><td>Men        </td><td>Tops               </td><td>T-shirts           </td><td>Men/Tops/T-shirts                                 </td></tr>\n",
       "\t<tr><th scope=row>2</th><td>1</td><td><span style=white-space:pre-wrap>Razer BlackWidow Chroma Keyboard   </span></td><td>3</td><td>Razer </td><td>52</td><td>0</td><td>This keyboard is in great condition and works like it came out of the box. All of the ports are tested and work perfectly. The lights are customizable via the Razer Synapse app on your PC.</td><td>Electronics</td><td>Computers &amp; Tablets</td><td>Components &amp; Parts </td><td>Electronics/Computers &amp; Tablets/Components &amp; Parts</td></tr>\n",
       "\t<tr><th scope=row>3</th><td>2</td><td><span style=white-space:pre-wrap>AVA-VIV Blouse                     </span></td><td>1</td><td>Target</td><td>10</td><td>1</td><td><span style=white-space:pre-wrap>Adorable top with a hint of lace and a key hole in the back! The pale pink is a 1X, and I also have a 3X available in white!                                                                </span></td><td><span style=white-space:pre-wrap>Women      </span></td><td><span style=white-space:pre-wrap>Tops &amp; Blouses     </span></td><td><span style=white-space:pre-wrap>Blouse             </span></td><td><span style=white-space:pre-wrap>Women/Tops &amp; Blouses/Blouse                       </span></td></tr>\n",
       "\t<tr><th scope=row>4</th><td>3</td><td>Leather Horse Statues              </td><td>1</td><td>      </td><td>35</td><td>1</td><td>New with tags. Leather horses. Retail for [rm] each. Stand about a foot high. They are being sold as a pair. Any questions please ask. Free shipping. Just got out of storage               </td><td>Home       </td><td>Home DÃ©cor        </td><td>Home DÃ©cor Accents</td><td>Home/Home DÃ©cor/Home DÃ©cor Accents              </td></tr>\n",
       "\t<tr><th scope=row>5</th><td>4</td><td>24K GOLD plated rose               </td><td>1</td><td>      </td><td>44</td><td>0</td><td>Complete with certificate of authenticity                                                                                                                                                   </td><td>Women      </td><td>Jewelry            </td><td>Necklaces          </td><td>Women/Jewelry/Necklaces                           </td></tr>\n",
       "\t<tr><th scope=row>6</th><td>5</td><td>Bundled items requested for Ruie   </td><td>3</td><td>      </td><td>59</td><td>0</td><td>Banana republic bottoms, Candies skirt with matching blazer,Amy Byers suit, Loft bottoms and cami top.                                                                                      </td><td>Women      </td><td>Other              </td><td>Other              </td><td>Women/Other/Other                                 </td></tr>\n",
       "</tbody>\n",
       "</table>\n"
      ],
      "text/latex": [
       "A data.frame: 6 × 11\n",
       "\\begin{tabular}{r|lllllllllll}\n",
       "  & train\\_id & name & item\\_condition\\_id & brand\\_name & price & shipping & item\\_description & main\\_category & subcat\\_1 & subcate\\_2 & category\\_name\\\\\n",
       "  & <int> & <chr> & <fct> & <chr> & <dbl> & <int> & <chr> & <chr> & <chr> & <chr> & <chr>\\\\\n",
       "\\hline\n",
       "\t1 & 0 & MLB Cincinnati Reds T Shirt Size XL & 3 &        & 10 & 1 & No description yet                                                                                                                                                                           & Men         & Tops                & T-shirts            & Men/Tops/T-shirts                                 \\\\\n",
       "\t2 & 1 & Razer BlackWidow Chroma Keyboard    & 3 & Razer  & 52 & 0 & This keyboard is in great condition and works like it came out of the box. All of the ports are tested and work perfectly. The lights are customizable via the Razer Synapse app on your PC. & Electronics & Computers \\& Tablets & Components \\& Parts  & Electronics/Computers \\& Tablets/Components \\& Parts\\\\\n",
       "\t3 & 2 & AVA-VIV Blouse                      & 1 & Target & 10 & 1 & Adorable top with a hint of lace and a key hole in the back! The pale pink is a 1X, and I also have a 3X available in white!                                                                 & Women       & Tops \\& Blouses      & Blouse              & Women/Tops \\& Blouses/Blouse                       \\\\\n",
       "\t4 & 3 & Leather Horse Statues               & 1 &        & 35 & 1 & New with tags. Leather horses. Retail for {[}rm{]} each. Stand about a foot high. They are being sold as a pair. Any questions please ask. Free shipping. Just got out of storage                & Home        & Home DÃ©cor         & Home DÃ©cor Accents & Home/Home DÃ©cor/Home DÃ©cor Accents              \\\\\n",
       "\t5 & 4 & 24K GOLD plated rose                & 1 &        & 44 & 0 & Complete with certificate of authenticity                                                                                                                                                    & Women       & Jewelry             & Necklaces           & Women/Jewelry/Necklaces                           \\\\\n",
       "\t6 & 5 & Bundled items requested for Ruie    & 3 &        & 59 & 0 & Banana republic bottoms, Candies skirt with matching blazer,Amy Byers suit, Loft bottoms and cami top.                                                                                       & Women       & Other               & Other               & Women/Other/Other                                 \\\\\n",
       "\\end{tabular}\n"
      ],
      "text/markdown": [
       "\n",
       "A data.frame: 6 × 11\n",
       "\n",
       "| <!--/--> | train_id &lt;int&gt; | name &lt;chr&gt; | item_condition_id &lt;fct&gt; | brand_name &lt;chr&gt; | price &lt;dbl&gt; | shipping &lt;int&gt; | item_description &lt;chr&gt; | main_category &lt;chr&gt; | subcat_1 &lt;chr&gt; | subcate_2 &lt;chr&gt; | category_name &lt;chr&gt; |\n",
       "|---|---|---|---|---|---|---|---|---|---|---|---|\n",
       "| 1 | 0 | MLB Cincinnati Reds T Shirt Size XL | 3 | <!----> | 10 | 1 | No description yet                                                                                                                                                                           | Men         | Tops                | T-shirts            | Men/Tops/T-shirts                                  |\n",
       "| 2 | 1 | Razer BlackWidow Chroma Keyboard    | 3 | Razer  | 52 | 0 | This keyboard is in great condition and works like it came out of the box. All of the ports are tested and work perfectly. The lights are customizable via the Razer Synapse app on your PC. | Electronics | Computers &amp; Tablets | Components &amp; Parts  | Electronics/Computers &amp; Tablets/Components &amp; Parts |\n",
       "| 3 | 2 | AVA-VIV Blouse                      | 1 | Target | 10 | 1 | Adorable top with a hint of lace and a key hole in the back! The pale pink is a 1X, and I also have a 3X available in white!                                                                 | Women       | Tops &amp; Blouses      | Blouse              | Women/Tops &amp; Blouses/Blouse                        |\n",
       "| 4 | 3 | Leather Horse Statues               | 1 | <!----> | 35 | 1 | New with tags. Leather horses. Retail for [rm] each. Stand about a foot high. They are being sold as a pair. Any questions please ask. Free shipping. Just got out of storage                | Home        | Home DÃ©cor         | Home DÃ©cor Accents | Home/Home DÃ©cor/Home DÃ©cor Accents               |\n",
       "| 5 | 4 | 24K GOLD plated rose                | 1 | <!----> | 44 | 0 | Complete with certificate of authenticity                                                                                                                                                    | Women       | Jewelry             | Necklaces           | Women/Jewelry/Necklaces                            |\n",
       "| 6 | 5 | Bundled items requested for Ruie    | 3 | <!----> | 59 | 0 | Banana republic bottoms, Candies skirt with matching blazer,Amy Byers suit, Loft bottoms and cami top.                                                                                       | Women       | Other               | Other               | Women/Other/Other                                  |\n",
       "\n"
      ],
      "text/plain": [
       "  train_id name                                item_condition_id brand_name\n",
       "1 0        MLB Cincinnati Reds T Shirt Size XL 3                           \n",
       "2 1        Razer BlackWidow Chroma Keyboard    3                 Razer     \n",
       "3 2        AVA-VIV Blouse                      1                 Target    \n",
       "4 3        Leather Horse Statues               1                           \n",
       "5 4        24K GOLD plated rose                1                           \n",
       "6 5        Bundled items requested for Ruie    3                           \n",
       "  price shipping\n",
       "1 10    1       \n",
       "2 52    0       \n",
       "3 10    1       \n",
       "4 35    1       \n",
       "5 44    0       \n",
       "6 59    0       \n",
       "  item_description                                                                                                                                                                            \n",
       "1 No description yet                                                                                                                                                                          \n",
       "2 This keyboard is in great condition and works like it came out of the box. All of the ports are tested and work perfectly. The lights are customizable via the Razer Synapse app on your PC.\n",
       "3 Adorable top with a hint of lace and a key hole in the back! The pale pink is a 1X, and I also have a 3X available in white!                                                                \n",
       "4 New with tags. Leather horses. Retail for [rm] each. Stand about a foot high. They are being sold as a pair. Any questions please ask. Free shipping. Just got out of storage               \n",
       "5 Complete with certificate of authenticity                                                                                                                                                   \n",
       "6 Banana republic bottoms, Candies skirt with matching blazer,Amy Byers suit, Loft bottoms and cami top.                                                                                      \n",
       "  main_category subcat_1            subcate_2          \n",
       "1 Men           Tops                T-shirts           \n",
       "2 Electronics   Computers & Tablets Components & Parts \n",
       "3 Women         Tops & Blouses      Blouse             \n",
       "4 Home          Home DÃ©cor         Home DÃ©cor Accents\n",
       "5 Women         Jewelry             Necklaces          \n",
       "6 Women         Other               Other              \n",
       "  category_name                                     \n",
       "1 Men/Tops/T-shirts                                 \n",
       "2 Electronics/Computers & Tablets/Components & Parts\n",
       "3 Women/Tops & Blouses/Blouse                       \n",
       "4 Home/Home DÃ©cor/Home DÃ©cor Accents              \n",
       "5 Women/Jewelry/Necklaces                           \n",
       "6 Women/Other/Other                                 "
      ]
     },
     "metadata": {},
     "output_type": "display_data"
    }
   ],
   "source": [
    "head(train_df)"
   ]
  },
  {
   "cell_type": "code",
   "execution_count": 8,
   "id": "9a0d3660",
   "metadata": {},
   "outputs": [
    {
     "ename": "ERROR",
     "evalue": "Error in eval(expr, envir, enclos): object 'LabelEncoder' not found\n",
     "output_type": "error",
     "traceback": [
      "Error in eval(expr, envir, enclos): object 'LabelEncoder' not found\nTraceback:\n"
     ]
    }
   ],
   "source": [
    "#Label encoding converting categories into numberical categories or form \n",
    "#, brand_name, subcat_1, subcat_2\n",
    "\n",
    "lbl_main_category <- LabelEncoder$new()\n",
    "lbl_main_category$fit(train_df$main_category)\n",
    "\n",
    "lbl_brand_name <- LabelEncoder$new()\n",
    "lbl_brand_name$fit(train_df$brand_name)\n",
    "\n",
    "lbl_sybcat_1 <- LabelEncoder$new()\n",
    "lbl_subcat_1$fit(train_df$subcat_1)\n",
    "\n",
    "lbl_sub_2 <- LabelEncoder$new()\n",
    "lbl_subcat_2$fit(train_df$subcat_2)\n",
    "\n",
    "train_df$n_main_category <- lbl_main_category$transform(train_df$main_category)\n",
    "train_df$n_brand_name = lbl_brand_name$transform(train_df$brand_name)\n",
    "train_df$n_subcat_1 = lbl_subcat_1$transform(train_df$subcat_1)\n",
    "train_df$n_subcat_2 = lbl_subcat_2$transform(train_df$subcat_2)\n",
    "\n",
    "head(train_df)"
   ]
  },
  {
   "cell_type": "code",
   "execution_count": 10,
   "id": "2edc4ace",
   "metadata": {},
   "outputs": [
    {
     "name": "stderr",
     "output_type": "stream",
     "text": [
      "Installing package into 'C:/Users/Ragla/Documents/R/win-library/4.1'\n",
      "(as 'lib' is unspecified)\n",
      "\n"
     ]
    },
    {
     "name": "stdout",
     "output_type": "stream",
     "text": [
      "package 'superml' successfully unpacked and MD5 sums checked\n",
      "\n",
      "The downloaded binary packages are in\n",
      "\tC:\\Users\\Ragla\\AppData\\Local\\Temp\\RtmpA5Ibjy\\downloaded_packages\n"
     ]
    }
   ],
   "source": [
    "install.packages(\"superml\")"
   ]
  },
  {
   "cell_type": "code",
   "execution_count": 18,
   "id": "7286d149",
   "metadata": {
    "scrolled": true
   },
   "outputs": [
    {
     "ename": "ERROR",
     "evalue": "Error in head(train_df): object 'train_df' not found\n",
     "output_type": "error",
     "traceback": [
      "Error in head(train_df): object 'train_df' not found\nTraceback:\n",
      "1. head(train_df)"
     ]
    }
   ],
   "source": [
    "library(data.table)\n",
    "library(caret)\n",
    "#> Loading required package: lattice\n",
    "#> Loading required package: ggplot2\n",
    "library(superml)\n",
    "\n",
    "library(Metrics)\n",
    "#> \n",
    "#> Attaching package: 'Metrics'\n",
    "#> The following objects are masked from 'package:caret':\n",
    "#> \n",
    "#>     precision, recall\n",
    "\n",
    "head(train_df)"
   ]
  },
  {
   "cell_type": "code",
   "execution_count": 21,
   "id": "4a536da0",
   "metadata": {},
   "outputs": [],
   "source": [
    "myfile = read.csv(\"c:/Users/Ragla/Downloads/Mercari-price-suggestion-challenge/test.tsv\")"
   ]
  },
  {
   "cell_type": "code",
   "execution_count": 23,
   "id": "3a455249",
   "metadata": {},
   "outputs": [],
   "source": [
    "test_df= read.csv(file='test.tsv', sep='\\t', header=TRUE)"
   ]
  },
  {
   "cell_type": "code",
   "execution_count": 25,
   "id": "d6b9bbd0",
   "metadata": {},
   "outputs": [
    {
     "data": {
      "text/html": [
       "<table class=\"dataframe\">\n",
       "<caption>A data.frame: 6 × 7</caption>\n",
       "<thead>\n",
       "\t<tr><th></th><th scope=col>test_id</th><th scope=col>name</th><th scope=col>item_condition_id</th><th scope=col>category_name</th><th scope=col>brand_name</th><th scope=col>shipping</th><th scope=col>item_description</th></tr>\n",
       "\t<tr><th></th><th scope=col>&lt;int&gt;</th><th scope=col>&lt;chr&gt;</th><th scope=col>&lt;int&gt;</th><th scope=col>&lt;chr&gt;</th><th scope=col>&lt;chr&gt;</th><th scope=col>&lt;int&gt;</th><th scope=col>&lt;chr&gt;</th></tr>\n",
       "</thead>\n",
       "<tbody>\n",
       "\t<tr><th scope=row>1</th><td>0</td><td>Breast cancer \"I fight like a girl\" ring</td><td>1</td><td>Women/Jewelry/Rings                                        </td><td>     </td><td>1</td><td>Size 7                                                                                                                                                                                                                                                     </td></tr>\n",
       "\t<tr><th scope=row>2</th><td>1</td><td>25 pcs NEW 7.5\"x12\" Kraft Bubble Mailers</td><td>1</td><td>Other/Office supplies/Shipping Supplies                    </td><td>     </td><td>1</td><td>25 pcs NEW 7.5\"x12\" Kraft Bubble Mailers Lined with bubble wrap for protection Self Sealing (peel-and-seal), adhesive keeps contents secure and tamper proof Durable and lightweight Kraft material helps save on postage Approved by UPS, FedEx, and USPS.</td></tr>\n",
       "\t<tr><th scope=row>3</th><td>2</td><td><span style=white-space:pre-wrap>Coach bag                               </span></td><td>1</td><td><span style=white-space:pre-wrap>Vintage &amp; Collectibles/Bags and Purses/Handbag             </span></td><td>Coach</td><td>1</td><td><span style=white-space:pre-wrap>Brand new coach bag. Bought for [rm] at a Coach outlet.                                                                                                                                                                                                    </span></td></tr>\n",
       "\t<tr><th scope=row>4</th><td>3</td><td>Floral Kimono                           </td><td>2</td><td>Women/Sweaters/Cardigan                                    </td><td>     </td><td>0</td><td>-floral kimono -never worn -lightweight and perfect for hot weather                                                                                                                                                                                        </td></tr>\n",
       "\t<tr><th scope=row>5</th><td>4</td><td><span style=white-space:pre-wrap>Life after Death                        </span></td><td>3</td><td><span style=white-space:pre-wrap>Other/Books/Religion &amp; Spirituality                        </span></td><td><span style=white-space:pre-wrap>     </span></td><td>1</td><td><span style=white-space:pre-wrap>Rediscovering life after the loss of a loved one by Tony Cooke. Paperback in good condition 2003. â¤ â¤ Bundle and save! â¤ â¤ Book, death, grief, bereavement SHLF.SW.5.15                                                                            </span></td></tr>\n",
       "\t<tr><th scope=row>6</th><td>5</td><td>iPhone 6 Plus or 6s Plus Vodka pink case</td><td>1</td><td>Electronics/Cell Phones &amp; Accessories/Cases, Covers &amp; Skins</td><td><span style=white-space:pre-wrap>     </span></td><td>1</td><td><span style=white-space:pre-wrap>One Absolut Vodka in Pink for iPhone 6 Plus and also fits the 6s Plus iPhone. These are made of a flexible rubber material. Brand new case Also have in 6 and 6s size in pink Size: iPhone 6 Plus and 6s Plus Free shipping                                </span></td></tr>\n",
       "</tbody>\n",
       "</table>\n"
      ],
      "text/latex": [
       "A data.frame: 6 × 7\n",
       "\\begin{tabular}{r|lllllll}\n",
       "  & test\\_id & name & item\\_condition\\_id & category\\_name & brand\\_name & shipping & item\\_description\\\\\n",
       "  & <int> & <chr> & <int> & <chr> & <chr> & <int> & <chr>\\\\\n",
       "\\hline\n",
       "\t1 & 0 & Breast cancer \"I fight like a girl\" ring & 1 & Women/Jewelry/Rings                                         &       & 1 & Size 7                                                                                                                                                                                                                                                     \\\\\n",
       "\t2 & 1 & 25 pcs NEW 7.5\"x12\" Kraft Bubble Mailers & 1 & Other/Office supplies/Shipping Supplies                     &       & 1 & 25 pcs NEW 7.5\"x12\" Kraft Bubble Mailers Lined with bubble wrap for protection Self Sealing (peel-and-seal), adhesive keeps contents secure and tamper proof Durable and lightweight Kraft material helps save on postage Approved by UPS, FedEx, and USPS.\\\\\n",
       "\t3 & 2 & Coach bag                                & 1 & Vintage \\& Collectibles/Bags and Purses/Handbag              & Coach & 1 & Brand new coach bag. Bought for {[}rm{]} at a Coach outlet.                                                                                                                                                                                                    \\\\\n",
       "\t4 & 3 & Floral Kimono                            & 2 & Women/Sweaters/Cardigan                                     &       & 0 & -floral kimono -never worn -lightweight and perfect for hot weather                                                                                                                                                                                        \\\\\n",
       "\t5 & 4 & Life after Death                         & 3 & Other/Books/Religion \\& Spirituality                         &       & 1 & Rediscovering life after the loss of a loved one by Tony Cooke. Paperback in good condition 2003. â¤ â¤ Bundle and save! â¤ â¤ Book, death, grief, bereavement SHLF.SW.5.15                                                                            \\\\\n",
       "\t6 & 5 & iPhone 6 Plus or 6s Plus Vodka pink case & 1 & Electronics/Cell Phones \\& Accessories/Cases, Covers \\& Skins &       & 1 & One Absolut Vodka in Pink for iPhone 6 Plus and also fits the 6s Plus iPhone. These are made of a flexible rubber material. Brand new case Also have in 6 and 6s size in pink Size: iPhone 6 Plus and 6s Plus Free shipping                                \\\\\n",
       "\\end{tabular}\n"
      ],
      "text/markdown": [
       "\n",
       "A data.frame: 6 × 7\n",
       "\n",
       "| <!--/--> | test_id &lt;int&gt; | name &lt;chr&gt; | item_condition_id &lt;int&gt; | category_name &lt;chr&gt; | brand_name &lt;chr&gt; | shipping &lt;int&gt; | item_description &lt;chr&gt; |\n",
       "|---|---|---|---|---|---|---|---|\n",
       "| 1 | 0 | Breast cancer \"I fight like a girl\" ring | 1 | Women/Jewelry/Rings                                         | <!----> | 1 | Size 7                                                                                                                                                                                                                                                      |\n",
       "| 2 | 1 | 25 pcs NEW 7.5\"x12\" Kraft Bubble Mailers | 1 | Other/Office supplies/Shipping Supplies                     | <!----> | 1 | 25 pcs NEW 7.5\"x12\" Kraft Bubble Mailers Lined with bubble wrap for protection Self Sealing (peel-and-seal), adhesive keeps contents secure and tamper proof Durable and lightweight Kraft material helps save on postage Approved by UPS, FedEx, and USPS. |\n",
       "| 3 | 2 | Coach bag                                | 1 | Vintage &amp; Collectibles/Bags and Purses/Handbag              | Coach | 1 | Brand new coach bag. Bought for [rm] at a Coach outlet.                                                                                                                                                                                                     |\n",
       "| 4 | 3 | Floral Kimono                            | 2 | Women/Sweaters/Cardigan                                     | <!----> | 0 | -floral kimono -never worn -lightweight and perfect for hot weather                                                                                                                                                                                         |\n",
       "| 5 | 4 | Life after Death                         | 3 | Other/Books/Religion &amp; Spirituality                         | <!----> | 1 | Rediscovering life after the loss of a loved one by Tony Cooke. Paperback in good condition 2003. â¤ â¤ Bundle and save! â¤ â¤ Book, death, grief, bereavement SHLF.SW.5.15                                                                             |\n",
       "| 6 | 5 | iPhone 6 Plus or 6s Plus Vodka pink case | 1 | Electronics/Cell Phones &amp; Accessories/Cases, Covers &amp; Skins | <!----> | 1 | One Absolut Vodka in Pink for iPhone 6 Plus and also fits the 6s Plus iPhone. These are made of a flexible rubber material. Brand new case Also have in 6 and 6s size in pink Size: iPhone 6 Plus and 6s Plus Free shipping                                 |\n",
       "\n"
      ],
      "text/plain": [
       "  test_id name                                     item_condition_id\n",
       "1 0       Breast cancer \"I fight like a girl\" ring 1                \n",
       "2 1       25 pcs NEW 7.5\"x12\" Kraft Bubble Mailers 1                \n",
       "3 2       Coach bag                                1                \n",
       "4 3       Floral Kimono                            2                \n",
       "5 4       Life after Death                         3                \n",
       "6 5       iPhone 6 Plus or 6s Plus Vodka pink case 1                \n",
       "  category_name                                               brand_name\n",
       "1 Women/Jewelry/Rings                                                   \n",
       "2 Other/Office supplies/Shipping Supplies                               \n",
       "3 Vintage & Collectibles/Bags and Purses/Handbag              Coach     \n",
       "4 Women/Sweaters/Cardigan                                               \n",
       "5 Other/Books/Religion & Spirituality                                   \n",
       "6 Electronics/Cell Phones & Accessories/Cases, Covers & Skins           \n",
       "  shipping\n",
       "1 1       \n",
       "2 1       \n",
       "3 1       \n",
       "4 0       \n",
       "5 1       \n",
       "6 1       \n",
       "  item_description                                                                                                                                                                                                                                           \n",
       "1 Size 7                                                                                                                                                                                                                                                     \n",
       "2 25 pcs NEW 7.5\"x12\" Kraft Bubble Mailers Lined with bubble wrap for protection Self Sealing (peel-and-seal), adhesive keeps contents secure and tamper proof Durable and lightweight Kraft material helps save on postage Approved by UPS, FedEx, and USPS.\n",
       "3 Brand new coach bag. Bought for [rm] at a Coach outlet.                                                                                                                                                                                                    \n",
       "4 -floral kimono -never worn -lightweight and perfect for hot weather                                                                                                                                                                                        \n",
       "5 Rediscovering life after the loss of a loved one by Tony Cooke. Paperback in good condition 2003. â\\235¤ â\\235¤ Bundle and save! â\\235¤ â\\235¤ Book, death, grief, bereavement SHLF.SW.5.15                                                                            \n",
       "6 One Absolut Vodka in Pink for iPhone 6 Plus and also fits the 6s Plus iPhone. These are made of a flexible rubber material. Brand new case Also have in 6 and 6s size in pink Size: iPhone 6 Plus and 6s Plus Free shipping                                "
      ]
     },
     "metadata": {},
     "output_type": "display_data"
    }
   ],
   "source": [
    "head(test_df)"
   ]
  },
  {
   "cell_type": "code",
   "execution_count": 37,
   "id": "7eaa0b9f",
   "metadata": {},
   "outputs": [
    {
     "data": {
      "text/html": [
       "<style>\n",
       ".list-inline {list-style: none; margin:0; padding: 0}\n",
       ".list-inline>li {display: inline-block}\n",
       ".list-inline>li:not(:last-child)::after {content: \"\\00b7\"; padding: 0 .5ex}\n",
       "</style>\n",
       "<ol class=list-inline><li>'test_id'</li><li>'name'</li><li>'item_condition_id'</li><li>'category_name'</li><li>'brand_name'</li><li>'shipping'</li><li>'item_description'</li></ol>\n"
      ],
      "text/latex": [
       "\\begin{enumerate*}\n",
       "\\item 'test\\_id'\n",
       "\\item 'name'\n",
       "\\item 'item\\_condition\\_id'\n",
       "\\item 'category\\_name'\n",
       "\\item 'brand\\_name'\n",
       "\\item 'shipping'\n",
       "\\item 'item\\_description'\n",
       "\\end{enumerate*}\n"
      ],
      "text/markdown": [
       "1. 'test_id'\n",
       "2. 'name'\n",
       "3. 'item_condition_id'\n",
       "4. 'category_name'\n",
       "5. 'brand_name'\n",
       "6. 'shipping'\n",
       "7. 'item_description'\n",
       "\n",
       "\n"
      ],
      "text/plain": [
       "[1] \"test_id\"           \"name\"              \"item_condition_id\"\n",
       "[4] \"category_name\"     \"brand_name\"        \"shipping\"         \n",
       "[7] \"item_description\" "
      ]
     },
     "metadata": {},
     "output_type": "display_data"
    }
   ],
   "source": [
    "colnames(test_df)"
   ]
  },
  {
   "cell_type": "code",
   "execution_count": 42,
   "id": "c313a53f",
   "metadata": {},
   "outputs": [],
   "source": [
    "train_df= read.csv(file='train.tsv', sep='\\t', header=TRUE)"
   ]
  },
  {
   "cell_type": "code",
   "execution_count": 44,
   "id": "ab039bfa",
   "metadata": {},
   "outputs": [
    {
     "data": {
      "text/html": [
       "<style>\n",
       ".list-inline {list-style: none; margin:0; padding: 0}\n",
       ".list-inline>li {display: inline-block}\n",
       ".list-inline>li:not(:last-child)::after {content: \"\\00b7\"; padding: 0 .5ex}\n",
       "</style>\n",
       "<ol class=list-inline><li>29999</li><li>8</li></ol>\n"
      ],
      "text/latex": [
       "\\begin{enumerate*}\n",
       "\\item 29999\n",
       "\\item 8\n",
       "\\end{enumerate*}\n"
      ],
      "text/markdown": [
       "1. 29999\n",
       "2. 8\n",
       "\n",
       "\n"
      ],
      "text/plain": [
       "[1] 29999     8"
      ]
     },
     "metadata": {},
     "output_type": "display_data"
    }
   ],
   "source": [
    "dim(train_df)"
   ]
  },
  {
   "cell_type": "code",
   "execution_count": 46,
   "id": "016a7946",
   "metadata": {},
   "outputs": [
    {
     "data": {
      "text/html": [
       "<table class=\"dataframe\">\n",
       "<caption>A data.frame: 6 × 8</caption>\n",
       "<thead>\n",
       "\t<tr><th></th><th scope=col>train_id</th><th scope=col>name</th><th scope=col>item_condition_id</th><th scope=col>category_name</th><th scope=col>brand_name</th><th scope=col>price</th><th scope=col>shipping</th><th scope=col>item_description</th></tr>\n",
       "\t<tr><th></th><th scope=col>&lt;int&gt;</th><th scope=col>&lt;chr&gt;</th><th scope=col>&lt;int&gt;</th><th scope=col>&lt;chr&gt;</th><th scope=col>&lt;chr&gt;</th><th scope=col>&lt;dbl&gt;</th><th scope=col>&lt;int&gt;</th><th scope=col>&lt;chr&gt;</th></tr>\n",
       "</thead>\n",
       "<tbody>\n",
       "\t<tr><th scope=row>1</th><td>0</td><td>MLB Cincinnati Reds T Shirt Size XL</td><td>3</td><td>Men/Tops/T-shirts                                 </td><td>      </td><td>10</td><td>1</td><td>No description yet                                                                                                                                                                          </td></tr>\n",
       "\t<tr><th scope=row>2</th><td>1</td><td><span style=white-space:pre-wrap>Razer BlackWidow Chroma Keyboard   </span></td><td>3</td><td>Electronics/Computers &amp; Tablets/Components &amp; Parts</td><td>Razer </td><td>52</td><td>0</td><td>This keyboard is in great condition and works like it came out of the box. All of the ports are tested and work perfectly. The lights are customizable via the Razer Synapse app on your PC.</td></tr>\n",
       "\t<tr><th scope=row>3</th><td>2</td><td><span style=white-space:pre-wrap>AVA-VIV Blouse                     </span></td><td>1</td><td><span style=white-space:pre-wrap>Women/Tops &amp; Blouses/Blouse                       </span></td><td>Target</td><td>10</td><td>1</td><td><span style=white-space:pre-wrap>Adorable top with a hint of lace and a key hole in the back! The pale pink is a 1X, and I also have a 3X available in white!                                                                </span></td></tr>\n",
       "\t<tr><th scope=row>4</th><td>3</td><td>Leather Horse Statues              </td><td>1</td><td>Home/Home DÃ©cor/Home DÃ©cor Accents              </td><td>      </td><td>35</td><td>1</td><td>New with tags. Leather horses. Retail for [rm] each. Stand about a foot high. They are being sold as a pair. Any questions please ask. Free shipping. Just got out of storage               </td></tr>\n",
       "\t<tr><th scope=row>5</th><td>4</td><td>24K GOLD plated rose               </td><td>1</td><td>Women/Jewelry/Necklaces                           </td><td>      </td><td>44</td><td>0</td><td>Complete with certificate of authenticity                                                                                                                                                   </td></tr>\n",
       "\t<tr><th scope=row>6</th><td>5</td><td>Bundled items requested for Ruie   </td><td>3</td><td>Women/Other/Other                                 </td><td>      </td><td>59</td><td>0</td><td>Banana republic bottoms, Candies skirt with matching blazer,Amy Byers suit, Loft bottoms and cami top.                                                                                      </td></tr>\n",
       "</tbody>\n",
       "</table>\n"
      ],
      "text/latex": [
       "A data.frame: 6 × 8\n",
       "\\begin{tabular}{r|llllllll}\n",
       "  & train\\_id & name & item\\_condition\\_id & category\\_name & brand\\_name & price & shipping & item\\_description\\\\\n",
       "  & <int> & <chr> & <int> & <chr> & <chr> & <dbl> & <int> & <chr>\\\\\n",
       "\\hline\n",
       "\t1 & 0 & MLB Cincinnati Reds T Shirt Size XL & 3 & Men/Tops/T-shirts                                  &        & 10 & 1 & No description yet                                                                                                                                                                          \\\\\n",
       "\t2 & 1 & Razer BlackWidow Chroma Keyboard    & 3 & Electronics/Computers \\& Tablets/Components \\& Parts & Razer  & 52 & 0 & This keyboard is in great condition and works like it came out of the box. All of the ports are tested and work perfectly. The lights are customizable via the Razer Synapse app on your PC.\\\\\n",
       "\t3 & 2 & AVA-VIV Blouse                      & 1 & Women/Tops \\& Blouses/Blouse                        & Target & 10 & 1 & Adorable top with a hint of lace and a key hole in the back! The pale pink is a 1X, and I also have a 3X available in white!                                                                \\\\\n",
       "\t4 & 3 & Leather Horse Statues               & 1 & Home/Home DÃ©cor/Home DÃ©cor Accents               &        & 35 & 1 & New with tags. Leather horses. Retail for {[}rm{]} each. Stand about a foot high. They are being sold as a pair. Any questions please ask. Free shipping. Just got out of storage               \\\\\n",
       "\t5 & 4 & 24K GOLD plated rose                & 1 & Women/Jewelry/Necklaces                            &        & 44 & 0 & Complete with certificate of authenticity                                                                                                                                                   \\\\\n",
       "\t6 & 5 & Bundled items requested for Ruie    & 3 & Women/Other/Other                                  &        & 59 & 0 & Banana republic bottoms, Candies skirt with matching blazer,Amy Byers suit, Loft bottoms and cami top.                                                                                      \\\\\n",
       "\\end{tabular}\n"
      ],
      "text/markdown": [
       "\n",
       "A data.frame: 6 × 8\n",
       "\n",
       "| <!--/--> | train_id &lt;int&gt; | name &lt;chr&gt; | item_condition_id &lt;int&gt; | category_name &lt;chr&gt; | brand_name &lt;chr&gt; | price &lt;dbl&gt; | shipping &lt;int&gt; | item_description &lt;chr&gt; |\n",
       "|---|---|---|---|---|---|---|---|---|\n",
       "| 1 | 0 | MLB Cincinnati Reds T Shirt Size XL | 3 | Men/Tops/T-shirts                                  | <!----> | 10 | 1 | No description yet                                                                                                                                                                           |\n",
       "| 2 | 1 | Razer BlackWidow Chroma Keyboard    | 3 | Electronics/Computers &amp; Tablets/Components &amp; Parts | Razer  | 52 | 0 | This keyboard is in great condition and works like it came out of the box. All of the ports are tested and work perfectly. The lights are customizable via the Razer Synapse app on your PC. |\n",
       "| 3 | 2 | AVA-VIV Blouse                      | 1 | Women/Tops &amp; Blouses/Blouse                        | Target | 10 | 1 | Adorable top with a hint of lace and a key hole in the back! The pale pink is a 1X, and I also have a 3X available in white!                                                                 |\n",
       "| 4 | 3 | Leather Horse Statues               | 1 | Home/Home DÃ©cor/Home DÃ©cor Accents               | <!----> | 35 | 1 | New with tags. Leather horses. Retail for [rm] each. Stand about a foot high. They are being sold as a pair. Any questions please ask. Free shipping. Just got out of storage                |\n",
       "| 5 | 4 | 24K GOLD plated rose                | 1 | Women/Jewelry/Necklaces                            | <!----> | 44 | 0 | Complete with certificate of authenticity                                                                                                                                                    |\n",
       "| 6 | 5 | Bundled items requested for Ruie    | 3 | Women/Other/Other                                  | <!----> | 59 | 0 | Banana republic bottoms, Candies skirt with matching blazer,Amy Byers suit, Loft bottoms and cami top.                                                                                       |\n",
       "\n"
      ],
      "text/plain": [
       "  train_id name                                item_condition_id\n",
       "1 0        MLB Cincinnati Reds T Shirt Size XL 3                \n",
       "2 1        Razer BlackWidow Chroma Keyboard    3                \n",
       "3 2        AVA-VIV Blouse                      1                \n",
       "4 3        Leather Horse Statues               1                \n",
       "5 4        24K GOLD plated rose                1                \n",
       "6 5        Bundled items requested for Ruie    3                \n",
       "  category_name                                      brand_name price shipping\n",
       "1 Men/Tops/T-shirts                                             10    1       \n",
       "2 Electronics/Computers & Tablets/Components & Parts Razer      52    0       \n",
       "3 Women/Tops & Blouses/Blouse                        Target     10    1       \n",
       "4 Home/Home DÃ©cor/Home DÃ©cor Accents                          35    1       \n",
       "5 Women/Jewelry/Necklaces                                       44    0       \n",
       "6 Women/Other/Other                                             59    0       \n",
       "  item_description                                                                                                                                                                            \n",
       "1 No description yet                                                                                                                                                                          \n",
       "2 This keyboard is in great condition and works like it came out of the box. All of the ports are tested and work perfectly. The lights are customizable via the Razer Synapse app on your PC.\n",
       "3 Adorable top with a hint of lace and a key hole in the back! The pale pink is a 1X, and I also have a 3X available in white!                                                                \n",
       "4 New with tags. Leather horses. Retail for [rm] each. Stand about a foot high. They are being sold as a pair. Any questions please ask. Free shipping. Just got out of storage               \n",
       "5 Complete with certificate of authenticity                                                                                                                                                   \n",
       "6 Banana republic bottoms, Candies skirt with matching blazer,Amy Byers suit, Loft bottoms and cami top.                                                                                      "
      ]
     },
     "metadata": {},
     "output_type": "display_data"
    }
   ],
   "source": [
    "head(train_df)"
   ]
  },
  {
   "cell_type": "code",
   "execution_count": 50,
   "id": "7713f5f8",
   "metadata": {},
   "outputs": [
    {
     "data": {
      "text/html": [
       "<table class=\"dataframe\">\n",
       "<caption>A data.frame: 6 × 8</caption>\n",
       "<thead>\n",
       "\t<tr><th></th><th scope=col>train_id</th><th scope=col>name</th><th scope=col>item_condition_id</th><th scope=col>category_name</th><th scope=col>brand_name</th><th scope=col>price</th><th scope=col>shipping</th><th scope=col>item_description</th></tr>\n",
       "\t<tr><th></th><th scope=col>&lt;int&gt;</th><th scope=col>&lt;chr&gt;</th><th scope=col>&lt;int&gt;</th><th scope=col>&lt;chr&gt;</th><th scope=col>&lt;chr&gt;</th><th scope=col>&lt;dbl&gt;</th><th scope=col>&lt;int&gt;</th><th scope=col>&lt;chr&gt;</th></tr>\n",
       "</thead>\n",
       "<tbody>\n",
       "\t<tr><th scope=row>1</th><td>0</td><td>MLB Cincinnati Reds T Shirt Size XL</td><td>3</td><td>Men/Tops/T-shirts                                 </td><td>      </td><td>10</td><td>1</td><td>No description yet                                                                                                                                                                          </td></tr>\n",
       "\t<tr><th scope=row>2</th><td>1</td><td><span style=white-space:pre-wrap>Razer BlackWidow Chroma Keyboard   </span></td><td>3</td><td>Electronics/Computers &amp; Tablets/Components &amp; Parts</td><td>Razer </td><td>52</td><td>0</td><td>This keyboard is in great condition and works like it came out of the box. All of the ports are tested and work perfectly. The lights are customizable via the Razer Synapse app on your PC.</td></tr>\n",
       "\t<tr><th scope=row>3</th><td>2</td><td><span style=white-space:pre-wrap>AVA-VIV Blouse                     </span></td><td>1</td><td><span style=white-space:pre-wrap>Women/Tops &amp; Blouses/Blouse                       </span></td><td>Target</td><td>10</td><td>1</td><td><span style=white-space:pre-wrap>Adorable top with a hint of lace and a key hole in the back! The pale pink is a 1X, and I also have a 3X available in white!                                                                </span></td></tr>\n",
       "\t<tr><th scope=row>4</th><td>3</td><td>Leather Horse Statues              </td><td>1</td><td>Home/Home DÃ©cor/Home DÃ©cor Accents              </td><td>      </td><td>35</td><td>1</td><td>New with tags. Leather horses. Retail for [rm] each. Stand about a foot high. They are being sold as a pair. Any questions please ask. Free shipping. Just got out of storage               </td></tr>\n",
       "\t<tr><th scope=row>5</th><td>4</td><td>24K GOLD plated rose               </td><td>1</td><td>Women/Jewelry/Necklaces                           </td><td>      </td><td>44</td><td>0</td><td>Complete with certificate of authenticity                                                                                                                                                   </td></tr>\n",
       "\t<tr><th scope=row>6</th><td>5</td><td>Bundled items requested for Ruie   </td><td>3</td><td>Women/Other/Other                                 </td><td>      </td><td>59</td><td>0</td><td>Banana republic bottoms, Candies skirt with matching blazer,Amy Byers suit, Loft bottoms and cami top.                                                                                      </td></tr>\n",
       "</tbody>\n",
       "</table>\n"
      ],
      "text/latex": [
       "A data.frame: 6 × 8\n",
       "\\begin{tabular}{r|llllllll}\n",
       "  & train\\_id & name & item\\_condition\\_id & category\\_name & brand\\_name & price & shipping & item\\_description\\\\\n",
       "  & <int> & <chr> & <int> & <chr> & <chr> & <dbl> & <int> & <chr>\\\\\n",
       "\\hline\n",
       "\t1 & 0 & MLB Cincinnati Reds T Shirt Size XL & 3 & Men/Tops/T-shirts                                  &        & 10 & 1 & No description yet                                                                                                                                                                          \\\\\n",
       "\t2 & 1 & Razer BlackWidow Chroma Keyboard    & 3 & Electronics/Computers \\& Tablets/Components \\& Parts & Razer  & 52 & 0 & This keyboard is in great condition and works like it came out of the box. All of the ports are tested and work perfectly. The lights are customizable via the Razer Synapse app on your PC.\\\\\n",
       "\t3 & 2 & AVA-VIV Blouse                      & 1 & Women/Tops \\& Blouses/Blouse                        & Target & 10 & 1 & Adorable top with a hint of lace and a key hole in the back! The pale pink is a 1X, and I also have a 3X available in white!                                                                \\\\\n",
       "\t4 & 3 & Leather Horse Statues               & 1 & Home/Home DÃ©cor/Home DÃ©cor Accents               &        & 35 & 1 & New with tags. Leather horses. Retail for {[}rm{]} each. Stand about a foot high. They are being sold as a pair. Any questions please ask. Free shipping. Just got out of storage               \\\\\n",
       "\t5 & 4 & 24K GOLD plated rose                & 1 & Women/Jewelry/Necklaces                            &        & 44 & 0 & Complete with certificate of authenticity                                                                                                                                                   \\\\\n",
       "\t6 & 5 & Bundled items requested for Ruie    & 3 & Women/Other/Other                                  &        & 59 & 0 & Banana republic bottoms, Candies skirt with matching blazer,Amy Byers suit, Loft bottoms and cami top.                                                                                      \\\\\n",
       "\\end{tabular}\n"
      ],
      "text/markdown": [
       "\n",
       "A data.frame: 6 × 8\n",
       "\n",
       "| <!--/--> | train_id &lt;int&gt; | name &lt;chr&gt; | item_condition_id &lt;int&gt; | category_name &lt;chr&gt; | brand_name &lt;chr&gt; | price &lt;dbl&gt; | shipping &lt;int&gt; | item_description &lt;chr&gt; |\n",
       "|---|---|---|---|---|---|---|---|---|\n",
       "| 1 | 0 | MLB Cincinnati Reds T Shirt Size XL | 3 | Men/Tops/T-shirts                                  | <!----> | 10 | 1 | No description yet                                                                                                                                                                           |\n",
       "| 2 | 1 | Razer BlackWidow Chroma Keyboard    | 3 | Electronics/Computers &amp; Tablets/Components &amp; Parts | Razer  | 52 | 0 | This keyboard is in great condition and works like it came out of the box. All of the ports are tested and work perfectly. The lights are customizable via the Razer Synapse app on your PC. |\n",
       "| 3 | 2 | AVA-VIV Blouse                      | 1 | Women/Tops &amp; Blouses/Blouse                        | Target | 10 | 1 | Adorable top with a hint of lace and a key hole in the back! The pale pink is a 1X, and I also have a 3X available in white!                                                                 |\n",
       "| 4 | 3 | Leather Horse Statues               | 1 | Home/Home DÃ©cor/Home DÃ©cor Accents               | <!----> | 35 | 1 | New with tags. Leather horses. Retail for [rm] each. Stand about a foot high. They are being sold as a pair. Any questions please ask. Free shipping. Just got out of storage                |\n",
       "| 5 | 4 | 24K GOLD plated rose                | 1 | Women/Jewelry/Necklaces                            | <!----> | 44 | 0 | Complete with certificate of authenticity                                                                                                                                                    |\n",
       "| 6 | 5 | Bundled items requested for Ruie    | 3 | Women/Other/Other                                  | <!----> | 59 | 0 | Banana republic bottoms, Candies skirt with matching blazer,Amy Byers suit, Loft bottoms and cami top.                                                                                       |\n",
       "\n"
      ],
      "text/plain": [
       "  train_id name                                item_condition_id\n",
       "1 0        MLB Cincinnati Reds T Shirt Size XL 3                \n",
       "2 1        Razer BlackWidow Chroma Keyboard    3                \n",
       "3 2        AVA-VIV Blouse                      1                \n",
       "4 3        Leather Horse Statues               1                \n",
       "5 4        24K GOLD plated rose                1                \n",
       "6 5        Bundled items requested for Ruie    3                \n",
       "  category_name                                      brand_name price shipping\n",
       "1 Men/Tops/T-shirts                                             10    1       \n",
       "2 Electronics/Computers & Tablets/Components & Parts Razer      52    0       \n",
       "3 Women/Tops & Blouses/Blouse                        Target     10    1       \n",
       "4 Home/Home DÃ©cor/Home DÃ©cor Accents                          35    1       \n",
       "5 Women/Jewelry/Necklaces                                       44    0       \n",
       "6 Women/Other/Other                                             59    0       \n",
       "  item_description                                                                                                                                                                            \n",
       "1 No description yet                                                                                                                                                                          \n",
       "2 This keyboard is in great condition and works like it came out of the box. All of the ports are tested and work perfectly. The lights are customizable via the Razer Synapse app on your PC.\n",
       "3 Adorable top with a hint of lace and a key hole in the back! The pale pink is a 1X, and I also have a 3X available in white!                                                                \n",
       "4 New with tags. Leather horses. Retail for [rm] each. Stand about a foot high. They are being sold as a pair. Any questions please ask. Free shipping. Just got out of storage               \n",
       "5 Complete with certificate of authenticity                                                                                                                                                   \n",
       "6 Banana republic bottoms, Candies skirt with matching blazer,Amy Byers suit, Loft bottoms and cami top.                                                                                      "
      ]
     },
     "metadata": {},
     "output_type": "display_data"
    }
   ],
   "source": [
    "library(data.table)\n",
    "library(caret)\n",
    "#> Loading required package: lattice\n",
    "#> Loading required package: ggplot2\n",
    "library(superml)\n",
    "\n",
    "library(Metrics)\n",
    "#> \n",
    "#> Attaching package: 'Metrics'\n",
    "#> The following objects are masked from 'package:caret':\n",
    "#> \n",
    "#>     precision, recall\n",
    "\n",
    "head(train_df)"
   ]
  },
  {
   "cell_type": "code",
   "execution_count": 65,
   "id": "9c3a449d",
   "metadata": {
    "scrolled": true
   },
   "outputs": [
    {
     "name": "stderr",
     "output_type": "stream",
     "text": [
      "The data contains blank values. Imputing them with 'NA' \n",
      "\n",
      "The data contains blank values. Imputing them with 'NA' \n",
      "\n",
      "The data contains NA values. Imputing NA with 'NA' \n",
      "\n",
      "The data contains NA values. Imputing NA with 'NA' \n",
      "\n",
      "The data contains blank values. Imputing them with 'NA' \n",
      "\n",
      "The data contains blank values. Imputing them with 'NA' \n",
      "\n",
      "The data contains NA values. Imputing NA with 'NA' \n",
      "\n",
      "The data contains NA values. Imputing NA with 'NA' \n",
      "\n"
     ]
    },
    {
     "data": {
      "text/html": [
       "<table class=\"dataframe\">\n",
       "<caption>A data.frame: 6 × 16</caption>\n",
       "<thead>\n",
       "\t<tr><th></th><th scope=col>train_id</th><th scope=col>name</th><th scope=col>item_condition_id</th><th scope=col>brand_name</th><th scope=col>price</th><th scope=col>shipping</th><th scope=col>item_description</th><th scope=col>subcate_2</th><th scope=col>n_main_category</th><th scope=col>n_brand_name</th><th scope=col>n_subcat_1</th><th scope=col>main_category</th><th scope=col>subcat_1</th><th scope=col>subcat_2</th><th scope=col>n_subcat_2</th><th scope=col>category_name</th></tr>\n",
       "\t<tr><th></th><th scope=col>&lt;int&gt;</th><th scope=col>&lt;chr&gt;</th><th scope=col>&lt;int&gt;</th><th scope=col>&lt;chr&gt;</th><th scope=col>&lt;dbl&gt;</th><th scope=col>&lt;int&gt;</th><th scope=col>&lt;chr&gt;</th><th scope=col>&lt;chr&gt;</th><th scope=col>&lt;dbl&gt;</th><th scope=col>&lt;dbl&gt;</th><th scope=col>&lt;dbl&gt;</th><th scope=col>&lt;chr&gt;</th><th scope=col>&lt;chr&gt;</th><th scope=col>&lt;chr&gt;</th><th scope=col>&lt;dbl&gt;</th><th scope=col>&lt;chr&gt;</th></tr>\n",
       "</thead>\n",
       "<tbody>\n",
       "\t<tr><th scope=row>1</th><td>0</td><td>MLB Cincinnati Reds T Shirt Size XL</td><td>3</td><td>      </td><td>10</td><td>1</td><td>No description yet                                                                                                                                                                          </td><td>T-shirts           </td><td>0</td><td>0</td><td>0</td><td>Men        </td><td>Tops               </td><td>T-shirts           </td><td>0</td><td>Men/Tops/T-shirts                                 </td></tr>\n",
       "\t<tr><th scope=row>2</th><td>1</td><td><span style=white-space:pre-wrap>Razer BlackWidow Chroma Keyboard   </span></td><td>3</td><td>Razer </td><td>52</td><td>0</td><td>This keyboard is in great condition and works like it came out of the box. All of the ports are tested and work perfectly. The lights are customizable via the Razer Synapse app on your PC.</td><td>Components &amp; Parts </td><td>1</td><td>1</td><td>1</td><td>Electronics</td><td>Computers &amp; Tablets</td><td>Components &amp; Parts </td><td>1</td><td>Electronics/Computers &amp; Tablets/Components &amp; Parts</td></tr>\n",
       "\t<tr><th scope=row>3</th><td>2</td><td><span style=white-space:pre-wrap>AVA-VIV Blouse                     </span></td><td>1</td><td>Target</td><td>10</td><td>1</td><td><span style=white-space:pre-wrap>Adorable top with a hint of lace and a key hole in the back! The pale pink is a 1X, and I also have a 3X available in white!                                                                </span></td><td><span style=white-space:pre-wrap>Blouse             </span></td><td>2</td><td>2</td><td>2</td><td><span style=white-space:pre-wrap>Women      </span></td><td><span style=white-space:pre-wrap>Tops &amp; Blouses     </span></td><td><span style=white-space:pre-wrap>Blouse             </span></td><td>2</td><td><span style=white-space:pre-wrap>Women/Tops &amp; Blouses/Blouse                       </span></td></tr>\n",
       "\t<tr><th scope=row>4</th><td>3</td><td>Leather Horse Statues              </td><td>1</td><td>      </td><td>35</td><td>1</td><td>New with tags. Leather horses. Retail for [rm] each. Stand about a foot high. They are being sold as a pair. Any questions please ask. Free shipping. Just got out of storage               </td><td>Home DÃ©cor Accents</td><td>3</td><td>0</td><td>3</td><td>Home       </td><td>Home DÃ©cor        </td><td>Home DÃ©cor Accents</td><td>3</td><td>Home/Home DÃ©cor/Home DÃ©cor Accents              </td></tr>\n",
       "\t<tr><th scope=row>5</th><td>4</td><td>24K GOLD plated rose               </td><td>1</td><td>      </td><td>44</td><td>0</td><td>Complete with certificate of authenticity                                                                                                                                                   </td><td>Necklaces          </td><td>2</td><td>0</td><td>4</td><td>Women      </td><td>Jewelry            </td><td>Necklaces          </td><td>4</td><td>Women/Jewelry/Necklaces                           </td></tr>\n",
       "\t<tr><th scope=row>6</th><td>5</td><td>Bundled items requested for Ruie   </td><td>3</td><td>      </td><td>59</td><td>0</td><td>Banana republic bottoms, Candies skirt with matching blazer,Amy Byers suit, Loft bottoms and cami top.                                                                                      </td><td>Other              </td><td>2</td><td>0</td><td>5</td><td>Women      </td><td>Other              </td><td>Other              </td><td>5</td><td>Women/Other/Other                                 </td></tr>\n",
       "</tbody>\n",
       "</table>\n"
      ],
      "text/latex": [
       "A data.frame: 6 × 16\n",
       "\\begin{tabular}{r|llllllllllllllll}\n",
       "  & train\\_id & name & item\\_condition\\_id & brand\\_name & price & shipping & item\\_description & subcate\\_2 & n\\_main\\_category & n\\_brand\\_name & n\\_subcat\\_1 & main\\_category & subcat\\_1 & subcat\\_2 & n\\_subcat\\_2 & category\\_name\\\\\n",
       "  & <int> & <chr> & <int> & <chr> & <dbl> & <int> & <chr> & <chr> & <dbl> & <dbl> & <dbl> & <chr> & <chr> & <chr> & <dbl> & <chr>\\\\\n",
       "\\hline\n",
       "\t1 & 0 & MLB Cincinnati Reds T Shirt Size XL & 3 &        & 10 & 1 & No description yet                                                                                                                                                                           & T-shirts            & 0 & 0 & 0 & Men         & Tops                & T-shirts            & 0 & Men/Tops/T-shirts                                 \\\\\n",
       "\t2 & 1 & Razer BlackWidow Chroma Keyboard    & 3 & Razer  & 52 & 0 & This keyboard is in great condition and works like it came out of the box. All of the ports are tested and work perfectly. The lights are customizable via the Razer Synapse app on your PC. & Components \\& Parts  & 1 & 1 & 1 & Electronics & Computers \\& Tablets & Components \\& Parts  & 1 & Electronics/Computers \\& Tablets/Components \\& Parts\\\\\n",
       "\t3 & 2 & AVA-VIV Blouse                      & 1 & Target & 10 & 1 & Adorable top with a hint of lace and a key hole in the back! The pale pink is a 1X, and I also have a 3X available in white!                                                                 & Blouse              & 2 & 2 & 2 & Women       & Tops \\& Blouses      & Blouse              & 2 & Women/Tops \\& Blouses/Blouse                       \\\\\n",
       "\t4 & 3 & Leather Horse Statues               & 1 &        & 35 & 1 & New with tags. Leather horses. Retail for {[}rm{]} each. Stand about a foot high. They are being sold as a pair. Any questions please ask. Free shipping. Just got out of storage                & Home DÃ©cor Accents & 3 & 0 & 3 & Home        & Home DÃ©cor         & Home DÃ©cor Accents & 3 & Home/Home DÃ©cor/Home DÃ©cor Accents              \\\\\n",
       "\t5 & 4 & 24K GOLD plated rose                & 1 &        & 44 & 0 & Complete with certificate of authenticity                                                                                                                                                    & Necklaces           & 2 & 0 & 4 & Women       & Jewelry             & Necklaces           & 4 & Women/Jewelry/Necklaces                           \\\\\n",
       "\t6 & 5 & Bundled items requested for Ruie    & 3 &        & 59 & 0 & Banana republic bottoms, Candies skirt with matching blazer,Amy Byers suit, Loft bottoms and cami top.                                                                                       & Other               & 2 & 0 & 5 & Women       & Other               & Other               & 5 & Women/Other/Other                                 \\\\\n",
       "\\end{tabular}\n"
      ],
      "text/markdown": [
       "\n",
       "A data.frame: 6 × 16\n",
       "\n",
       "| <!--/--> | train_id &lt;int&gt; | name &lt;chr&gt; | item_condition_id &lt;int&gt; | brand_name &lt;chr&gt; | price &lt;dbl&gt; | shipping &lt;int&gt; | item_description &lt;chr&gt; | subcate_2 &lt;chr&gt; | n_main_category &lt;dbl&gt; | n_brand_name &lt;dbl&gt; | n_subcat_1 &lt;dbl&gt; | main_category &lt;chr&gt; | subcat_1 &lt;chr&gt; | subcat_2 &lt;chr&gt; | n_subcat_2 &lt;dbl&gt; | category_name &lt;chr&gt; |\n",
       "|---|---|---|---|---|---|---|---|---|---|---|---|---|---|---|---|---|\n",
       "| 1 | 0 | MLB Cincinnati Reds T Shirt Size XL | 3 | <!----> | 10 | 1 | No description yet                                                                                                                                                                           | T-shirts            | 0 | 0 | 0 | Men         | Tops                | T-shirts            | 0 | Men/Tops/T-shirts                                  |\n",
       "| 2 | 1 | Razer BlackWidow Chroma Keyboard    | 3 | Razer  | 52 | 0 | This keyboard is in great condition and works like it came out of the box. All of the ports are tested and work perfectly. The lights are customizable via the Razer Synapse app on your PC. | Components &amp; Parts  | 1 | 1 | 1 | Electronics | Computers &amp; Tablets | Components &amp; Parts  | 1 | Electronics/Computers &amp; Tablets/Components &amp; Parts |\n",
       "| 3 | 2 | AVA-VIV Blouse                      | 1 | Target | 10 | 1 | Adorable top with a hint of lace and a key hole in the back! The pale pink is a 1X, and I also have a 3X available in white!                                                                 | Blouse              | 2 | 2 | 2 | Women       | Tops &amp; Blouses      | Blouse              | 2 | Women/Tops &amp; Blouses/Blouse                        |\n",
       "| 4 | 3 | Leather Horse Statues               | 1 | <!----> | 35 | 1 | New with tags. Leather horses. Retail for [rm] each. Stand about a foot high. They are being sold as a pair. Any questions please ask. Free shipping. Just got out of storage                | Home DÃ©cor Accents | 3 | 0 | 3 | Home        | Home DÃ©cor         | Home DÃ©cor Accents | 3 | Home/Home DÃ©cor/Home DÃ©cor Accents               |\n",
       "| 5 | 4 | 24K GOLD plated rose                | 1 | <!----> | 44 | 0 | Complete with certificate of authenticity                                                                                                                                                    | Necklaces           | 2 | 0 | 4 | Women       | Jewelry             | Necklaces           | 4 | Women/Jewelry/Necklaces                            |\n",
       "| 6 | 5 | Bundled items requested for Ruie    | 3 | <!----> | 59 | 0 | Banana republic bottoms, Candies skirt with matching blazer,Amy Byers suit, Loft bottoms and cami top.                                                                                       | Other               | 2 | 0 | 5 | Women       | Other               | Other               | 5 | Women/Other/Other                                  |\n",
       "\n"
      ],
      "text/plain": [
       "  train_id name                                item_condition_id brand_name\n",
       "1 0        MLB Cincinnati Reds T Shirt Size XL 3                           \n",
       "2 1        Razer BlackWidow Chroma Keyboard    3                 Razer     \n",
       "3 2        AVA-VIV Blouse                      1                 Target    \n",
       "4 3        Leather Horse Statues               1                           \n",
       "5 4        24K GOLD plated rose                1                           \n",
       "6 5        Bundled items requested for Ruie    3                           \n",
       "  price shipping\n",
       "1 10    1       \n",
       "2 52    0       \n",
       "3 10    1       \n",
       "4 35    1       \n",
       "5 44    0       \n",
       "6 59    0       \n",
       "  item_description                                                                                                                                                                            \n",
       "1 No description yet                                                                                                                                                                          \n",
       "2 This keyboard is in great condition and works like it came out of the box. All of the ports are tested and work perfectly. The lights are customizable via the Razer Synapse app on your PC.\n",
       "3 Adorable top with a hint of lace and a key hole in the back! The pale pink is a 1X, and I also have a 3X available in white!                                                                \n",
       "4 New with tags. Leather horses. Retail for [rm] each. Stand about a foot high. They are being sold as a pair. Any questions please ask. Free shipping. Just got out of storage               \n",
       "5 Complete with certificate of authenticity                                                                                                                                                   \n",
       "6 Banana republic bottoms, Candies skirt with matching blazer,Amy Byers suit, Loft bottoms and cami top.                                                                                      \n",
       "  subcate_2           n_main_category n_brand_name n_subcat_1 main_category\n",
       "1 T-shirts            0               0            0          Men          \n",
       "2 Components & Parts  1               1            1          Electronics  \n",
       "3 Blouse              2               2            2          Women        \n",
       "4 Home DÃ©cor Accents 3               0            3          Home         \n",
       "5 Necklaces           2               0            4          Women        \n",
       "6 Other               2               0            5          Women        \n",
       "  subcat_1            subcat_2            n_subcat_2\n",
       "1 Tops                T-shirts            0         \n",
       "2 Computers & Tablets Components & Parts  1         \n",
       "3 Tops & Blouses      Blouse              2         \n",
       "4 Home DÃ©cor         Home DÃ©cor Accents 3         \n",
       "5 Jewelry             Necklaces           4         \n",
       "6 Other               Other               5         \n",
       "  category_name                                     \n",
       "1 Men/Tops/T-shirts                                 \n",
       "2 Electronics/Computers & Tablets/Components & Parts\n",
       "3 Women/Tops & Blouses/Blouse                       \n",
       "4 Home/Home DÃ©cor/Home DÃ©cor Accents              \n",
       "5 Women/Jewelry/Necklaces                           \n",
       "6 Women/Other/Other                                 "
      ]
     },
     "metadata": {},
     "output_type": "display_data"
    }
   ],
   "source": [
    "# Lets separate category variable into 3 categories\n",
    "\n",
    "#Label encoding converting categories into numberical categories or form \n",
    "#, brand_name, subcat_1, subcat_2\n",
    "\n",
    "\n",
    "category_name=train_df$category_name\n",
    "train_df = train_df %>% separate(category_name, c(\"main_category\", \"subcat_1\", \"subcat_2\"), sep=\"/\")\n",
    "train_df$category_name=category_name\n",
    "lbl_main_category <- LabelEncoder$new()\n",
    "lbl_main_category$fit(train_df$main_category)\n",
    "\n",
    "lbl_brand_name <- LabelEncoder$new()\n",
    "lbl_brand_name$fit(train_df$brand_name)\n",
    "\n",
    "lbl_subcat_1 <- LabelEncoder$new()\n",
    "lbl_subcat_1$fit(train_df$subcat_1)\n",
    "\n",
    "lbl_subcat_2 <- LabelEncoder$new()\n",
    "lbl_subcat_2$fit(train_df$subcat_2)\n",
    "\n",
    "train_df$n_main_category <- lbl_main_category$transform(train_df$main_category)\n",
    "train_df$n_brand_name = lbl_brand_name$transform(train_df$brand_name)\n",
    "train_df$n_subcat_1 = lbl_subcat_1$transform(train_df$subcat_1)\n",
    "train_df$n_subcat_2 = lbl_subcat_2$transform(train_df$subcat_2)\n",
    "\n",
    "head(train_df)"
   ]
  },
  {
   "cell_type": "code",
   "execution_count": 68,
   "id": "046419cd",
   "metadata": {},
   "outputs": [],
   "source": [
    "#Text Cleaning\n",
    "#Removing the rows which is not having proper decription\n",
    "\n",
    "train_df <- subset(train_df, item_description != \"No description yet\")\n"
   ]
  },
  {
   "cell_type": "code",
   "execution_count": 70,
   "id": "4f2ca721",
   "metadata": {},
   "outputs": [],
   "source": [
    "#replace unwanted symbols\n",
    "\n",
    "train_df$description = str_replace_all(train_df$item_description, \"[[:punct:]]\", \" \")\n"
   ]
  },
  {
   "cell_type": "code",
   "execution_count": 72,
   "id": "faa1cfd4",
   "metadata": {},
   "outputs": [],
   "source": [
    "#Lemmatization\n",
    "\n",
    "train_df$clean_description = lemmatize_strings(train_df$description)\n"
   ]
  },
  {
   "cell_type": "code",
   "execution_count": null,
   "id": "72d1aee7",
   "metadata": {},
   "outputs": [],
   "source": [
    "# Making all the text lower case\n",
    "\n",
    "train_df$lower_clean_description = tolower(train_df$clean_description)\n",
    "\n",
    "#CountVectorizer\n",
    "\n",
    "cv <- CountVectorizer$new(min_df = 0.7, max_features = 5000, remove_stopwords = TRUE)\n",
    "Sys.time()\n",
    "cv$fit(train_df$lower_clean_description)\n",
    "Sys.time()\n",
    "\n",
    "cv_features = cv$transform(train_df$lower_clean_description)\n"
   ]
  },
  {
   "cell_type": "code",
   "execution_count": 7,
   "id": "f67b069d",
   "metadata": {},
   "outputs": [],
   "source": [
    "train_df= read.csv(file='train.tsv', sep='\\t', header=TRUE)"
   ]
  },
  {
   "cell_type": "code",
   "execution_count": 9,
   "id": "f621e15a",
   "metadata": {},
   "outputs": [
    {
     "data": {
      "text/html": [
       "<table class=\"dataframe\">\n",
       "<caption>A data.frame: 6 × 8</caption>\n",
       "<thead>\n",
       "\t<tr><th></th><th scope=col>train_id</th><th scope=col>name</th><th scope=col>item_condition_id</th><th scope=col>category_name</th><th scope=col>brand_name</th><th scope=col>price</th><th scope=col>shipping</th><th scope=col>item_description</th></tr>\n",
       "\t<tr><th></th><th scope=col>&lt;int&gt;</th><th scope=col>&lt;chr&gt;</th><th scope=col>&lt;int&gt;</th><th scope=col>&lt;chr&gt;</th><th scope=col>&lt;chr&gt;</th><th scope=col>&lt;dbl&gt;</th><th scope=col>&lt;int&gt;</th><th scope=col>&lt;chr&gt;</th></tr>\n",
       "</thead>\n",
       "<tbody>\n",
       "\t<tr><th scope=row>1</th><td>0</td><td>MLB Cincinnati Reds T Shirt Size XL</td><td>3</td><td>Men/Tops/T-shirts                                 </td><td>      </td><td>10</td><td>1</td><td>No description yet                                                                                                                                                                          </td></tr>\n",
       "\t<tr><th scope=row>2</th><td>1</td><td><span style=white-space:pre-wrap>Razer BlackWidow Chroma Keyboard   </span></td><td>3</td><td>Electronics/Computers &amp; Tablets/Components &amp; Parts</td><td>Razer </td><td>52</td><td>0</td><td>This keyboard is in great condition and works like it came out of the box. All of the ports are tested and work perfectly. The lights are customizable via the Razer Synapse app on your PC.</td></tr>\n",
       "\t<tr><th scope=row>3</th><td>2</td><td><span style=white-space:pre-wrap>AVA-VIV Blouse                     </span></td><td>1</td><td><span style=white-space:pre-wrap>Women/Tops &amp; Blouses/Blouse                       </span></td><td>Target</td><td>10</td><td>1</td><td><span style=white-space:pre-wrap>Adorable top with a hint of lace and a key hole in the back! The pale pink is a 1X, and I also have a 3X available in white!                                                                </span></td></tr>\n",
       "\t<tr><th scope=row>4</th><td>3</td><td>Leather Horse Statues              </td><td>1</td><td>Home/Home DÃ©cor/Home DÃ©cor Accents              </td><td>      </td><td>35</td><td>1</td><td>New with tags. Leather horses. Retail for [rm] each. Stand about a foot high. They are being sold as a pair. Any questions please ask. Free shipping. Just got out of storage               </td></tr>\n",
       "\t<tr><th scope=row>5</th><td>4</td><td>24K GOLD plated rose               </td><td>1</td><td>Women/Jewelry/Necklaces                           </td><td>      </td><td>44</td><td>0</td><td>Complete with certificate of authenticity                                                                                                                                                   </td></tr>\n",
       "\t<tr><th scope=row>6</th><td>5</td><td>Bundled items requested for Ruie   </td><td>3</td><td>Women/Other/Other                                 </td><td>      </td><td>59</td><td>0</td><td>Banana republic bottoms, Candies skirt with matching blazer,Amy Byers suit, Loft bottoms and cami top.                                                                                      </td></tr>\n",
       "</tbody>\n",
       "</table>\n"
      ],
      "text/latex": [
       "A data.frame: 6 × 8\n",
       "\\begin{tabular}{r|llllllll}\n",
       "  & train\\_id & name & item\\_condition\\_id & category\\_name & brand\\_name & price & shipping & item\\_description\\\\\n",
       "  & <int> & <chr> & <int> & <chr> & <chr> & <dbl> & <int> & <chr>\\\\\n",
       "\\hline\n",
       "\t1 & 0 & MLB Cincinnati Reds T Shirt Size XL & 3 & Men/Tops/T-shirts                                  &        & 10 & 1 & No description yet                                                                                                                                                                          \\\\\n",
       "\t2 & 1 & Razer BlackWidow Chroma Keyboard    & 3 & Electronics/Computers \\& Tablets/Components \\& Parts & Razer  & 52 & 0 & This keyboard is in great condition and works like it came out of the box. All of the ports are tested and work perfectly. The lights are customizable via the Razer Synapse app on your PC.\\\\\n",
       "\t3 & 2 & AVA-VIV Blouse                      & 1 & Women/Tops \\& Blouses/Blouse                        & Target & 10 & 1 & Adorable top with a hint of lace and a key hole in the back! The pale pink is a 1X, and I also have a 3X available in white!                                                                \\\\\n",
       "\t4 & 3 & Leather Horse Statues               & 1 & Home/Home DÃ©cor/Home DÃ©cor Accents               &        & 35 & 1 & New with tags. Leather horses. Retail for {[}rm{]} each. Stand about a foot high. They are being sold as a pair. Any questions please ask. Free shipping. Just got out of storage               \\\\\n",
       "\t5 & 4 & 24K GOLD plated rose                & 1 & Women/Jewelry/Necklaces                            &        & 44 & 0 & Complete with certificate of authenticity                                                                                                                                                   \\\\\n",
       "\t6 & 5 & Bundled items requested for Ruie    & 3 & Women/Other/Other                                  &        & 59 & 0 & Banana republic bottoms, Candies skirt with matching blazer,Amy Byers suit, Loft bottoms and cami top.                                                                                      \\\\\n",
       "\\end{tabular}\n"
      ],
      "text/markdown": [
       "\n",
       "A data.frame: 6 × 8\n",
       "\n",
       "| <!--/--> | train_id &lt;int&gt; | name &lt;chr&gt; | item_condition_id &lt;int&gt; | category_name &lt;chr&gt; | brand_name &lt;chr&gt; | price &lt;dbl&gt; | shipping &lt;int&gt; | item_description &lt;chr&gt; |\n",
       "|---|---|---|---|---|---|---|---|---|\n",
       "| 1 | 0 | MLB Cincinnati Reds T Shirt Size XL | 3 | Men/Tops/T-shirts                                  | <!----> | 10 | 1 | No description yet                                                                                                                                                                           |\n",
       "| 2 | 1 | Razer BlackWidow Chroma Keyboard    | 3 | Electronics/Computers &amp; Tablets/Components &amp; Parts | Razer  | 52 | 0 | This keyboard is in great condition and works like it came out of the box. All of the ports are tested and work perfectly. The lights are customizable via the Razer Synapse app on your PC. |\n",
       "| 3 | 2 | AVA-VIV Blouse                      | 1 | Women/Tops &amp; Blouses/Blouse                        | Target | 10 | 1 | Adorable top with a hint of lace and a key hole in the back! The pale pink is a 1X, and I also have a 3X available in white!                                                                 |\n",
       "| 4 | 3 | Leather Horse Statues               | 1 | Home/Home DÃ©cor/Home DÃ©cor Accents               | <!----> | 35 | 1 | New with tags. Leather horses. Retail for [rm] each. Stand about a foot high. They are being sold as a pair. Any questions please ask. Free shipping. Just got out of storage                |\n",
       "| 5 | 4 | 24K GOLD plated rose                | 1 | Women/Jewelry/Necklaces                            | <!----> | 44 | 0 | Complete with certificate of authenticity                                                                                                                                                    |\n",
       "| 6 | 5 | Bundled items requested for Ruie    | 3 | Women/Other/Other                                  | <!----> | 59 | 0 | Banana republic bottoms, Candies skirt with matching blazer,Amy Byers suit, Loft bottoms and cami top.                                                                                       |\n",
       "\n"
      ],
      "text/plain": [
       "  train_id name                                item_condition_id\n",
       "1 0        MLB Cincinnati Reds T Shirt Size XL 3                \n",
       "2 1        Razer BlackWidow Chroma Keyboard    3                \n",
       "3 2        AVA-VIV Blouse                      1                \n",
       "4 3        Leather Horse Statues               1                \n",
       "5 4        24K GOLD plated rose                1                \n",
       "6 5        Bundled items requested for Ruie    3                \n",
       "  category_name                                      brand_name price shipping\n",
       "1 Men/Tops/T-shirts                                             10    1       \n",
       "2 Electronics/Computers & Tablets/Components & Parts Razer      52    0       \n",
       "3 Women/Tops & Blouses/Blouse                        Target     10    1       \n",
       "4 Home/Home DÃ©cor/Home DÃ©cor Accents                          35    1       \n",
       "5 Women/Jewelry/Necklaces                                       44    0       \n",
       "6 Women/Other/Other                                             59    0       \n",
       "  item_description                                                                                                                                                                            \n",
       "1 No description yet                                                                                                                                                                          \n",
       "2 This keyboard is in great condition and works like it came out of the box. All of the ports are tested and work perfectly. The lights are customizable via the Razer Synapse app on your PC.\n",
       "3 Adorable top with a hint of lace and a key hole in the back! The pale pink is a 1X, and I also have a 3X available in white!                                                                \n",
       "4 New with tags. Leather horses. Retail for [rm] each. Stand about a foot high. They are being sold as a pair. Any questions please ask. Free shipping. Just got out of storage               \n",
       "5 Complete with certificate of authenticity                                                                                                                                                   \n",
       "6 Banana republic bottoms, Candies skirt with matching blazer,Amy Byers suit, Loft bottoms and cami top.                                                                                      "
      ]
     },
     "metadata": {},
     "output_type": "display_data"
    }
   ],
   "source": [
    "head(train_df)"
   ]
  },
  {
   "cell_type": "code",
   "execution_count": 14,
   "id": "53240b84",
   "metadata": {},
   "outputs": [
    {
     "data": {
      "text/html": [
       "<table class=\"dataframe\">\n",
       "<caption>A data.frame: 6 × 7</caption>\n",
       "<thead>\n",
       "\t<tr><th></th><th scope=col>test_id</th><th scope=col>name</th><th scope=col>item_condition_id</th><th scope=col>category_name</th><th scope=col>brand_name</th><th scope=col>shipping</th><th scope=col>item_description</th></tr>\n",
       "\t<tr><th></th><th scope=col>&lt;int&gt;</th><th scope=col>&lt;chr&gt;</th><th scope=col>&lt;int&gt;</th><th scope=col>&lt;chr&gt;</th><th scope=col>&lt;chr&gt;</th><th scope=col>&lt;int&gt;</th><th scope=col>&lt;chr&gt;</th></tr>\n",
       "</thead>\n",
       "<tbody>\n",
       "\t<tr><th scope=row>1</th><td>0</td><td>Breast cancer \"I fight like a girl\" ring</td><td>1</td><td>Women/Jewelry/Rings                                        </td><td>     </td><td>1</td><td>Size 7                                                                                                                                                                                                                                                     </td></tr>\n",
       "\t<tr><th scope=row>2</th><td>1</td><td>25 pcs NEW 7.5\"x12\" Kraft Bubble Mailers</td><td>1</td><td>Other/Office supplies/Shipping Supplies                    </td><td>     </td><td>1</td><td>25 pcs NEW 7.5\"x12\" Kraft Bubble Mailers Lined with bubble wrap for protection Self Sealing (peel-and-seal), adhesive keeps contents secure and tamper proof Durable and lightweight Kraft material helps save on postage Approved by UPS, FedEx, and USPS.</td></tr>\n",
       "\t<tr><th scope=row>3</th><td>2</td><td><span style=white-space:pre-wrap>Coach bag                               </span></td><td>1</td><td><span style=white-space:pre-wrap>Vintage &amp; Collectibles/Bags and Purses/Handbag             </span></td><td>Coach</td><td>1</td><td><span style=white-space:pre-wrap>Brand new coach bag. Bought for [rm] at a Coach outlet.                                                                                                                                                                                                    </span></td></tr>\n",
       "\t<tr><th scope=row>4</th><td>3</td><td>Floral Kimono                           </td><td>2</td><td>Women/Sweaters/Cardigan                                    </td><td>     </td><td>0</td><td>-floral kimono -never worn -lightweight and perfect for hot weather                                                                                                                                                                                        </td></tr>\n",
       "\t<tr><th scope=row>5</th><td>4</td><td><span style=white-space:pre-wrap>Life after Death                        </span></td><td>3</td><td><span style=white-space:pre-wrap>Other/Books/Religion &amp; Spirituality                        </span></td><td><span style=white-space:pre-wrap>     </span></td><td>1</td><td><span style=white-space:pre-wrap>Rediscovering life after the loss of a loved one by Tony Cooke. Paperback in good condition 2003. â¤ â¤ Bundle and save! â¤ â¤ Book, death, grief, bereavement SHLF.SW.5.15                                                                            </span></td></tr>\n",
       "\t<tr><th scope=row>6</th><td>5</td><td>iPhone 6 Plus or 6s Plus Vodka pink case</td><td>1</td><td>Electronics/Cell Phones &amp; Accessories/Cases, Covers &amp; Skins</td><td><span style=white-space:pre-wrap>     </span></td><td>1</td><td><span style=white-space:pre-wrap>One Absolut Vodka in Pink for iPhone 6 Plus and also fits the 6s Plus iPhone. These are made of a flexible rubber material. Brand new case Also have in 6 and 6s size in pink Size: iPhone 6 Plus and 6s Plus Free shipping                                </span></td></tr>\n",
       "</tbody>\n",
       "</table>\n"
      ],
      "text/latex": [
       "A data.frame: 6 × 7\n",
       "\\begin{tabular}{r|lllllll}\n",
       "  & test\\_id & name & item\\_condition\\_id & category\\_name & brand\\_name & shipping & item\\_description\\\\\n",
       "  & <int> & <chr> & <int> & <chr> & <chr> & <int> & <chr>\\\\\n",
       "\\hline\n",
       "\t1 & 0 & Breast cancer \"I fight like a girl\" ring & 1 & Women/Jewelry/Rings                                         &       & 1 & Size 7                                                                                                                                                                                                                                                     \\\\\n",
       "\t2 & 1 & 25 pcs NEW 7.5\"x12\" Kraft Bubble Mailers & 1 & Other/Office supplies/Shipping Supplies                     &       & 1 & 25 pcs NEW 7.5\"x12\" Kraft Bubble Mailers Lined with bubble wrap for protection Self Sealing (peel-and-seal), adhesive keeps contents secure and tamper proof Durable and lightweight Kraft material helps save on postage Approved by UPS, FedEx, and USPS.\\\\\n",
       "\t3 & 2 & Coach bag                                & 1 & Vintage \\& Collectibles/Bags and Purses/Handbag              & Coach & 1 & Brand new coach bag. Bought for {[}rm{]} at a Coach outlet.                                                                                                                                                                                                    \\\\\n",
       "\t4 & 3 & Floral Kimono                            & 2 & Women/Sweaters/Cardigan                                     &       & 0 & -floral kimono -never worn -lightweight and perfect for hot weather                                                                                                                                                                                        \\\\\n",
       "\t5 & 4 & Life after Death                         & 3 & Other/Books/Religion \\& Spirituality                         &       & 1 & Rediscovering life after the loss of a loved one by Tony Cooke. Paperback in good condition 2003. â¤ â¤ Bundle and save! â¤ â¤ Book, death, grief, bereavement SHLF.SW.5.15                                                                            \\\\\n",
       "\t6 & 5 & iPhone 6 Plus or 6s Plus Vodka pink case & 1 & Electronics/Cell Phones \\& Accessories/Cases, Covers \\& Skins &       & 1 & One Absolut Vodka in Pink for iPhone 6 Plus and also fits the 6s Plus iPhone. These are made of a flexible rubber material. Brand new case Also have in 6 and 6s size in pink Size: iPhone 6 Plus and 6s Plus Free shipping                                \\\\\n",
       "\\end{tabular}\n"
      ],
      "text/markdown": [
       "\n",
       "A data.frame: 6 × 7\n",
       "\n",
       "| <!--/--> | test_id &lt;int&gt; | name &lt;chr&gt; | item_condition_id &lt;int&gt; | category_name &lt;chr&gt; | brand_name &lt;chr&gt; | shipping &lt;int&gt; | item_description &lt;chr&gt; |\n",
       "|---|---|---|---|---|---|---|---|\n",
       "| 1 | 0 | Breast cancer \"I fight like a girl\" ring | 1 | Women/Jewelry/Rings                                         | <!----> | 1 | Size 7                                                                                                                                                                                                                                                      |\n",
       "| 2 | 1 | 25 pcs NEW 7.5\"x12\" Kraft Bubble Mailers | 1 | Other/Office supplies/Shipping Supplies                     | <!----> | 1 | 25 pcs NEW 7.5\"x12\" Kraft Bubble Mailers Lined with bubble wrap for protection Self Sealing (peel-and-seal), adhesive keeps contents secure and tamper proof Durable and lightweight Kraft material helps save on postage Approved by UPS, FedEx, and USPS. |\n",
       "| 3 | 2 | Coach bag                                | 1 | Vintage &amp; Collectibles/Bags and Purses/Handbag              | Coach | 1 | Brand new coach bag. Bought for [rm] at a Coach outlet.                                                                                                                                                                                                     |\n",
       "| 4 | 3 | Floral Kimono                            | 2 | Women/Sweaters/Cardigan                                     | <!----> | 0 | -floral kimono -never worn -lightweight and perfect for hot weather                                                                                                                                                                                         |\n",
       "| 5 | 4 | Life after Death                         | 3 | Other/Books/Religion &amp; Spirituality                         | <!----> | 1 | Rediscovering life after the loss of a loved one by Tony Cooke. Paperback in good condition 2003. â¤ â¤ Bundle and save! â¤ â¤ Book, death, grief, bereavement SHLF.SW.5.15                                                                             |\n",
       "| 6 | 5 | iPhone 6 Plus or 6s Plus Vodka pink case | 1 | Electronics/Cell Phones &amp; Accessories/Cases, Covers &amp; Skins | <!----> | 1 | One Absolut Vodka in Pink for iPhone 6 Plus and also fits the 6s Plus iPhone. These are made of a flexible rubber material. Brand new case Also have in 6 and 6s size in pink Size: iPhone 6 Plus and 6s Plus Free shipping                                 |\n",
       "\n"
      ],
      "text/plain": [
       "  test_id name                                     item_condition_id\n",
       "1 0       Breast cancer \"I fight like a girl\" ring 1                \n",
       "2 1       25 pcs NEW 7.5\"x12\" Kraft Bubble Mailers 1                \n",
       "3 2       Coach bag                                1                \n",
       "4 3       Floral Kimono                            2                \n",
       "5 4       Life after Death                         3                \n",
       "6 5       iPhone 6 Plus or 6s Plus Vodka pink case 1                \n",
       "  category_name                                               brand_name\n",
       "1 Women/Jewelry/Rings                                                   \n",
       "2 Other/Office supplies/Shipping Supplies                               \n",
       "3 Vintage & Collectibles/Bags and Purses/Handbag              Coach     \n",
       "4 Women/Sweaters/Cardigan                                               \n",
       "5 Other/Books/Religion & Spirituality                                   \n",
       "6 Electronics/Cell Phones & Accessories/Cases, Covers & Skins           \n",
       "  shipping\n",
       "1 1       \n",
       "2 1       \n",
       "3 1       \n",
       "4 0       \n",
       "5 1       \n",
       "6 1       \n",
       "  item_description                                                                                                                                                                                                                                           \n",
       "1 Size 7                                                                                                                                                                                                                                                     \n",
       "2 25 pcs NEW 7.5\"x12\" Kraft Bubble Mailers Lined with bubble wrap for protection Self Sealing (peel-and-seal), adhesive keeps contents secure and tamper proof Durable and lightweight Kraft material helps save on postage Approved by UPS, FedEx, and USPS.\n",
       "3 Brand new coach bag. Bought for [rm] at a Coach outlet.                                                                                                                                                                                                    \n",
       "4 -floral kimono -never worn -lightweight and perfect for hot weather                                                                                                                                                                                        \n",
       "5 Rediscovering life after the loss of a loved one by Tony Cooke. Paperback in good condition 2003. â\\235¤ â\\235¤ Bundle and save! â\\235¤ â\\235¤ Book, death, grief, bereavement SHLF.SW.5.15                                                                            \n",
       "6 One Absolut Vodka in Pink for iPhone 6 Plus and also fits the 6s Plus iPhone. These are made of a flexible rubber material. Brand new case Also have in 6 and 6s size in pink Size: iPhone 6 Plus and 6s Plus Free shipping                                "
      ]
     },
     "metadata": {},
     "output_type": "display_data"
    }
   ],
   "source": [
    "test_df= read.csv(file='test.tsv', sep='\\t', header=TRUE)\n",
    "head(test_df)"
   ]
  },
  {
   "cell_type": "code",
   "execution_count": 16,
   "id": "8e6746ff",
   "metadata": {},
   "outputs": [
    {
     "data": {
      "text/html": [
       "<table class=\"dataframe\">\n",
       "<caption>A data.frame: 5 × 11</caption>\n",
       "<thead>\n",
       "\t<tr><th></th><th scope=col>train_id</th><th scope=col>name</th><th scope=col>item_condition_id</th><th scope=col>category_name</th><th scope=col>brand_name</th><th scope=col>price</th><th scope=col>shipping</th><th scope=col>item_description</th><th scope=col>description</th><th scope=col>clean_description</th><th scope=col>lower_clean_description</th></tr>\n",
       "\t<tr><th></th><th scope=col>&lt;int&gt;</th><th scope=col>&lt;chr&gt;</th><th scope=col>&lt;int&gt;</th><th scope=col>&lt;chr&gt;</th><th scope=col>&lt;chr&gt;</th><th scope=col>&lt;dbl&gt;</th><th scope=col>&lt;int&gt;</th><th scope=col>&lt;chr&gt;</th><th scope=col>&lt;chr&gt;</th><th scope=col>&lt;chr&gt;</th><th scope=col>&lt;chr&gt;</th></tr>\n",
       "</thead>\n",
       "<tbody>\n",
       "\t<tr><th scope=row>2</th><td>1</td><td>Razer BlackWidow Chroma Keyboard</td><td>3</td><td>Electronics/Computers &amp; Tablets/Components &amp; Parts</td><td>Razer </td><td>52</td><td>0</td><td>This keyboard is in great condition and works like it came out of the box. All of the ports are tested and work perfectly. The lights are customizable via the Razer Synapse app on your PC.</td><td><span style=white-space:pre-wrap>This keyboard is in great condition and works like it came out of the box  All of the ports are tested and work perfectly  The lights are customizable via the Razer Synapse app on your PC </span></td><td>This keyboard be in great condition and work like it come out of the box All of the port be test and work perfectly The light be customizable via the Razer Synapse app on your PC</td><td>this keyboard be in great condition and work like it come out of the box all of the port be test and work perfectly the light be customizable via the razer synapse app on your pc</td></tr>\n",
       "\t<tr><th scope=row>3</th><td>2</td><td><span style=white-space:pre-wrap>AVA-VIV Blouse                  </span></td><td>1</td><td><span style=white-space:pre-wrap>Women/Tops &amp; Blouses/Blouse                       </span></td><td>Target</td><td>10</td><td>1</td><td><span style=white-space:pre-wrap>Adorable top with a hint of lace and a key hole in the back! The pale pink is a 1X, and I also have a 3X available in white!                                                                </span></td><td><span style=white-space:pre-wrap>Adorable top with a hint of lace and a key hole in the back  The pale pink is a 1X  and I also have a 3X available in white                                                                 </span></td><td><span style=white-space:pre-wrap>Adorable top with a hint of lace and a key hole in the back The pale pink be a 1X and I also have a 3X available in white                                                         </span></td><td><span style=white-space:pre-wrap>adorable top with a hint of lace and a key hole in the back the pale pink be a 1x and i also have a 3x available in white                                                         </span></td></tr>\n",
       "\t<tr><th scope=row>4</th><td>3</td><td>Leather Horse Statues           </td><td>1</td><td>Home/Home DÃ©cor/Home DÃ©cor Accents              </td><td>      </td><td>35</td><td>1</td><td>New with tags. Leather horses. Retail for [rm] each. Stand about a foot high. They are being sold as a pair. Any questions please ask. Free shipping. Just got out of storage               </td><td>New with tags  Leather horses  Retail for  rm  each  Stand about a foot high  They are being sold as a pair  Any questions please ask  Free shipping  Just got out of storage               </td><td>New with tag Leather horse Retail for rm each Stand about a foot high They be be sell as a pair Any question please ask Free ship Just get out of storage                         </td><td>new with tag leather horse retail for rm each stand about a foot high they be be sell as a pair any question please ask free ship just get out of storage                         </td></tr>\n",
       "\t<tr><th scope=row>5</th><td>4</td><td>24K GOLD plated rose            </td><td>1</td><td>Women/Jewelry/Necklaces                           </td><td>      </td><td>44</td><td>0</td><td>Complete with certificate of authenticity                                                                                                                                                   </td><td>Complete with certificate of authenticity                                                                                                                                                   </td><td>Complete with certificate of authenticity                                                                                                                                         </td><td>complete with certificate of authenticity                                                                                                                                         </td></tr>\n",
       "\t<tr><th scope=row>6</th><td>5</td><td>Bundled items requested for Ruie</td><td>3</td><td>Women/Other/Other                                 </td><td>      </td><td>59</td><td>0</td><td>Banana republic bottoms, Candies skirt with matching blazer,Amy Byers suit, Loft bottoms and cami top.                                                                                      </td><td>Banana republic bottoms  Candies skirt with matching blazer Amy Byers suit  Loft bottoms and cami top                                                                                       </td><td>Banana republic bottom candy skirt with match blazer Amy Byers suit Loft bottom and cami top                                                                                      </td><td>banana republic bottom candy skirt with match blazer amy byers suit loft bottom and cami top                                                                                      </td></tr>\n",
       "</tbody>\n",
       "</table>\n"
      ],
      "text/latex": [
       "A data.frame: 5 × 11\n",
       "\\begin{tabular}{r|lllllllllll}\n",
       "  & train\\_id & name & item\\_condition\\_id & category\\_name & brand\\_name & price & shipping & item\\_description & description & clean\\_description & lower\\_clean\\_description\\\\\n",
       "  & <int> & <chr> & <int> & <chr> & <chr> & <dbl> & <int> & <chr> & <chr> & <chr> & <chr>\\\\\n",
       "\\hline\n",
       "\t2 & 1 & Razer BlackWidow Chroma Keyboard & 3 & Electronics/Computers \\& Tablets/Components \\& Parts & Razer  & 52 & 0 & This keyboard is in great condition and works like it came out of the box. All of the ports are tested and work perfectly. The lights are customizable via the Razer Synapse app on your PC. & This keyboard is in great condition and works like it came out of the box  All of the ports are tested and work perfectly  The lights are customizable via the Razer Synapse app on your PC  & This keyboard be in great condition and work like it come out of the box All of the port be test and work perfectly The light be customizable via the Razer Synapse app on your PC & this keyboard be in great condition and work like it come out of the box all of the port be test and work perfectly the light be customizable via the razer synapse app on your pc\\\\\n",
       "\t3 & 2 & AVA-VIV Blouse                   & 1 & Women/Tops \\& Blouses/Blouse                        & Target & 10 & 1 & Adorable top with a hint of lace and a key hole in the back! The pale pink is a 1X, and I also have a 3X available in white!                                                                 & Adorable top with a hint of lace and a key hole in the back  The pale pink is a 1X  and I also have a 3X available in white                                                                  & Adorable top with a hint of lace and a key hole in the back The pale pink be a 1X and I also have a 3X available in white                                                          & adorable top with a hint of lace and a key hole in the back the pale pink be a 1x and i also have a 3x available in white                                                         \\\\\n",
       "\t4 & 3 & Leather Horse Statues            & 1 & Home/Home DÃ©cor/Home DÃ©cor Accents               &        & 35 & 1 & New with tags. Leather horses. Retail for {[}rm{]} each. Stand about a foot high. They are being sold as a pair. Any questions please ask. Free shipping. Just got out of storage                & New with tags  Leather horses  Retail for  rm  each  Stand about a foot high  They are being sold as a pair  Any questions please ask  Free shipping  Just got out of storage                & New with tag Leather horse Retail for rm each Stand about a foot high They be be sell as a pair Any question please ask Free ship Just get out of storage                          & new with tag leather horse retail for rm each stand about a foot high they be be sell as a pair any question please ask free ship just get out of storage                         \\\\\n",
       "\t5 & 4 & 24K GOLD plated rose             & 1 & Women/Jewelry/Necklaces                            &        & 44 & 0 & Complete with certificate of authenticity                                                                                                                                                    & Complete with certificate of authenticity                                                                                                                                                    & Complete with certificate of authenticity                                                                                                                                          & complete with certificate of authenticity                                                                                                                                         \\\\\n",
       "\t6 & 5 & Bundled items requested for Ruie & 3 & Women/Other/Other                                  &        & 59 & 0 & Banana republic bottoms, Candies skirt with matching blazer,Amy Byers suit, Loft bottoms and cami top.                                                                                       & Banana republic bottoms  Candies skirt with matching blazer Amy Byers suit  Loft bottoms and cami top                                                                                        & Banana republic bottom candy skirt with match blazer Amy Byers suit Loft bottom and cami top                                                                                       & banana republic bottom candy skirt with match blazer amy byers suit loft bottom and cami top                                                                                      \\\\\n",
       "\\end{tabular}\n"
      ],
      "text/markdown": [
       "\n",
       "A data.frame: 5 × 11\n",
       "\n",
       "| <!--/--> | train_id &lt;int&gt; | name &lt;chr&gt; | item_condition_id &lt;int&gt; | category_name &lt;chr&gt; | brand_name &lt;chr&gt; | price &lt;dbl&gt; | shipping &lt;int&gt; | item_description &lt;chr&gt; | description &lt;chr&gt; | clean_description &lt;chr&gt; | lower_clean_description &lt;chr&gt; |\n",
       "|---|---|---|---|---|---|---|---|---|---|---|---|\n",
       "| 2 | 1 | Razer BlackWidow Chroma Keyboard | 3 | Electronics/Computers &amp; Tablets/Components &amp; Parts | Razer  | 52 | 0 | This keyboard is in great condition and works like it came out of the box. All of the ports are tested and work perfectly. The lights are customizable via the Razer Synapse app on your PC. | This keyboard is in great condition and works like it came out of the box  All of the ports are tested and work perfectly  The lights are customizable via the Razer Synapse app on your PC  | This keyboard be in great condition and work like it come out of the box All of the port be test and work perfectly The light be customizable via the Razer Synapse app on your PC | this keyboard be in great condition and work like it come out of the box all of the port be test and work perfectly the light be customizable via the razer synapse app on your pc |\n",
       "| 3 | 2 | AVA-VIV Blouse                   | 1 | Women/Tops &amp; Blouses/Blouse                        | Target | 10 | 1 | Adorable top with a hint of lace and a key hole in the back! The pale pink is a 1X, and I also have a 3X available in white!                                                                 | Adorable top with a hint of lace and a key hole in the back  The pale pink is a 1X  and I also have a 3X available in white                                                                  | Adorable top with a hint of lace and a key hole in the back The pale pink be a 1X and I also have a 3X available in white                                                          | adorable top with a hint of lace and a key hole in the back the pale pink be a 1x and i also have a 3x available in white                                                          |\n",
       "| 4 | 3 | Leather Horse Statues            | 1 | Home/Home DÃ©cor/Home DÃ©cor Accents               | <!----> | 35 | 1 | New with tags. Leather horses. Retail for [rm] each. Stand about a foot high. They are being sold as a pair. Any questions please ask. Free shipping. Just got out of storage                | New with tags  Leather horses  Retail for  rm  each  Stand about a foot high  They are being sold as a pair  Any questions please ask  Free shipping  Just got out of storage                | New with tag Leather horse Retail for rm each Stand about a foot high They be be sell as a pair Any question please ask Free ship Just get out of storage                          | new with tag leather horse retail for rm each stand about a foot high they be be sell as a pair any question please ask free ship just get out of storage                          |\n",
       "| 5 | 4 | 24K GOLD plated rose             | 1 | Women/Jewelry/Necklaces                            | <!----> | 44 | 0 | Complete with certificate of authenticity                                                                                                                                                    | Complete with certificate of authenticity                                                                                                                                                    | Complete with certificate of authenticity                                                                                                                                          | complete with certificate of authenticity                                                                                                                                          |\n",
       "| 6 | 5 | Bundled items requested for Ruie | 3 | Women/Other/Other                                  | <!----> | 59 | 0 | Banana republic bottoms, Candies skirt with matching blazer,Amy Byers suit, Loft bottoms and cami top.                                                                                       | Banana republic bottoms  Candies skirt with matching blazer Amy Byers suit  Loft bottoms and cami top                                                                                        | Banana republic bottom candy skirt with match blazer Amy Byers suit Loft bottom and cami top                                                                                       | banana republic bottom candy skirt with match blazer amy byers suit loft bottom and cami top                                                                                       |\n",
       "\n"
      ],
      "text/plain": [
       "  train_id name                             item_condition_id\n",
       "2 1        Razer BlackWidow Chroma Keyboard 3                \n",
       "3 2        AVA-VIV Blouse                   1                \n",
       "4 3        Leather Horse Statues            1                \n",
       "5 4        24K GOLD plated rose             1                \n",
       "6 5        Bundled items requested for Ruie 3                \n",
       "  category_name                                      brand_name price shipping\n",
       "2 Electronics/Computers & Tablets/Components & Parts Razer      52    0       \n",
       "3 Women/Tops & Blouses/Blouse                        Target     10    1       \n",
       "4 Home/Home DÃ©cor/Home DÃ©cor Accents                          35    1       \n",
       "5 Women/Jewelry/Necklaces                                       44    0       \n",
       "6 Women/Other/Other                                             59    0       \n",
       "  item_description                                                                                                                                                                            \n",
       "2 This keyboard is in great condition and works like it came out of the box. All of the ports are tested and work perfectly. The lights are customizable via the Razer Synapse app on your PC.\n",
       "3 Adorable top with a hint of lace and a key hole in the back! The pale pink is a 1X, and I also have a 3X available in white!                                                                \n",
       "4 New with tags. Leather horses. Retail for [rm] each. Stand about a foot high. They are being sold as a pair. Any questions please ask. Free shipping. Just got out of storage               \n",
       "5 Complete with certificate of authenticity                                                                                                                                                   \n",
       "6 Banana republic bottoms, Candies skirt with matching blazer,Amy Byers suit, Loft bottoms and cami top.                                                                                      \n",
       "  description                                                                                                                                                                                 \n",
       "2 This keyboard is in great condition and works like it came out of the box  All of the ports are tested and work perfectly  The lights are customizable via the Razer Synapse app on your PC \n",
       "3 Adorable top with a hint of lace and a key hole in the back  The pale pink is a 1X  and I also have a 3X available in white                                                                 \n",
       "4 New with tags  Leather horses  Retail for  rm  each  Stand about a foot high  They are being sold as a pair  Any questions please ask  Free shipping  Just got out of storage               \n",
       "5 Complete with certificate of authenticity                                                                                                                                                   \n",
       "6 Banana republic bottoms  Candies skirt with matching blazer Amy Byers suit  Loft bottoms and cami top                                                                                       \n",
       "  clean_description                                                                                                                                                                 \n",
       "2 This keyboard be in great condition and work like it come out of the box All of the port be test and work perfectly The light be customizable via the Razer Synapse app on your PC\n",
       "3 Adorable top with a hint of lace and a key hole in the back The pale pink be a 1X and I also have a 3X available in white                                                         \n",
       "4 New with tag Leather horse Retail for rm each Stand about a foot high They be be sell as a pair Any question please ask Free ship Just get out of storage                         \n",
       "5 Complete with certificate of authenticity                                                                                                                                         \n",
       "6 Banana republic bottom candy skirt with match blazer Amy Byers suit Loft bottom and cami top                                                                                      \n",
       "  lower_clean_description                                                                                                                                                           \n",
       "2 this keyboard be in great condition and work like it come out of the box all of the port be test and work perfectly the light be customizable via the razer synapse app on your pc\n",
       "3 adorable top with a hint of lace and a key hole in the back the pale pink be a 1x and i also have a 3x available in white                                                         \n",
       "4 new with tag leather horse retail for rm each stand about a foot high they be be sell as a pair any question please ask free ship just get out of storage                         \n",
       "5 complete with certificate of authenticity                                                                                                                                         \n",
       "6 banana republic bottom candy skirt with match blazer amy byers suit loft bottom and cami top                                                                                      "
      ]
     },
     "metadata": {},
     "output_type": "display_data"
    }
   ],
   "source": [
    "#Removing the rows which is not having proper description\n",
    "\n",
    "train_df <- subset(train_df, item_description != \"No description yet\")\n",
    "\n",
    "#replace unwanted symbols\n",
    "\n",
    "train_df$description = str_replace_all(train_df$item_description, \"[[:punct:]]\", \" \")\n",
    "\n",
    "#Lemmatization\n",
    "\n",
    "train_df$clean_description = lemmatize_strings(train_df$description)\n",
    "\n",
    "# Making all the text lower case\n",
    "\n",
    "train_df$lower_clean_description = tolower(train_df$clean_description)\n",
    "head(train_df,5)\n"
   ]
  },
  {
   "cell_type": "code",
   "execution_count": null,
   "id": "e57d6041",
   "metadata": {},
   "outputs": [
    {
     "data": {
      "text/plain": [
       "[1] \"2021-12-13 15:14:44 CST\""
      ]
     },
     "metadata": {},
     "output_type": "display_data"
    }
   ],
   "source": [
    "#CountVectorizer\n",
    "cv <- CountVectorizer$new(min_df = 0.7, max_features = 5000, remove_stopwords = TRUE)\n",
    "Sys.time()\n",
    "cv$fit(train_df$lower_clean_description)\n",
    "Sys.time()\n",
    "cv_features = cv$transform(train_df$lower_clean_description)\n"
   ]
  },
  {
   "cell_type": "code",
   "execution_count": 5,
   "id": "d20bf9cd",
   "metadata": {},
   "outputs": [],
   "source": [
    "install.packages(\"superml\")"
   ]
  },
  {
   "cell_type": "code",
   "execution_count": 6,
   "id": "d5f4b38d",
   "metadata": {},
   "outputs": [],
   "source": [
    "train_df= read.csv(file='train.tsv', sep='\\t', header=TRUE)\n",
    "test_df= read.csv(file='test.tsv', sep='\\t', header=TRUE)"
   ]
  },
  {
   "cell_type": "code",
   "execution_count": 9,
   "id": "35a1f52e",
   "metadata": {},
   "outputs": [
    {
     "data": {
      "text/html": [
       "<table class=\"dataframe\">\n",
       "<caption>A data.frame: 6 × 8</caption>\n",
       "<thead>\n",
       "\t<tr><th></th><th scope=col>train_id</th><th scope=col>name</th><th scope=col>item_condition_id</th><th scope=col>category_name</th><th scope=col>brand_name</th><th scope=col>price</th><th scope=col>shipping</th><th scope=col>item_description</th></tr>\n",
       "\t<tr><th></th><th scope=col>&lt;int&gt;</th><th scope=col>&lt;chr&gt;</th><th scope=col>&lt;int&gt;</th><th scope=col>&lt;chr&gt;</th><th scope=col>&lt;chr&gt;</th><th scope=col>&lt;dbl&gt;</th><th scope=col>&lt;int&gt;</th><th scope=col>&lt;chr&gt;</th></tr>\n",
       "</thead>\n",
       "<tbody>\n",
       "\t<tr><th scope=row>1</th><td>0</td><td>MLB Cincinnati Reds T Shirt Size XL</td><td>3</td><td>Men/Tops/T-shirts                                 </td><td>      </td><td>10</td><td>1</td><td>No description yet                                                                                                                                                                          </td></tr>\n",
       "\t<tr><th scope=row>2</th><td>1</td><td><span style=white-space:pre-wrap>Razer BlackWidow Chroma Keyboard   </span></td><td>3</td><td>Electronics/Computers &amp; Tablets/Components &amp; Parts</td><td>Razer </td><td>52</td><td>0</td><td>This keyboard is in great condition and works like it came out of the box. All of the ports are tested and work perfectly. The lights are customizable via the Razer Synapse app on your PC.</td></tr>\n",
       "\t<tr><th scope=row>3</th><td>2</td><td><span style=white-space:pre-wrap>AVA-VIV Blouse                     </span></td><td>1</td><td><span style=white-space:pre-wrap>Women/Tops &amp; Blouses/Blouse                       </span></td><td>Target</td><td>10</td><td>1</td><td><span style=white-space:pre-wrap>Adorable top with a hint of lace and a key hole in the back! The pale pink is a 1X, and I also have a 3X available in white!                                                                </span></td></tr>\n",
       "\t<tr><th scope=row>4</th><td>3</td><td>Leather Horse Statues              </td><td>1</td><td>Home/Home DÃ©cor/Home DÃ©cor Accents              </td><td>      </td><td>35</td><td>1</td><td>New with tags. Leather horses. Retail for [rm] each. Stand about a foot high. They are being sold as a pair. Any questions please ask. Free shipping. Just got out of storage               </td></tr>\n",
       "\t<tr><th scope=row>5</th><td>4</td><td>24K GOLD plated rose               </td><td>1</td><td>Women/Jewelry/Necklaces                           </td><td>      </td><td>44</td><td>0</td><td>Complete with certificate of authenticity                                                                                                                                                   </td></tr>\n",
       "\t<tr><th scope=row>6</th><td>5</td><td>Bundled items requested for Ruie   </td><td>3</td><td>Women/Other/Other                                 </td><td>      </td><td>59</td><td>0</td><td>Banana republic bottoms, Candies skirt with matching blazer,Amy Byers suit, Loft bottoms and cami top.                                                                                      </td></tr>\n",
       "</tbody>\n",
       "</table>\n"
      ],
      "text/latex": [
       "A data.frame: 6 × 8\n",
       "\\begin{tabular}{r|llllllll}\n",
       "  & train\\_id & name & item\\_condition\\_id & category\\_name & brand\\_name & price & shipping & item\\_description\\\\\n",
       "  & <int> & <chr> & <int> & <chr> & <chr> & <dbl> & <int> & <chr>\\\\\n",
       "\\hline\n",
       "\t1 & 0 & MLB Cincinnati Reds T Shirt Size XL & 3 & Men/Tops/T-shirts                                  &        & 10 & 1 & No description yet                                                                                                                                                                          \\\\\n",
       "\t2 & 1 & Razer BlackWidow Chroma Keyboard    & 3 & Electronics/Computers \\& Tablets/Components \\& Parts & Razer  & 52 & 0 & This keyboard is in great condition and works like it came out of the box. All of the ports are tested and work perfectly. The lights are customizable via the Razer Synapse app on your PC.\\\\\n",
       "\t3 & 2 & AVA-VIV Blouse                      & 1 & Women/Tops \\& Blouses/Blouse                        & Target & 10 & 1 & Adorable top with a hint of lace and a key hole in the back! The pale pink is a 1X, and I also have a 3X available in white!                                                                \\\\\n",
       "\t4 & 3 & Leather Horse Statues               & 1 & Home/Home DÃ©cor/Home DÃ©cor Accents               &        & 35 & 1 & New with tags. Leather horses. Retail for {[}rm{]} each. Stand about a foot high. They are being sold as a pair. Any questions please ask. Free shipping. Just got out of storage               \\\\\n",
       "\t5 & 4 & 24K GOLD plated rose                & 1 & Women/Jewelry/Necklaces                            &        & 44 & 0 & Complete with certificate of authenticity                                                                                                                                                   \\\\\n",
       "\t6 & 5 & Bundled items requested for Ruie    & 3 & Women/Other/Other                                  &        & 59 & 0 & Banana republic bottoms, Candies skirt with matching blazer,Amy Byers suit, Loft bottoms and cami top.                                                                                      \\\\\n",
       "\\end{tabular}\n"
      ],
      "text/markdown": [
       "\n",
       "A data.frame: 6 × 8\n",
       "\n",
       "| <!--/--> | train_id &lt;int&gt; | name &lt;chr&gt; | item_condition_id &lt;int&gt; | category_name &lt;chr&gt; | brand_name &lt;chr&gt; | price &lt;dbl&gt; | shipping &lt;int&gt; | item_description &lt;chr&gt; |\n",
       "|---|---|---|---|---|---|---|---|---|\n",
       "| 1 | 0 | MLB Cincinnati Reds T Shirt Size XL | 3 | Men/Tops/T-shirts                                  | <!----> | 10 | 1 | No description yet                                                                                                                                                                           |\n",
       "| 2 | 1 | Razer BlackWidow Chroma Keyboard    | 3 | Electronics/Computers &amp; Tablets/Components &amp; Parts | Razer  | 52 | 0 | This keyboard is in great condition and works like it came out of the box. All of the ports are tested and work perfectly. The lights are customizable via the Razer Synapse app on your PC. |\n",
       "| 3 | 2 | AVA-VIV Blouse                      | 1 | Women/Tops &amp; Blouses/Blouse                        | Target | 10 | 1 | Adorable top with a hint of lace and a key hole in the back! The pale pink is a 1X, and I also have a 3X available in white!                                                                 |\n",
       "| 4 | 3 | Leather Horse Statues               | 1 | Home/Home DÃ©cor/Home DÃ©cor Accents               | <!----> | 35 | 1 | New with tags. Leather horses. Retail for [rm] each. Stand about a foot high. They are being sold as a pair. Any questions please ask. Free shipping. Just got out of storage                |\n",
       "| 5 | 4 | 24K GOLD plated rose                | 1 | Women/Jewelry/Necklaces                            | <!----> | 44 | 0 | Complete with certificate of authenticity                                                                                                                                                    |\n",
       "| 6 | 5 | Bundled items requested for Ruie    | 3 | Women/Other/Other                                  | <!----> | 59 | 0 | Banana republic bottoms, Candies skirt with matching blazer,Amy Byers suit, Loft bottoms and cami top.                                                                                       |\n",
       "\n"
      ],
      "text/plain": [
       "  train_id name                                item_condition_id\n",
       "1 0        MLB Cincinnati Reds T Shirt Size XL 3                \n",
       "2 1        Razer BlackWidow Chroma Keyboard    3                \n",
       "3 2        AVA-VIV Blouse                      1                \n",
       "4 3        Leather Horse Statues               1                \n",
       "5 4        24K GOLD plated rose                1                \n",
       "6 5        Bundled items requested for Ruie    3                \n",
       "  category_name                                      brand_name price shipping\n",
       "1 Men/Tops/T-shirts                                             10    1       \n",
       "2 Electronics/Computers & Tablets/Components & Parts Razer      52    0       \n",
       "3 Women/Tops & Blouses/Blouse                        Target     10    1       \n",
       "4 Home/Home DÃ©cor/Home DÃ©cor Accents                          35    1       \n",
       "5 Women/Jewelry/Necklaces                                       44    0       \n",
       "6 Women/Other/Other                                             59    0       \n",
       "  item_description                                                                                                                                                                            \n",
       "1 No description yet                                                                                                                                                                          \n",
       "2 This keyboard is in great condition and works like it came out of the box. All of the ports are tested and work perfectly. The lights are customizable via the Razer Synapse app on your PC.\n",
       "3 Adorable top with a hint of lace and a key hole in the back! The pale pink is a 1X, and I also have a 3X available in white!                                                                \n",
       "4 New with tags. Leather horses. Retail for [rm] each. Stand about a foot high. They are being sold as a pair. Any questions please ask. Free shipping. Just got out of storage               \n",
       "5 Complete with certificate of authenticity                                                                                                                                                   \n",
       "6 Banana republic bottoms, Candies skirt with matching blazer,Amy Byers suit, Loft bottoms and cami top.                                                                                      "
      ]
     },
     "metadata": {},
     "output_type": "display_data"
    }
   ],
   "source": [
    "head(train_df)"
   ]
  },
  {
   "cell_type": "code",
   "execution_count": 10,
   "id": "e17e125a",
   "metadata": {},
   "outputs": [
    {
     "data": {
      "text/html": [
       "<table class=\"dataframe\">\n",
       "<caption>A data.frame: 6 × 7</caption>\n",
       "<thead>\n",
       "\t<tr><th></th><th scope=col>test_id</th><th scope=col>name</th><th scope=col>item_condition_id</th><th scope=col>category_name</th><th scope=col>brand_name</th><th scope=col>shipping</th><th scope=col>item_description</th></tr>\n",
       "\t<tr><th></th><th scope=col>&lt;int&gt;</th><th scope=col>&lt;chr&gt;</th><th scope=col>&lt;int&gt;</th><th scope=col>&lt;chr&gt;</th><th scope=col>&lt;chr&gt;</th><th scope=col>&lt;int&gt;</th><th scope=col>&lt;chr&gt;</th></tr>\n",
       "</thead>\n",
       "<tbody>\n",
       "\t<tr><th scope=row>1</th><td>0</td><td>Breast cancer \"I fight like a girl\" ring</td><td>1</td><td>Women/Jewelry/Rings                                        </td><td>     </td><td>1</td><td>Size 7                                                                                                                                                                                                                                                     </td></tr>\n",
       "\t<tr><th scope=row>2</th><td>1</td><td>25 pcs NEW 7.5\"x12\" Kraft Bubble Mailers</td><td>1</td><td>Other/Office supplies/Shipping Supplies                    </td><td>     </td><td>1</td><td>25 pcs NEW 7.5\"x12\" Kraft Bubble Mailers Lined with bubble wrap for protection Self Sealing (peel-and-seal), adhesive keeps contents secure and tamper proof Durable and lightweight Kraft material helps save on postage Approved by UPS, FedEx, and USPS.</td></tr>\n",
       "\t<tr><th scope=row>3</th><td>2</td><td><span style=white-space:pre-wrap>Coach bag                               </span></td><td>1</td><td><span style=white-space:pre-wrap>Vintage &amp; Collectibles/Bags and Purses/Handbag             </span></td><td>Coach</td><td>1</td><td><span style=white-space:pre-wrap>Brand new coach bag. Bought for [rm] at a Coach outlet.                                                                                                                                                                                                    </span></td></tr>\n",
       "\t<tr><th scope=row>4</th><td>3</td><td>Floral Kimono                           </td><td>2</td><td>Women/Sweaters/Cardigan                                    </td><td>     </td><td>0</td><td>-floral kimono -never worn -lightweight and perfect for hot weather                                                                                                                                                                                        </td></tr>\n",
       "\t<tr><th scope=row>5</th><td>4</td><td><span style=white-space:pre-wrap>Life after Death                        </span></td><td>3</td><td><span style=white-space:pre-wrap>Other/Books/Religion &amp; Spirituality                        </span></td><td><span style=white-space:pre-wrap>     </span></td><td>1</td><td><span style=white-space:pre-wrap>Rediscovering life after the loss of a loved one by Tony Cooke. Paperback in good condition 2003. â¤ â¤ Bundle and save! â¤ â¤ Book, death, grief, bereavement SHLF.SW.5.15                                                                            </span></td></tr>\n",
       "\t<tr><th scope=row>6</th><td>5</td><td>iPhone 6 Plus or 6s Plus Vodka pink case</td><td>1</td><td>Electronics/Cell Phones &amp; Accessories/Cases, Covers &amp; Skins</td><td><span style=white-space:pre-wrap>     </span></td><td>1</td><td><span style=white-space:pre-wrap>One Absolut Vodka in Pink for iPhone 6 Plus and also fits the 6s Plus iPhone. These are made of a flexible rubber material. Brand new case Also have in 6 and 6s size in pink Size: iPhone 6 Plus and 6s Plus Free shipping                                </span></td></tr>\n",
       "</tbody>\n",
       "</table>\n"
      ],
      "text/latex": [
       "A data.frame: 6 × 7\n",
       "\\begin{tabular}{r|lllllll}\n",
       "  & test\\_id & name & item\\_condition\\_id & category\\_name & brand\\_name & shipping & item\\_description\\\\\n",
       "  & <int> & <chr> & <int> & <chr> & <chr> & <int> & <chr>\\\\\n",
       "\\hline\n",
       "\t1 & 0 & Breast cancer \"I fight like a girl\" ring & 1 & Women/Jewelry/Rings                                         &       & 1 & Size 7                                                                                                                                                                                                                                                     \\\\\n",
       "\t2 & 1 & 25 pcs NEW 7.5\"x12\" Kraft Bubble Mailers & 1 & Other/Office supplies/Shipping Supplies                     &       & 1 & 25 pcs NEW 7.5\"x12\" Kraft Bubble Mailers Lined with bubble wrap for protection Self Sealing (peel-and-seal), adhesive keeps contents secure and tamper proof Durable and lightweight Kraft material helps save on postage Approved by UPS, FedEx, and USPS.\\\\\n",
       "\t3 & 2 & Coach bag                                & 1 & Vintage \\& Collectibles/Bags and Purses/Handbag              & Coach & 1 & Brand new coach bag. Bought for {[}rm{]} at a Coach outlet.                                                                                                                                                                                                    \\\\\n",
       "\t4 & 3 & Floral Kimono                            & 2 & Women/Sweaters/Cardigan                                     &       & 0 & -floral kimono -never worn -lightweight and perfect for hot weather                                                                                                                                                                                        \\\\\n",
       "\t5 & 4 & Life after Death                         & 3 & Other/Books/Religion \\& Spirituality                         &       & 1 & Rediscovering life after the loss of a loved one by Tony Cooke. Paperback in good condition 2003. â¤ â¤ Bundle and save! â¤ â¤ Book, death, grief, bereavement SHLF.SW.5.15                                                                            \\\\\n",
       "\t6 & 5 & iPhone 6 Plus or 6s Plus Vodka pink case & 1 & Electronics/Cell Phones \\& Accessories/Cases, Covers \\& Skins &       & 1 & One Absolut Vodka in Pink for iPhone 6 Plus and also fits the 6s Plus iPhone. These are made of a flexible rubber material. Brand new case Also have in 6 and 6s size in pink Size: iPhone 6 Plus and 6s Plus Free shipping                                \\\\\n",
       "\\end{tabular}\n"
      ],
      "text/markdown": [
       "\n",
       "A data.frame: 6 × 7\n",
       "\n",
       "| <!--/--> | test_id &lt;int&gt; | name &lt;chr&gt; | item_condition_id &lt;int&gt; | category_name &lt;chr&gt; | brand_name &lt;chr&gt; | shipping &lt;int&gt; | item_description &lt;chr&gt; |\n",
       "|---|---|---|---|---|---|---|---|\n",
       "| 1 | 0 | Breast cancer \"I fight like a girl\" ring | 1 | Women/Jewelry/Rings                                         | <!----> | 1 | Size 7                                                                                                                                                                                                                                                      |\n",
       "| 2 | 1 | 25 pcs NEW 7.5\"x12\" Kraft Bubble Mailers | 1 | Other/Office supplies/Shipping Supplies                     | <!----> | 1 | 25 pcs NEW 7.5\"x12\" Kraft Bubble Mailers Lined with bubble wrap for protection Self Sealing (peel-and-seal), adhesive keeps contents secure and tamper proof Durable and lightweight Kraft material helps save on postage Approved by UPS, FedEx, and USPS. |\n",
       "| 3 | 2 | Coach bag                                | 1 | Vintage &amp; Collectibles/Bags and Purses/Handbag              | Coach | 1 | Brand new coach bag. Bought for [rm] at a Coach outlet.                                                                                                                                                                                                     |\n",
       "| 4 | 3 | Floral Kimono                            | 2 | Women/Sweaters/Cardigan                                     | <!----> | 0 | -floral kimono -never worn -lightweight and perfect for hot weather                                                                                                                                                                                         |\n",
       "| 5 | 4 | Life after Death                         | 3 | Other/Books/Religion &amp; Spirituality                         | <!----> | 1 | Rediscovering life after the loss of a loved one by Tony Cooke. Paperback in good condition 2003. â¤ â¤ Bundle and save! â¤ â¤ Book, death, grief, bereavement SHLF.SW.5.15                                                                             |\n",
       "| 6 | 5 | iPhone 6 Plus or 6s Plus Vodka pink case | 1 | Electronics/Cell Phones &amp; Accessories/Cases, Covers &amp; Skins | <!----> | 1 | One Absolut Vodka in Pink for iPhone 6 Plus and also fits the 6s Plus iPhone. These are made of a flexible rubber material. Brand new case Also have in 6 and 6s size in pink Size: iPhone 6 Plus and 6s Plus Free shipping                                 |\n",
       "\n"
      ],
      "text/plain": [
       "  test_id name                                     item_condition_id\n",
       "1 0       Breast cancer \"I fight like a girl\" ring 1                \n",
       "2 1       25 pcs NEW 7.5\"x12\" Kraft Bubble Mailers 1                \n",
       "3 2       Coach bag                                1                \n",
       "4 3       Floral Kimono                            2                \n",
       "5 4       Life after Death                         3                \n",
       "6 5       iPhone 6 Plus or 6s Plus Vodka pink case 1                \n",
       "  category_name                                               brand_name\n",
       "1 Women/Jewelry/Rings                                                   \n",
       "2 Other/Office supplies/Shipping Supplies                               \n",
       "3 Vintage & Collectibles/Bags and Purses/Handbag              Coach     \n",
       "4 Women/Sweaters/Cardigan                                               \n",
       "5 Other/Books/Religion & Spirituality                                   \n",
       "6 Electronics/Cell Phones & Accessories/Cases, Covers & Skins           \n",
       "  shipping\n",
       "1 1       \n",
       "2 1       \n",
       "3 1       \n",
       "4 0       \n",
       "5 1       \n",
       "6 1       \n",
       "  item_description                                                                                                                                                                                                                                           \n",
       "1 Size 7                                                                                                                                                                                                                                                     \n",
       "2 25 pcs NEW 7.5\"x12\" Kraft Bubble Mailers Lined with bubble wrap for protection Self Sealing (peel-and-seal), adhesive keeps contents secure and tamper proof Durable and lightweight Kraft material helps save on postage Approved by UPS, FedEx, and USPS.\n",
       "3 Brand new coach bag. Bought for [rm] at a Coach outlet.                                                                                                                                                                                                    \n",
       "4 -floral kimono -never worn -lightweight and perfect for hot weather                                                                                                                                                                                        \n",
       "5 Rediscovering life after the loss of a loved one by Tony Cooke. Paperback in good condition 2003. â\\235¤ â\\235¤ Bundle and save! â\\235¤ â\\235¤ Book, death, grief, bereavement SHLF.SW.5.15                                                                            \n",
       "6 One Absolut Vodka in Pink for iPhone 6 Plus and also fits the 6s Plus iPhone. These are made of a flexible rubber material. Brand new case Also have in 6 and 6s size in pink Size: iPhone 6 Plus and 6s Plus Free shipping                                "
      ]
     },
     "metadata": {},
     "output_type": "display_data"
    }
   ],
   "source": [
    "head(test_df)"
   ]
  },
  {
   "cell_type": "code",
   "execution_count": 14,
   "id": "ba86159d",
   "metadata": {},
   "outputs": [
    {
     "data": {
      "text/html": [
       "<table class=\"dataframe\">\n",
       "<caption>A data.frame: 5 × 11</caption>\n",
       "<thead>\n",
       "\t<tr><th></th><th scope=col>train_id</th><th scope=col>name</th><th scope=col>item_condition_id</th><th scope=col>category_name</th><th scope=col>brand_name</th><th scope=col>price</th><th scope=col>shipping</th><th scope=col>item_description</th><th scope=col>description</th><th scope=col>clean_description</th><th scope=col>lower_clean_description</th></tr>\n",
       "\t<tr><th></th><th scope=col>&lt;int&gt;</th><th scope=col>&lt;chr&gt;</th><th scope=col>&lt;int&gt;</th><th scope=col>&lt;chr&gt;</th><th scope=col>&lt;chr&gt;</th><th scope=col>&lt;dbl&gt;</th><th scope=col>&lt;int&gt;</th><th scope=col>&lt;chr&gt;</th><th scope=col>&lt;chr&gt;</th><th scope=col>&lt;chr&gt;</th><th scope=col>&lt;chr&gt;</th></tr>\n",
       "</thead>\n",
       "<tbody>\n",
       "\t<tr><th scope=row>2</th><td>1</td><td>Razer BlackWidow Chroma Keyboard</td><td>3</td><td>Electronics/Computers &amp; Tablets/Components &amp; Parts</td><td>Razer </td><td>52</td><td>0</td><td>This keyboard is in great condition and works like it came out of the box. All of the ports are tested and work perfectly. The lights are customizable via the Razer Synapse app on your PC.</td><td><span style=white-space:pre-wrap>This keyboard is in great condition and works like it came out of the box  All of the ports are tested and work perfectly  The lights are customizable via the Razer Synapse app on your PC </span></td><td>This keyboard be in great condition and work like it come out of the box All of the port be test and work perfectly The light be customizable via the Razer Synapse app on your PC</td><td>this keyboard be in great condition and work like it come out of the box all of the port be test and work perfectly the light be customizable via the razer synapse app on your pc</td></tr>\n",
       "\t<tr><th scope=row>3</th><td>2</td><td><span style=white-space:pre-wrap>AVA-VIV Blouse                  </span></td><td>1</td><td><span style=white-space:pre-wrap>Women/Tops &amp; Blouses/Blouse                       </span></td><td>Target</td><td>10</td><td>1</td><td><span style=white-space:pre-wrap>Adorable top with a hint of lace and a key hole in the back! The pale pink is a 1X, and I also have a 3X available in white!                                                                </span></td><td><span style=white-space:pre-wrap>Adorable top with a hint of lace and a key hole in the back  The pale pink is a 1X  and I also have a 3X available in white                                                                 </span></td><td><span style=white-space:pre-wrap>Adorable top with a hint of lace and a key hole in the back The pale pink be a 1X and I also have a 3X available in white                                                         </span></td><td><span style=white-space:pre-wrap>adorable top with a hint of lace and a key hole in the back the pale pink be a 1x and i also have a 3x available in white                                                         </span></td></tr>\n",
       "\t<tr><th scope=row>4</th><td>3</td><td>Leather Horse Statues           </td><td>1</td><td>Home/Home DÃ©cor/Home DÃ©cor Accents              </td><td>      </td><td>35</td><td>1</td><td>New with tags. Leather horses. Retail for [rm] each. Stand about a foot high. They are being sold as a pair. Any questions please ask. Free shipping. Just got out of storage               </td><td>New with tags  Leather horses  Retail for  rm  each  Stand about a foot high  They are being sold as a pair  Any questions please ask  Free shipping  Just got out of storage               </td><td>New with tag Leather horse Retail for rm each Stand about a foot high They be be sell as a pair Any question please ask Free ship Just get out of storage                         </td><td>new with tag leather horse retail for rm each stand about a foot high they be be sell as a pair any question please ask free ship just get out of storage                         </td></tr>\n",
       "\t<tr><th scope=row>5</th><td>4</td><td>24K GOLD plated rose            </td><td>1</td><td>Women/Jewelry/Necklaces                           </td><td>      </td><td>44</td><td>0</td><td>Complete with certificate of authenticity                                                                                                                                                   </td><td>Complete with certificate of authenticity                                                                                                                                                   </td><td>Complete with certificate of authenticity                                                                                                                                         </td><td>complete with certificate of authenticity                                                                                                                                         </td></tr>\n",
       "\t<tr><th scope=row>6</th><td>5</td><td>Bundled items requested for Ruie</td><td>3</td><td>Women/Other/Other                                 </td><td>      </td><td>59</td><td>0</td><td>Banana republic bottoms, Candies skirt with matching blazer,Amy Byers suit, Loft bottoms and cami top.                                                                                      </td><td>Banana republic bottoms  Candies skirt with matching blazer Amy Byers suit  Loft bottoms and cami top                                                                                       </td><td>Banana republic bottom candy skirt with match blazer Amy Byers suit Loft bottom and cami top                                                                                      </td><td>banana republic bottom candy skirt with match blazer amy byers suit loft bottom and cami top                                                                                      </td></tr>\n",
       "</tbody>\n",
       "</table>\n"
      ],
      "text/latex": [
       "A data.frame: 5 × 11\n",
       "\\begin{tabular}{r|lllllllllll}\n",
       "  & train\\_id & name & item\\_condition\\_id & category\\_name & brand\\_name & price & shipping & item\\_description & description & clean\\_description & lower\\_clean\\_description\\\\\n",
       "  & <int> & <chr> & <int> & <chr> & <chr> & <dbl> & <int> & <chr> & <chr> & <chr> & <chr>\\\\\n",
       "\\hline\n",
       "\t2 & 1 & Razer BlackWidow Chroma Keyboard & 3 & Electronics/Computers \\& Tablets/Components \\& Parts & Razer  & 52 & 0 & This keyboard is in great condition and works like it came out of the box. All of the ports are tested and work perfectly. The lights are customizable via the Razer Synapse app on your PC. & This keyboard is in great condition and works like it came out of the box  All of the ports are tested and work perfectly  The lights are customizable via the Razer Synapse app on your PC  & This keyboard be in great condition and work like it come out of the box All of the port be test and work perfectly The light be customizable via the Razer Synapse app on your PC & this keyboard be in great condition and work like it come out of the box all of the port be test and work perfectly the light be customizable via the razer synapse app on your pc\\\\\n",
       "\t3 & 2 & AVA-VIV Blouse                   & 1 & Women/Tops \\& Blouses/Blouse                        & Target & 10 & 1 & Adorable top with a hint of lace and a key hole in the back! The pale pink is a 1X, and I also have a 3X available in white!                                                                 & Adorable top with a hint of lace and a key hole in the back  The pale pink is a 1X  and I also have a 3X available in white                                                                  & Adorable top with a hint of lace and a key hole in the back The pale pink be a 1X and I also have a 3X available in white                                                          & adorable top with a hint of lace and a key hole in the back the pale pink be a 1x and i also have a 3x available in white                                                         \\\\\n",
       "\t4 & 3 & Leather Horse Statues            & 1 & Home/Home DÃ©cor/Home DÃ©cor Accents               &        & 35 & 1 & New with tags. Leather horses. Retail for {[}rm{]} each. Stand about a foot high. They are being sold as a pair. Any questions please ask. Free shipping. Just got out of storage                & New with tags  Leather horses  Retail for  rm  each  Stand about a foot high  They are being sold as a pair  Any questions please ask  Free shipping  Just got out of storage                & New with tag Leather horse Retail for rm each Stand about a foot high They be be sell as a pair Any question please ask Free ship Just get out of storage                          & new with tag leather horse retail for rm each stand about a foot high they be be sell as a pair any question please ask free ship just get out of storage                         \\\\\n",
       "\t5 & 4 & 24K GOLD plated rose             & 1 & Women/Jewelry/Necklaces                            &        & 44 & 0 & Complete with certificate of authenticity                                                                                                                                                    & Complete with certificate of authenticity                                                                                                                                                    & Complete with certificate of authenticity                                                                                                                                          & complete with certificate of authenticity                                                                                                                                         \\\\\n",
       "\t6 & 5 & Bundled items requested for Ruie & 3 & Women/Other/Other                                  &        & 59 & 0 & Banana republic bottoms, Candies skirt with matching blazer,Amy Byers suit, Loft bottoms and cami top.                                                                                       & Banana republic bottoms  Candies skirt with matching blazer Amy Byers suit  Loft bottoms and cami top                                                                                        & Banana republic bottom candy skirt with match blazer Amy Byers suit Loft bottom and cami top                                                                                       & banana republic bottom candy skirt with match blazer amy byers suit loft bottom and cami top                                                                                      \\\\\n",
       "\\end{tabular}\n"
      ],
      "text/markdown": [
       "\n",
       "A data.frame: 5 × 11\n",
       "\n",
       "| <!--/--> | train_id &lt;int&gt; | name &lt;chr&gt; | item_condition_id &lt;int&gt; | category_name &lt;chr&gt; | brand_name &lt;chr&gt; | price &lt;dbl&gt; | shipping &lt;int&gt; | item_description &lt;chr&gt; | description &lt;chr&gt; | clean_description &lt;chr&gt; | lower_clean_description &lt;chr&gt; |\n",
       "|---|---|---|---|---|---|---|---|---|---|---|---|\n",
       "| 2 | 1 | Razer BlackWidow Chroma Keyboard | 3 | Electronics/Computers &amp; Tablets/Components &amp; Parts | Razer  | 52 | 0 | This keyboard is in great condition and works like it came out of the box. All of the ports are tested and work perfectly. The lights are customizable via the Razer Synapse app on your PC. | This keyboard is in great condition and works like it came out of the box  All of the ports are tested and work perfectly  The lights are customizable via the Razer Synapse app on your PC  | This keyboard be in great condition and work like it come out of the box All of the port be test and work perfectly The light be customizable via the Razer Synapse app on your PC | this keyboard be in great condition and work like it come out of the box all of the port be test and work perfectly the light be customizable via the razer synapse app on your pc |\n",
       "| 3 | 2 | AVA-VIV Blouse                   | 1 | Women/Tops &amp; Blouses/Blouse                        | Target | 10 | 1 | Adorable top with a hint of lace and a key hole in the back! The pale pink is a 1X, and I also have a 3X available in white!                                                                 | Adorable top with a hint of lace and a key hole in the back  The pale pink is a 1X  and I also have a 3X available in white                                                                  | Adorable top with a hint of lace and a key hole in the back The pale pink be a 1X and I also have a 3X available in white                                                          | adorable top with a hint of lace and a key hole in the back the pale pink be a 1x and i also have a 3x available in white                                                          |\n",
       "| 4 | 3 | Leather Horse Statues            | 1 | Home/Home DÃ©cor/Home DÃ©cor Accents               | <!----> | 35 | 1 | New with tags. Leather horses. Retail for [rm] each. Stand about a foot high. They are being sold as a pair. Any questions please ask. Free shipping. Just got out of storage                | New with tags  Leather horses  Retail for  rm  each  Stand about a foot high  They are being sold as a pair  Any questions please ask  Free shipping  Just got out of storage                | New with tag Leather horse Retail for rm each Stand about a foot high They be be sell as a pair Any question please ask Free ship Just get out of storage                          | new with tag leather horse retail for rm each stand about a foot high they be be sell as a pair any question please ask free ship just get out of storage                          |\n",
       "| 5 | 4 | 24K GOLD plated rose             | 1 | Women/Jewelry/Necklaces                            | <!----> | 44 | 0 | Complete with certificate of authenticity                                                                                                                                                    | Complete with certificate of authenticity                                                                                                                                                    | Complete with certificate of authenticity                                                                                                                                          | complete with certificate of authenticity                                                                                                                                          |\n",
       "| 6 | 5 | Bundled items requested for Ruie | 3 | Women/Other/Other                                  | <!----> | 59 | 0 | Banana republic bottoms, Candies skirt with matching blazer,Amy Byers suit, Loft bottoms and cami top.                                                                                       | Banana republic bottoms  Candies skirt with matching blazer Amy Byers suit  Loft bottoms and cami top                                                                                        | Banana republic bottom candy skirt with match blazer Amy Byers suit Loft bottom and cami top                                                                                       | banana republic bottom candy skirt with match blazer amy byers suit loft bottom and cami top                                                                                       |\n",
       "\n"
      ],
      "text/plain": [
       "  train_id name                             item_condition_id\n",
       "2 1        Razer BlackWidow Chroma Keyboard 3                \n",
       "3 2        AVA-VIV Blouse                   1                \n",
       "4 3        Leather Horse Statues            1                \n",
       "5 4        24K GOLD plated rose             1                \n",
       "6 5        Bundled items requested for Ruie 3                \n",
       "  category_name                                      brand_name price shipping\n",
       "2 Electronics/Computers & Tablets/Components & Parts Razer      52    0       \n",
       "3 Women/Tops & Blouses/Blouse                        Target     10    1       \n",
       "4 Home/Home DÃ©cor/Home DÃ©cor Accents                          35    1       \n",
       "5 Women/Jewelry/Necklaces                                       44    0       \n",
       "6 Women/Other/Other                                             59    0       \n",
       "  item_description                                                                                                                                                                            \n",
       "2 This keyboard is in great condition and works like it came out of the box. All of the ports are tested and work perfectly. The lights are customizable via the Razer Synapse app on your PC.\n",
       "3 Adorable top with a hint of lace and a key hole in the back! The pale pink is a 1X, and I also have a 3X available in white!                                                                \n",
       "4 New with tags. Leather horses. Retail for [rm] each. Stand about a foot high. They are being sold as a pair. Any questions please ask. Free shipping. Just got out of storage               \n",
       "5 Complete with certificate of authenticity                                                                                                                                                   \n",
       "6 Banana republic bottoms, Candies skirt with matching blazer,Amy Byers suit, Loft bottoms and cami top.                                                                                      \n",
       "  description                                                                                                                                                                                 \n",
       "2 This keyboard is in great condition and works like it came out of the box  All of the ports are tested and work perfectly  The lights are customizable via the Razer Synapse app on your PC \n",
       "3 Adorable top with a hint of lace and a key hole in the back  The pale pink is a 1X  and I also have a 3X available in white                                                                 \n",
       "4 New with tags  Leather horses  Retail for  rm  each  Stand about a foot high  They are being sold as a pair  Any questions please ask  Free shipping  Just got out of storage               \n",
       "5 Complete with certificate of authenticity                                                                                                                                                   \n",
       "6 Banana republic bottoms  Candies skirt with matching blazer Amy Byers suit  Loft bottoms and cami top                                                                                       \n",
       "  clean_description                                                                                                                                                                 \n",
       "2 This keyboard be in great condition and work like it come out of the box All of the port be test and work perfectly The light be customizable via the Razer Synapse app on your PC\n",
       "3 Adorable top with a hint of lace and a key hole in the back The pale pink be a 1X and I also have a 3X available in white                                                         \n",
       "4 New with tag Leather horse Retail for rm each Stand about a foot high They be be sell as a pair Any question please ask Free ship Just get out of storage                         \n",
       "5 Complete with certificate of authenticity                                                                                                                                         \n",
       "6 Banana republic bottom candy skirt with match blazer Amy Byers suit Loft bottom and cami top                                                                                      \n",
       "  lower_clean_description                                                                                                                                                           \n",
       "2 this keyboard be in great condition and work like it come out of the box all of the port be test and work perfectly the light be customizable via the razer synapse app on your pc\n",
       "3 adorable top with a hint of lace and a key hole in the back the pale pink be a 1x and i also have a 3x available in white                                                         \n",
       "4 new with tag leather horse retail for rm each stand about a foot high they be be sell as a pair any question please ask free ship just get out of storage                         \n",
       "5 complete with certificate of authenticity                                                                                                                                         \n",
       "6 banana republic bottom candy skirt with match blazer amy byers suit loft bottom and cami top                                                                                      "
      ]
     },
     "metadata": {},
     "output_type": "display_data"
    }
   ],
   "source": [
    "#Removing the rows which is not having proper description\n",
    "\n",
    "train_df <- subset(train_df, item_description != \"No description yet\")\n",
    "\n",
    "#replace unwanted symbols\n",
    "\n",
    "train_df$description = str_replace_all(train_df$item_description, \"[[:punct:]]\", \" \")\n",
    "\n",
    "#Lemmatization\n",
    "\n",
    "train_df$clean_description = lemmatize_strings(train_df$description)\n",
    "\n",
    "# Making all the text lower case\n",
    "\n",
    "train_df$lower_clean_description = tolower(train_df$clean_description)\n",
    "head(train_df,5)"
   ]
  },
  {
   "cell_type": "code",
   "execution_count": null,
   "id": "1da796c5",
   "metadata": {},
   "outputs": [
    {
     "data": {
      "text/plain": [
       "[1] \"2021-12-16 08:48:59 CST\""
      ]
     },
     "metadata": {},
     "output_type": "display_data"
    }
   ],
   "source": [
    "cv <- CountVectorizer$new(min_df = 0.7, max_features = 5000, remove_stopwords = TRUE)\n",
    "Sys.time()\n",
    "cv$fit(train_df$lower_clean_description)\n",
    "Sys.time()\n",
    "cv_features = cv$transform(train_df$lower_clean_description)\n"
   ]
  },
  {
   "cell_type": "code",
   "execution_count": 16,
   "id": "e6254346",
   "metadata": {},
   "outputs": [],
   "source": [
    "install.packages(\"plyr\")\n",
    "library(\"plyr\")"
   ]
  },
  {
   "cell_type": "code",
   "execution_count": 7,
   "id": "0f33c65b",
   "metadata": {},
   "outputs": [],
   "source": [
    "library(tidyverse)"
   ]
  },
  {
   "cell_type": "code",
   "execution_count": 9,
   "id": "e7d41cd2",
   "metadata": {},
   "outputs": [],
   "source": [
    "train_df= read.csv(file='train.tsv', sep='\\t', header=TRUE)\n",
    "test_df= read.csv(file='test.tsv', sep='\\t', header=TRUE)"
   ]
  },
  {
   "cell_type": "code",
   "execution_count": 11,
   "id": "8257bfdd",
   "metadata": {},
   "outputs": [
    {
     "data": {
      "text/html": [
       "<table class=\"dataframe\">\n",
       "<caption>A data.frame: 6 × 8</caption>\n",
       "<thead>\n",
       "\t<tr><th></th><th scope=col>train_id</th><th scope=col>name</th><th scope=col>item_condition_id</th><th scope=col>category_name</th><th scope=col>brand_name</th><th scope=col>price</th><th scope=col>shipping</th><th scope=col>item_description</th></tr>\n",
       "\t<tr><th></th><th scope=col>&lt;int&gt;</th><th scope=col>&lt;chr&gt;</th><th scope=col>&lt;int&gt;</th><th scope=col>&lt;chr&gt;</th><th scope=col>&lt;chr&gt;</th><th scope=col>&lt;dbl&gt;</th><th scope=col>&lt;int&gt;</th><th scope=col>&lt;chr&gt;</th></tr>\n",
       "</thead>\n",
       "<tbody>\n",
       "\t<tr><th scope=row>1</th><td>0</td><td>MLB Cincinnati Reds T Shirt Size XL</td><td>3</td><td>Men/Tops/T-shirts                                 </td><td>      </td><td>10</td><td>1</td><td>No description yet                                                                                                                                                                          </td></tr>\n",
       "\t<tr><th scope=row>2</th><td>1</td><td><span style=white-space:pre-wrap>Razer BlackWidow Chroma Keyboard   </span></td><td>3</td><td>Electronics/Computers &amp; Tablets/Components &amp; Parts</td><td>Razer </td><td>52</td><td>0</td><td>This keyboard is in great condition and works like it came out of the box. All of the ports are tested and work perfectly. The lights are customizable via the Razer Synapse app on your PC.</td></tr>\n",
       "\t<tr><th scope=row>3</th><td>2</td><td><span style=white-space:pre-wrap>AVA-VIV Blouse                     </span></td><td>1</td><td><span style=white-space:pre-wrap>Women/Tops &amp; Blouses/Blouse                       </span></td><td>Target</td><td>10</td><td>1</td><td><span style=white-space:pre-wrap>Adorable top with a hint of lace and a key hole in the back! The pale pink is a 1X, and I also have a 3X available in white!                                                                </span></td></tr>\n",
       "\t<tr><th scope=row>4</th><td>3</td><td>Leather Horse Statues              </td><td>1</td><td>Home/Home DÃ©cor/Home DÃ©cor Accents              </td><td>      </td><td>35</td><td>1</td><td>New with tags. Leather horses. Retail for [rm] each. Stand about a foot high. They are being sold as a pair. Any questions please ask. Free shipping. Just got out of storage               </td></tr>\n",
       "\t<tr><th scope=row>5</th><td>4</td><td>24K GOLD plated rose               </td><td>1</td><td>Women/Jewelry/Necklaces                           </td><td>      </td><td>44</td><td>0</td><td>Complete with certificate of authenticity                                                                                                                                                   </td></tr>\n",
       "\t<tr><th scope=row>6</th><td>5</td><td>Bundled items requested for Ruie   </td><td>3</td><td>Women/Other/Other                                 </td><td>      </td><td>59</td><td>0</td><td>Banana republic bottoms, Candies skirt with matching blazer,Amy Byers suit, Loft bottoms and cami top.                                                                                      </td></tr>\n",
       "</tbody>\n",
       "</table>\n"
      ],
      "text/latex": [
       "A data.frame: 6 × 8\n",
       "\\begin{tabular}{r|llllllll}\n",
       "  & train\\_id & name & item\\_condition\\_id & category\\_name & brand\\_name & price & shipping & item\\_description\\\\\n",
       "  & <int> & <chr> & <int> & <chr> & <chr> & <dbl> & <int> & <chr>\\\\\n",
       "\\hline\n",
       "\t1 & 0 & MLB Cincinnati Reds T Shirt Size XL & 3 & Men/Tops/T-shirts                                  &        & 10 & 1 & No description yet                                                                                                                                                                          \\\\\n",
       "\t2 & 1 & Razer BlackWidow Chroma Keyboard    & 3 & Electronics/Computers \\& Tablets/Components \\& Parts & Razer  & 52 & 0 & This keyboard is in great condition and works like it came out of the box. All of the ports are tested and work perfectly. The lights are customizable via the Razer Synapse app on your PC.\\\\\n",
       "\t3 & 2 & AVA-VIV Blouse                      & 1 & Women/Tops \\& Blouses/Blouse                        & Target & 10 & 1 & Adorable top with a hint of lace and a key hole in the back! The pale pink is a 1X, and I also have a 3X available in white!                                                                \\\\\n",
       "\t4 & 3 & Leather Horse Statues               & 1 & Home/Home DÃ©cor/Home DÃ©cor Accents               &        & 35 & 1 & New with tags. Leather horses. Retail for {[}rm{]} each. Stand about a foot high. They are being sold as a pair. Any questions please ask. Free shipping. Just got out of storage               \\\\\n",
       "\t5 & 4 & 24K GOLD plated rose                & 1 & Women/Jewelry/Necklaces                            &        & 44 & 0 & Complete with certificate of authenticity                                                                                                                                                   \\\\\n",
       "\t6 & 5 & Bundled items requested for Ruie    & 3 & Women/Other/Other                                  &        & 59 & 0 & Banana republic bottoms, Candies skirt with matching blazer,Amy Byers suit, Loft bottoms and cami top.                                                                                      \\\\\n",
       "\\end{tabular}\n"
      ],
      "text/markdown": [
       "\n",
       "A data.frame: 6 × 8\n",
       "\n",
       "| <!--/--> | train_id &lt;int&gt; | name &lt;chr&gt; | item_condition_id &lt;int&gt; | category_name &lt;chr&gt; | brand_name &lt;chr&gt; | price &lt;dbl&gt; | shipping &lt;int&gt; | item_description &lt;chr&gt; |\n",
       "|---|---|---|---|---|---|---|---|---|\n",
       "| 1 | 0 | MLB Cincinnati Reds T Shirt Size XL | 3 | Men/Tops/T-shirts                                  | <!----> | 10 | 1 | No description yet                                                                                                                                                                           |\n",
       "| 2 | 1 | Razer BlackWidow Chroma Keyboard    | 3 | Electronics/Computers &amp; Tablets/Components &amp; Parts | Razer  | 52 | 0 | This keyboard is in great condition and works like it came out of the box. All of the ports are tested and work perfectly. The lights are customizable via the Razer Synapse app on your PC. |\n",
       "| 3 | 2 | AVA-VIV Blouse                      | 1 | Women/Tops &amp; Blouses/Blouse                        | Target | 10 | 1 | Adorable top with a hint of lace and a key hole in the back! The pale pink is a 1X, and I also have a 3X available in white!                                                                 |\n",
       "| 4 | 3 | Leather Horse Statues               | 1 | Home/Home DÃ©cor/Home DÃ©cor Accents               | <!----> | 35 | 1 | New with tags. Leather horses. Retail for [rm] each. Stand about a foot high. They are being sold as a pair. Any questions please ask. Free shipping. Just got out of storage                |\n",
       "| 5 | 4 | 24K GOLD plated rose                | 1 | Women/Jewelry/Necklaces                            | <!----> | 44 | 0 | Complete with certificate of authenticity                                                                                                                                                    |\n",
       "| 6 | 5 | Bundled items requested for Ruie    | 3 | Women/Other/Other                                  | <!----> | 59 | 0 | Banana republic bottoms, Candies skirt with matching blazer,Amy Byers suit, Loft bottoms and cami top.                                                                                       |\n",
       "\n"
      ],
      "text/plain": [
       "  train_id name                                item_condition_id\n",
       "1 0        MLB Cincinnati Reds T Shirt Size XL 3                \n",
       "2 1        Razer BlackWidow Chroma Keyboard    3                \n",
       "3 2        AVA-VIV Blouse                      1                \n",
       "4 3        Leather Horse Statues               1                \n",
       "5 4        24K GOLD plated rose                1                \n",
       "6 5        Bundled items requested for Ruie    3                \n",
       "  category_name                                      brand_name price shipping\n",
       "1 Men/Tops/T-shirts                                             10    1       \n",
       "2 Electronics/Computers & Tablets/Components & Parts Razer      52    0       \n",
       "3 Women/Tops & Blouses/Blouse                        Target     10    1       \n",
       "4 Home/Home DÃ©cor/Home DÃ©cor Accents                          35    1       \n",
       "5 Women/Jewelry/Necklaces                                       44    0       \n",
       "6 Women/Other/Other                                             59    0       \n",
       "  item_description                                                                                                                                                                            \n",
       "1 No description yet                                                                                                                                                                          \n",
       "2 This keyboard is in great condition and works like it came out of the box. All of the ports are tested and work perfectly. The lights are customizable via the Razer Synapse app on your PC.\n",
       "3 Adorable top with a hint of lace and a key hole in the back! The pale pink is a 1X, and I also have a 3X available in white!                                                                \n",
       "4 New with tags. Leather horses. Retail for [rm] each. Stand about a foot high. They are being sold as a pair. Any questions please ask. Free shipping. Just got out of storage               \n",
       "5 Complete with certificate of authenticity                                                                                                                                                   \n",
       "6 Banana republic bottoms, Candies skirt with matching blazer,Amy Byers suit, Loft bottoms and cami top.                                                                                      "
      ]
     },
     "metadata": {},
     "output_type": "display_data"
    }
   ],
   "source": [
    "head(train_df)"
   ]
  },
  {
   "cell_type": "code",
   "execution_count": 13,
   "id": "446257aa",
   "metadata": {},
   "outputs": [
    {
     "data": {
      "text/html": [
       "<table class=\"dataframe\">\n",
       "<caption>A data.frame: 6 × 7</caption>\n",
       "<thead>\n",
       "\t<tr><th></th><th scope=col>test_id</th><th scope=col>name</th><th scope=col>item_condition_id</th><th scope=col>category_name</th><th scope=col>brand_name</th><th scope=col>shipping</th><th scope=col>item_description</th></tr>\n",
       "\t<tr><th></th><th scope=col>&lt;int&gt;</th><th scope=col>&lt;chr&gt;</th><th scope=col>&lt;int&gt;</th><th scope=col>&lt;chr&gt;</th><th scope=col>&lt;chr&gt;</th><th scope=col>&lt;int&gt;</th><th scope=col>&lt;chr&gt;</th></tr>\n",
       "</thead>\n",
       "<tbody>\n",
       "\t<tr><th scope=row>1</th><td>0</td><td>Breast cancer \"I fight like a girl\" ring</td><td>1</td><td>Women/Jewelry/Rings                                        </td><td>     </td><td>1</td><td>Size 7                                                                                                                                                                                                                                                     </td></tr>\n",
       "\t<tr><th scope=row>2</th><td>1</td><td>25 pcs NEW 7.5\"x12\" Kraft Bubble Mailers</td><td>1</td><td>Other/Office supplies/Shipping Supplies                    </td><td>     </td><td>1</td><td>25 pcs NEW 7.5\"x12\" Kraft Bubble Mailers Lined with bubble wrap for protection Self Sealing (peel-and-seal), adhesive keeps contents secure and tamper proof Durable and lightweight Kraft material helps save on postage Approved by UPS, FedEx, and USPS.</td></tr>\n",
       "\t<tr><th scope=row>3</th><td>2</td><td><span style=white-space:pre-wrap>Coach bag                               </span></td><td>1</td><td><span style=white-space:pre-wrap>Vintage &amp; Collectibles/Bags and Purses/Handbag             </span></td><td>Coach</td><td>1</td><td><span style=white-space:pre-wrap>Brand new coach bag. Bought for [rm] at a Coach outlet.                                                                                                                                                                                                    </span></td></tr>\n",
       "\t<tr><th scope=row>4</th><td>3</td><td>Floral Kimono                           </td><td>2</td><td>Women/Sweaters/Cardigan                                    </td><td>     </td><td>0</td><td>-floral kimono -never worn -lightweight and perfect for hot weather                                                                                                                                                                                        </td></tr>\n",
       "\t<tr><th scope=row>5</th><td>4</td><td><span style=white-space:pre-wrap>Life after Death                        </span></td><td>3</td><td><span style=white-space:pre-wrap>Other/Books/Religion &amp; Spirituality                        </span></td><td><span style=white-space:pre-wrap>     </span></td><td>1</td><td><span style=white-space:pre-wrap>Rediscovering life after the loss of a loved one by Tony Cooke. Paperback in good condition 2003. â¤ â¤ Bundle and save! â¤ â¤ Book, death, grief, bereavement SHLF.SW.5.15                                                                            </span></td></tr>\n",
       "\t<tr><th scope=row>6</th><td>5</td><td>iPhone 6 Plus or 6s Plus Vodka pink case</td><td>1</td><td>Electronics/Cell Phones &amp; Accessories/Cases, Covers &amp; Skins</td><td><span style=white-space:pre-wrap>     </span></td><td>1</td><td><span style=white-space:pre-wrap>One Absolut Vodka in Pink for iPhone 6 Plus and also fits the 6s Plus iPhone. These are made of a flexible rubber material. Brand new case Also have in 6 and 6s size in pink Size: iPhone 6 Plus and 6s Plus Free shipping                                </span></td></tr>\n",
       "</tbody>\n",
       "</table>\n"
      ],
      "text/latex": [
       "A data.frame: 6 × 7\n",
       "\\begin{tabular}{r|lllllll}\n",
       "  & test\\_id & name & item\\_condition\\_id & category\\_name & brand\\_name & shipping & item\\_description\\\\\n",
       "  & <int> & <chr> & <int> & <chr> & <chr> & <int> & <chr>\\\\\n",
       "\\hline\n",
       "\t1 & 0 & Breast cancer \"I fight like a girl\" ring & 1 & Women/Jewelry/Rings                                         &       & 1 & Size 7                                                                                                                                                                                                                                                     \\\\\n",
       "\t2 & 1 & 25 pcs NEW 7.5\"x12\" Kraft Bubble Mailers & 1 & Other/Office supplies/Shipping Supplies                     &       & 1 & 25 pcs NEW 7.5\"x12\" Kraft Bubble Mailers Lined with bubble wrap for protection Self Sealing (peel-and-seal), adhesive keeps contents secure and tamper proof Durable and lightweight Kraft material helps save on postage Approved by UPS, FedEx, and USPS.\\\\\n",
       "\t3 & 2 & Coach bag                                & 1 & Vintage \\& Collectibles/Bags and Purses/Handbag              & Coach & 1 & Brand new coach bag. Bought for {[}rm{]} at a Coach outlet.                                                                                                                                                                                                    \\\\\n",
       "\t4 & 3 & Floral Kimono                            & 2 & Women/Sweaters/Cardigan                                     &       & 0 & -floral kimono -never worn -lightweight and perfect for hot weather                                                                                                                                                                                        \\\\\n",
       "\t5 & 4 & Life after Death                         & 3 & Other/Books/Religion \\& Spirituality                         &       & 1 & Rediscovering life after the loss of a loved one by Tony Cooke. Paperback in good condition 2003. â¤ â¤ Bundle and save! â¤ â¤ Book, death, grief, bereavement SHLF.SW.5.15                                                                            \\\\\n",
       "\t6 & 5 & iPhone 6 Plus or 6s Plus Vodka pink case & 1 & Electronics/Cell Phones \\& Accessories/Cases, Covers \\& Skins &       & 1 & One Absolut Vodka in Pink for iPhone 6 Plus and also fits the 6s Plus iPhone. These are made of a flexible rubber material. Brand new case Also have in 6 and 6s size in pink Size: iPhone 6 Plus and 6s Plus Free shipping                                \\\\\n",
       "\\end{tabular}\n"
      ],
      "text/markdown": [
       "\n",
       "A data.frame: 6 × 7\n",
       "\n",
       "| <!--/--> | test_id &lt;int&gt; | name &lt;chr&gt; | item_condition_id &lt;int&gt; | category_name &lt;chr&gt; | brand_name &lt;chr&gt; | shipping &lt;int&gt; | item_description &lt;chr&gt; |\n",
       "|---|---|---|---|---|---|---|---|\n",
       "| 1 | 0 | Breast cancer \"I fight like a girl\" ring | 1 | Women/Jewelry/Rings                                         | <!----> | 1 | Size 7                                                                                                                                                                                                                                                      |\n",
       "| 2 | 1 | 25 pcs NEW 7.5\"x12\" Kraft Bubble Mailers | 1 | Other/Office supplies/Shipping Supplies                     | <!----> | 1 | 25 pcs NEW 7.5\"x12\" Kraft Bubble Mailers Lined with bubble wrap for protection Self Sealing (peel-and-seal), adhesive keeps contents secure and tamper proof Durable and lightweight Kraft material helps save on postage Approved by UPS, FedEx, and USPS. |\n",
       "| 3 | 2 | Coach bag                                | 1 | Vintage &amp; Collectibles/Bags and Purses/Handbag              | Coach | 1 | Brand new coach bag. Bought for [rm] at a Coach outlet.                                                                                                                                                                                                     |\n",
       "| 4 | 3 | Floral Kimono                            | 2 | Women/Sweaters/Cardigan                                     | <!----> | 0 | -floral kimono -never worn -lightweight and perfect for hot weather                                                                                                                                                                                         |\n",
       "| 5 | 4 | Life after Death                         | 3 | Other/Books/Religion &amp; Spirituality                         | <!----> | 1 | Rediscovering life after the loss of a loved one by Tony Cooke. Paperback in good condition 2003. â¤ â¤ Bundle and save! â¤ â¤ Book, death, grief, bereavement SHLF.SW.5.15                                                                             |\n",
       "| 6 | 5 | iPhone 6 Plus or 6s Plus Vodka pink case | 1 | Electronics/Cell Phones &amp; Accessories/Cases, Covers &amp; Skins | <!----> | 1 | One Absolut Vodka in Pink for iPhone 6 Plus and also fits the 6s Plus iPhone. These are made of a flexible rubber material. Brand new case Also have in 6 and 6s size in pink Size: iPhone 6 Plus and 6s Plus Free shipping                                 |\n",
       "\n"
      ],
      "text/plain": [
       "  test_id name                                     item_condition_id\n",
       "1 0       Breast cancer \"I fight like a girl\" ring 1                \n",
       "2 1       25 pcs NEW 7.5\"x12\" Kraft Bubble Mailers 1                \n",
       "3 2       Coach bag                                1                \n",
       "4 3       Floral Kimono                            2                \n",
       "5 4       Life after Death                         3                \n",
       "6 5       iPhone 6 Plus or 6s Plus Vodka pink case 1                \n",
       "  category_name                                               brand_name\n",
       "1 Women/Jewelry/Rings                                                   \n",
       "2 Other/Office supplies/Shipping Supplies                               \n",
       "3 Vintage & Collectibles/Bags and Purses/Handbag              Coach     \n",
       "4 Women/Sweaters/Cardigan                                               \n",
       "5 Other/Books/Religion & Spirituality                                   \n",
       "6 Electronics/Cell Phones & Accessories/Cases, Covers & Skins           \n",
       "  shipping\n",
       "1 1       \n",
       "2 1       \n",
       "3 1       \n",
       "4 0       \n",
       "5 1       \n",
       "6 1       \n",
       "  item_description                                                                                                                                                                                                                                           \n",
       "1 Size 7                                                                                                                                                                                                                                                     \n",
       "2 25 pcs NEW 7.5\"x12\" Kraft Bubble Mailers Lined with bubble wrap for protection Self Sealing (peel-and-seal), adhesive keeps contents secure and tamper proof Durable and lightweight Kraft material helps save on postage Approved by UPS, FedEx, and USPS.\n",
       "3 Brand new coach bag. Bought for [rm] at a Coach outlet.                                                                                                                                                                                                    \n",
       "4 -floral kimono -never worn -lightweight and perfect for hot weather                                                                                                                                                                                        \n",
       "5 Rediscovering life after the loss of a loved one by Tony Cooke. Paperback in good condition 2003. â\\235¤ â\\235¤ Bundle and save! â\\235¤ â\\235¤ Book, death, grief, bereavement SHLF.SW.5.15                                                                            \n",
       "6 One Absolut Vodka in Pink for iPhone 6 Plus and also fits the 6s Plus iPhone. These are made of a flexible rubber material. Brand new case Also have in 6 and 6s size in pink Size: iPhone 6 Plus and 6s Plus Free shipping                                "
      ]
     },
     "metadata": {},
     "output_type": "display_data"
    }
   ],
   "source": [
    "head(test_df)"
   ]
  },
  {
   "cell_type": "code",
   "execution_count": 15,
   "id": "304b073e",
   "metadata": {},
   "outputs": [
    {
     "data": {
      "text/html": [
       "<table class=\"dataframe\">\n",
       "<caption>A data.frame: 5 × 11</caption>\n",
       "<thead>\n",
       "\t<tr><th></th><th scope=col>train_id</th><th scope=col>name</th><th scope=col>item_condition_id</th><th scope=col>category_name</th><th scope=col>brand_name</th><th scope=col>price</th><th scope=col>shipping</th><th scope=col>item_description</th><th scope=col>description</th><th scope=col>clean_description</th><th scope=col>lower_clean_description</th></tr>\n",
       "\t<tr><th></th><th scope=col>&lt;int&gt;</th><th scope=col>&lt;chr&gt;</th><th scope=col>&lt;int&gt;</th><th scope=col>&lt;chr&gt;</th><th scope=col>&lt;chr&gt;</th><th scope=col>&lt;dbl&gt;</th><th scope=col>&lt;int&gt;</th><th scope=col>&lt;chr&gt;</th><th scope=col>&lt;chr&gt;</th><th scope=col>&lt;chr&gt;</th><th scope=col>&lt;chr&gt;</th></tr>\n",
       "</thead>\n",
       "<tbody>\n",
       "\t<tr><th scope=row>2</th><td>1</td><td>Razer BlackWidow Chroma Keyboard</td><td>3</td><td>Electronics/Computers &amp; Tablets/Components &amp; Parts</td><td>Razer </td><td>52</td><td>0</td><td>This keyboard is in great condition and works like it came out of the box. All of the ports are tested and work perfectly. The lights are customizable via the Razer Synapse app on your PC.</td><td><span style=white-space:pre-wrap>This keyboard is in great condition and works like it came out of the box  All of the ports are tested and work perfectly  The lights are customizable via the Razer Synapse app on your PC </span></td><td>This keyboard be in great condition and work like it come out of the box All of the port be test and work perfectly The light be customizable via the Razer Synapse app on your PC</td><td>this keyboard be in great condition and work like it come out of the box all of the port be test and work perfectly the light be customizable via the razer synapse app on your pc</td></tr>\n",
       "\t<tr><th scope=row>3</th><td>2</td><td><span style=white-space:pre-wrap>AVA-VIV Blouse                  </span></td><td>1</td><td><span style=white-space:pre-wrap>Women/Tops &amp; Blouses/Blouse                       </span></td><td>Target</td><td>10</td><td>1</td><td><span style=white-space:pre-wrap>Adorable top with a hint of lace and a key hole in the back! The pale pink is a 1X, and I also have a 3X available in white!                                                                </span></td><td><span style=white-space:pre-wrap>Adorable top with a hint of lace and a key hole in the back  The pale pink is a 1X  and I also have a 3X available in white                                                                 </span></td><td><span style=white-space:pre-wrap>Adorable top with a hint of lace and a key hole in the back The pale pink be a 1X and I also have a 3X available in white                                                         </span></td><td><span style=white-space:pre-wrap>adorable top with a hint of lace and a key hole in the back the pale pink be a 1x and i also have a 3x available in white                                                         </span></td></tr>\n",
       "\t<tr><th scope=row>4</th><td>3</td><td>Leather Horse Statues           </td><td>1</td><td>Home/Home DÃ©cor/Home DÃ©cor Accents              </td><td>      </td><td>35</td><td>1</td><td>New with tags. Leather horses. Retail for [rm] each. Stand about a foot high. They are being sold as a pair. Any questions please ask. Free shipping. Just got out of storage               </td><td>New with tags  Leather horses  Retail for  rm  each  Stand about a foot high  They are being sold as a pair  Any questions please ask  Free shipping  Just got out of storage               </td><td>New with tag Leather horse Retail for rm each Stand about a foot high They be be sell as a pair Any question please ask Free ship Just get out of storage                         </td><td>new with tag leather horse retail for rm each stand about a foot high they be be sell as a pair any question please ask free ship just get out of storage                         </td></tr>\n",
       "\t<tr><th scope=row>5</th><td>4</td><td>24K GOLD plated rose            </td><td>1</td><td>Women/Jewelry/Necklaces                           </td><td>      </td><td>44</td><td>0</td><td>Complete with certificate of authenticity                                                                                                                                                   </td><td>Complete with certificate of authenticity                                                                                                                                                   </td><td>Complete with certificate of authenticity                                                                                                                                         </td><td>complete with certificate of authenticity                                                                                                                                         </td></tr>\n",
       "\t<tr><th scope=row>6</th><td>5</td><td>Bundled items requested for Ruie</td><td>3</td><td>Women/Other/Other                                 </td><td>      </td><td>59</td><td>0</td><td>Banana republic bottoms, Candies skirt with matching blazer,Amy Byers suit, Loft bottoms and cami top.                                                                                      </td><td>Banana republic bottoms  Candies skirt with matching blazer Amy Byers suit  Loft bottoms and cami top                                                                                       </td><td>Banana republic bottom candy skirt with match blazer Amy Byers suit Loft bottom and cami top                                                                                      </td><td>banana republic bottom candy skirt with match blazer amy byers suit loft bottom and cami top                                                                                      </td></tr>\n",
       "</tbody>\n",
       "</table>\n"
      ],
      "text/latex": [
       "A data.frame: 5 × 11\n",
       "\\begin{tabular}{r|lllllllllll}\n",
       "  & train\\_id & name & item\\_condition\\_id & category\\_name & brand\\_name & price & shipping & item\\_description & description & clean\\_description & lower\\_clean\\_description\\\\\n",
       "  & <int> & <chr> & <int> & <chr> & <chr> & <dbl> & <int> & <chr> & <chr> & <chr> & <chr>\\\\\n",
       "\\hline\n",
       "\t2 & 1 & Razer BlackWidow Chroma Keyboard & 3 & Electronics/Computers \\& Tablets/Components \\& Parts & Razer  & 52 & 0 & This keyboard is in great condition and works like it came out of the box. All of the ports are tested and work perfectly. The lights are customizable via the Razer Synapse app on your PC. & This keyboard is in great condition and works like it came out of the box  All of the ports are tested and work perfectly  The lights are customizable via the Razer Synapse app on your PC  & This keyboard be in great condition and work like it come out of the box All of the port be test and work perfectly The light be customizable via the Razer Synapse app on your PC & this keyboard be in great condition and work like it come out of the box all of the port be test and work perfectly the light be customizable via the razer synapse app on your pc\\\\\n",
       "\t3 & 2 & AVA-VIV Blouse                   & 1 & Women/Tops \\& Blouses/Blouse                        & Target & 10 & 1 & Adorable top with a hint of lace and a key hole in the back! The pale pink is a 1X, and I also have a 3X available in white!                                                                 & Adorable top with a hint of lace and a key hole in the back  The pale pink is a 1X  and I also have a 3X available in white                                                                  & Adorable top with a hint of lace and a key hole in the back The pale pink be a 1X and I also have a 3X available in white                                                          & adorable top with a hint of lace and a key hole in the back the pale pink be a 1x and i also have a 3x available in white                                                         \\\\\n",
       "\t4 & 3 & Leather Horse Statues            & 1 & Home/Home DÃ©cor/Home DÃ©cor Accents               &        & 35 & 1 & New with tags. Leather horses. Retail for {[}rm{]} each. Stand about a foot high. They are being sold as a pair. Any questions please ask. Free shipping. Just got out of storage                & New with tags  Leather horses  Retail for  rm  each  Stand about a foot high  They are being sold as a pair  Any questions please ask  Free shipping  Just got out of storage                & New with tag Leather horse Retail for rm each Stand about a foot high They be be sell as a pair Any question please ask Free ship Just get out of storage                          & new with tag leather horse retail for rm each stand about a foot high they be be sell as a pair any question please ask free ship just get out of storage                         \\\\\n",
       "\t5 & 4 & 24K GOLD plated rose             & 1 & Women/Jewelry/Necklaces                            &        & 44 & 0 & Complete with certificate of authenticity                                                                                                                                                    & Complete with certificate of authenticity                                                                                                                                                    & Complete with certificate of authenticity                                                                                                                                          & complete with certificate of authenticity                                                                                                                                         \\\\\n",
       "\t6 & 5 & Bundled items requested for Ruie & 3 & Women/Other/Other                                  &        & 59 & 0 & Banana republic bottoms, Candies skirt with matching blazer,Amy Byers suit, Loft bottoms and cami top.                                                                                       & Banana republic bottoms  Candies skirt with matching blazer Amy Byers suit  Loft bottoms and cami top                                                                                        & Banana republic bottom candy skirt with match blazer Amy Byers suit Loft bottom and cami top                                                                                       & banana republic bottom candy skirt with match blazer amy byers suit loft bottom and cami top                                                                                      \\\\\n",
       "\\end{tabular}\n"
      ],
      "text/markdown": [
       "\n",
       "A data.frame: 5 × 11\n",
       "\n",
       "| <!--/--> | train_id &lt;int&gt; | name &lt;chr&gt; | item_condition_id &lt;int&gt; | category_name &lt;chr&gt; | brand_name &lt;chr&gt; | price &lt;dbl&gt; | shipping &lt;int&gt; | item_description &lt;chr&gt; | description &lt;chr&gt; | clean_description &lt;chr&gt; | lower_clean_description &lt;chr&gt; |\n",
       "|---|---|---|---|---|---|---|---|---|---|---|---|\n",
       "| 2 | 1 | Razer BlackWidow Chroma Keyboard | 3 | Electronics/Computers &amp; Tablets/Components &amp; Parts | Razer  | 52 | 0 | This keyboard is in great condition and works like it came out of the box. All of the ports are tested and work perfectly. The lights are customizable via the Razer Synapse app on your PC. | This keyboard is in great condition and works like it came out of the box  All of the ports are tested and work perfectly  The lights are customizable via the Razer Synapse app on your PC  | This keyboard be in great condition and work like it come out of the box All of the port be test and work perfectly The light be customizable via the Razer Synapse app on your PC | this keyboard be in great condition and work like it come out of the box all of the port be test and work perfectly the light be customizable via the razer synapse app on your pc |\n",
       "| 3 | 2 | AVA-VIV Blouse                   | 1 | Women/Tops &amp; Blouses/Blouse                        | Target | 10 | 1 | Adorable top with a hint of lace and a key hole in the back! The pale pink is a 1X, and I also have a 3X available in white!                                                                 | Adorable top with a hint of lace and a key hole in the back  The pale pink is a 1X  and I also have a 3X available in white                                                                  | Adorable top with a hint of lace and a key hole in the back The pale pink be a 1X and I also have a 3X available in white                                                          | adorable top with a hint of lace and a key hole in the back the pale pink be a 1x and i also have a 3x available in white                                                          |\n",
       "| 4 | 3 | Leather Horse Statues            | 1 | Home/Home DÃ©cor/Home DÃ©cor Accents               | <!----> | 35 | 1 | New with tags. Leather horses. Retail for [rm] each. Stand about a foot high. They are being sold as a pair. Any questions please ask. Free shipping. Just got out of storage                | New with tags  Leather horses  Retail for  rm  each  Stand about a foot high  They are being sold as a pair  Any questions please ask  Free shipping  Just got out of storage                | New with tag Leather horse Retail for rm each Stand about a foot high They be be sell as a pair Any question please ask Free ship Just get out of storage                          | new with tag leather horse retail for rm each stand about a foot high they be be sell as a pair any question please ask free ship just get out of storage                          |\n",
       "| 5 | 4 | 24K GOLD plated rose             | 1 | Women/Jewelry/Necklaces                            | <!----> | 44 | 0 | Complete with certificate of authenticity                                                                                                                                                    | Complete with certificate of authenticity                                                                                                                                                    | Complete with certificate of authenticity                                                                                                                                          | complete with certificate of authenticity                                                                                                                                          |\n",
       "| 6 | 5 | Bundled items requested for Ruie | 3 | Women/Other/Other                                  | <!----> | 59 | 0 | Banana republic bottoms, Candies skirt with matching blazer,Amy Byers suit, Loft bottoms and cami top.                                                                                       | Banana republic bottoms  Candies skirt with matching blazer Amy Byers suit  Loft bottoms and cami top                                                                                        | Banana republic bottom candy skirt with match blazer Amy Byers suit Loft bottom and cami top                                                                                       | banana republic bottom candy skirt with match blazer amy byers suit loft bottom and cami top                                                                                       |\n",
       "\n"
      ],
      "text/plain": [
       "  train_id name                             item_condition_id\n",
       "2 1        Razer BlackWidow Chroma Keyboard 3                \n",
       "3 2        AVA-VIV Blouse                   1                \n",
       "4 3        Leather Horse Statues            1                \n",
       "5 4        24K GOLD plated rose             1                \n",
       "6 5        Bundled items requested for Ruie 3                \n",
       "  category_name                                      brand_name price shipping\n",
       "2 Electronics/Computers & Tablets/Components & Parts Razer      52    0       \n",
       "3 Women/Tops & Blouses/Blouse                        Target     10    1       \n",
       "4 Home/Home DÃ©cor/Home DÃ©cor Accents                          35    1       \n",
       "5 Women/Jewelry/Necklaces                                       44    0       \n",
       "6 Women/Other/Other                                             59    0       \n",
       "  item_description                                                                                                                                                                            \n",
       "2 This keyboard is in great condition and works like it came out of the box. All of the ports are tested and work perfectly. The lights are customizable via the Razer Synapse app on your PC.\n",
       "3 Adorable top with a hint of lace and a key hole in the back! The pale pink is a 1X, and I also have a 3X available in white!                                                                \n",
       "4 New with tags. Leather horses. Retail for [rm] each. Stand about a foot high. They are being sold as a pair. Any questions please ask. Free shipping. Just got out of storage               \n",
       "5 Complete with certificate of authenticity                                                                                                                                                   \n",
       "6 Banana republic bottoms, Candies skirt with matching blazer,Amy Byers suit, Loft bottoms and cami top.                                                                                      \n",
       "  description                                                                                                                                                                                 \n",
       "2 This keyboard is in great condition and works like it came out of the box  All of the ports are tested and work perfectly  The lights are customizable via the Razer Synapse app on your PC \n",
       "3 Adorable top with a hint of lace and a key hole in the back  The pale pink is a 1X  and I also have a 3X available in white                                                                 \n",
       "4 New with tags  Leather horses  Retail for  rm  each  Stand about a foot high  They are being sold as a pair  Any questions please ask  Free shipping  Just got out of storage               \n",
       "5 Complete with certificate of authenticity                                                                                                                                                   \n",
       "6 Banana republic bottoms  Candies skirt with matching blazer Amy Byers suit  Loft bottoms and cami top                                                                                       \n",
       "  clean_description                                                                                                                                                                 \n",
       "2 This keyboard be in great condition and work like it come out of the box All of the port be test and work perfectly The light be customizable via the Razer Synapse app on your PC\n",
       "3 Adorable top with a hint of lace and a key hole in the back The pale pink be a 1X and I also have a 3X available in white                                                         \n",
       "4 New with tag Leather horse Retail for rm each Stand about a foot high They be be sell as a pair Any question please ask Free ship Just get out of storage                         \n",
       "5 Complete with certificate of authenticity                                                                                                                                         \n",
       "6 Banana republic bottom candy skirt with match blazer Amy Byers suit Loft bottom and cami top                                                                                      \n",
       "  lower_clean_description                                                                                                                                                           \n",
       "2 this keyboard be in great condition and work like it come out of the box all of the port be test and work perfectly the light be customizable via the razer synapse app on your pc\n",
       "3 adorable top with a hint of lace and a key hole in the back the pale pink be a 1x and i also have a 3x available in white                                                         \n",
       "4 new with tag leather horse retail for rm each stand about a foot high they be be sell as a pair any question please ask free ship just get out of storage                         \n",
       "5 complete with certificate of authenticity                                                                                                                                         \n",
       "6 banana republic bottom candy skirt with match blazer amy byers suit loft bottom and cami top                                                                                      "
      ]
     },
     "metadata": {},
     "output_type": "display_data"
    }
   ],
   "source": [
    "#Removing the rows which is not having proper description\n",
    "\n",
    "train_df <- subset(train_df, item_description != \"No description yet\")\n",
    "\n",
    "#replace unwanted symbols\n",
    "\n",
    "train_df$description = str_replace_all(train_df$item_description, \"[[:punct:]]\", \" \")\n",
    "\n",
    "#Lemmatization\n",
    "\n",
    "train_df$clean_description = lemmatize_strings(train_df$description)\n",
    "\n",
    "# Making all the text lower case\n",
    "\n",
    "train_df$lower_clean_description = tolower(train_df$clean_description)\n",
    "head(train_df,5)"
   ]
  },
  {
   "cell_type": "code",
   "execution_count": 5,
   "id": "655318e7",
   "metadata": {},
   "outputs": [],
   "source": [
    "train_df= read.csv(file='train.tsv', sep='\\t', header=TRUE)\n",
    "test_df= read.csv(file='test.tsv', sep='\\t', header=TRUE)"
   ]
  },
  {
   "cell_type": "code",
   "execution_count": 6,
   "id": "3001a944",
   "metadata": {},
   "outputs": [
    {
     "data": {
      "text/html": [
       "<table class=\"dataframe\">\n",
       "<caption>A data.frame: 6 × 8</caption>\n",
       "<thead>\n",
       "\t<tr><th></th><th scope=col>train_id</th><th scope=col>name</th><th scope=col>item_condition_id</th><th scope=col>category_name</th><th scope=col>brand_name</th><th scope=col>price</th><th scope=col>shipping</th><th scope=col>item_description</th></tr>\n",
       "\t<tr><th></th><th scope=col>&lt;int&gt;</th><th scope=col>&lt;chr&gt;</th><th scope=col>&lt;int&gt;</th><th scope=col>&lt;chr&gt;</th><th scope=col>&lt;chr&gt;</th><th scope=col>&lt;dbl&gt;</th><th scope=col>&lt;int&gt;</th><th scope=col>&lt;chr&gt;</th></tr>\n",
       "</thead>\n",
       "<tbody>\n",
       "\t<tr><th scope=row>1</th><td>0</td><td>MLB Cincinnati Reds T Shirt Size XL</td><td>3</td><td>Men/Tops/T-shirts                                 </td><td>      </td><td>10</td><td>1</td><td>No description yet                                                                                                                                                                          </td></tr>\n",
       "\t<tr><th scope=row>2</th><td>1</td><td><span style=white-space:pre-wrap>Razer BlackWidow Chroma Keyboard   </span></td><td>3</td><td>Electronics/Computers &amp; Tablets/Components &amp; Parts</td><td>Razer </td><td>52</td><td>0</td><td>This keyboard is in great condition and works like it came out of the box. All of the ports are tested and work perfectly. The lights are customizable via the Razer Synapse app on your PC.</td></tr>\n",
       "\t<tr><th scope=row>3</th><td>2</td><td><span style=white-space:pre-wrap>AVA-VIV Blouse                     </span></td><td>1</td><td><span style=white-space:pre-wrap>Women/Tops &amp; Blouses/Blouse                       </span></td><td>Target</td><td>10</td><td>1</td><td><span style=white-space:pre-wrap>Adorable top with a hint of lace and a key hole in the back! The pale pink is a 1X, and I also have a 3X available in white!                                                                </span></td></tr>\n",
       "\t<tr><th scope=row>4</th><td>3</td><td>Leather Horse Statues              </td><td>1</td><td>Home/Home DÃ©cor/Home DÃ©cor Accents              </td><td>      </td><td>35</td><td>1</td><td>New with tags. Leather horses. Retail for [rm] each. Stand about a foot high. They are being sold as a pair. Any questions please ask. Free shipping. Just got out of storage               </td></tr>\n",
       "\t<tr><th scope=row>5</th><td>4</td><td>24K GOLD plated rose               </td><td>1</td><td>Women/Jewelry/Necklaces                           </td><td>      </td><td>44</td><td>0</td><td>Complete with certificate of authenticity                                                                                                                                                   </td></tr>\n",
       "\t<tr><th scope=row>6</th><td>5</td><td>Bundled items requested for Ruie   </td><td>3</td><td>Women/Other/Other                                 </td><td>      </td><td>59</td><td>0</td><td>Banana republic bottoms, Candies skirt with matching blazer,Amy Byers suit, Loft bottoms and cami top.                                                                                      </td></tr>\n",
       "</tbody>\n",
       "</table>\n"
      ],
      "text/latex": [
       "A data.frame: 6 × 8\n",
       "\\begin{tabular}{r|llllllll}\n",
       "  & train\\_id & name & item\\_condition\\_id & category\\_name & brand\\_name & price & shipping & item\\_description\\\\\n",
       "  & <int> & <chr> & <int> & <chr> & <chr> & <dbl> & <int> & <chr>\\\\\n",
       "\\hline\n",
       "\t1 & 0 & MLB Cincinnati Reds T Shirt Size XL & 3 & Men/Tops/T-shirts                                  &        & 10 & 1 & No description yet                                                                                                                                                                          \\\\\n",
       "\t2 & 1 & Razer BlackWidow Chroma Keyboard    & 3 & Electronics/Computers \\& Tablets/Components \\& Parts & Razer  & 52 & 0 & This keyboard is in great condition and works like it came out of the box. All of the ports are tested and work perfectly. The lights are customizable via the Razer Synapse app on your PC.\\\\\n",
       "\t3 & 2 & AVA-VIV Blouse                      & 1 & Women/Tops \\& Blouses/Blouse                        & Target & 10 & 1 & Adorable top with a hint of lace and a key hole in the back! The pale pink is a 1X, and I also have a 3X available in white!                                                                \\\\\n",
       "\t4 & 3 & Leather Horse Statues               & 1 & Home/Home DÃ©cor/Home DÃ©cor Accents               &        & 35 & 1 & New with tags. Leather horses. Retail for {[}rm{]} each. Stand about a foot high. They are being sold as a pair. Any questions please ask. Free shipping. Just got out of storage               \\\\\n",
       "\t5 & 4 & 24K GOLD plated rose                & 1 & Women/Jewelry/Necklaces                            &        & 44 & 0 & Complete with certificate of authenticity                                                                                                                                                   \\\\\n",
       "\t6 & 5 & Bundled items requested for Ruie    & 3 & Women/Other/Other                                  &        & 59 & 0 & Banana republic bottoms, Candies skirt with matching blazer,Amy Byers suit, Loft bottoms and cami top.                                                                                      \\\\\n",
       "\\end{tabular}\n"
      ],
      "text/markdown": [
       "\n",
       "A data.frame: 6 × 8\n",
       "\n",
       "| <!--/--> | train_id &lt;int&gt; | name &lt;chr&gt; | item_condition_id &lt;int&gt; | category_name &lt;chr&gt; | brand_name &lt;chr&gt; | price &lt;dbl&gt; | shipping &lt;int&gt; | item_description &lt;chr&gt; |\n",
       "|---|---|---|---|---|---|---|---|---|\n",
       "| 1 | 0 | MLB Cincinnati Reds T Shirt Size XL | 3 | Men/Tops/T-shirts                                  | <!----> | 10 | 1 | No description yet                                                                                                                                                                           |\n",
       "| 2 | 1 | Razer BlackWidow Chroma Keyboard    | 3 | Electronics/Computers &amp; Tablets/Components &amp; Parts | Razer  | 52 | 0 | This keyboard is in great condition and works like it came out of the box. All of the ports are tested and work perfectly. The lights are customizable via the Razer Synapse app on your PC. |\n",
       "| 3 | 2 | AVA-VIV Blouse                      | 1 | Women/Tops &amp; Blouses/Blouse                        | Target | 10 | 1 | Adorable top with a hint of lace and a key hole in the back! The pale pink is a 1X, and I also have a 3X available in white!                                                                 |\n",
       "| 4 | 3 | Leather Horse Statues               | 1 | Home/Home DÃ©cor/Home DÃ©cor Accents               | <!----> | 35 | 1 | New with tags. Leather horses. Retail for [rm] each. Stand about a foot high. They are being sold as a pair. Any questions please ask. Free shipping. Just got out of storage                |\n",
       "| 5 | 4 | 24K GOLD plated rose                | 1 | Women/Jewelry/Necklaces                            | <!----> | 44 | 0 | Complete with certificate of authenticity                                                                                                                                                    |\n",
       "| 6 | 5 | Bundled items requested for Ruie    | 3 | Women/Other/Other                                  | <!----> | 59 | 0 | Banana republic bottoms, Candies skirt with matching blazer,Amy Byers suit, Loft bottoms and cami top.                                                                                       |\n",
       "\n"
      ],
      "text/plain": [
       "  train_id name                                item_condition_id\n",
       "1 0        MLB Cincinnati Reds T Shirt Size XL 3                \n",
       "2 1        Razer BlackWidow Chroma Keyboard    3                \n",
       "3 2        AVA-VIV Blouse                      1                \n",
       "4 3        Leather Horse Statues               1                \n",
       "5 4        24K GOLD plated rose                1                \n",
       "6 5        Bundled items requested for Ruie    3                \n",
       "  category_name                                      brand_name price shipping\n",
       "1 Men/Tops/T-shirts                                             10    1       \n",
       "2 Electronics/Computers & Tablets/Components & Parts Razer      52    0       \n",
       "3 Women/Tops & Blouses/Blouse                        Target     10    1       \n",
       "4 Home/Home DÃ©cor/Home DÃ©cor Accents                          35    1       \n",
       "5 Women/Jewelry/Necklaces                                       44    0       \n",
       "6 Women/Other/Other                                             59    0       \n",
       "  item_description                                                                                                                                                                            \n",
       "1 No description yet                                                                                                                                                                          \n",
       "2 This keyboard is in great condition and works like it came out of the box. All of the ports are tested and work perfectly. The lights are customizable via the Razer Synapse app on your PC.\n",
       "3 Adorable top with a hint of lace and a key hole in the back! The pale pink is a 1X, and I also have a 3X available in white!                                                                \n",
       "4 New with tags. Leather horses. Retail for [rm] each. Stand about a foot high. They are being sold as a pair. Any questions please ask. Free shipping. Just got out of storage               \n",
       "5 Complete with certificate of authenticity                                                                                                                                                   \n",
       "6 Banana republic bottoms, Candies skirt with matching blazer,Amy Byers suit, Loft bottoms and cami top.                                                                                      "
      ]
     },
     "metadata": {},
     "output_type": "display_data"
    }
   ],
   "source": [
    "head(train_df)"
   ]
  },
  {
   "cell_type": "code",
   "execution_count": 7,
   "id": "f46b9a9d",
   "metadata": {},
   "outputs": [
    {
     "data": {
      "text/html": [
       "<table class=\"dataframe\">\n",
       "<caption>A data.frame: 6 × 7</caption>\n",
       "<thead>\n",
       "\t<tr><th></th><th scope=col>test_id</th><th scope=col>name</th><th scope=col>item_condition_id</th><th scope=col>category_name</th><th scope=col>brand_name</th><th scope=col>shipping</th><th scope=col>item_description</th></tr>\n",
       "\t<tr><th></th><th scope=col>&lt;int&gt;</th><th scope=col>&lt;chr&gt;</th><th scope=col>&lt;int&gt;</th><th scope=col>&lt;chr&gt;</th><th scope=col>&lt;chr&gt;</th><th scope=col>&lt;int&gt;</th><th scope=col>&lt;chr&gt;</th></tr>\n",
       "</thead>\n",
       "<tbody>\n",
       "\t<tr><th scope=row>1</th><td>0</td><td>Breast cancer \"I fight like a girl\" ring</td><td>1</td><td>Women/Jewelry/Rings                                        </td><td>     </td><td>1</td><td>Size 7                                                                                                                                                                                                                                                     </td></tr>\n",
       "\t<tr><th scope=row>2</th><td>1</td><td>25 pcs NEW 7.5\"x12\" Kraft Bubble Mailers</td><td>1</td><td>Other/Office supplies/Shipping Supplies                    </td><td>     </td><td>1</td><td>25 pcs NEW 7.5\"x12\" Kraft Bubble Mailers Lined with bubble wrap for protection Self Sealing (peel-and-seal), adhesive keeps contents secure and tamper proof Durable and lightweight Kraft material helps save on postage Approved by UPS, FedEx, and USPS.</td></tr>\n",
       "\t<tr><th scope=row>3</th><td>2</td><td><span style=white-space:pre-wrap>Coach bag                               </span></td><td>1</td><td><span style=white-space:pre-wrap>Vintage &amp; Collectibles/Bags and Purses/Handbag             </span></td><td>Coach</td><td>1</td><td><span style=white-space:pre-wrap>Brand new coach bag. Bought for [rm] at a Coach outlet.                                                                                                                                                                                                    </span></td></tr>\n",
       "\t<tr><th scope=row>4</th><td>3</td><td>Floral Kimono                           </td><td>2</td><td>Women/Sweaters/Cardigan                                    </td><td>     </td><td>0</td><td>-floral kimono -never worn -lightweight and perfect for hot weather                                                                                                                                                                                        </td></tr>\n",
       "\t<tr><th scope=row>5</th><td>4</td><td><span style=white-space:pre-wrap>Life after Death                        </span></td><td>3</td><td><span style=white-space:pre-wrap>Other/Books/Religion &amp; Spirituality                        </span></td><td><span style=white-space:pre-wrap>     </span></td><td>1</td><td><span style=white-space:pre-wrap>Rediscovering life after the loss of a loved one by Tony Cooke. Paperback in good condition 2003. â¤ â¤ Bundle and save! â¤ â¤ Book, death, grief, bereavement SHLF.SW.5.15                                                                            </span></td></tr>\n",
       "\t<tr><th scope=row>6</th><td>5</td><td>iPhone 6 Plus or 6s Plus Vodka pink case</td><td>1</td><td>Electronics/Cell Phones &amp; Accessories/Cases, Covers &amp; Skins</td><td><span style=white-space:pre-wrap>     </span></td><td>1</td><td><span style=white-space:pre-wrap>One Absolut Vodka in Pink for iPhone 6 Plus and also fits the 6s Plus iPhone. These are made of a flexible rubber material. Brand new case Also have in 6 and 6s size in pink Size: iPhone 6 Plus and 6s Plus Free shipping                                </span></td></tr>\n",
       "</tbody>\n",
       "</table>\n"
      ],
      "text/latex": [
       "A data.frame: 6 × 7\n",
       "\\begin{tabular}{r|lllllll}\n",
       "  & test\\_id & name & item\\_condition\\_id & category\\_name & brand\\_name & shipping & item\\_description\\\\\n",
       "  & <int> & <chr> & <int> & <chr> & <chr> & <int> & <chr>\\\\\n",
       "\\hline\n",
       "\t1 & 0 & Breast cancer \"I fight like a girl\" ring & 1 & Women/Jewelry/Rings                                         &       & 1 & Size 7                                                                                                                                                                                                                                                     \\\\\n",
       "\t2 & 1 & 25 pcs NEW 7.5\"x12\" Kraft Bubble Mailers & 1 & Other/Office supplies/Shipping Supplies                     &       & 1 & 25 pcs NEW 7.5\"x12\" Kraft Bubble Mailers Lined with bubble wrap for protection Self Sealing (peel-and-seal), adhesive keeps contents secure and tamper proof Durable and lightweight Kraft material helps save on postage Approved by UPS, FedEx, and USPS.\\\\\n",
       "\t3 & 2 & Coach bag                                & 1 & Vintage \\& Collectibles/Bags and Purses/Handbag              & Coach & 1 & Brand new coach bag. Bought for {[}rm{]} at a Coach outlet.                                                                                                                                                                                                    \\\\\n",
       "\t4 & 3 & Floral Kimono                            & 2 & Women/Sweaters/Cardigan                                     &       & 0 & -floral kimono -never worn -lightweight and perfect for hot weather                                                                                                                                                                                        \\\\\n",
       "\t5 & 4 & Life after Death                         & 3 & Other/Books/Religion \\& Spirituality                         &       & 1 & Rediscovering life after the loss of a loved one by Tony Cooke. Paperback in good condition 2003. â¤ â¤ Bundle and save! â¤ â¤ Book, death, grief, bereavement SHLF.SW.5.15                                                                            \\\\\n",
       "\t6 & 5 & iPhone 6 Plus or 6s Plus Vodka pink case & 1 & Electronics/Cell Phones \\& Accessories/Cases, Covers \\& Skins &       & 1 & One Absolut Vodka in Pink for iPhone 6 Plus and also fits the 6s Plus iPhone. These are made of a flexible rubber material. Brand new case Also have in 6 and 6s size in pink Size: iPhone 6 Plus and 6s Plus Free shipping                                \\\\\n",
       "\\end{tabular}\n"
      ],
      "text/markdown": [
       "\n",
       "A data.frame: 6 × 7\n",
       "\n",
       "| <!--/--> | test_id &lt;int&gt; | name &lt;chr&gt; | item_condition_id &lt;int&gt; | category_name &lt;chr&gt; | brand_name &lt;chr&gt; | shipping &lt;int&gt; | item_description &lt;chr&gt; |\n",
       "|---|---|---|---|---|---|---|---|\n",
       "| 1 | 0 | Breast cancer \"I fight like a girl\" ring | 1 | Women/Jewelry/Rings                                         | <!----> | 1 | Size 7                                                                                                                                                                                                                                                      |\n",
       "| 2 | 1 | 25 pcs NEW 7.5\"x12\" Kraft Bubble Mailers | 1 | Other/Office supplies/Shipping Supplies                     | <!----> | 1 | 25 pcs NEW 7.5\"x12\" Kraft Bubble Mailers Lined with bubble wrap for protection Self Sealing (peel-and-seal), adhesive keeps contents secure and tamper proof Durable and lightweight Kraft material helps save on postage Approved by UPS, FedEx, and USPS. |\n",
       "| 3 | 2 | Coach bag                                | 1 | Vintage &amp; Collectibles/Bags and Purses/Handbag              | Coach | 1 | Brand new coach bag. Bought for [rm] at a Coach outlet.                                                                                                                                                                                                     |\n",
       "| 4 | 3 | Floral Kimono                            | 2 | Women/Sweaters/Cardigan                                     | <!----> | 0 | -floral kimono -never worn -lightweight and perfect for hot weather                                                                                                                                                                                         |\n",
       "| 5 | 4 | Life after Death                         | 3 | Other/Books/Religion &amp; Spirituality                         | <!----> | 1 | Rediscovering life after the loss of a loved one by Tony Cooke. Paperback in good condition 2003. â¤ â¤ Bundle and save! â¤ â¤ Book, death, grief, bereavement SHLF.SW.5.15                                                                             |\n",
       "| 6 | 5 | iPhone 6 Plus or 6s Plus Vodka pink case | 1 | Electronics/Cell Phones &amp; Accessories/Cases, Covers &amp; Skins | <!----> | 1 | One Absolut Vodka in Pink for iPhone 6 Plus and also fits the 6s Plus iPhone. These are made of a flexible rubber material. Brand new case Also have in 6 and 6s size in pink Size: iPhone 6 Plus and 6s Plus Free shipping                                 |\n",
       "\n"
      ],
      "text/plain": [
       "  test_id name                                     item_condition_id\n",
       "1 0       Breast cancer \"I fight like a girl\" ring 1                \n",
       "2 1       25 pcs NEW 7.5\"x12\" Kraft Bubble Mailers 1                \n",
       "3 2       Coach bag                                1                \n",
       "4 3       Floral Kimono                            2                \n",
       "5 4       Life after Death                         3                \n",
       "6 5       iPhone 6 Plus or 6s Plus Vodka pink case 1                \n",
       "  category_name                                               brand_name\n",
       "1 Women/Jewelry/Rings                                                   \n",
       "2 Other/Office supplies/Shipping Supplies                               \n",
       "3 Vintage & Collectibles/Bags and Purses/Handbag              Coach     \n",
       "4 Women/Sweaters/Cardigan                                               \n",
       "5 Other/Books/Religion & Spirituality                                   \n",
       "6 Electronics/Cell Phones & Accessories/Cases, Covers & Skins           \n",
       "  shipping\n",
       "1 1       \n",
       "2 1       \n",
       "3 1       \n",
       "4 0       \n",
       "5 1       \n",
       "6 1       \n",
       "  item_description                                                                                                                                                                                                                                           \n",
       "1 Size 7                                                                                                                                                                                                                                                     \n",
       "2 25 pcs NEW 7.5\"x12\" Kraft Bubble Mailers Lined with bubble wrap for protection Self Sealing (peel-and-seal), adhesive keeps contents secure and tamper proof Durable and lightweight Kraft material helps save on postage Approved by UPS, FedEx, and USPS.\n",
       "3 Brand new coach bag. Bought for [rm] at a Coach outlet.                                                                                                                                                                                                    \n",
       "4 -floral kimono -never worn -lightweight and perfect for hot weather                                                                                                                                                                                        \n",
       "5 Rediscovering life after the loss of a loved one by Tony Cooke. Paperback in good condition 2003. â\\235¤ â\\235¤ Bundle and save! â\\235¤ â\\235¤ Book, death, grief, bereavement SHLF.SW.5.15                                                                            \n",
       "6 One Absolut Vodka in Pink for iPhone 6 Plus and also fits the 6s Plus iPhone. These are made of a flexible rubber material. Brand new case Also have in 6 and 6s size in pink Size: iPhone 6 Plus and 6s Plus Free shipping                                "
      ]
     },
     "metadata": {},
     "output_type": "display_data"
    }
   ],
   "source": [
    "head(test_df)"
   ]
  },
  {
   "cell_type": "code",
   "execution_count": 9,
   "id": "6368a04a",
   "metadata": {},
   "outputs": [
    {
     "data": {
      "text/html": [
       "<table class=\"dataframe\">\n",
       "<caption>A data.frame: 6 × 11</caption>\n",
       "<thead>\n",
       "\t<tr><th></th><th scope=col>train_id</th><th scope=col>name</th><th scope=col>item_condition_id</th><th scope=col>main_category</th><th scope=col>subcat_1</th><th scope=col>subcat_2</th><th scope=col>brand_name</th><th scope=col>price</th><th scope=col>shipping</th><th scope=col>item_description</th><th scope=col>category_name</th></tr>\n",
       "\t<tr><th></th><th scope=col>&lt;int&gt;</th><th scope=col>&lt;chr&gt;</th><th scope=col>&lt;int&gt;</th><th scope=col>&lt;chr&gt;</th><th scope=col>&lt;chr&gt;</th><th scope=col>&lt;chr&gt;</th><th scope=col>&lt;chr&gt;</th><th scope=col>&lt;dbl&gt;</th><th scope=col>&lt;int&gt;</th><th scope=col>&lt;chr&gt;</th><th scope=col>&lt;chr&gt;</th></tr>\n",
       "</thead>\n",
       "<tbody>\n",
       "\t<tr><th scope=row>1</th><td>0</td><td>MLB Cincinnati Reds T Shirt Size XL</td><td>3</td><td>Men        </td><td>Tops               </td><td>T-shirts           </td><td>      </td><td>10</td><td>1</td><td>No description yet                                                                                                                                                                          </td><td>Men/Tops/T-shirts                                 </td></tr>\n",
       "\t<tr><th scope=row>2</th><td>1</td><td><span style=white-space:pre-wrap>Razer BlackWidow Chroma Keyboard   </span></td><td>3</td><td>Electronics</td><td>Computers &amp; Tablets</td><td>Components &amp; Parts </td><td>Razer </td><td>52</td><td>0</td><td>This keyboard is in great condition and works like it came out of the box. All of the ports are tested and work perfectly. The lights are customizable via the Razer Synapse app on your PC.</td><td>Electronics/Computers &amp; Tablets/Components &amp; Parts</td></tr>\n",
       "\t<tr><th scope=row>3</th><td>2</td><td><span style=white-space:pre-wrap>AVA-VIV Blouse                     </span></td><td>1</td><td><span style=white-space:pre-wrap>Women      </span></td><td><span style=white-space:pre-wrap>Tops &amp; Blouses     </span></td><td><span style=white-space:pre-wrap>Blouse             </span></td><td>Target</td><td>10</td><td>1</td><td><span style=white-space:pre-wrap>Adorable top with a hint of lace and a key hole in the back! The pale pink is a 1X, and I also have a 3X available in white!                                                                </span></td><td><span style=white-space:pre-wrap>Women/Tops &amp; Blouses/Blouse                       </span></td></tr>\n",
       "\t<tr><th scope=row>4</th><td>3</td><td>Leather Horse Statues              </td><td>1</td><td>Home       </td><td>Home DÃ©cor        </td><td>Home DÃ©cor Accents</td><td>      </td><td>35</td><td>1</td><td>New with tags. Leather horses. Retail for [rm] each. Stand about a foot high. They are being sold as a pair. Any questions please ask. Free shipping. Just got out of storage               </td><td>Home/Home DÃ©cor/Home DÃ©cor Accents              </td></tr>\n",
       "\t<tr><th scope=row>5</th><td>4</td><td>24K GOLD plated rose               </td><td>1</td><td>Women      </td><td>Jewelry            </td><td>Necklaces          </td><td>      </td><td>44</td><td>0</td><td>Complete with certificate of authenticity                                                                                                                                                   </td><td>Women/Jewelry/Necklaces                           </td></tr>\n",
       "\t<tr><th scope=row>6</th><td>5</td><td>Bundled items requested for Ruie   </td><td>3</td><td>Women      </td><td>Other              </td><td>Other              </td><td>      </td><td>59</td><td>0</td><td>Banana republic bottoms, Candies skirt with matching blazer,Amy Byers suit, Loft bottoms and cami top.                                                                                      </td><td>Women/Other/Other                                 </td></tr>\n",
       "</tbody>\n",
       "</table>\n"
      ],
      "text/latex": [
       "A data.frame: 6 × 11\n",
       "\\begin{tabular}{r|lllllllllll}\n",
       "  & train\\_id & name & item\\_condition\\_id & main\\_category & subcat\\_1 & subcat\\_2 & brand\\_name & price & shipping & item\\_description & category\\_name\\\\\n",
       "  & <int> & <chr> & <int> & <chr> & <chr> & <chr> & <chr> & <dbl> & <int> & <chr> & <chr>\\\\\n",
       "\\hline\n",
       "\t1 & 0 & MLB Cincinnati Reds T Shirt Size XL & 3 & Men         & Tops                & T-shirts            &        & 10 & 1 & No description yet                                                                                                                                                                           & Men/Tops/T-shirts                                 \\\\\n",
       "\t2 & 1 & Razer BlackWidow Chroma Keyboard    & 3 & Electronics & Computers \\& Tablets & Components \\& Parts  & Razer  & 52 & 0 & This keyboard is in great condition and works like it came out of the box. All of the ports are tested and work perfectly. The lights are customizable via the Razer Synapse app on your PC. & Electronics/Computers \\& Tablets/Components \\& Parts\\\\\n",
       "\t3 & 2 & AVA-VIV Blouse                      & 1 & Women       & Tops \\& Blouses      & Blouse              & Target & 10 & 1 & Adorable top with a hint of lace and a key hole in the back! The pale pink is a 1X, and I also have a 3X available in white!                                                                 & Women/Tops \\& Blouses/Blouse                       \\\\\n",
       "\t4 & 3 & Leather Horse Statues               & 1 & Home        & Home DÃ©cor         & Home DÃ©cor Accents &        & 35 & 1 & New with tags. Leather horses. Retail for {[}rm{]} each. Stand about a foot high. They are being sold as a pair. Any questions please ask. Free shipping. Just got out of storage                & Home/Home DÃ©cor/Home DÃ©cor Accents              \\\\\n",
       "\t5 & 4 & 24K GOLD plated rose                & 1 & Women       & Jewelry             & Necklaces           &        & 44 & 0 & Complete with certificate of authenticity                                                                                                                                                    & Women/Jewelry/Necklaces                           \\\\\n",
       "\t6 & 5 & Bundled items requested for Ruie    & 3 & Women       & Other               & Other               &        & 59 & 0 & Banana republic bottoms, Candies skirt with matching blazer,Amy Byers suit, Loft bottoms and cami top.                                                                                       & Women/Other/Other                                 \\\\\n",
       "\\end{tabular}\n"
      ],
      "text/markdown": [
       "\n",
       "A data.frame: 6 × 11\n",
       "\n",
       "| <!--/--> | train_id &lt;int&gt; | name &lt;chr&gt; | item_condition_id &lt;int&gt; | main_category &lt;chr&gt; | subcat_1 &lt;chr&gt; | subcat_2 &lt;chr&gt; | brand_name &lt;chr&gt; | price &lt;dbl&gt; | shipping &lt;int&gt; | item_description &lt;chr&gt; | category_name &lt;chr&gt; |\n",
       "|---|---|---|---|---|---|---|---|---|---|---|---|\n",
       "| 1 | 0 | MLB Cincinnati Reds T Shirt Size XL | 3 | Men         | Tops                | T-shirts            | <!----> | 10 | 1 | No description yet                                                                                                                                                                           | Men/Tops/T-shirts                                  |\n",
       "| 2 | 1 | Razer BlackWidow Chroma Keyboard    | 3 | Electronics | Computers &amp; Tablets | Components &amp; Parts  | Razer  | 52 | 0 | This keyboard is in great condition and works like it came out of the box. All of the ports are tested and work perfectly. The lights are customizable via the Razer Synapse app on your PC. | Electronics/Computers &amp; Tablets/Components &amp; Parts |\n",
       "| 3 | 2 | AVA-VIV Blouse                      | 1 | Women       | Tops &amp; Blouses      | Blouse              | Target | 10 | 1 | Adorable top with a hint of lace and a key hole in the back! The pale pink is a 1X, and I also have a 3X available in white!                                                                 | Women/Tops &amp; Blouses/Blouse                        |\n",
       "| 4 | 3 | Leather Horse Statues               | 1 | Home        | Home DÃ©cor         | Home DÃ©cor Accents | <!----> | 35 | 1 | New with tags. Leather horses. Retail for [rm] each. Stand about a foot high. They are being sold as a pair. Any questions please ask. Free shipping. Just got out of storage                | Home/Home DÃ©cor/Home DÃ©cor Accents               |\n",
       "| 5 | 4 | 24K GOLD plated rose                | 1 | Women       | Jewelry             | Necklaces           | <!----> | 44 | 0 | Complete with certificate of authenticity                                                                                                                                                    | Women/Jewelry/Necklaces                            |\n",
       "| 6 | 5 | Bundled items requested for Ruie    | 3 | Women       | Other               | Other               | <!----> | 59 | 0 | Banana republic bottoms, Candies skirt with matching blazer,Amy Byers suit, Loft bottoms and cami top.                                                                                       | Women/Other/Other                                  |\n",
       "\n"
      ],
      "text/plain": [
       "  train_id name                                item_condition_id main_category\n",
       "1 0        MLB Cincinnati Reds T Shirt Size XL 3                 Men          \n",
       "2 1        Razer BlackWidow Chroma Keyboard    3                 Electronics  \n",
       "3 2        AVA-VIV Blouse                      1                 Women        \n",
       "4 3        Leather Horse Statues               1                 Home         \n",
       "5 4        24K GOLD plated rose                1                 Women        \n",
       "6 5        Bundled items requested for Ruie    3                 Women        \n",
       "  subcat_1            subcat_2            brand_name price shipping\n",
       "1 Tops                T-shirts                       10    1       \n",
       "2 Computers & Tablets Components & Parts  Razer      52    0       \n",
       "3 Tops & Blouses      Blouse              Target     10    1       \n",
       "4 Home DÃ©cor         Home DÃ©cor Accents            35    1       \n",
       "5 Jewelry             Necklaces                      44    0       \n",
       "6 Other               Other                          59    0       \n",
       "  item_description                                                                                                                                                                            \n",
       "1 No description yet                                                                                                                                                                          \n",
       "2 This keyboard is in great condition and works like it came out of the box. All of the ports are tested and work perfectly. The lights are customizable via the Razer Synapse app on your PC.\n",
       "3 Adorable top with a hint of lace and a key hole in the back! The pale pink is a 1X, and I also have a 3X available in white!                                                                \n",
       "4 New with tags. Leather horses. Retail for [rm] each. Stand about a foot high. They are being sold as a pair. Any questions please ask. Free shipping. Just got out of storage               \n",
       "5 Complete with certificate of authenticity                                                                                                                                                   \n",
       "6 Banana republic bottoms, Candies skirt with matching blazer,Amy Byers suit, Loft bottoms and cami top.                                                                                      \n",
       "  category_name                                     \n",
       "1 Men/Tops/T-shirts                                 \n",
       "2 Electronics/Computers & Tablets/Components & Parts\n",
       "3 Women/Tops & Blouses/Blouse                       \n",
       "4 Home/Home DÃ©cor/Home DÃ©cor Accents              \n",
       "5 Women/Jewelry/Necklaces                           \n",
       "6 Women/Other/Other                                 "
      ]
     },
     "metadata": {},
     "output_type": "display_data"
    }
   ],
   "source": [
    "# Lets separate category variable into 3 categories\n",
    "\n",
    "category_name = train_df$category_name\n",
    "train_df = train_df %>% separate(category_name, c (\"main_category\", \"subcat_1\", \"subcat_2\"), sep=\"/\")\n",
    "train_df$category_name = category_name\n",
    "head(train_df)"
   ]
  },
  {
   "cell_type": "code",
   "execution_count": 10,
   "id": "08c616d1",
   "metadata": {},
   "outputs": [
    {
     "name": "stderr",
     "output_type": "stream",
     "text": [
      "The data contains blank values. Imputing them with 'NA' \n",
      "\n",
      "The data contains blank values. Imputing them with 'NA' \n",
      "\n",
      "The data contains NA values. Imputing NA with 'NA' \n",
      "\n",
      "The data contains NA values. Imputing NA with 'NA' \n",
      "\n",
      "The data contains blank values. Imputing them with 'NA' \n",
      "\n",
      "The data contains blank values. Imputing them with 'NA' \n",
      "\n",
      "The data contains NA values. Imputing NA with 'NA' \n",
      "\n",
      "The data contains NA values. Imputing NA with 'NA' \n",
      "\n"
     ]
    },
    {
     "data": {
      "text/html": [
       "<table class=\"dataframe\">\n",
       "<caption>A data.frame: 6 × 15</caption>\n",
       "<thead>\n",
       "\t<tr><th></th><th scope=col>train_id</th><th scope=col>name</th><th scope=col>item_condition_id</th><th scope=col>brand_name</th><th scope=col>price</th><th scope=col>shipping</th><th scope=col>item_description</th><th scope=col>main_category</th><th scope=col>subcat_1</th><th scope=col>subcat_2</th><th scope=col>category_name</th><th scope=col>n_main_category</th><th scope=col>n_brand_name</th><th scope=col>n_subcat_1</th><th scope=col>n_subcat_2</th></tr>\n",
       "\t<tr><th></th><th scope=col>&lt;int&gt;</th><th scope=col>&lt;chr&gt;</th><th scope=col>&lt;int&gt;</th><th scope=col>&lt;chr&gt;</th><th scope=col>&lt;dbl&gt;</th><th scope=col>&lt;int&gt;</th><th scope=col>&lt;chr&gt;</th><th scope=col>&lt;chr&gt;</th><th scope=col>&lt;chr&gt;</th><th scope=col>&lt;chr&gt;</th><th scope=col>&lt;chr&gt;</th><th scope=col>&lt;dbl&gt;</th><th scope=col>&lt;dbl&gt;</th><th scope=col>&lt;dbl&gt;</th><th scope=col>&lt;dbl&gt;</th></tr>\n",
       "</thead>\n",
       "<tbody>\n",
       "\t<tr><th scope=row>1</th><td>0</td><td>MLB Cincinnati Reds T Shirt Size XL</td><td>3</td><td>      </td><td>10</td><td>1</td><td>No description yet                                                                                                                                                                          </td><td>Men        </td><td>Tops               </td><td>T-shirts           </td><td>Men/Tops/T-shirts                                 </td><td>0</td><td>0</td><td>0</td><td>0</td></tr>\n",
       "\t<tr><th scope=row>2</th><td>1</td><td><span style=white-space:pre-wrap>Razer BlackWidow Chroma Keyboard   </span></td><td>3</td><td>Razer </td><td>52</td><td>0</td><td>This keyboard is in great condition and works like it came out of the box. All of the ports are tested and work perfectly. The lights are customizable via the Razer Synapse app on your PC.</td><td>Electronics</td><td>Computers &amp; Tablets</td><td>Components &amp; Parts </td><td>Electronics/Computers &amp; Tablets/Components &amp; Parts</td><td>1</td><td>1</td><td>1</td><td>1</td></tr>\n",
       "\t<tr><th scope=row>3</th><td>2</td><td><span style=white-space:pre-wrap>AVA-VIV Blouse                     </span></td><td>1</td><td>Target</td><td>10</td><td>1</td><td><span style=white-space:pre-wrap>Adorable top with a hint of lace and a key hole in the back! The pale pink is a 1X, and I also have a 3X available in white!                                                                </span></td><td><span style=white-space:pre-wrap>Women      </span></td><td><span style=white-space:pre-wrap>Tops &amp; Blouses     </span></td><td><span style=white-space:pre-wrap>Blouse             </span></td><td><span style=white-space:pre-wrap>Women/Tops &amp; Blouses/Blouse                       </span></td><td>2</td><td>2</td><td>2</td><td>2</td></tr>\n",
       "\t<tr><th scope=row>4</th><td>3</td><td>Leather Horse Statues              </td><td>1</td><td>      </td><td>35</td><td>1</td><td>New with tags. Leather horses. Retail for [rm] each. Stand about a foot high. They are being sold as a pair. Any questions please ask. Free shipping. Just got out of storage               </td><td>Home       </td><td>Home DÃ©cor        </td><td>Home DÃ©cor Accents</td><td>Home/Home DÃ©cor/Home DÃ©cor Accents              </td><td>3</td><td>0</td><td>3</td><td>3</td></tr>\n",
       "\t<tr><th scope=row>5</th><td>4</td><td>24K GOLD plated rose               </td><td>1</td><td>      </td><td>44</td><td>0</td><td>Complete with certificate of authenticity                                                                                                                                                   </td><td>Women      </td><td>Jewelry            </td><td>Necklaces          </td><td>Women/Jewelry/Necklaces                           </td><td>2</td><td>0</td><td>4</td><td>4</td></tr>\n",
       "\t<tr><th scope=row>6</th><td>5</td><td>Bundled items requested for Ruie   </td><td>3</td><td>      </td><td>59</td><td>0</td><td>Banana republic bottoms, Candies skirt with matching blazer,Amy Byers suit, Loft bottoms and cami top.                                                                                      </td><td>Women      </td><td>Other              </td><td>Other              </td><td>Women/Other/Other                                 </td><td>2</td><td>0</td><td>5</td><td>5</td></tr>\n",
       "</tbody>\n",
       "</table>\n"
      ],
      "text/latex": [
       "A data.frame: 6 × 15\n",
       "\\begin{tabular}{r|lllllllllllllll}\n",
       "  & train\\_id & name & item\\_condition\\_id & brand\\_name & price & shipping & item\\_description & main\\_category & subcat\\_1 & subcat\\_2 & category\\_name & n\\_main\\_category & n\\_brand\\_name & n\\_subcat\\_1 & n\\_subcat\\_2\\\\\n",
       "  & <int> & <chr> & <int> & <chr> & <dbl> & <int> & <chr> & <chr> & <chr> & <chr> & <chr> & <dbl> & <dbl> & <dbl> & <dbl>\\\\\n",
       "\\hline\n",
       "\t1 & 0 & MLB Cincinnati Reds T Shirt Size XL & 3 &        & 10 & 1 & No description yet                                                                                                                                                                           & Men         & Tops                & T-shirts            & Men/Tops/T-shirts                                  & 0 & 0 & 0 & 0\\\\\n",
       "\t2 & 1 & Razer BlackWidow Chroma Keyboard    & 3 & Razer  & 52 & 0 & This keyboard is in great condition and works like it came out of the box. All of the ports are tested and work perfectly. The lights are customizable via the Razer Synapse app on your PC. & Electronics & Computers \\& Tablets & Components \\& Parts  & Electronics/Computers \\& Tablets/Components \\& Parts & 1 & 1 & 1 & 1\\\\\n",
       "\t3 & 2 & AVA-VIV Blouse                      & 1 & Target & 10 & 1 & Adorable top with a hint of lace and a key hole in the back! The pale pink is a 1X, and I also have a 3X available in white!                                                                 & Women       & Tops \\& Blouses      & Blouse              & Women/Tops \\& Blouses/Blouse                        & 2 & 2 & 2 & 2\\\\\n",
       "\t4 & 3 & Leather Horse Statues               & 1 &        & 35 & 1 & New with tags. Leather horses. Retail for {[}rm{]} each. Stand about a foot high. They are being sold as a pair. Any questions please ask. Free shipping. Just got out of storage                & Home        & Home DÃ©cor         & Home DÃ©cor Accents & Home/Home DÃ©cor/Home DÃ©cor Accents               & 3 & 0 & 3 & 3\\\\\n",
       "\t5 & 4 & 24K GOLD plated rose                & 1 &        & 44 & 0 & Complete with certificate of authenticity                                                                                                                                                    & Women       & Jewelry             & Necklaces           & Women/Jewelry/Necklaces                            & 2 & 0 & 4 & 4\\\\\n",
       "\t6 & 5 & Bundled items requested for Ruie    & 3 &        & 59 & 0 & Banana republic bottoms, Candies skirt with matching blazer,Amy Byers suit, Loft bottoms and cami top.                                                                                       & Women       & Other               & Other               & Women/Other/Other                                  & 2 & 0 & 5 & 5\\\\\n",
       "\\end{tabular}\n"
      ],
      "text/markdown": [
       "\n",
       "A data.frame: 6 × 15\n",
       "\n",
       "| <!--/--> | train_id &lt;int&gt; | name &lt;chr&gt; | item_condition_id &lt;int&gt; | brand_name &lt;chr&gt; | price &lt;dbl&gt; | shipping &lt;int&gt; | item_description &lt;chr&gt; | main_category &lt;chr&gt; | subcat_1 &lt;chr&gt; | subcat_2 &lt;chr&gt; | category_name &lt;chr&gt; | n_main_category &lt;dbl&gt; | n_brand_name &lt;dbl&gt; | n_subcat_1 &lt;dbl&gt; | n_subcat_2 &lt;dbl&gt; |\n",
       "|---|---|---|---|---|---|---|---|---|---|---|---|---|---|---|---|\n",
       "| 1 | 0 | MLB Cincinnati Reds T Shirt Size XL | 3 | <!----> | 10 | 1 | No description yet                                                                                                                                                                           | Men         | Tops                | T-shirts            | Men/Tops/T-shirts                                  | 0 | 0 | 0 | 0 |\n",
       "| 2 | 1 | Razer BlackWidow Chroma Keyboard    | 3 | Razer  | 52 | 0 | This keyboard is in great condition and works like it came out of the box. All of the ports are tested and work perfectly. The lights are customizable via the Razer Synapse app on your PC. | Electronics | Computers &amp; Tablets | Components &amp; Parts  | Electronics/Computers &amp; Tablets/Components &amp; Parts | 1 | 1 | 1 | 1 |\n",
       "| 3 | 2 | AVA-VIV Blouse                      | 1 | Target | 10 | 1 | Adorable top with a hint of lace and a key hole in the back! The pale pink is a 1X, and I also have a 3X available in white!                                                                 | Women       | Tops &amp; Blouses      | Blouse              | Women/Tops &amp; Blouses/Blouse                        | 2 | 2 | 2 | 2 |\n",
       "| 4 | 3 | Leather Horse Statues               | 1 | <!----> | 35 | 1 | New with tags. Leather horses. Retail for [rm] each. Stand about a foot high. They are being sold as a pair. Any questions please ask. Free shipping. Just got out of storage                | Home        | Home DÃ©cor         | Home DÃ©cor Accents | Home/Home DÃ©cor/Home DÃ©cor Accents               | 3 | 0 | 3 | 3 |\n",
       "| 5 | 4 | 24K GOLD plated rose                | 1 | <!----> | 44 | 0 | Complete with certificate of authenticity                                                                                                                                                    | Women       | Jewelry             | Necklaces           | Women/Jewelry/Necklaces                            | 2 | 0 | 4 | 4 |\n",
       "| 6 | 5 | Bundled items requested for Ruie    | 3 | <!----> | 59 | 0 | Banana republic bottoms, Candies skirt with matching blazer,Amy Byers suit, Loft bottoms and cami top.                                                                                       | Women       | Other               | Other               | Women/Other/Other                                  | 2 | 0 | 5 | 5 |\n",
       "\n"
      ],
      "text/plain": [
       "  train_id name                                item_condition_id brand_name\n",
       "1 0        MLB Cincinnati Reds T Shirt Size XL 3                           \n",
       "2 1        Razer BlackWidow Chroma Keyboard    3                 Razer     \n",
       "3 2        AVA-VIV Blouse                      1                 Target    \n",
       "4 3        Leather Horse Statues               1                           \n",
       "5 4        24K GOLD plated rose                1                           \n",
       "6 5        Bundled items requested for Ruie    3                           \n",
       "  price shipping\n",
       "1 10    1       \n",
       "2 52    0       \n",
       "3 10    1       \n",
       "4 35    1       \n",
       "5 44    0       \n",
       "6 59    0       \n",
       "  item_description                                                                                                                                                                            \n",
       "1 No description yet                                                                                                                                                                          \n",
       "2 This keyboard is in great condition and works like it came out of the box. All of the ports are tested and work perfectly. The lights are customizable via the Razer Synapse app on your PC.\n",
       "3 Adorable top with a hint of lace and a key hole in the back! The pale pink is a 1X, and I also have a 3X available in white!                                                                \n",
       "4 New with tags. Leather horses. Retail for [rm] each. Stand about a foot high. They are being sold as a pair. Any questions please ask. Free shipping. Just got out of storage               \n",
       "5 Complete with certificate of authenticity                                                                                                                                                   \n",
       "6 Banana republic bottoms, Candies skirt with matching blazer,Amy Byers suit, Loft bottoms and cami top.                                                                                      \n",
       "  main_category subcat_1            subcat_2           \n",
       "1 Men           Tops                T-shirts           \n",
       "2 Electronics   Computers & Tablets Components & Parts \n",
       "3 Women         Tops & Blouses      Blouse             \n",
       "4 Home          Home DÃ©cor         Home DÃ©cor Accents\n",
       "5 Women         Jewelry             Necklaces          \n",
       "6 Women         Other               Other              \n",
       "  category_name                                      n_main_category\n",
       "1 Men/Tops/T-shirts                                  0              \n",
       "2 Electronics/Computers & Tablets/Components & Parts 1              \n",
       "3 Women/Tops & Blouses/Blouse                        2              \n",
       "4 Home/Home DÃ©cor/Home DÃ©cor Accents               3              \n",
       "5 Women/Jewelry/Necklaces                            2              \n",
       "6 Women/Other/Other                                  2              \n",
       "  n_brand_name n_subcat_1 n_subcat_2\n",
       "1 0            0          0         \n",
       "2 1            1          1         \n",
       "3 2            2          2         \n",
       "4 0            3          3         \n",
       "5 0            4          4         \n",
       "6 0            5          5         "
      ]
     },
     "metadata": {},
     "output_type": "display_data"
    }
   ],
   "source": [
    "# Lets separate category variable into 3 categories\n",
    "\n",
    "#Label encoding converting categories into numberical categories or form \n",
    "#, brand_name, subcat_1, subcat_2\n",
    "\n",
    "\n",
    "category_name=train_df$category_name\n",
    "train_df = train_df %>% separate(category_name, c(\"main_category\", \"subcat_1\", \"subcat_2\"), sep=\"/\")\n",
    "train_df$category_name=category_name\n",
    "lbl_main_category <- LabelEncoder$new()\n",
    "lbl_main_category$fit(train_df$main_category)\n",
    "\n",
    "lbl_brand_name <- LabelEncoder$new()\n",
    "lbl_brand_name$fit(train_df$brand_name)\n",
    "\n",
    "lbl_subcat_1 <- LabelEncoder$new()\n",
    "lbl_subcat_1$fit(train_df$subcat_1)\n",
    "\n",
    "lbl_subcat_2 <- LabelEncoder$new()\n",
    "lbl_subcat_2$fit(train_df$subcat_2)\n",
    "\n",
    "train_df$n_main_category <- lbl_main_category$transform(train_df$main_category)\n",
    "train_df$n_brand_name = lbl_brand_name$transform(train_df$brand_name)\n",
    "train_df$n_subcat_1 = lbl_subcat_1$transform(train_df$subcat_1)\n",
    "train_df$n_subcat_2 = lbl_subcat_2$transform(train_df$subcat_2)\n",
    "\n",
    "head(train_df)"
   ]
  },
  {
   "cell_type": "code",
   "execution_count": 11,
   "id": "32432481",
   "metadata": {
    "scrolled": true
   },
   "outputs": [
    {
     "data": {
      "text/html": [
       "<table class=\"dataframe\">\n",
       "<caption>A data.frame: 5 × 18</caption>\n",
       "<thead>\n",
       "\t<tr><th></th><th scope=col>train_id</th><th scope=col>name</th><th scope=col>item_condition_id</th><th scope=col>brand_name</th><th scope=col>price</th><th scope=col>shipping</th><th scope=col>item_description</th><th scope=col>main_category</th><th scope=col>subcat_1</th><th scope=col>subcat_2</th><th scope=col>category_name</th><th scope=col>n_main_category</th><th scope=col>n_brand_name</th><th scope=col>n_subcat_1</th><th scope=col>n_subcat_2</th><th scope=col>description</th><th scope=col>clean_description</th><th scope=col>lower_clean_description</th></tr>\n",
       "\t<tr><th></th><th scope=col>&lt;int&gt;</th><th scope=col>&lt;chr&gt;</th><th scope=col>&lt;int&gt;</th><th scope=col>&lt;chr&gt;</th><th scope=col>&lt;dbl&gt;</th><th scope=col>&lt;int&gt;</th><th scope=col>&lt;chr&gt;</th><th scope=col>&lt;chr&gt;</th><th scope=col>&lt;chr&gt;</th><th scope=col>&lt;chr&gt;</th><th scope=col>&lt;chr&gt;</th><th scope=col>&lt;dbl&gt;</th><th scope=col>&lt;dbl&gt;</th><th scope=col>&lt;dbl&gt;</th><th scope=col>&lt;dbl&gt;</th><th scope=col>&lt;chr&gt;</th><th scope=col>&lt;chr&gt;</th><th scope=col>&lt;chr&gt;</th></tr>\n",
       "</thead>\n",
       "<tbody>\n",
       "\t<tr><th scope=row>2</th><td>1</td><td>Razer BlackWidow Chroma Keyboard</td><td>3</td><td>Razer </td><td>52</td><td>0</td><td>This keyboard is in great condition and works like it came out of the box. All of the ports are tested and work perfectly. The lights are customizable via the Razer Synapse app on your PC.</td><td>Electronics</td><td>Computers &amp; Tablets</td><td>Components &amp; Parts </td><td>Electronics/Computers &amp; Tablets/Components &amp; Parts</td><td>1</td><td>1</td><td>1</td><td>1</td><td><span style=white-space:pre-wrap>This keyboard is in great condition and works like it came out of the box  All of the ports are tested and work perfectly  The lights are customizable via the Razer Synapse app on your PC </span></td><td>This keyboard be in great condition and work like it come out of the box All of the port be test and work perfectly The light be customizable via the Razer Synapse app on your PC</td><td>this keyboard be in great condition and work like it come out of the box all of the port be test and work perfectly the light be customizable via the razer synapse app on your pc</td></tr>\n",
       "\t<tr><th scope=row>3</th><td>2</td><td><span style=white-space:pre-wrap>AVA-VIV Blouse                  </span></td><td>1</td><td>Target</td><td>10</td><td>1</td><td><span style=white-space:pre-wrap>Adorable top with a hint of lace and a key hole in the back! The pale pink is a 1X, and I also have a 3X available in white!                                                                </span></td><td><span style=white-space:pre-wrap>Women      </span></td><td><span style=white-space:pre-wrap>Tops &amp; Blouses     </span></td><td><span style=white-space:pre-wrap>Blouse             </span></td><td><span style=white-space:pre-wrap>Women/Tops &amp; Blouses/Blouse                       </span></td><td>2</td><td>2</td><td>2</td><td>2</td><td><span style=white-space:pre-wrap>Adorable top with a hint of lace and a key hole in the back  The pale pink is a 1X  and I also have a 3X available in white                                                                 </span></td><td><span style=white-space:pre-wrap>Adorable top with a hint of lace and a key hole in the back The pale pink be a 1X and I also have a 3X available in white                                                         </span></td><td><span style=white-space:pre-wrap>adorable top with a hint of lace and a key hole in the back the pale pink be a 1x and i also have a 3x available in white                                                         </span></td></tr>\n",
       "\t<tr><th scope=row>4</th><td>3</td><td>Leather Horse Statues           </td><td>1</td><td>      </td><td>35</td><td>1</td><td>New with tags. Leather horses. Retail for [rm] each. Stand about a foot high. They are being sold as a pair. Any questions please ask. Free shipping. Just got out of storage               </td><td>Home       </td><td>Home DÃ©cor        </td><td>Home DÃ©cor Accents</td><td>Home/Home DÃ©cor/Home DÃ©cor Accents              </td><td>3</td><td>0</td><td>3</td><td>3</td><td>New with tags  Leather horses  Retail for  rm  each  Stand about a foot high  They are being sold as a pair  Any questions please ask  Free shipping  Just got out of storage               </td><td>New with tag Leather horse Retail for rm each Stand about a foot high They be be sell as a pair Any question please ask Free ship Just get out of storage                         </td><td>new with tag leather horse retail for rm each stand about a foot high they be be sell as a pair any question please ask free ship just get out of storage                         </td></tr>\n",
       "\t<tr><th scope=row>5</th><td>4</td><td>24K GOLD plated rose            </td><td>1</td><td>      </td><td>44</td><td>0</td><td>Complete with certificate of authenticity                                                                                                                                                   </td><td>Women      </td><td>Jewelry            </td><td>Necklaces          </td><td>Women/Jewelry/Necklaces                           </td><td>2</td><td>0</td><td>4</td><td>4</td><td>Complete with certificate of authenticity                                                                                                                                                   </td><td>Complete with certificate of authenticity                                                                                                                                         </td><td>complete with certificate of authenticity                                                                                                                                         </td></tr>\n",
       "\t<tr><th scope=row>6</th><td>5</td><td>Bundled items requested for Ruie</td><td>3</td><td>      </td><td>59</td><td>0</td><td>Banana republic bottoms, Candies skirt with matching blazer,Amy Byers suit, Loft bottoms and cami top.                                                                                      </td><td>Women      </td><td>Other              </td><td>Other              </td><td>Women/Other/Other                                 </td><td>2</td><td>0</td><td>5</td><td>5</td><td>Banana republic bottoms  Candies skirt with matching blazer Amy Byers suit  Loft bottoms and cami top                                                                                       </td><td>Banana republic bottom candy skirt with match blazer Amy Byers suit Loft bottom and cami top                                                                                      </td><td>banana republic bottom candy skirt with match blazer amy byers suit loft bottom and cami top                                                                                      </td></tr>\n",
       "</tbody>\n",
       "</table>\n"
      ],
      "text/latex": [
       "A data.frame: 5 × 18\n",
       "\\begin{tabular}{r|llllllllllllllllll}\n",
       "  & train\\_id & name & item\\_condition\\_id & brand\\_name & price & shipping & item\\_description & main\\_category & subcat\\_1 & subcat\\_2 & category\\_name & n\\_main\\_category & n\\_brand\\_name & n\\_subcat\\_1 & n\\_subcat\\_2 & description & clean\\_description & lower\\_clean\\_description\\\\\n",
       "  & <int> & <chr> & <int> & <chr> & <dbl> & <int> & <chr> & <chr> & <chr> & <chr> & <chr> & <dbl> & <dbl> & <dbl> & <dbl> & <chr> & <chr> & <chr>\\\\\n",
       "\\hline\n",
       "\t2 & 1 & Razer BlackWidow Chroma Keyboard & 3 & Razer  & 52 & 0 & This keyboard is in great condition and works like it came out of the box. All of the ports are tested and work perfectly. The lights are customizable via the Razer Synapse app on your PC. & Electronics & Computers \\& Tablets & Components \\& Parts  & Electronics/Computers \\& Tablets/Components \\& Parts & 1 & 1 & 1 & 1 & This keyboard is in great condition and works like it came out of the box  All of the ports are tested and work perfectly  The lights are customizable via the Razer Synapse app on your PC  & This keyboard be in great condition and work like it come out of the box All of the port be test and work perfectly The light be customizable via the Razer Synapse app on your PC & this keyboard be in great condition and work like it come out of the box all of the port be test and work perfectly the light be customizable via the razer synapse app on your pc\\\\\n",
       "\t3 & 2 & AVA-VIV Blouse                   & 1 & Target & 10 & 1 & Adorable top with a hint of lace and a key hole in the back! The pale pink is a 1X, and I also have a 3X available in white!                                                                 & Women       & Tops \\& Blouses      & Blouse              & Women/Tops \\& Blouses/Blouse                        & 2 & 2 & 2 & 2 & Adorable top with a hint of lace and a key hole in the back  The pale pink is a 1X  and I also have a 3X available in white                                                                  & Adorable top with a hint of lace and a key hole in the back The pale pink be a 1X and I also have a 3X available in white                                                          & adorable top with a hint of lace and a key hole in the back the pale pink be a 1x and i also have a 3x available in white                                                         \\\\\n",
       "\t4 & 3 & Leather Horse Statues            & 1 &        & 35 & 1 & New with tags. Leather horses. Retail for {[}rm{]} each. Stand about a foot high. They are being sold as a pair. Any questions please ask. Free shipping. Just got out of storage                & Home        & Home DÃ©cor         & Home DÃ©cor Accents & Home/Home DÃ©cor/Home DÃ©cor Accents               & 3 & 0 & 3 & 3 & New with tags  Leather horses  Retail for  rm  each  Stand about a foot high  They are being sold as a pair  Any questions please ask  Free shipping  Just got out of storage                & New with tag Leather horse Retail for rm each Stand about a foot high They be be sell as a pair Any question please ask Free ship Just get out of storage                          & new with tag leather horse retail for rm each stand about a foot high they be be sell as a pair any question please ask free ship just get out of storage                         \\\\\n",
       "\t5 & 4 & 24K GOLD plated rose             & 1 &        & 44 & 0 & Complete with certificate of authenticity                                                                                                                                                    & Women       & Jewelry             & Necklaces           & Women/Jewelry/Necklaces                            & 2 & 0 & 4 & 4 & Complete with certificate of authenticity                                                                                                                                                    & Complete with certificate of authenticity                                                                                                                                          & complete with certificate of authenticity                                                                                                                                         \\\\\n",
       "\t6 & 5 & Bundled items requested for Ruie & 3 &        & 59 & 0 & Banana republic bottoms, Candies skirt with matching blazer,Amy Byers suit, Loft bottoms and cami top.                                                                                       & Women       & Other               & Other               & Women/Other/Other                                  & 2 & 0 & 5 & 5 & Banana republic bottoms  Candies skirt with matching blazer Amy Byers suit  Loft bottoms and cami top                                                                                        & Banana republic bottom candy skirt with match blazer Amy Byers suit Loft bottom and cami top                                                                                       & banana republic bottom candy skirt with match blazer amy byers suit loft bottom and cami top                                                                                      \\\\\n",
       "\\end{tabular}\n"
      ],
      "text/markdown": [
       "\n",
       "A data.frame: 5 × 18\n",
       "\n",
       "| <!--/--> | train_id &lt;int&gt; | name &lt;chr&gt; | item_condition_id &lt;int&gt; | brand_name &lt;chr&gt; | price &lt;dbl&gt; | shipping &lt;int&gt; | item_description &lt;chr&gt; | main_category &lt;chr&gt; | subcat_1 &lt;chr&gt; | subcat_2 &lt;chr&gt; | category_name &lt;chr&gt; | n_main_category &lt;dbl&gt; | n_brand_name &lt;dbl&gt; | n_subcat_1 &lt;dbl&gt; | n_subcat_2 &lt;dbl&gt; | description &lt;chr&gt; | clean_description &lt;chr&gt; | lower_clean_description &lt;chr&gt; |\n",
       "|---|---|---|---|---|---|---|---|---|---|---|---|---|---|---|---|---|---|---|\n",
       "| 2 | 1 | Razer BlackWidow Chroma Keyboard | 3 | Razer  | 52 | 0 | This keyboard is in great condition and works like it came out of the box. All of the ports are tested and work perfectly. The lights are customizable via the Razer Synapse app on your PC. | Electronics | Computers &amp; Tablets | Components &amp; Parts  | Electronics/Computers &amp; Tablets/Components &amp; Parts | 1 | 1 | 1 | 1 | This keyboard is in great condition and works like it came out of the box  All of the ports are tested and work perfectly  The lights are customizable via the Razer Synapse app on your PC  | This keyboard be in great condition and work like it come out of the box All of the port be test and work perfectly The light be customizable via the Razer Synapse app on your PC | this keyboard be in great condition and work like it come out of the box all of the port be test and work perfectly the light be customizable via the razer synapse app on your pc |\n",
       "| 3 | 2 | AVA-VIV Blouse                   | 1 | Target | 10 | 1 | Adorable top with a hint of lace and a key hole in the back! The pale pink is a 1X, and I also have a 3X available in white!                                                                 | Women       | Tops &amp; Blouses      | Blouse              | Women/Tops &amp; Blouses/Blouse                        | 2 | 2 | 2 | 2 | Adorable top with a hint of lace and a key hole in the back  The pale pink is a 1X  and I also have a 3X available in white                                                                  | Adorable top with a hint of lace and a key hole in the back The pale pink be a 1X and I also have a 3X available in white                                                          | adorable top with a hint of lace and a key hole in the back the pale pink be a 1x and i also have a 3x available in white                                                          |\n",
       "| 4 | 3 | Leather Horse Statues            | 1 | <!----> | 35 | 1 | New with tags. Leather horses. Retail for [rm] each. Stand about a foot high. They are being sold as a pair. Any questions please ask. Free shipping. Just got out of storage                | Home        | Home DÃ©cor         | Home DÃ©cor Accents | Home/Home DÃ©cor/Home DÃ©cor Accents               | 3 | 0 | 3 | 3 | New with tags  Leather horses  Retail for  rm  each  Stand about a foot high  They are being sold as a pair  Any questions please ask  Free shipping  Just got out of storage                | New with tag Leather horse Retail for rm each Stand about a foot high They be be sell as a pair Any question please ask Free ship Just get out of storage                          | new with tag leather horse retail for rm each stand about a foot high they be be sell as a pair any question please ask free ship just get out of storage                          |\n",
       "| 5 | 4 | 24K GOLD plated rose             | 1 | <!----> | 44 | 0 | Complete with certificate of authenticity                                                                                                                                                    | Women       | Jewelry             | Necklaces           | Women/Jewelry/Necklaces                            | 2 | 0 | 4 | 4 | Complete with certificate of authenticity                                                                                                                                                    | Complete with certificate of authenticity                                                                                                                                          | complete with certificate of authenticity                                                                                                                                          |\n",
       "| 6 | 5 | Bundled items requested for Ruie | 3 | <!----> | 59 | 0 | Banana republic bottoms, Candies skirt with matching blazer,Amy Byers suit, Loft bottoms and cami top.                                                                                       | Women       | Other               | Other               | Women/Other/Other                                  | 2 | 0 | 5 | 5 | Banana republic bottoms  Candies skirt with matching blazer Amy Byers suit  Loft bottoms and cami top                                                                                        | Banana republic bottom candy skirt with match blazer Amy Byers suit Loft bottom and cami top                                                                                       | banana republic bottom candy skirt with match blazer amy byers suit loft bottom and cami top                                                                                       |\n",
       "\n"
      ],
      "text/plain": [
       "  train_id name                             item_condition_id brand_name price\n",
       "2 1        Razer BlackWidow Chroma Keyboard 3                 Razer      52   \n",
       "3 2        AVA-VIV Blouse                   1                 Target     10   \n",
       "4 3        Leather Horse Statues            1                            35   \n",
       "5 4        24K GOLD plated rose             1                            44   \n",
       "6 5        Bundled items requested for Ruie 3                            59   \n",
       "  shipping\n",
       "2 0       \n",
       "3 1       \n",
       "4 1       \n",
       "5 0       \n",
       "6 0       \n",
       "  item_description                                                                                                                                                                            \n",
       "2 This keyboard is in great condition and works like it came out of the box. All of the ports are tested and work perfectly. The lights are customizable via the Razer Synapse app on your PC.\n",
       "3 Adorable top with a hint of lace and a key hole in the back! The pale pink is a 1X, and I also have a 3X available in white!                                                                \n",
       "4 New with tags. Leather horses. Retail for [rm] each. Stand about a foot high. They are being sold as a pair. Any questions please ask. Free shipping. Just got out of storage               \n",
       "5 Complete with certificate of authenticity                                                                                                                                                   \n",
       "6 Banana republic bottoms, Candies skirt with matching blazer,Amy Byers suit, Loft bottoms and cami top.                                                                                      \n",
       "  main_category subcat_1            subcat_2           \n",
       "2 Electronics   Computers & Tablets Components & Parts \n",
       "3 Women         Tops & Blouses      Blouse             \n",
       "4 Home          Home DÃ©cor         Home DÃ©cor Accents\n",
       "5 Women         Jewelry             Necklaces          \n",
       "6 Women         Other               Other              \n",
       "  category_name                                      n_main_category\n",
       "2 Electronics/Computers & Tablets/Components & Parts 1              \n",
       "3 Women/Tops & Blouses/Blouse                        2              \n",
       "4 Home/Home DÃ©cor/Home DÃ©cor Accents               3              \n",
       "5 Women/Jewelry/Necklaces                            2              \n",
       "6 Women/Other/Other                                  2              \n",
       "  n_brand_name n_subcat_1 n_subcat_2\n",
       "2 1            1          1         \n",
       "3 2            2          2         \n",
       "4 0            3          3         \n",
       "5 0            4          4         \n",
       "6 0            5          5         \n",
       "  description                                                                                                                                                                                 \n",
       "2 This keyboard is in great condition and works like it came out of the box  All of the ports are tested and work perfectly  The lights are customizable via the Razer Synapse app on your PC \n",
       "3 Adorable top with a hint of lace and a key hole in the back  The pale pink is a 1X  and I also have a 3X available in white                                                                 \n",
       "4 New with tags  Leather horses  Retail for  rm  each  Stand about a foot high  They are being sold as a pair  Any questions please ask  Free shipping  Just got out of storage               \n",
       "5 Complete with certificate of authenticity                                                                                                                                                   \n",
       "6 Banana republic bottoms  Candies skirt with matching blazer Amy Byers suit  Loft bottoms and cami top                                                                                       \n",
       "  clean_description                                                                                                                                                                 \n",
       "2 This keyboard be in great condition and work like it come out of the box All of the port be test and work perfectly The light be customizable via the Razer Synapse app on your PC\n",
       "3 Adorable top with a hint of lace and a key hole in the back The pale pink be a 1X and I also have a 3X available in white                                                         \n",
       "4 New with tag Leather horse Retail for rm each Stand about a foot high They be be sell as a pair Any question please ask Free ship Just get out of storage                         \n",
       "5 Complete with certificate of authenticity                                                                                                                                         \n",
       "6 Banana republic bottom candy skirt with match blazer Amy Byers suit Loft bottom and cami top                                                                                      \n",
       "  lower_clean_description                                                                                                                                                           \n",
       "2 this keyboard be in great condition and work like it come out of the box all of the port be test and work perfectly the light be customizable via the razer synapse app on your pc\n",
       "3 adorable top with a hint of lace and a key hole in the back the pale pink be a 1x and i also have a 3x available in white                                                         \n",
       "4 new with tag leather horse retail for rm each stand about a foot high they be be sell as a pair any question please ask free ship just get out of storage                         \n",
       "5 complete with certificate of authenticity                                                                                                                                         \n",
       "6 banana republic bottom candy skirt with match blazer amy byers suit loft bottom and cami top                                                                                      "
      ]
     },
     "metadata": {},
     "output_type": "display_data"
    }
   ],
   "source": [
    "#Text Cleaning\n",
    "#Removing the rows which is not having proper description\n",
    "\n",
    "train_df <- subset(train_df, item_description != \"No description yet\")\n",
    "#replace unwanted symbols\n",
    "train_df$description = str_replace_all(train_df$item_description, \"[[:punct:]]\", \" \")\n",
    "#Lemmatization\n",
    "train_df$clean_description = lemmatize_strings(train_df$description)\n",
    "# Making all the text lower case\n",
    "train_df$lower_clean_description = tolower(train_df$clean_description)\n",
    "head(train_df,5)\n"
   ]
  },
  {
   "cell_type": "code",
   "execution_count": null,
   "id": "c857a2aa",
   "metadata": {},
   "outputs": [
    {
     "data": {
      "text/plain": [
       "[1] \"2021-12-16 09:42:45 CST\""
      ]
     },
     "metadata": {},
     "output_type": "display_data"
    }
   ],
   "source": [
    "#CountVectorizer\n",
    "\n",
    "cv <- CountVectorizer$new(min_df = 0.7, max_features = 5000, remove_stopwords = TRUE)\n",
    "Sys.time()\n",
    "cv$fit(train_df$lower_clean_description)\n",
    "Sys.time()\n",
    "cv_features = cv$transform(train_df$lower_clean_description)\n"
   ]
  },
  {
   "cell_type": "code",
   "execution_count": 3,
   "id": "e0767f41",
   "metadata": {},
   "outputs": [],
   "source": [
    "train_df= read.csv(file='train.tsv', sep='\\t', header=TRUE)\n",
    "test_df= read.csv(file='test.tsv', sep='\\t', header=TRUE)\n"
   ]
  },
  {
   "cell_type": "code",
   "execution_count": 4,
   "id": "dbe08fba",
   "metadata": {},
   "outputs": [
    {
     "data": {
      "text/html": [
       "<table class=\"dataframe\">\n",
       "<caption>A data.frame: 6 × 8</caption>\n",
       "<thead>\n",
       "\t<tr><th></th><th scope=col>train_id</th><th scope=col>name</th><th scope=col>item_condition_id</th><th scope=col>category_name</th><th scope=col>brand_name</th><th scope=col>price</th><th scope=col>shipping</th><th scope=col>item_description</th></tr>\n",
       "\t<tr><th></th><th scope=col>&lt;int&gt;</th><th scope=col>&lt;chr&gt;</th><th scope=col>&lt;int&gt;</th><th scope=col>&lt;chr&gt;</th><th scope=col>&lt;chr&gt;</th><th scope=col>&lt;dbl&gt;</th><th scope=col>&lt;int&gt;</th><th scope=col>&lt;chr&gt;</th></tr>\n",
       "</thead>\n",
       "<tbody>\n",
       "\t<tr><th scope=row>1</th><td>0</td><td>MLB Cincinnati Reds T Shirt Size XL</td><td>3</td><td>Men/Tops/T-shirts                                 </td><td>      </td><td>10</td><td>1</td><td>No description yet                                                                                                                                                                          </td></tr>\n",
       "\t<tr><th scope=row>2</th><td>1</td><td><span style=white-space:pre-wrap>Razer BlackWidow Chroma Keyboard   </span></td><td>3</td><td>Electronics/Computers &amp; Tablets/Components &amp; Parts</td><td>Razer </td><td>52</td><td>0</td><td>This keyboard is in great condition and works like it came out of the box. All of the ports are tested and work perfectly. The lights are customizable via the Razer Synapse app on your PC.</td></tr>\n",
       "\t<tr><th scope=row>3</th><td>2</td><td><span style=white-space:pre-wrap>AVA-VIV Blouse                     </span></td><td>1</td><td><span style=white-space:pre-wrap>Women/Tops &amp; Blouses/Blouse                       </span></td><td>Target</td><td>10</td><td>1</td><td><span style=white-space:pre-wrap>Adorable top with a hint of lace and a key hole in the back! The pale pink is a 1X, and I also have a 3X available in white!                                                                </span></td></tr>\n",
       "\t<tr><th scope=row>4</th><td>3</td><td>Leather Horse Statues              </td><td>1</td><td>Home/Home DÃ©cor/Home DÃ©cor Accents              </td><td>      </td><td>35</td><td>1</td><td>New with tags. Leather horses. Retail for [rm] each. Stand about a foot high. They are being sold as a pair. Any questions please ask. Free shipping. Just got out of storage               </td></tr>\n",
       "\t<tr><th scope=row>5</th><td>4</td><td>24K GOLD plated rose               </td><td>1</td><td>Women/Jewelry/Necklaces                           </td><td>      </td><td>44</td><td>0</td><td>Complete with certificate of authenticity                                                                                                                                                   </td></tr>\n",
       "\t<tr><th scope=row>6</th><td>5</td><td>Bundled items requested for Ruie   </td><td>3</td><td>Women/Other/Other                                 </td><td>      </td><td>59</td><td>0</td><td>Banana republic bottoms, Candies skirt with matching blazer,Amy Byers suit, Loft bottoms and cami top.                                                                                      </td></tr>\n",
       "</tbody>\n",
       "</table>\n"
      ],
      "text/latex": [
       "A data.frame: 6 × 8\n",
       "\\begin{tabular}{r|llllllll}\n",
       "  & train\\_id & name & item\\_condition\\_id & category\\_name & brand\\_name & price & shipping & item\\_description\\\\\n",
       "  & <int> & <chr> & <int> & <chr> & <chr> & <dbl> & <int> & <chr>\\\\\n",
       "\\hline\n",
       "\t1 & 0 & MLB Cincinnati Reds T Shirt Size XL & 3 & Men/Tops/T-shirts                                  &        & 10 & 1 & No description yet                                                                                                                                                                          \\\\\n",
       "\t2 & 1 & Razer BlackWidow Chroma Keyboard    & 3 & Electronics/Computers \\& Tablets/Components \\& Parts & Razer  & 52 & 0 & This keyboard is in great condition and works like it came out of the box. All of the ports are tested and work perfectly. The lights are customizable via the Razer Synapse app on your PC.\\\\\n",
       "\t3 & 2 & AVA-VIV Blouse                      & 1 & Women/Tops \\& Blouses/Blouse                        & Target & 10 & 1 & Adorable top with a hint of lace and a key hole in the back! The pale pink is a 1X, and I also have a 3X available in white!                                                                \\\\\n",
       "\t4 & 3 & Leather Horse Statues               & 1 & Home/Home DÃ©cor/Home DÃ©cor Accents               &        & 35 & 1 & New with tags. Leather horses. Retail for {[}rm{]} each. Stand about a foot high. They are being sold as a pair. Any questions please ask. Free shipping. Just got out of storage               \\\\\n",
       "\t5 & 4 & 24K GOLD plated rose                & 1 & Women/Jewelry/Necklaces                            &        & 44 & 0 & Complete with certificate of authenticity                                                                                                                                                   \\\\\n",
       "\t6 & 5 & Bundled items requested for Ruie    & 3 & Women/Other/Other                                  &        & 59 & 0 & Banana republic bottoms, Candies skirt with matching blazer,Amy Byers suit, Loft bottoms and cami top.                                                                                      \\\\\n",
       "\\end{tabular}\n"
      ],
      "text/markdown": [
       "\n",
       "A data.frame: 6 × 8\n",
       "\n",
       "| <!--/--> | train_id &lt;int&gt; | name &lt;chr&gt; | item_condition_id &lt;int&gt; | category_name &lt;chr&gt; | brand_name &lt;chr&gt; | price &lt;dbl&gt; | shipping &lt;int&gt; | item_description &lt;chr&gt; |\n",
       "|---|---|---|---|---|---|---|---|---|\n",
       "| 1 | 0 | MLB Cincinnati Reds T Shirt Size XL | 3 | Men/Tops/T-shirts                                  | <!----> | 10 | 1 | No description yet                                                                                                                                                                           |\n",
       "| 2 | 1 | Razer BlackWidow Chroma Keyboard    | 3 | Electronics/Computers &amp; Tablets/Components &amp; Parts | Razer  | 52 | 0 | This keyboard is in great condition and works like it came out of the box. All of the ports are tested and work perfectly. The lights are customizable via the Razer Synapse app on your PC. |\n",
       "| 3 | 2 | AVA-VIV Blouse                      | 1 | Women/Tops &amp; Blouses/Blouse                        | Target | 10 | 1 | Adorable top with a hint of lace and a key hole in the back! The pale pink is a 1X, and I also have a 3X available in white!                                                                 |\n",
       "| 4 | 3 | Leather Horse Statues               | 1 | Home/Home DÃ©cor/Home DÃ©cor Accents               | <!----> | 35 | 1 | New with tags. Leather horses. Retail for [rm] each. Stand about a foot high. They are being sold as a pair. Any questions please ask. Free shipping. Just got out of storage                |\n",
       "| 5 | 4 | 24K GOLD plated rose                | 1 | Women/Jewelry/Necklaces                            | <!----> | 44 | 0 | Complete with certificate of authenticity                                                                                                                                                    |\n",
       "| 6 | 5 | Bundled items requested for Ruie    | 3 | Women/Other/Other                                  | <!----> | 59 | 0 | Banana republic bottoms, Candies skirt with matching blazer,Amy Byers suit, Loft bottoms and cami top.                                                                                       |\n",
       "\n"
      ],
      "text/plain": [
       "  train_id name                                item_condition_id\n",
       "1 0        MLB Cincinnati Reds T Shirt Size XL 3                \n",
       "2 1        Razer BlackWidow Chroma Keyboard    3                \n",
       "3 2        AVA-VIV Blouse                      1                \n",
       "4 3        Leather Horse Statues               1                \n",
       "5 4        24K GOLD plated rose                1                \n",
       "6 5        Bundled items requested for Ruie    3                \n",
       "  category_name                                      brand_name price shipping\n",
       "1 Men/Tops/T-shirts                                             10    1       \n",
       "2 Electronics/Computers & Tablets/Components & Parts Razer      52    0       \n",
       "3 Women/Tops & Blouses/Blouse                        Target     10    1       \n",
       "4 Home/Home DÃ©cor/Home DÃ©cor Accents                          35    1       \n",
       "5 Women/Jewelry/Necklaces                                       44    0       \n",
       "6 Women/Other/Other                                             59    0       \n",
       "  item_description                                                                                                                                                                            \n",
       "1 No description yet                                                                                                                                                                          \n",
       "2 This keyboard is in great condition and works like it came out of the box. All of the ports are tested and work perfectly. The lights are customizable via the Razer Synapse app on your PC.\n",
       "3 Adorable top with a hint of lace and a key hole in the back! The pale pink is a 1X, and I also have a 3X available in white!                                                                \n",
       "4 New with tags. Leather horses. Retail for [rm] each. Stand about a foot high. They are being sold as a pair. Any questions please ask. Free shipping. Just got out of storage               \n",
       "5 Complete with certificate of authenticity                                                                                                                                                   \n",
       "6 Banana republic bottoms, Candies skirt with matching blazer,Amy Byers suit, Loft bottoms and cami top.                                                                                      "
      ]
     },
     "metadata": {},
     "output_type": "display_data"
    }
   ],
   "source": [
    "head(train_df)"
   ]
  },
  {
   "cell_type": "code",
   "execution_count": 5,
   "id": "7d86458d",
   "metadata": {},
   "outputs": [
    {
     "data": {
      "text/html": [
       "<table class=\"dataframe\">\n",
       "<caption>A data.frame: 6 × 7</caption>\n",
       "<thead>\n",
       "\t<tr><th></th><th scope=col>test_id</th><th scope=col>name</th><th scope=col>item_condition_id</th><th scope=col>category_name</th><th scope=col>brand_name</th><th scope=col>shipping</th><th scope=col>item_description</th></tr>\n",
       "\t<tr><th></th><th scope=col>&lt;int&gt;</th><th scope=col>&lt;chr&gt;</th><th scope=col>&lt;int&gt;</th><th scope=col>&lt;chr&gt;</th><th scope=col>&lt;chr&gt;</th><th scope=col>&lt;int&gt;</th><th scope=col>&lt;chr&gt;</th></tr>\n",
       "</thead>\n",
       "<tbody>\n",
       "\t<tr><th scope=row>1</th><td>0</td><td>Breast cancer \"I fight like a girl\" ring</td><td>1</td><td>Women/Jewelry/Rings                                        </td><td>     </td><td>1</td><td>Size 7                                                                                                                                                                                                                                                     </td></tr>\n",
       "\t<tr><th scope=row>2</th><td>1</td><td>25 pcs NEW 7.5\"x12\" Kraft Bubble Mailers</td><td>1</td><td>Other/Office supplies/Shipping Supplies                    </td><td>     </td><td>1</td><td>25 pcs NEW 7.5\"x12\" Kraft Bubble Mailers Lined with bubble wrap for protection Self Sealing (peel-and-seal), adhesive keeps contents secure and tamper proof Durable and lightweight Kraft material helps save on postage Approved by UPS, FedEx, and USPS.</td></tr>\n",
       "\t<tr><th scope=row>3</th><td>2</td><td><span style=white-space:pre-wrap>Coach bag                               </span></td><td>1</td><td><span style=white-space:pre-wrap>Vintage &amp; Collectibles/Bags and Purses/Handbag             </span></td><td>Coach</td><td>1</td><td><span style=white-space:pre-wrap>Brand new coach bag. Bought for [rm] at a Coach outlet.                                                                                                                                                                                                    </span></td></tr>\n",
       "\t<tr><th scope=row>4</th><td>3</td><td>Floral Kimono                           </td><td>2</td><td>Women/Sweaters/Cardigan                                    </td><td>     </td><td>0</td><td>-floral kimono -never worn -lightweight and perfect for hot weather                                                                                                                                                                                        </td></tr>\n",
       "\t<tr><th scope=row>5</th><td>4</td><td><span style=white-space:pre-wrap>Life after Death                        </span></td><td>3</td><td><span style=white-space:pre-wrap>Other/Books/Religion &amp; Spirituality                        </span></td><td><span style=white-space:pre-wrap>     </span></td><td>1</td><td><span style=white-space:pre-wrap>Rediscovering life after the loss of a loved one by Tony Cooke. Paperback in good condition 2003. â¤ â¤ Bundle and save! â¤ â¤ Book, death, grief, bereavement SHLF.SW.5.15                                                                            </span></td></tr>\n",
       "\t<tr><th scope=row>6</th><td>5</td><td>iPhone 6 Plus or 6s Plus Vodka pink case</td><td>1</td><td>Electronics/Cell Phones &amp; Accessories/Cases, Covers &amp; Skins</td><td><span style=white-space:pre-wrap>     </span></td><td>1</td><td><span style=white-space:pre-wrap>One Absolut Vodka in Pink for iPhone 6 Plus and also fits the 6s Plus iPhone. These are made of a flexible rubber material. Brand new case Also have in 6 and 6s size in pink Size: iPhone 6 Plus and 6s Plus Free shipping                                </span></td></tr>\n",
       "</tbody>\n",
       "</table>\n"
      ],
      "text/latex": [
       "A data.frame: 6 × 7\n",
       "\\begin{tabular}{r|lllllll}\n",
       "  & test\\_id & name & item\\_condition\\_id & category\\_name & brand\\_name & shipping & item\\_description\\\\\n",
       "  & <int> & <chr> & <int> & <chr> & <chr> & <int> & <chr>\\\\\n",
       "\\hline\n",
       "\t1 & 0 & Breast cancer \"I fight like a girl\" ring & 1 & Women/Jewelry/Rings                                         &       & 1 & Size 7                                                                                                                                                                                                                                                     \\\\\n",
       "\t2 & 1 & 25 pcs NEW 7.5\"x12\" Kraft Bubble Mailers & 1 & Other/Office supplies/Shipping Supplies                     &       & 1 & 25 pcs NEW 7.5\"x12\" Kraft Bubble Mailers Lined with bubble wrap for protection Self Sealing (peel-and-seal), adhesive keeps contents secure and tamper proof Durable and lightweight Kraft material helps save on postage Approved by UPS, FedEx, and USPS.\\\\\n",
       "\t3 & 2 & Coach bag                                & 1 & Vintage \\& Collectibles/Bags and Purses/Handbag              & Coach & 1 & Brand new coach bag. Bought for {[}rm{]} at a Coach outlet.                                                                                                                                                                                                    \\\\\n",
       "\t4 & 3 & Floral Kimono                            & 2 & Women/Sweaters/Cardigan                                     &       & 0 & -floral kimono -never worn -lightweight and perfect for hot weather                                                                                                                                                                                        \\\\\n",
       "\t5 & 4 & Life after Death                         & 3 & Other/Books/Religion \\& Spirituality                         &       & 1 & Rediscovering life after the loss of a loved one by Tony Cooke. Paperback in good condition 2003. â¤ â¤ Bundle and save! â¤ â¤ Book, death, grief, bereavement SHLF.SW.5.15                                                                            \\\\\n",
       "\t6 & 5 & iPhone 6 Plus or 6s Plus Vodka pink case & 1 & Electronics/Cell Phones \\& Accessories/Cases, Covers \\& Skins &       & 1 & One Absolut Vodka in Pink for iPhone 6 Plus and also fits the 6s Plus iPhone. These are made of a flexible rubber material. Brand new case Also have in 6 and 6s size in pink Size: iPhone 6 Plus and 6s Plus Free shipping                                \\\\\n",
       "\\end{tabular}\n"
      ],
      "text/markdown": [
       "\n",
       "A data.frame: 6 × 7\n",
       "\n",
       "| <!--/--> | test_id &lt;int&gt; | name &lt;chr&gt; | item_condition_id &lt;int&gt; | category_name &lt;chr&gt; | brand_name &lt;chr&gt; | shipping &lt;int&gt; | item_description &lt;chr&gt; |\n",
       "|---|---|---|---|---|---|---|---|\n",
       "| 1 | 0 | Breast cancer \"I fight like a girl\" ring | 1 | Women/Jewelry/Rings                                         | <!----> | 1 | Size 7                                                                                                                                                                                                                                                      |\n",
       "| 2 | 1 | 25 pcs NEW 7.5\"x12\" Kraft Bubble Mailers | 1 | Other/Office supplies/Shipping Supplies                     | <!----> | 1 | 25 pcs NEW 7.5\"x12\" Kraft Bubble Mailers Lined with bubble wrap for protection Self Sealing (peel-and-seal), adhesive keeps contents secure and tamper proof Durable and lightweight Kraft material helps save on postage Approved by UPS, FedEx, and USPS. |\n",
       "| 3 | 2 | Coach bag                                | 1 | Vintage &amp; Collectibles/Bags and Purses/Handbag              | Coach | 1 | Brand new coach bag. Bought for [rm] at a Coach outlet.                                                                                                                                                                                                     |\n",
       "| 4 | 3 | Floral Kimono                            | 2 | Women/Sweaters/Cardigan                                     | <!----> | 0 | -floral kimono -never worn -lightweight and perfect for hot weather                                                                                                                                                                                         |\n",
       "| 5 | 4 | Life after Death                         | 3 | Other/Books/Religion &amp; Spirituality                         | <!----> | 1 | Rediscovering life after the loss of a loved one by Tony Cooke. Paperback in good condition 2003. â¤ â¤ Bundle and save! â¤ â¤ Book, death, grief, bereavement SHLF.SW.5.15                                                                             |\n",
       "| 6 | 5 | iPhone 6 Plus or 6s Plus Vodka pink case | 1 | Electronics/Cell Phones &amp; Accessories/Cases, Covers &amp; Skins | <!----> | 1 | One Absolut Vodka in Pink for iPhone 6 Plus and also fits the 6s Plus iPhone. These are made of a flexible rubber material. Brand new case Also have in 6 and 6s size in pink Size: iPhone 6 Plus and 6s Plus Free shipping                                 |\n",
       "\n"
      ],
      "text/plain": [
       "  test_id name                                     item_condition_id\n",
       "1 0       Breast cancer \"I fight like a girl\" ring 1                \n",
       "2 1       25 pcs NEW 7.5\"x12\" Kraft Bubble Mailers 1                \n",
       "3 2       Coach bag                                1                \n",
       "4 3       Floral Kimono                            2                \n",
       "5 4       Life after Death                         3                \n",
       "6 5       iPhone 6 Plus or 6s Plus Vodka pink case 1                \n",
       "  category_name                                               brand_name\n",
       "1 Women/Jewelry/Rings                                                   \n",
       "2 Other/Office supplies/Shipping Supplies                               \n",
       "3 Vintage & Collectibles/Bags and Purses/Handbag              Coach     \n",
       "4 Women/Sweaters/Cardigan                                               \n",
       "5 Other/Books/Religion & Spirituality                                   \n",
       "6 Electronics/Cell Phones & Accessories/Cases, Covers & Skins           \n",
       "  shipping\n",
       "1 1       \n",
       "2 1       \n",
       "3 1       \n",
       "4 0       \n",
       "5 1       \n",
       "6 1       \n",
       "  item_description                                                                                                                                                                                                                                           \n",
       "1 Size 7                                                                                                                                                                                                                                                     \n",
       "2 25 pcs NEW 7.5\"x12\" Kraft Bubble Mailers Lined with bubble wrap for protection Self Sealing (peel-and-seal), adhesive keeps contents secure and tamper proof Durable and lightweight Kraft material helps save on postage Approved by UPS, FedEx, and USPS.\n",
       "3 Brand new coach bag. Bought for [rm] at a Coach outlet.                                                                                                                                                                                                    \n",
       "4 -floral kimono -never worn -lightweight and perfect for hot weather                                                                                                                                                                                        \n",
       "5 Rediscovering life after the loss of a loved one by Tony Cooke. Paperback in good condition 2003. â\\235¤ â\\235¤ Bundle and save! â\\235¤ â\\235¤ Book, death, grief, bereavement SHLF.SW.5.15                                                                            \n",
       "6 One Absolut Vodka in Pink for iPhone 6 Plus and also fits the 6s Plus iPhone. These are made of a flexible rubber material. Brand new case Also have in 6 and 6s size in pink Size: iPhone 6 Plus and 6s Plus Free shipping                                "
      ]
     },
     "metadata": {},
     "output_type": "display_data"
    }
   ],
   "source": [
    "head(test_df)"
   ]
  },
  {
   "cell_type": "code",
   "execution_count": 7,
   "id": "8d545a34",
   "metadata": {},
   "outputs": [
    {
     "data": {
      "text/html": [
       "<table class=\"dataframe\">\n",
       "<caption>A data.frame: 6 × 11</caption>\n",
       "<thead>\n",
       "\t<tr><th></th><th scope=col>train_id</th><th scope=col>name</th><th scope=col>item_condition_id</th><th scope=col>main_category</th><th scope=col>subcat_1</th><th scope=col>subcat_2</th><th scope=col>brand_name</th><th scope=col>price</th><th scope=col>shipping</th><th scope=col>item_description</th><th scope=col>category_name</th></tr>\n",
       "\t<tr><th></th><th scope=col>&lt;int&gt;</th><th scope=col>&lt;chr&gt;</th><th scope=col>&lt;int&gt;</th><th scope=col>&lt;chr&gt;</th><th scope=col>&lt;chr&gt;</th><th scope=col>&lt;chr&gt;</th><th scope=col>&lt;chr&gt;</th><th scope=col>&lt;dbl&gt;</th><th scope=col>&lt;int&gt;</th><th scope=col>&lt;chr&gt;</th><th scope=col>&lt;chr&gt;</th></tr>\n",
       "</thead>\n",
       "<tbody>\n",
       "\t<tr><th scope=row>1</th><td>0</td><td>MLB Cincinnati Reds T Shirt Size XL</td><td>3</td><td>Men        </td><td>Tops               </td><td>T-shirts           </td><td>      </td><td>10</td><td>1</td><td>No description yet                                                                                                                                                                          </td><td>Men/Tops/T-shirts                                 </td></tr>\n",
       "\t<tr><th scope=row>2</th><td>1</td><td><span style=white-space:pre-wrap>Razer BlackWidow Chroma Keyboard   </span></td><td>3</td><td>Electronics</td><td>Computers &amp; Tablets</td><td>Components &amp; Parts </td><td>Razer </td><td>52</td><td>0</td><td>This keyboard is in great condition and works like it came out of the box. All of the ports are tested and work perfectly. The lights are customizable via the Razer Synapse app on your PC.</td><td>Electronics/Computers &amp; Tablets/Components &amp; Parts</td></tr>\n",
       "\t<tr><th scope=row>3</th><td>2</td><td><span style=white-space:pre-wrap>AVA-VIV Blouse                     </span></td><td>1</td><td><span style=white-space:pre-wrap>Women      </span></td><td><span style=white-space:pre-wrap>Tops &amp; Blouses     </span></td><td><span style=white-space:pre-wrap>Blouse             </span></td><td>Target</td><td>10</td><td>1</td><td><span style=white-space:pre-wrap>Adorable top with a hint of lace and a key hole in the back! The pale pink is a 1X, and I also have a 3X available in white!                                                                </span></td><td><span style=white-space:pre-wrap>Women/Tops &amp; Blouses/Blouse                       </span></td></tr>\n",
       "\t<tr><th scope=row>4</th><td>3</td><td>Leather Horse Statues              </td><td>1</td><td>Home       </td><td>Home DÃ©cor        </td><td>Home DÃ©cor Accents</td><td>      </td><td>35</td><td>1</td><td>New with tags. Leather horses. Retail for [rm] each. Stand about a foot high. They are being sold as a pair. Any questions please ask. Free shipping. Just got out of storage               </td><td>Home/Home DÃ©cor/Home DÃ©cor Accents              </td></tr>\n",
       "\t<tr><th scope=row>5</th><td>4</td><td>24K GOLD plated rose               </td><td>1</td><td>Women      </td><td>Jewelry            </td><td>Necklaces          </td><td>      </td><td>44</td><td>0</td><td>Complete with certificate of authenticity                                                                                                                                                   </td><td>Women/Jewelry/Necklaces                           </td></tr>\n",
       "\t<tr><th scope=row>6</th><td>5</td><td>Bundled items requested for Ruie   </td><td>3</td><td>Women      </td><td>Other              </td><td>Other              </td><td>      </td><td>59</td><td>0</td><td>Banana republic bottoms, Candies skirt with matching blazer,Amy Byers suit, Loft bottoms and cami top.                                                                                      </td><td>Women/Other/Other                                 </td></tr>\n",
       "</tbody>\n",
       "</table>\n"
      ],
      "text/latex": [
       "A data.frame: 6 × 11\n",
       "\\begin{tabular}{r|lllllllllll}\n",
       "  & train\\_id & name & item\\_condition\\_id & main\\_category & subcat\\_1 & subcat\\_2 & brand\\_name & price & shipping & item\\_description & category\\_name\\\\\n",
       "  & <int> & <chr> & <int> & <chr> & <chr> & <chr> & <chr> & <dbl> & <int> & <chr> & <chr>\\\\\n",
       "\\hline\n",
       "\t1 & 0 & MLB Cincinnati Reds T Shirt Size XL & 3 & Men         & Tops                & T-shirts            &        & 10 & 1 & No description yet                                                                                                                                                                           & Men/Tops/T-shirts                                 \\\\\n",
       "\t2 & 1 & Razer BlackWidow Chroma Keyboard    & 3 & Electronics & Computers \\& Tablets & Components \\& Parts  & Razer  & 52 & 0 & This keyboard is in great condition and works like it came out of the box. All of the ports are tested and work perfectly. The lights are customizable via the Razer Synapse app on your PC. & Electronics/Computers \\& Tablets/Components \\& Parts\\\\\n",
       "\t3 & 2 & AVA-VIV Blouse                      & 1 & Women       & Tops \\& Blouses      & Blouse              & Target & 10 & 1 & Adorable top with a hint of lace and a key hole in the back! The pale pink is a 1X, and I also have a 3X available in white!                                                                 & Women/Tops \\& Blouses/Blouse                       \\\\\n",
       "\t4 & 3 & Leather Horse Statues               & 1 & Home        & Home DÃ©cor         & Home DÃ©cor Accents &        & 35 & 1 & New with tags. Leather horses. Retail for {[}rm{]} each. Stand about a foot high. They are being sold as a pair. Any questions please ask. Free shipping. Just got out of storage                & Home/Home DÃ©cor/Home DÃ©cor Accents              \\\\\n",
       "\t5 & 4 & 24K GOLD plated rose                & 1 & Women       & Jewelry             & Necklaces           &        & 44 & 0 & Complete with certificate of authenticity                                                                                                                                                    & Women/Jewelry/Necklaces                           \\\\\n",
       "\t6 & 5 & Bundled items requested for Ruie    & 3 & Women       & Other               & Other               &        & 59 & 0 & Banana republic bottoms, Candies skirt with matching blazer,Amy Byers suit, Loft bottoms and cami top.                                                                                       & Women/Other/Other                                 \\\\\n",
       "\\end{tabular}\n"
      ],
      "text/markdown": [
       "\n",
       "A data.frame: 6 × 11\n",
       "\n",
       "| <!--/--> | train_id &lt;int&gt; | name &lt;chr&gt; | item_condition_id &lt;int&gt; | main_category &lt;chr&gt; | subcat_1 &lt;chr&gt; | subcat_2 &lt;chr&gt; | brand_name &lt;chr&gt; | price &lt;dbl&gt; | shipping &lt;int&gt; | item_description &lt;chr&gt; | category_name &lt;chr&gt; |\n",
       "|---|---|---|---|---|---|---|---|---|---|---|---|\n",
       "| 1 | 0 | MLB Cincinnati Reds T Shirt Size XL | 3 | Men         | Tops                | T-shirts            | <!----> | 10 | 1 | No description yet                                                                                                                                                                           | Men/Tops/T-shirts                                  |\n",
       "| 2 | 1 | Razer BlackWidow Chroma Keyboard    | 3 | Electronics | Computers &amp; Tablets | Components &amp; Parts  | Razer  | 52 | 0 | This keyboard is in great condition and works like it came out of the box. All of the ports are tested and work perfectly. The lights are customizable via the Razer Synapse app on your PC. | Electronics/Computers &amp; Tablets/Components &amp; Parts |\n",
       "| 3 | 2 | AVA-VIV Blouse                      | 1 | Women       | Tops &amp; Blouses      | Blouse              | Target | 10 | 1 | Adorable top with a hint of lace and a key hole in the back! The pale pink is a 1X, and I also have a 3X available in white!                                                                 | Women/Tops &amp; Blouses/Blouse                        |\n",
       "| 4 | 3 | Leather Horse Statues               | 1 | Home        | Home DÃ©cor         | Home DÃ©cor Accents | <!----> | 35 | 1 | New with tags. Leather horses. Retail for [rm] each. Stand about a foot high. They are being sold as a pair. Any questions please ask. Free shipping. Just got out of storage                | Home/Home DÃ©cor/Home DÃ©cor Accents               |\n",
       "| 5 | 4 | 24K GOLD plated rose                | 1 | Women       | Jewelry             | Necklaces           | <!----> | 44 | 0 | Complete with certificate of authenticity                                                                                                                                                    | Women/Jewelry/Necklaces                            |\n",
       "| 6 | 5 | Bundled items requested for Ruie    | 3 | Women       | Other               | Other               | <!----> | 59 | 0 | Banana republic bottoms, Candies skirt with matching blazer,Amy Byers suit, Loft bottoms and cami top.                                                                                       | Women/Other/Other                                  |\n",
       "\n"
      ],
      "text/plain": [
       "  train_id name                                item_condition_id main_category\n",
       "1 0        MLB Cincinnati Reds T Shirt Size XL 3                 Men          \n",
       "2 1        Razer BlackWidow Chroma Keyboard    3                 Electronics  \n",
       "3 2        AVA-VIV Blouse                      1                 Women        \n",
       "4 3        Leather Horse Statues               1                 Home         \n",
       "5 4        24K GOLD plated rose                1                 Women        \n",
       "6 5        Bundled items requested for Ruie    3                 Women        \n",
       "  subcat_1            subcat_2            brand_name price shipping\n",
       "1 Tops                T-shirts                       10    1       \n",
       "2 Computers & Tablets Components & Parts  Razer      52    0       \n",
       "3 Tops & Blouses      Blouse              Target     10    1       \n",
       "4 Home DÃ©cor         Home DÃ©cor Accents            35    1       \n",
       "5 Jewelry             Necklaces                      44    0       \n",
       "6 Other               Other                          59    0       \n",
       "  item_description                                                                                                                                                                            \n",
       "1 No description yet                                                                                                                                                                          \n",
       "2 This keyboard is in great condition and works like it came out of the box. All of the ports are tested and work perfectly. The lights are customizable via the Razer Synapse app on your PC.\n",
       "3 Adorable top with a hint of lace and a key hole in the back! The pale pink is a 1X, and I also have a 3X available in white!                                                                \n",
       "4 New with tags. Leather horses. Retail for [rm] each. Stand about a foot high. They are being sold as a pair. Any questions please ask. Free shipping. Just got out of storage               \n",
       "5 Complete with certificate of authenticity                                                                                                                                                   \n",
       "6 Banana republic bottoms, Candies skirt with matching blazer,Amy Byers suit, Loft bottoms and cami top.                                                                                      \n",
       "  category_name                                     \n",
       "1 Men/Tops/T-shirts                                 \n",
       "2 Electronics/Computers & Tablets/Components & Parts\n",
       "3 Women/Tops & Blouses/Blouse                       \n",
       "4 Home/Home DÃ©cor/Home DÃ©cor Accents              \n",
       "5 Women/Jewelry/Necklaces                           \n",
       "6 Women/Other/Other                                 "
      ]
     },
     "metadata": {},
     "output_type": "display_data"
    }
   ],
   "source": [
    "# Lets separate category variable into 3 categories\n",
    "\n",
    "category_name = train_df$category_name\n",
    "train_df = train_df %>% separate(category_name, c (\"main_category\", \"subcat_1\", \"subcat_2\"), sep=\"/\")\n",
    "train_df$category_name = category_name\n",
    "head(train_df)\n"
   ]
  },
  {
   "cell_type": "markdown",
   "id": "dd28c442",
   "metadata": {},
   "source": [
    "#Data cleaning / Pre-processing (outlier/missing values/categorical)\n",
    "#Analysis of regression taking the input only in the form of numbers and hence it is highly essential to convert the non - numeric data that we have to numeric data by providing them labels.\n",
    "\n",
    "#Label Encoding"
   ]
  },
  {
   "cell_type": "code",
   "execution_count": 10,
   "id": "7b7bd88a",
   "metadata": {},
   "outputs": [
    {
     "data": {
      "text/html": [
       "<table class=\"dataframe\">\n",
       "<caption>A data.frame: 5 × 18</caption>\n",
       "<thead>\n",
       "\t<tr><th></th><th scope=col>train_id</th><th scope=col>name</th><th scope=col>item_condition_id</th><th scope=col>brand_name</th><th scope=col>price</th><th scope=col>shipping</th><th scope=col>item_description</th><th scope=col>main_category</th><th scope=col>subcat_1</th><th scope=col>subcat_2</th><th scope=col>category_name</th><th scope=col>n_main_category</th><th scope=col>n_brand_name</th><th scope=col>n_subcat_1</th><th scope=col>n_subcat_2</th><th scope=col>description</th><th scope=col>clean_description</th><th scope=col>lower_clean_description</th></tr>\n",
       "\t<tr><th></th><th scope=col>&lt;int&gt;</th><th scope=col>&lt;chr&gt;</th><th scope=col>&lt;int&gt;</th><th scope=col>&lt;chr&gt;</th><th scope=col>&lt;dbl&gt;</th><th scope=col>&lt;int&gt;</th><th scope=col>&lt;chr&gt;</th><th scope=col>&lt;chr&gt;</th><th scope=col>&lt;chr&gt;</th><th scope=col>&lt;chr&gt;</th><th scope=col>&lt;chr&gt;</th><th scope=col>&lt;dbl&gt;</th><th scope=col>&lt;dbl&gt;</th><th scope=col>&lt;dbl&gt;</th><th scope=col>&lt;dbl&gt;</th><th scope=col>&lt;chr&gt;</th><th scope=col>&lt;chr&gt;</th><th scope=col>&lt;chr&gt;</th></tr>\n",
       "</thead>\n",
       "<tbody>\n",
       "\t<tr><th scope=row>2</th><td>1</td><td>Razer BlackWidow Chroma Keyboard</td><td>3</td><td>Razer </td><td>52</td><td>0</td><td>This keyboard is in great condition and works like it came out of the box. All of the ports are tested and work perfectly. The lights are customizable via the Razer Synapse app on your PC.</td><td>Electronics</td><td>Computers &amp; Tablets</td><td>Components &amp; Parts </td><td>Electronics/Computers &amp; Tablets/Components &amp; Parts</td><td>1</td><td>1</td><td>1</td><td>1</td><td><span style=white-space:pre-wrap>This keyboard is in great condition and works like it came out of the box  All of the ports are tested and work perfectly  The lights are customizable via the Razer Synapse app on your PC </span></td><td>This keyboard be in great condition and work like it come out of the box All of the port be test and work perfectly The light be customizable via the Razer Synapse app on your PC</td><td>this keyboard be in great condition and work like it come out of the box all of the port be test and work perfectly the light be customizable via the razer synapse app on your pc</td></tr>\n",
       "\t<tr><th scope=row>3</th><td>2</td><td><span style=white-space:pre-wrap>AVA-VIV Blouse                  </span></td><td>1</td><td>Target</td><td>10</td><td>1</td><td><span style=white-space:pre-wrap>Adorable top with a hint of lace and a key hole in the back! The pale pink is a 1X, and I also have a 3X available in white!                                                                </span></td><td><span style=white-space:pre-wrap>Women      </span></td><td><span style=white-space:pre-wrap>Tops &amp; Blouses     </span></td><td><span style=white-space:pre-wrap>Blouse             </span></td><td><span style=white-space:pre-wrap>Women/Tops &amp; Blouses/Blouse                       </span></td><td>2</td><td>2</td><td>2</td><td>2</td><td><span style=white-space:pre-wrap>Adorable top with a hint of lace and a key hole in the back  The pale pink is a 1X  and I also have a 3X available in white                                                                 </span></td><td><span style=white-space:pre-wrap>Adorable top with a hint of lace and a key hole in the back The pale pink be a 1X and I also have a 3X available in white                                                         </span></td><td><span style=white-space:pre-wrap>adorable top with a hint of lace and a key hole in the back the pale pink be a 1x and i also have a 3x available in white                                                         </span></td></tr>\n",
       "\t<tr><th scope=row>4</th><td>3</td><td>Leather Horse Statues           </td><td>1</td><td>      </td><td>35</td><td>1</td><td>New with tags. Leather horses. Retail for [rm] each. Stand about a foot high. They are being sold as a pair. Any questions please ask. Free shipping. Just got out of storage               </td><td>Home       </td><td>Home DÃ©cor        </td><td>Home DÃ©cor Accents</td><td>Home/Home DÃ©cor/Home DÃ©cor Accents              </td><td>3</td><td>0</td><td>3</td><td>3</td><td>New with tags  Leather horses  Retail for  rm  each  Stand about a foot high  They are being sold as a pair  Any questions please ask  Free shipping  Just got out of storage               </td><td>New with tag Leather horse Retail for rm each Stand about a foot high They be be sell as a pair Any question please ask Free ship Just get out of storage                         </td><td>new with tag leather horse retail for rm each stand about a foot high they be be sell as a pair any question please ask free ship just get out of storage                         </td></tr>\n",
       "\t<tr><th scope=row>5</th><td>4</td><td>24K GOLD plated rose            </td><td>1</td><td>      </td><td>44</td><td>0</td><td>Complete with certificate of authenticity                                                                                                                                                   </td><td>Women      </td><td>Jewelry            </td><td>Necklaces          </td><td>Women/Jewelry/Necklaces                           </td><td>2</td><td>0</td><td>4</td><td>4</td><td>Complete with certificate of authenticity                                                                                                                                                   </td><td>Complete with certificate of authenticity                                                                                                                                         </td><td>complete with certificate of authenticity                                                                                                                                         </td></tr>\n",
       "\t<tr><th scope=row>6</th><td>5</td><td>Bundled items requested for Ruie</td><td>3</td><td>      </td><td>59</td><td>0</td><td>Banana republic bottoms, Candies skirt with matching blazer,Amy Byers suit, Loft bottoms and cami top.                                                                                      </td><td>Women      </td><td>Other              </td><td>Other              </td><td>Women/Other/Other                                 </td><td>2</td><td>0</td><td>5</td><td>5</td><td>Banana republic bottoms  Candies skirt with matching blazer Amy Byers suit  Loft bottoms and cami top                                                                                       </td><td>Banana republic bottom candy skirt with match blazer Amy Byers suit Loft bottom and cami top                                                                                      </td><td>banana republic bottom candy skirt with match blazer amy byers suit loft bottom and cami top                                                                                      </td></tr>\n",
       "</tbody>\n",
       "</table>\n"
      ],
      "text/latex": [
       "A data.frame: 5 × 18\n",
       "\\begin{tabular}{r|llllllllllllllllll}\n",
       "  & train\\_id & name & item\\_condition\\_id & brand\\_name & price & shipping & item\\_description & main\\_category & subcat\\_1 & subcat\\_2 & category\\_name & n\\_main\\_category & n\\_brand\\_name & n\\_subcat\\_1 & n\\_subcat\\_2 & description & clean\\_description & lower\\_clean\\_description\\\\\n",
       "  & <int> & <chr> & <int> & <chr> & <dbl> & <int> & <chr> & <chr> & <chr> & <chr> & <chr> & <dbl> & <dbl> & <dbl> & <dbl> & <chr> & <chr> & <chr>\\\\\n",
       "\\hline\n",
       "\t2 & 1 & Razer BlackWidow Chroma Keyboard & 3 & Razer  & 52 & 0 & This keyboard is in great condition and works like it came out of the box. All of the ports are tested and work perfectly. The lights are customizable via the Razer Synapse app on your PC. & Electronics & Computers \\& Tablets & Components \\& Parts  & Electronics/Computers \\& Tablets/Components \\& Parts & 1 & 1 & 1 & 1 & This keyboard is in great condition and works like it came out of the box  All of the ports are tested and work perfectly  The lights are customizable via the Razer Synapse app on your PC  & This keyboard be in great condition and work like it come out of the box All of the port be test and work perfectly The light be customizable via the Razer Synapse app on your PC & this keyboard be in great condition and work like it come out of the box all of the port be test and work perfectly the light be customizable via the razer synapse app on your pc\\\\\n",
       "\t3 & 2 & AVA-VIV Blouse                   & 1 & Target & 10 & 1 & Adorable top with a hint of lace and a key hole in the back! The pale pink is a 1X, and I also have a 3X available in white!                                                                 & Women       & Tops \\& Blouses      & Blouse              & Women/Tops \\& Blouses/Blouse                        & 2 & 2 & 2 & 2 & Adorable top with a hint of lace and a key hole in the back  The pale pink is a 1X  and I also have a 3X available in white                                                                  & Adorable top with a hint of lace and a key hole in the back The pale pink be a 1X and I also have a 3X available in white                                                          & adorable top with a hint of lace and a key hole in the back the pale pink be a 1x and i also have a 3x available in white                                                         \\\\\n",
       "\t4 & 3 & Leather Horse Statues            & 1 &        & 35 & 1 & New with tags. Leather horses. Retail for {[}rm{]} each. Stand about a foot high. They are being sold as a pair. Any questions please ask. Free shipping. Just got out of storage                & Home        & Home DÃ©cor         & Home DÃ©cor Accents & Home/Home DÃ©cor/Home DÃ©cor Accents               & 3 & 0 & 3 & 3 & New with tags  Leather horses  Retail for  rm  each  Stand about a foot high  They are being sold as a pair  Any questions please ask  Free shipping  Just got out of storage                & New with tag Leather horse Retail for rm each Stand about a foot high They be be sell as a pair Any question please ask Free ship Just get out of storage                          & new with tag leather horse retail for rm each stand about a foot high they be be sell as a pair any question please ask free ship just get out of storage                         \\\\\n",
       "\t5 & 4 & 24K GOLD plated rose             & 1 &        & 44 & 0 & Complete with certificate of authenticity                                                                                                                                                    & Women       & Jewelry             & Necklaces           & Women/Jewelry/Necklaces                            & 2 & 0 & 4 & 4 & Complete with certificate of authenticity                                                                                                                                                    & Complete with certificate of authenticity                                                                                                                                          & complete with certificate of authenticity                                                                                                                                         \\\\\n",
       "\t6 & 5 & Bundled items requested for Ruie & 3 &        & 59 & 0 & Banana republic bottoms, Candies skirt with matching blazer,Amy Byers suit, Loft bottoms and cami top.                                                                                       & Women       & Other               & Other               & Women/Other/Other                                  & 2 & 0 & 5 & 5 & Banana republic bottoms  Candies skirt with matching blazer Amy Byers suit  Loft bottoms and cami top                                                                                        & Banana republic bottom candy skirt with match blazer Amy Byers suit Loft bottom and cami top                                                                                       & banana republic bottom candy skirt with match blazer amy byers suit loft bottom and cami top                                                                                      \\\\\n",
       "\\end{tabular}\n"
      ],
      "text/markdown": [
       "\n",
       "A data.frame: 5 × 18\n",
       "\n",
       "| <!--/--> | train_id &lt;int&gt; | name &lt;chr&gt; | item_condition_id &lt;int&gt; | brand_name &lt;chr&gt; | price &lt;dbl&gt; | shipping &lt;int&gt; | item_description &lt;chr&gt; | main_category &lt;chr&gt; | subcat_1 &lt;chr&gt; | subcat_2 &lt;chr&gt; | category_name &lt;chr&gt; | n_main_category &lt;dbl&gt; | n_brand_name &lt;dbl&gt; | n_subcat_1 &lt;dbl&gt; | n_subcat_2 &lt;dbl&gt; | description &lt;chr&gt; | clean_description &lt;chr&gt; | lower_clean_description &lt;chr&gt; |\n",
       "|---|---|---|---|---|---|---|---|---|---|---|---|---|---|---|---|---|---|---|\n",
       "| 2 | 1 | Razer BlackWidow Chroma Keyboard | 3 | Razer  | 52 | 0 | This keyboard is in great condition and works like it came out of the box. All of the ports are tested and work perfectly. The lights are customizable via the Razer Synapse app on your PC. | Electronics | Computers &amp; Tablets | Components &amp; Parts  | Electronics/Computers &amp; Tablets/Components &amp; Parts | 1 | 1 | 1 | 1 | This keyboard is in great condition and works like it came out of the box  All of the ports are tested and work perfectly  The lights are customizable via the Razer Synapse app on your PC  | This keyboard be in great condition and work like it come out of the box All of the port be test and work perfectly The light be customizable via the Razer Synapse app on your PC | this keyboard be in great condition and work like it come out of the box all of the port be test and work perfectly the light be customizable via the razer synapse app on your pc |\n",
       "| 3 | 2 | AVA-VIV Blouse                   | 1 | Target | 10 | 1 | Adorable top with a hint of lace and a key hole in the back! The pale pink is a 1X, and I also have a 3X available in white!                                                                 | Women       | Tops &amp; Blouses      | Blouse              | Women/Tops &amp; Blouses/Blouse                        | 2 | 2 | 2 | 2 | Adorable top with a hint of lace and a key hole in the back  The pale pink is a 1X  and I also have a 3X available in white                                                                  | Adorable top with a hint of lace and a key hole in the back The pale pink be a 1X and I also have a 3X available in white                                                          | adorable top with a hint of lace and a key hole in the back the pale pink be a 1x and i also have a 3x available in white                                                          |\n",
       "| 4 | 3 | Leather Horse Statues            | 1 | <!----> | 35 | 1 | New with tags. Leather horses. Retail for [rm] each. Stand about a foot high. They are being sold as a pair. Any questions please ask. Free shipping. Just got out of storage                | Home        | Home DÃ©cor         | Home DÃ©cor Accents | Home/Home DÃ©cor/Home DÃ©cor Accents               | 3 | 0 | 3 | 3 | New with tags  Leather horses  Retail for  rm  each  Stand about a foot high  They are being sold as a pair  Any questions please ask  Free shipping  Just got out of storage                | New with tag Leather horse Retail for rm each Stand about a foot high They be be sell as a pair Any question please ask Free ship Just get out of storage                          | new with tag leather horse retail for rm each stand about a foot high they be be sell as a pair any question please ask free ship just get out of storage                          |\n",
       "| 5 | 4 | 24K GOLD plated rose             | 1 | <!----> | 44 | 0 | Complete with certificate of authenticity                                                                                                                                                    | Women       | Jewelry             | Necklaces           | Women/Jewelry/Necklaces                            | 2 | 0 | 4 | 4 | Complete with certificate of authenticity                                                                                                                                                    | Complete with certificate of authenticity                                                                                                                                          | complete with certificate of authenticity                                                                                                                                          |\n",
       "| 6 | 5 | Bundled items requested for Ruie | 3 | <!----> | 59 | 0 | Banana republic bottoms, Candies skirt with matching blazer,Amy Byers suit, Loft bottoms and cami top.                                                                                       | Women       | Other               | Other               | Women/Other/Other                                  | 2 | 0 | 5 | 5 | Banana republic bottoms  Candies skirt with matching blazer Amy Byers suit  Loft bottoms and cami top                                                                                        | Banana republic bottom candy skirt with match blazer Amy Byers suit Loft bottom and cami top                                                                                       | banana republic bottom candy skirt with match blazer amy byers suit loft bottom and cami top                                                                                       |\n",
       "\n"
      ],
      "text/plain": [
       "  train_id name                             item_condition_id brand_name price\n",
       "2 1        Razer BlackWidow Chroma Keyboard 3                 Razer      52   \n",
       "3 2        AVA-VIV Blouse                   1                 Target     10   \n",
       "4 3        Leather Horse Statues            1                            35   \n",
       "5 4        24K GOLD plated rose             1                            44   \n",
       "6 5        Bundled items requested for Ruie 3                            59   \n",
       "  shipping\n",
       "2 0       \n",
       "3 1       \n",
       "4 1       \n",
       "5 0       \n",
       "6 0       \n",
       "  item_description                                                                                                                                                                            \n",
       "2 This keyboard is in great condition and works like it came out of the box. All of the ports are tested and work perfectly. The lights are customizable via the Razer Synapse app on your PC.\n",
       "3 Adorable top with a hint of lace and a key hole in the back! The pale pink is a 1X, and I also have a 3X available in white!                                                                \n",
       "4 New with tags. Leather horses. Retail for [rm] each. Stand about a foot high. They are being sold as a pair. Any questions please ask. Free shipping. Just got out of storage               \n",
       "5 Complete with certificate of authenticity                                                                                                                                                   \n",
       "6 Banana republic bottoms, Candies skirt with matching blazer,Amy Byers suit, Loft bottoms and cami top.                                                                                      \n",
       "  main_category subcat_1            subcat_2           \n",
       "2 Electronics   Computers & Tablets Components & Parts \n",
       "3 Women         Tops & Blouses      Blouse             \n",
       "4 Home          Home DÃ©cor         Home DÃ©cor Accents\n",
       "5 Women         Jewelry             Necklaces          \n",
       "6 Women         Other               Other              \n",
       "  category_name                                      n_main_category\n",
       "2 Electronics/Computers & Tablets/Components & Parts 1              \n",
       "3 Women/Tops & Blouses/Blouse                        2              \n",
       "4 Home/Home DÃ©cor/Home DÃ©cor Accents               3              \n",
       "5 Women/Jewelry/Necklaces                            2              \n",
       "6 Women/Other/Other                                  2              \n",
       "  n_brand_name n_subcat_1 n_subcat_2\n",
       "2 1            1          1         \n",
       "3 2            2          2         \n",
       "4 0            3          3         \n",
       "5 0            4          4         \n",
       "6 0            5          5         \n",
       "  description                                                                                                                                                                                 \n",
       "2 This keyboard is in great condition and works like it came out of the box  All of the ports are tested and work perfectly  The lights are customizable via the Razer Synapse app on your PC \n",
       "3 Adorable top with a hint of lace and a key hole in the back  The pale pink is a 1X  and I also have a 3X available in white                                                                 \n",
       "4 New with tags  Leather horses  Retail for  rm  each  Stand about a foot high  They are being sold as a pair  Any questions please ask  Free shipping  Just got out of storage               \n",
       "5 Complete with certificate of authenticity                                                                                                                                                   \n",
       "6 Banana republic bottoms  Candies skirt with matching blazer Amy Byers suit  Loft bottoms and cami top                                                                                       \n",
       "  clean_description                                                                                                                                                                 \n",
       "2 This keyboard be in great condition and work like it come out of the box All of the port be test and work perfectly The light be customizable via the Razer Synapse app on your PC\n",
       "3 Adorable top with a hint of lace and a key hole in the back The pale pink be a 1X and I also have a 3X available in white                                                         \n",
       "4 New with tag Leather horse Retail for rm each Stand about a foot high They be be sell as a pair Any question please ask Free ship Just get out of storage                         \n",
       "5 Complete with certificate of authenticity                                                                                                                                         \n",
       "6 Banana republic bottom candy skirt with match blazer Amy Byers suit Loft bottom and cami top                                                                                      \n",
       "  lower_clean_description                                                                                                                                                           \n",
       "2 this keyboard be in great condition and work like it come out of the box all of the port be test and work perfectly the light be customizable via the razer synapse app on your pc\n",
       "3 adorable top with a hint of lace and a key hole in the back the pale pink be a 1x and i also have a 3x available in white                                                         \n",
       "4 new with tag leather horse retail for rm each stand about a foot high they be be sell as a pair any question please ask free ship just get out of storage                         \n",
       "5 complete with certificate of authenticity                                                                                                                                         \n",
       "6 banana republic bottom candy skirt with match blazer amy byers suit loft bottom and cami top                                                                                      "
      ]
     },
     "metadata": {},
     "output_type": "display_data"
    }
   ],
   "source": [
    "#Text Cleaning\n",
    "#Removing the rows which is not having proper description\n",
    "\n",
    "train_df <- subset(train_df, item_description != \"No description yet\")\n",
    "#replace unwanted symbols\n",
    "train_df$description = str_replace_all(train_df$item_description, \"[[:punct:]]\", \" \")\n",
    "#Lemmatization\n",
    "train_df$clean_description = lemmatize_strings(train_df$description)\n",
    "# Making all the text lower case\n",
    "train_df$lower_clean_description = tolower(train_df$clean_description)\n",
    "head(train_df,5)"
   ]
  },
  {
   "cell_type": "code",
   "execution_count": 9,
   "id": "300e1a36",
   "metadata": {},
   "outputs": [],
   "source": [
    "train_df= read.csv(file='train.tsv', sep='\\t', header=TRUE)\n",
    "test_df= read.csv(file='test.tsv', sep='\\t', header=TRUE)\n"
   ]
  },
  {
   "cell_type": "code",
   "execution_count": 11,
   "id": "23778049",
   "metadata": {},
   "outputs": [
    {
     "data": {
      "text/html": [
       "<table class=\"dataframe\">\n",
       "<caption>A data.frame: 6 × 8</caption>\n",
       "<thead>\n",
       "\t<tr><th></th><th scope=col>train_id</th><th scope=col>name</th><th scope=col>item_condition_id</th><th scope=col>category_name</th><th scope=col>brand_name</th><th scope=col>price</th><th scope=col>shipping</th><th scope=col>item_description</th></tr>\n",
       "\t<tr><th></th><th scope=col>&lt;int&gt;</th><th scope=col>&lt;chr&gt;</th><th scope=col>&lt;int&gt;</th><th scope=col>&lt;chr&gt;</th><th scope=col>&lt;chr&gt;</th><th scope=col>&lt;dbl&gt;</th><th scope=col>&lt;int&gt;</th><th scope=col>&lt;chr&gt;</th></tr>\n",
       "</thead>\n",
       "<tbody>\n",
       "\t<tr><th scope=row>1</th><td>0</td><td>MLB Cincinnati Reds T Shirt Size XL</td><td>3</td><td>Men/Tops/T-shirts                                 </td><td>      </td><td>10</td><td>1</td><td>No description yet                                                                                                                                                                          </td></tr>\n",
       "\t<tr><th scope=row>2</th><td>1</td><td><span style=white-space:pre-wrap>Razer BlackWidow Chroma Keyboard   </span></td><td>3</td><td>Electronics/Computers &amp; Tablets/Components &amp; Parts</td><td>Razer </td><td>52</td><td>0</td><td>This keyboard is in great condition and works like it came out of the box. All of the ports are tested and work perfectly. The lights are customizable via the Razer Synapse app on your PC.</td></tr>\n",
       "\t<tr><th scope=row>3</th><td>2</td><td><span style=white-space:pre-wrap>AVA-VIV Blouse                     </span></td><td>1</td><td><span style=white-space:pre-wrap>Women/Tops &amp; Blouses/Blouse                       </span></td><td>Target</td><td>10</td><td>1</td><td><span style=white-space:pre-wrap>Adorable top with a hint of lace and a key hole in the back! The pale pink is a 1X, and I also have a 3X available in white!                                                                </span></td></tr>\n",
       "\t<tr><th scope=row>4</th><td>3</td><td>Leather Horse Statues              </td><td>1</td><td>Home/Home DÃ©cor/Home DÃ©cor Accents              </td><td>      </td><td>35</td><td>1</td><td>New with tags. Leather horses. Retail for [rm] each. Stand about a foot high. They are being sold as a pair. Any questions please ask. Free shipping. Just got out of storage               </td></tr>\n",
       "\t<tr><th scope=row>5</th><td>4</td><td>24K GOLD plated rose               </td><td>1</td><td>Women/Jewelry/Necklaces                           </td><td>      </td><td>44</td><td>0</td><td>Complete with certificate of authenticity                                                                                                                                                   </td></tr>\n",
       "\t<tr><th scope=row>6</th><td>5</td><td>Bundled items requested for Ruie   </td><td>3</td><td>Women/Other/Other                                 </td><td>      </td><td>59</td><td>0</td><td>Banana republic bottoms, Candies skirt with matching blazer,Amy Byers suit, Loft bottoms and cami top.                                                                                      </td></tr>\n",
       "</tbody>\n",
       "</table>\n"
      ],
      "text/latex": [
       "A data.frame: 6 × 8\n",
       "\\begin{tabular}{r|llllllll}\n",
       "  & train\\_id & name & item\\_condition\\_id & category\\_name & brand\\_name & price & shipping & item\\_description\\\\\n",
       "  & <int> & <chr> & <int> & <chr> & <chr> & <dbl> & <int> & <chr>\\\\\n",
       "\\hline\n",
       "\t1 & 0 & MLB Cincinnati Reds T Shirt Size XL & 3 & Men/Tops/T-shirts                                  &        & 10 & 1 & No description yet                                                                                                                                                                          \\\\\n",
       "\t2 & 1 & Razer BlackWidow Chroma Keyboard    & 3 & Electronics/Computers \\& Tablets/Components \\& Parts & Razer  & 52 & 0 & This keyboard is in great condition and works like it came out of the box. All of the ports are tested and work perfectly. The lights are customizable via the Razer Synapse app on your PC.\\\\\n",
       "\t3 & 2 & AVA-VIV Blouse                      & 1 & Women/Tops \\& Blouses/Blouse                        & Target & 10 & 1 & Adorable top with a hint of lace and a key hole in the back! The pale pink is a 1X, and I also have a 3X available in white!                                                                \\\\\n",
       "\t4 & 3 & Leather Horse Statues               & 1 & Home/Home DÃ©cor/Home DÃ©cor Accents               &        & 35 & 1 & New with tags. Leather horses. Retail for {[}rm{]} each. Stand about a foot high. They are being sold as a pair. Any questions please ask. Free shipping. Just got out of storage               \\\\\n",
       "\t5 & 4 & 24K GOLD plated rose                & 1 & Women/Jewelry/Necklaces                            &        & 44 & 0 & Complete with certificate of authenticity                                                                                                                                                   \\\\\n",
       "\t6 & 5 & Bundled items requested for Ruie    & 3 & Women/Other/Other                                  &        & 59 & 0 & Banana republic bottoms, Candies skirt with matching blazer,Amy Byers suit, Loft bottoms and cami top.                                                                                      \\\\\n",
       "\\end{tabular}\n"
      ],
      "text/markdown": [
       "\n",
       "A data.frame: 6 × 8\n",
       "\n",
       "| <!--/--> | train_id &lt;int&gt; | name &lt;chr&gt; | item_condition_id &lt;int&gt; | category_name &lt;chr&gt; | brand_name &lt;chr&gt; | price &lt;dbl&gt; | shipping &lt;int&gt; | item_description &lt;chr&gt; |\n",
       "|---|---|---|---|---|---|---|---|---|\n",
       "| 1 | 0 | MLB Cincinnati Reds T Shirt Size XL | 3 | Men/Tops/T-shirts                                  | <!----> | 10 | 1 | No description yet                                                                                                                                                                           |\n",
       "| 2 | 1 | Razer BlackWidow Chroma Keyboard    | 3 | Electronics/Computers &amp; Tablets/Components &amp; Parts | Razer  | 52 | 0 | This keyboard is in great condition and works like it came out of the box. All of the ports are tested and work perfectly. The lights are customizable via the Razer Synapse app on your PC. |\n",
       "| 3 | 2 | AVA-VIV Blouse                      | 1 | Women/Tops &amp; Blouses/Blouse                        | Target | 10 | 1 | Adorable top with a hint of lace and a key hole in the back! The pale pink is a 1X, and I also have a 3X available in white!                                                                 |\n",
       "| 4 | 3 | Leather Horse Statues               | 1 | Home/Home DÃ©cor/Home DÃ©cor Accents               | <!----> | 35 | 1 | New with tags. Leather horses. Retail for [rm] each. Stand about a foot high. They are being sold as a pair. Any questions please ask. Free shipping. Just got out of storage                |\n",
       "| 5 | 4 | 24K GOLD plated rose                | 1 | Women/Jewelry/Necklaces                            | <!----> | 44 | 0 | Complete with certificate of authenticity                                                                                                                                                    |\n",
       "| 6 | 5 | Bundled items requested for Ruie    | 3 | Women/Other/Other                                  | <!----> | 59 | 0 | Banana republic bottoms, Candies skirt with matching blazer,Amy Byers suit, Loft bottoms and cami top.                                                                                       |\n",
       "\n"
      ],
      "text/plain": [
       "  train_id name                                item_condition_id\n",
       "1 0        MLB Cincinnati Reds T Shirt Size XL 3                \n",
       "2 1        Razer BlackWidow Chroma Keyboard    3                \n",
       "3 2        AVA-VIV Blouse                      1                \n",
       "4 3        Leather Horse Statues               1                \n",
       "5 4        24K GOLD plated rose                1                \n",
       "6 5        Bundled items requested for Ruie    3                \n",
       "  category_name                                      brand_name price shipping\n",
       "1 Men/Tops/T-shirts                                             10    1       \n",
       "2 Electronics/Computers & Tablets/Components & Parts Razer      52    0       \n",
       "3 Women/Tops & Blouses/Blouse                        Target     10    1       \n",
       "4 Home/Home DÃ©cor/Home DÃ©cor Accents                          35    1       \n",
       "5 Women/Jewelry/Necklaces                                       44    0       \n",
       "6 Women/Other/Other                                             59    0       \n",
       "  item_description                                                                                                                                                                            \n",
       "1 No description yet                                                                                                                                                                          \n",
       "2 This keyboard is in great condition and works like it came out of the box. All of the ports are tested and work perfectly. The lights are customizable via the Razer Synapse app on your PC.\n",
       "3 Adorable top with a hint of lace and a key hole in the back! The pale pink is a 1X, and I also have a 3X available in white!                                                                \n",
       "4 New with tags. Leather horses. Retail for [rm] each. Stand about a foot high. They are being sold as a pair. Any questions please ask. Free shipping. Just got out of storage               \n",
       "5 Complete with certificate of authenticity                                                                                                                                                   \n",
       "6 Banana republic bottoms, Candies skirt with matching blazer,Amy Byers suit, Loft bottoms and cami top.                                                                                      "
      ]
     },
     "metadata": {},
     "output_type": "display_data"
    }
   ],
   "source": [
    "head(train_df)"
   ]
  },
  {
   "cell_type": "code",
   "execution_count": 13,
   "id": "af3c68b7",
   "metadata": {},
   "outputs": [
    {
     "data": {
      "text/html": [
       "<table class=\"dataframe\">\n",
       "<caption>A data.frame: 6 × 7</caption>\n",
       "<thead>\n",
       "\t<tr><th></th><th scope=col>test_id</th><th scope=col>name</th><th scope=col>item_condition_id</th><th scope=col>category_name</th><th scope=col>brand_name</th><th scope=col>shipping</th><th scope=col>item_description</th></tr>\n",
       "\t<tr><th></th><th scope=col>&lt;int&gt;</th><th scope=col>&lt;chr&gt;</th><th scope=col>&lt;int&gt;</th><th scope=col>&lt;chr&gt;</th><th scope=col>&lt;chr&gt;</th><th scope=col>&lt;int&gt;</th><th scope=col>&lt;chr&gt;</th></tr>\n",
       "</thead>\n",
       "<tbody>\n",
       "\t<tr><th scope=row>1</th><td>0</td><td>Breast cancer \"I fight like a girl\" ring</td><td>1</td><td>Women/Jewelry/Rings                                        </td><td>     </td><td>1</td><td>Size 7                                                                                                                                                                                                                                                     </td></tr>\n",
       "\t<tr><th scope=row>2</th><td>1</td><td>25 pcs NEW 7.5\"x12\" Kraft Bubble Mailers</td><td>1</td><td>Other/Office supplies/Shipping Supplies                    </td><td>     </td><td>1</td><td>25 pcs NEW 7.5\"x12\" Kraft Bubble Mailers Lined with bubble wrap for protection Self Sealing (peel-and-seal), adhesive keeps contents secure and tamper proof Durable and lightweight Kraft material helps save on postage Approved by UPS, FedEx, and USPS.</td></tr>\n",
       "\t<tr><th scope=row>3</th><td>2</td><td><span style=white-space:pre-wrap>Coach bag                               </span></td><td>1</td><td><span style=white-space:pre-wrap>Vintage &amp; Collectibles/Bags and Purses/Handbag             </span></td><td>Coach</td><td>1</td><td><span style=white-space:pre-wrap>Brand new coach bag. Bought for [rm] at a Coach outlet.                                                                                                                                                                                                    </span></td></tr>\n",
       "\t<tr><th scope=row>4</th><td>3</td><td>Floral Kimono                           </td><td>2</td><td>Women/Sweaters/Cardigan                                    </td><td>     </td><td>0</td><td>-floral kimono -never worn -lightweight and perfect for hot weather                                                                                                                                                                                        </td></tr>\n",
       "\t<tr><th scope=row>5</th><td>4</td><td><span style=white-space:pre-wrap>Life after Death                        </span></td><td>3</td><td><span style=white-space:pre-wrap>Other/Books/Religion &amp; Spirituality                        </span></td><td><span style=white-space:pre-wrap>     </span></td><td>1</td><td><span style=white-space:pre-wrap>Rediscovering life after the loss of a loved one by Tony Cooke. Paperback in good condition 2003. â¤ â¤ Bundle and save! â¤ â¤ Book, death, grief, bereavement SHLF.SW.5.15                                                                            </span></td></tr>\n",
       "\t<tr><th scope=row>6</th><td>5</td><td>iPhone 6 Plus or 6s Plus Vodka pink case</td><td>1</td><td>Electronics/Cell Phones &amp; Accessories/Cases, Covers &amp; Skins</td><td><span style=white-space:pre-wrap>     </span></td><td>1</td><td><span style=white-space:pre-wrap>One Absolut Vodka in Pink for iPhone 6 Plus and also fits the 6s Plus iPhone. These are made of a flexible rubber material. Brand new case Also have in 6 and 6s size in pink Size: iPhone 6 Plus and 6s Plus Free shipping                                </span></td></tr>\n",
       "</tbody>\n",
       "</table>\n"
      ],
      "text/latex": [
       "A data.frame: 6 × 7\n",
       "\\begin{tabular}{r|lllllll}\n",
       "  & test\\_id & name & item\\_condition\\_id & category\\_name & brand\\_name & shipping & item\\_description\\\\\n",
       "  & <int> & <chr> & <int> & <chr> & <chr> & <int> & <chr>\\\\\n",
       "\\hline\n",
       "\t1 & 0 & Breast cancer \"I fight like a girl\" ring & 1 & Women/Jewelry/Rings                                         &       & 1 & Size 7                                                                                                                                                                                                                                                     \\\\\n",
       "\t2 & 1 & 25 pcs NEW 7.5\"x12\" Kraft Bubble Mailers & 1 & Other/Office supplies/Shipping Supplies                     &       & 1 & 25 pcs NEW 7.5\"x12\" Kraft Bubble Mailers Lined with bubble wrap for protection Self Sealing (peel-and-seal), adhesive keeps contents secure and tamper proof Durable and lightweight Kraft material helps save on postage Approved by UPS, FedEx, and USPS.\\\\\n",
       "\t3 & 2 & Coach bag                                & 1 & Vintage \\& Collectibles/Bags and Purses/Handbag              & Coach & 1 & Brand new coach bag. Bought for {[}rm{]} at a Coach outlet.                                                                                                                                                                                                    \\\\\n",
       "\t4 & 3 & Floral Kimono                            & 2 & Women/Sweaters/Cardigan                                     &       & 0 & -floral kimono -never worn -lightweight and perfect for hot weather                                                                                                                                                                                        \\\\\n",
       "\t5 & 4 & Life after Death                         & 3 & Other/Books/Religion \\& Spirituality                         &       & 1 & Rediscovering life after the loss of a loved one by Tony Cooke. Paperback in good condition 2003. â¤ â¤ Bundle and save! â¤ â¤ Book, death, grief, bereavement SHLF.SW.5.15                                                                            \\\\\n",
       "\t6 & 5 & iPhone 6 Plus or 6s Plus Vodka pink case & 1 & Electronics/Cell Phones \\& Accessories/Cases, Covers \\& Skins &       & 1 & One Absolut Vodka in Pink for iPhone 6 Plus and also fits the 6s Plus iPhone. These are made of a flexible rubber material. Brand new case Also have in 6 and 6s size in pink Size: iPhone 6 Plus and 6s Plus Free shipping                                \\\\\n",
       "\\end{tabular}\n"
      ],
      "text/markdown": [
       "\n",
       "A data.frame: 6 × 7\n",
       "\n",
       "| <!--/--> | test_id &lt;int&gt; | name &lt;chr&gt; | item_condition_id &lt;int&gt; | category_name &lt;chr&gt; | brand_name &lt;chr&gt; | shipping &lt;int&gt; | item_description &lt;chr&gt; |\n",
       "|---|---|---|---|---|---|---|---|\n",
       "| 1 | 0 | Breast cancer \"I fight like a girl\" ring | 1 | Women/Jewelry/Rings                                         | <!----> | 1 | Size 7                                                                                                                                                                                                                                                      |\n",
       "| 2 | 1 | 25 pcs NEW 7.5\"x12\" Kraft Bubble Mailers | 1 | Other/Office supplies/Shipping Supplies                     | <!----> | 1 | 25 pcs NEW 7.5\"x12\" Kraft Bubble Mailers Lined with bubble wrap for protection Self Sealing (peel-and-seal), adhesive keeps contents secure and tamper proof Durable and lightweight Kraft material helps save on postage Approved by UPS, FedEx, and USPS. |\n",
       "| 3 | 2 | Coach bag                                | 1 | Vintage &amp; Collectibles/Bags and Purses/Handbag              | Coach | 1 | Brand new coach bag. Bought for [rm] at a Coach outlet.                                                                                                                                                                                                     |\n",
       "| 4 | 3 | Floral Kimono                            | 2 | Women/Sweaters/Cardigan                                     | <!----> | 0 | -floral kimono -never worn -lightweight and perfect for hot weather                                                                                                                                                                                         |\n",
       "| 5 | 4 | Life after Death                         | 3 | Other/Books/Religion &amp; Spirituality                         | <!----> | 1 | Rediscovering life after the loss of a loved one by Tony Cooke. Paperback in good condition 2003. â¤ â¤ Bundle and save! â¤ â¤ Book, death, grief, bereavement SHLF.SW.5.15                                                                             |\n",
       "| 6 | 5 | iPhone 6 Plus or 6s Plus Vodka pink case | 1 | Electronics/Cell Phones &amp; Accessories/Cases, Covers &amp; Skins | <!----> | 1 | One Absolut Vodka in Pink for iPhone 6 Plus and also fits the 6s Plus iPhone. These are made of a flexible rubber material. Brand new case Also have in 6 and 6s size in pink Size: iPhone 6 Plus and 6s Plus Free shipping                                 |\n",
       "\n"
      ],
      "text/plain": [
       "  test_id name                                     item_condition_id\n",
       "1 0       Breast cancer \"I fight like a girl\" ring 1                \n",
       "2 1       25 pcs NEW 7.5\"x12\" Kraft Bubble Mailers 1                \n",
       "3 2       Coach bag                                1                \n",
       "4 3       Floral Kimono                            2                \n",
       "5 4       Life after Death                         3                \n",
       "6 5       iPhone 6 Plus or 6s Plus Vodka pink case 1                \n",
       "  category_name                                               brand_name\n",
       "1 Women/Jewelry/Rings                                                   \n",
       "2 Other/Office supplies/Shipping Supplies                               \n",
       "3 Vintage & Collectibles/Bags and Purses/Handbag              Coach     \n",
       "4 Women/Sweaters/Cardigan                                               \n",
       "5 Other/Books/Religion & Spirituality                                   \n",
       "6 Electronics/Cell Phones & Accessories/Cases, Covers & Skins           \n",
       "  shipping\n",
       "1 1       \n",
       "2 1       \n",
       "3 1       \n",
       "4 0       \n",
       "5 1       \n",
       "6 1       \n",
       "  item_description                                                                                                                                                                                                                                           \n",
       "1 Size 7                                                                                                                                                                                                                                                     \n",
       "2 25 pcs NEW 7.5\"x12\" Kraft Bubble Mailers Lined with bubble wrap for protection Self Sealing (peel-and-seal), adhesive keeps contents secure and tamper proof Durable and lightweight Kraft material helps save on postage Approved by UPS, FedEx, and USPS.\n",
       "3 Brand new coach bag. Bought for [rm] at a Coach outlet.                                                                                                                                                                                                    \n",
       "4 -floral kimono -never worn -lightweight and perfect for hot weather                                                                                                                                                                                        \n",
       "5 Rediscovering life after the loss of a loved one by Tony Cooke. Paperback in good condition 2003. â\\235¤ â\\235¤ Bundle and save! â\\235¤ â\\235¤ Book, death, grief, bereavement SHLF.SW.5.15                                                                            \n",
       "6 One Absolut Vodka in Pink for iPhone 6 Plus and also fits the 6s Plus iPhone. These are made of a flexible rubber material. Brand new case Also have in 6 and 6s size in pink Size: iPhone 6 Plus and 6s Plus Free shipping                                "
      ]
     },
     "metadata": {},
     "output_type": "display_data"
    }
   ],
   "source": [
    "head(test_df)"
   ]
  },
  {
   "cell_type": "code",
   "execution_count": 14,
   "id": "9aacc84f",
   "metadata": {},
   "outputs": [
    {
     "data": {
      "text/html": [
       "<table class=\"dataframe\">\n",
       "<caption>A data.frame: 6 × 11</caption>\n",
       "<thead>\n",
       "\t<tr><th></th><th scope=col>train_id</th><th scope=col>name</th><th scope=col>item_condition_id</th><th scope=col>main_category</th><th scope=col>subcat_1</th><th scope=col>subcat_2</th><th scope=col>brand_name</th><th scope=col>price</th><th scope=col>shipping</th><th scope=col>item_description</th><th scope=col>category_name</th></tr>\n",
       "\t<tr><th></th><th scope=col>&lt;int&gt;</th><th scope=col>&lt;chr&gt;</th><th scope=col>&lt;int&gt;</th><th scope=col>&lt;chr&gt;</th><th scope=col>&lt;chr&gt;</th><th scope=col>&lt;chr&gt;</th><th scope=col>&lt;chr&gt;</th><th scope=col>&lt;dbl&gt;</th><th scope=col>&lt;int&gt;</th><th scope=col>&lt;chr&gt;</th><th scope=col>&lt;chr&gt;</th></tr>\n",
       "</thead>\n",
       "<tbody>\n",
       "\t<tr><th scope=row>1</th><td>0</td><td>MLB Cincinnati Reds T Shirt Size XL</td><td>3</td><td>Men        </td><td>Tops               </td><td>T-shirts           </td><td>      </td><td>10</td><td>1</td><td>No description yet                                                                                                                                                                          </td><td>Men/Tops/T-shirts                                 </td></tr>\n",
       "\t<tr><th scope=row>2</th><td>1</td><td><span style=white-space:pre-wrap>Razer BlackWidow Chroma Keyboard   </span></td><td>3</td><td>Electronics</td><td>Computers &amp; Tablets</td><td>Components &amp; Parts </td><td>Razer </td><td>52</td><td>0</td><td>This keyboard is in great condition and works like it came out of the box. All of the ports are tested and work perfectly. The lights are customizable via the Razer Synapse app on your PC.</td><td>Electronics/Computers &amp; Tablets/Components &amp; Parts</td></tr>\n",
       "\t<tr><th scope=row>3</th><td>2</td><td><span style=white-space:pre-wrap>AVA-VIV Blouse                     </span></td><td>1</td><td><span style=white-space:pre-wrap>Women      </span></td><td><span style=white-space:pre-wrap>Tops &amp; Blouses     </span></td><td><span style=white-space:pre-wrap>Blouse             </span></td><td>Target</td><td>10</td><td>1</td><td><span style=white-space:pre-wrap>Adorable top with a hint of lace and a key hole in the back! The pale pink is a 1X, and I also have a 3X available in white!                                                                </span></td><td><span style=white-space:pre-wrap>Women/Tops &amp; Blouses/Blouse                       </span></td></tr>\n",
       "\t<tr><th scope=row>4</th><td>3</td><td>Leather Horse Statues              </td><td>1</td><td>Home       </td><td>Home DÃ©cor        </td><td>Home DÃ©cor Accents</td><td>      </td><td>35</td><td>1</td><td>New with tags. Leather horses. Retail for [rm] each. Stand about a foot high. They are being sold as a pair. Any questions please ask. Free shipping. Just got out of storage               </td><td>Home/Home DÃ©cor/Home DÃ©cor Accents              </td></tr>\n",
       "\t<tr><th scope=row>5</th><td>4</td><td>24K GOLD plated rose               </td><td>1</td><td>Women      </td><td>Jewelry            </td><td>Necklaces          </td><td>      </td><td>44</td><td>0</td><td>Complete with certificate of authenticity                                                                                                                                                   </td><td>Women/Jewelry/Necklaces                           </td></tr>\n",
       "\t<tr><th scope=row>6</th><td>5</td><td>Bundled items requested for Ruie   </td><td>3</td><td>Women      </td><td>Other              </td><td>Other              </td><td>      </td><td>59</td><td>0</td><td>Banana republic bottoms, Candies skirt with matching blazer,Amy Byers suit, Loft bottoms and cami top.                                                                                      </td><td>Women/Other/Other                                 </td></tr>\n",
       "</tbody>\n",
       "</table>\n"
      ],
      "text/latex": [
       "A data.frame: 6 × 11\n",
       "\\begin{tabular}{r|lllllllllll}\n",
       "  & train\\_id & name & item\\_condition\\_id & main\\_category & subcat\\_1 & subcat\\_2 & brand\\_name & price & shipping & item\\_description & category\\_name\\\\\n",
       "  & <int> & <chr> & <int> & <chr> & <chr> & <chr> & <chr> & <dbl> & <int> & <chr> & <chr>\\\\\n",
       "\\hline\n",
       "\t1 & 0 & MLB Cincinnati Reds T Shirt Size XL & 3 & Men         & Tops                & T-shirts            &        & 10 & 1 & No description yet                                                                                                                                                                           & Men/Tops/T-shirts                                 \\\\\n",
       "\t2 & 1 & Razer BlackWidow Chroma Keyboard    & 3 & Electronics & Computers \\& Tablets & Components \\& Parts  & Razer  & 52 & 0 & This keyboard is in great condition and works like it came out of the box. All of the ports are tested and work perfectly. The lights are customizable via the Razer Synapse app on your PC. & Electronics/Computers \\& Tablets/Components \\& Parts\\\\\n",
       "\t3 & 2 & AVA-VIV Blouse                      & 1 & Women       & Tops \\& Blouses      & Blouse              & Target & 10 & 1 & Adorable top with a hint of lace and a key hole in the back! The pale pink is a 1X, and I also have a 3X available in white!                                                                 & Women/Tops \\& Blouses/Blouse                       \\\\\n",
       "\t4 & 3 & Leather Horse Statues               & 1 & Home        & Home DÃ©cor         & Home DÃ©cor Accents &        & 35 & 1 & New with tags. Leather horses. Retail for {[}rm{]} each. Stand about a foot high. They are being sold as a pair. Any questions please ask. Free shipping. Just got out of storage                & Home/Home DÃ©cor/Home DÃ©cor Accents              \\\\\n",
       "\t5 & 4 & 24K GOLD plated rose                & 1 & Women       & Jewelry             & Necklaces           &        & 44 & 0 & Complete with certificate of authenticity                                                                                                                                                    & Women/Jewelry/Necklaces                           \\\\\n",
       "\t6 & 5 & Bundled items requested for Ruie    & 3 & Women       & Other               & Other               &        & 59 & 0 & Banana republic bottoms, Candies skirt with matching blazer,Amy Byers suit, Loft bottoms and cami top.                                                                                       & Women/Other/Other                                 \\\\\n",
       "\\end{tabular}\n"
      ],
      "text/markdown": [
       "\n",
       "A data.frame: 6 × 11\n",
       "\n",
       "| <!--/--> | train_id &lt;int&gt; | name &lt;chr&gt; | item_condition_id &lt;int&gt; | main_category &lt;chr&gt; | subcat_1 &lt;chr&gt; | subcat_2 &lt;chr&gt; | brand_name &lt;chr&gt; | price &lt;dbl&gt; | shipping &lt;int&gt; | item_description &lt;chr&gt; | category_name &lt;chr&gt; |\n",
       "|---|---|---|---|---|---|---|---|---|---|---|---|\n",
       "| 1 | 0 | MLB Cincinnati Reds T Shirt Size XL | 3 | Men         | Tops                | T-shirts            | <!----> | 10 | 1 | No description yet                                                                                                                                                                           | Men/Tops/T-shirts                                  |\n",
       "| 2 | 1 | Razer BlackWidow Chroma Keyboard    | 3 | Electronics | Computers &amp; Tablets | Components &amp; Parts  | Razer  | 52 | 0 | This keyboard is in great condition and works like it came out of the box. All of the ports are tested and work perfectly. The lights are customizable via the Razer Synapse app on your PC. | Electronics/Computers &amp; Tablets/Components &amp; Parts |\n",
       "| 3 | 2 | AVA-VIV Blouse                      | 1 | Women       | Tops &amp; Blouses      | Blouse              | Target | 10 | 1 | Adorable top with a hint of lace and a key hole in the back! The pale pink is a 1X, and I also have a 3X available in white!                                                                 | Women/Tops &amp; Blouses/Blouse                        |\n",
       "| 4 | 3 | Leather Horse Statues               | 1 | Home        | Home DÃ©cor         | Home DÃ©cor Accents | <!----> | 35 | 1 | New with tags. Leather horses. Retail for [rm] each. Stand about a foot high. They are being sold as a pair. Any questions please ask. Free shipping. Just got out of storage                | Home/Home DÃ©cor/Home DÃ©cor Accents               |\n",
       "| 5 | 4 | 24K GOLD plated rose                | 1 | Women       | Jewelry             | Necklaces           | <!----> | 44 | 0 | Complete with certificate of authenticity                                                                                                                                                    | Women/Jewelry/Necklaces                            |\n",
       "| 6 | 5 | Bundled items requested for Ruie    | 3 | Women       | Other               | Other               | <!----> | 59 | 0 | Banana republic bottoms, Candies skirt with matching blazer,Amy Byers suit, Loft bottoms and cami top.                                                                                       | Women/Other/Other                                  |\n",
       "\n"
      ],
      "text/plain": [
       "  train_id name                                item_condition_id main_category\n",
       "1 0        MLB Cincinnati Reds T Shirt Size XL 3                 Men          \n",
       "2 1        Razer BlackWidow Chroma Keyboard    3                 Electronics  \n",
       "3 2        AVA-VIV Blouse                      1                 Women        \n",
       "4 3        Leather Horse Statues               1                 Home         \n",
       "5 4        24K GOLD plated rose                1                 Women        \n",
       "6 5        Bundled items requested for Ruie    3                 Women        \n",
       "  subcat_1            subcat_2            brand_name price shipping\n",
       "1 Tops                T-shirts                       10    1       \n",
       "2 Computers & Tablets Components & Parts  Razer      52    0       \n",
       "3 Tops & Blouses      Blouse              Target     10    1       \n",
       "4 Home DÃ©cor         Home DÃ©cor Accents            35    1       \n",
       "5 Jewelry             Necklaces                      44    0       \n",
       "6 Other               Other                          59    0       \n",
       "  item_description                                                                                                                                                                            \n",
       "1 No description yet                                                                                                                                                                          \n",
       "2 This keyboard is in great condition and works like it came out of the box. All of the ports are tested and work perfectly. The lights are customizable via the Razer Synapse app on your PC.\n",
       "3 Adorable top with a hint of lace and a key hole in the back! The pale pink is a 1X, and I also have a 3X available in white!                                                                \n",
       "4 New with tags. Leather horses. Retail for [rm] each. Stand about a foot high. They are being sold as a pair. Any questions please ask. Free shipping. Just got out of storage               \n",
       "5 Complete with certificate of authenticity                                                                                                                                                   \n",
       "6 Banana republic bottoms, Candies skirt with matching blazer,Amy Byers suit, Loft bottoms and cami top.                                                                                      \n",
       "  category_name                                     \n",
       "1 Men/Tops/T-shirts                                 \n",
       "2 Electronics/Computers & Tablets/Components & Parts\n",
       "3 Women/Tops & Blouses/Blouse                       \n",
       "4 Home/Home DÃ©cor/Home DÃ©cor Accents              \n",
       "5 Women/Jewelry/Necklaces                           \n",
       "6 Women/Other/Other                                 "
      ]
     },
     "metadata": {},
     "output_type": "display_data"
    }
   ],
   "source": [
    "# Lets separate category variable into 3 categories\n",
    "\n",
    "category_name = train_df$category_name\n",
    "train_df = train_df %>% separate(category_name, c (\"main_category\", \"subcat_1\", \"subcat_2\"), sep=\"/\")\n",
    "train_df$category_name = category_name\n",
    "head(train_df)"
   ]
  },
  {
   "cell_type": "code",
   "execution_count": 15,
   "id": "1bf52dd3",
   "metadata": {},
   "outputs": [
    {
     "data": {
      "text/html": [
       "<table class=\"dataframe\">\n",
       "<caption>A data.frame: 6 × 11</caption>\n",
       "<thead>\n",
       "\t<tr><th></th><th scope=col>train_id</th><th scope=col>name</th><th scope=col>item_condition_id</th><th scope=col>brand_name</th><th scope=col>price</th><th scope=col>shipping</th><th scope=col>item_description</th><th scope=col>main_category</th><th scope=col>subcat_1</th><th scope=col>subcat_2</th><th scope=col>category_name</th></tr>\n",
       "\t<tr><th></th><th scope=col>&lt;int&gt;</th><th scope=col>&lt;chr&gt;</th><th scope=col>&lt;int&gt;</th><th scope=col>&lt;chr&gt;</th><th scope=col>&lt;dbl&gt;</th><th scope=col>&lt;int&gt;</th><th scope=col>&lt;chr&gt;</th><th scope=col>&lt;chr&gt;</th><th scope=col>&lt;chr&gt;</th><th scope=col>&lt;chr&gt;</th><th scope=col>&lt;chr&gt;</th></tr>\n",
       "</thead>\n",
       "<tbody>\n",
       "\t<tr><th scope=row>1</th><td>0</td><td>MLB Cincinnati Reds T Shirt Size XL</td><td>3</td><td>      </td><td>10</td><td>1</td><td>No description yet                                                                                                                                                                          </td><td>Men        </td><td>Tops               </td><td>T-shirts           </td><td>Men/Tops/T-shirts                                 </td></tr>\n",
       "\t<tr><th scope=row>2</th><td>1</td><td><span style=white-space:pre-wrap>Razer BlackWidow Chroma Keyboard   </span></td><td>3</td><td>Razer </td><td>52</td><td>0</td><td>This keyboard is in great condition and works like it came out of the box. All of the ports are tested and work perfectly. The lights are customizable via the Razer Synapse app on your PC.</td><td>Electronics</td><td>Computers &amp; Tablets</td><td>Components &amp; Parts </td><td>Electronics/Computers &amp; Tablets/Components &amp; Parts</td></tr>\n",
       "\t<tr><th scope=row>3</th><td>2</td><td><span style=white-space:pre-wrap>AVA-VIV Blouse                     </span></td><td>1</td><td>Target</td><td>10</td><td>1</td><td><span style=white-space:pre-wrap>Adorable top with a hint of lace and a key hole in the back! The pale pink is a 1X, and I also have a 3X available in white!                                                                </span></td><td><span style=white-space:pre-wrap>Women      </span></td><td><span style=white-space:pre-wrap>Tops &amp; Blouses     </span></td><td><span style=white-space:pre-wrap>Blouse             </span></td><td><span style=white-space:pre-wrap>Women/Tops &amp; Blouses/Blouse                       </span></td></tr>\n",
       "\t<tr><th scope=row>4</th><td>3</td><td>Leather Horse Statues              </td><td>1</td><td>      </td><td>35</td><td>1</td><td>New with tags. Leather horses. Retail for [rm] each. Stand about a foot high. They are being sold as a pair. Any questions please ask. Free shipping. Just got out of storage               </td><td>Home       </td><td>Home DÃ©cor        </td><td>Home DÃ©cor Accents</td><td>Home/Home DÃ©cor/Home DÃ©cor Accents              </td></tr>\n",
       "\t<tr><th scope=row>5</th><td>4</td><td>24K GOLD plated rose               </td><td>1</td><td>      </td><td>44</td><td>0</td><td>Complete with certificate of authenticity                                                                                                                                                   </td><td>Women      </td><td>Jewelry            </td><td>Necklaces          </td><td>Women/Jewelry/Necklaces                           </td></tr>\n",
       "\t<tr><th scope=row>6</th><td>5</td><td>Bundled items requested for Ruie   </td><td>3</td><td>      </td><td>59</td><td>0</td><td>Banana republic bottoms, Candies skirt with matching blazer,Amy Byers suit, Loft bottoms and cami top.                                                                                      </td><td>Women      </td><td>Other              </td><td>Other              </td><td>Women/Other/Other                                 </td></tr>\n",
       "</tbody>\n",
       "</table>\n"
      ],
      "text/latex": [
       "A data.frame: 6 × 11\n",
       "\\begin{tabular}{r|lllllllllll}\n",
       "  & train\\_id & name & item\\_condition\\_id & brand\\_name & price & shipping & item\\_description & main\\_category & subcat\\_1 & subcat\\_2 & category\\_name\\\\\n",
       "  & <int> & <chr> & <int> & <chr> & <dbl> & <int> & <chr> & <chr> & <chr> & <chr> & <chr>\\\\\n",
       "\\hline\n",
       "\t1 & 0 & MLB Cincinnati Reds T Shirt Size XL & 3 &        & 10 & 1 & No description yet                                                                                                                                                                           & Men         & Tops                & T-shirts            & Men/Tops/T-shirts                                 \\\\\n",
       "\t2 & 1 & Razer BlackWidow Chroma Keyboard    & 3 & Razer  & 52 & 0 & This keyboard is in great condition and works like it came out of the box. All of the ports are tested and work perfectly. The lights are customizable via the Razer Synapse app on your PC. & Electronics & Computers \\& Tablets & Components \\& Parts  & Electronics/Computers \\& Tablets/Components \\& Parts\\\\\n",
       "\t3 & 2 & AVA-VIV Blouse                      & 1 & Target & 10 & 1 & Adorable top with a hint of lace and a key hole in the back! The pale pink is a 1X, and I also have a 3X available in white!                                                                 & Women       & Tops \\& Blouses      & Blouse              & Women/Tops \\& Blouses/Blouse                       \\\\\n",
       "\t4 & 3 & Leather Horse Statues               & 1 &        & 35 & 1 & New with tags. Leather horses. Retail for {[}rm{]} each. Stand about a foot high. They are being sold as a pair. Any questions please ask. Free shipping. Just got out of storage                & Home        & Home DÃ©cor         & Home DÃ©cor Accents & Home/Home DÃ©cor/Home DÃ©cor Accents              \\\\\n",
       "\t5 & 4 & 24K GOLD plated rose                & 1 &        & 44 & 0 & Complete with certificate of authenticity                                                                                                                                                    & Women       & Jewelry             & Necklaces           & Women/Jewelry/Necklaces                           \\\\\n",
       "\t6 & 5 & Bundled items requested for Ruie    & 3 &        & 59 & 0 & Banana republic bottoms, Candies skirt with matching blazer,Amy Byers suit, Loft bottoms and cami top.                                                                                       & Women       & Other               & Other               & Women/Other/Other                                 \\\\\n",
       "\\end{tabular}\n"
      ],
      "text/markdown": [
       "\n",
       "A data.frame: 6 × 11\n",
       "\n",
       "| <!--/--> | train_id &lt;int&gt; | name &lt;chr&gt; | item_condition_id &lt;int&gt; | brand_name &lt;chr&gt; | price &lt;dbl&gt; | shipping &lt;int&gt; | item_description &lt;chr&gt; | main_category &lt;chr&gt; | subcat_1 &lt;chr&gt; | subcat_2 &lt;chr&gt; | category_name &lt;chr&gt; |\n",
       "|---|---|---|---|---|---|---|---|---|---|---|---|\n",
       "| 1 | 0 | MLB Cincinnati Reds T Shirt Size XL | 3 | <!----> | 10 | 1 | No description yet                                                                                                                                                                           | Men         | Tops                | T-shirts            | Men/Tops/T-shirts                                  |\n",
       "| 2 | 1 | Razer BlackWidow Chroma Keyboard    | 3 | Razer  | 52 | 0 | This keyboard is in great condition and works like it came out of the box. All of the ports are tested and work perfectly. The lights are customizable via the Razer Synapse app on your PC. | Electronics | Computers &amp; Tablets | Components &amp; Parts  | Electronics/Computers &amp; Tablets/Components &amp; Parts |\n",
       "| 3 | 2 | AVA-VIV Blouse                      | 1 | Target | 10 | 1 | Adorable top with a hint of lace and a key hole in the back! The pale pink is a 1X, and I also have a 3X available in white!                                                                 | Women       | Tops &amp; Blouses      | Blouse              | Women/Tops &amp; Blouses/Blouse                        |\n",
       "| 4 | 3 | Leather Horse Statues               | 1 | <!----> | 35 | 1 | New with tags. Leather horses. Retail for [rm] each. Stand about a foot high. They are being sold as a pair. Any questions please ask. Free shipping. Just got out of storage                | Home        | Home DÃ©cor         | Home DÃ©cor Accents | Home/Home DÃ©cor/Home DÃ©cor Accents               |\n",
       "| 5 | 4 | 24K GOLD plated rose                | 1 | <!----> | 44 | 0 | Complete with certificate of authenticity                                                                                                                                                    | Women       | Jewelry             | Necklaces           | Women/Jewelry/Necklaces                            |\n",
       "| 6 | 5 | Bundled items requested for Ruie    | 3 | <!----> | 59 | 0 | Banana republic bottoms, Candies skirt with matching blazer,Amy Byers suit, Loft bottoms and cami top.                                                                                       | Women       | Other               | Other               | Women/Other/Other                                  |\n",
       "\n"
      ],
      "text/plain": [
       "  train_id name                                item_condition_id brand_name\n",
       "1 0        MLB Cincinnati Reds T Shirt Size XL 3                           \n",
       "2 1        Razer BlackWidow Chroma Keyboard    3                 Razer     \n",
       "3 2        AVA-VIV Blouse                      1                 Target    \n",
       "4 3        Leather Horse Statues               1                           \n",
       "5 4        24K GOLD plated rose                1                           \n",
       "6 5        Bundled items requested for Ruie    3                           \n",
       "  price shipping\n",
       "1 10    1       \n",
       "2 52    0       \n",
       "3 10    1       \n",
       "4 35    1       \n",
       "5 44    0       \n",
       "6 59    0       \n",
       "  item_description                                                                                                                                                                            \n",
       "1 No description yet                                                                                                                                                                          \n",
       "2 This keyboard is in great condition and works like it came out of the box. All of the ports are tested and work perfectly. The lights are customizable via the Razer Synapse app on your PC.\n",
       "3 Adorable top with a hint of lace and a key hole in the back! The pale pink is a 1X, and I also have a 3X available in white!                                                                \n",
       "4 New with tags. Leather horses. Retail for [rm] each. Stand about a foot high. They are being sold as a pair. Any questions please ask. Free shipping. Just got out of storage               \n",
       "5 Complete with certificate of authenticity                                                                                                                                                   \n",
       "6 Banana republic bottoms, Candies skirt with matching blazer,Amy Byers suit, Loft bottoms and cami top.                                                                                      \n",
       "  main_category subcat_1            subcat_2           \n",
       "1 Men           Tops                T-shirts           \n",
       "2 Electronics   Computers & Tablets Components & Parts \n",
       "3 Women         Tops & Blouses      Blouse             \n",
       "4 Home          Home DÃ©cor         Home DÃ©cor Accents\n",
       "5 Women         Jewelry             Necklaces          \n",
       "6 Women         Other               Other              \n",
       "  category_name                                     \n",
       "1 Men/Tops/T-shirts                                 \n",
       "2 Electronics/Computers & Tablets/Components & Parts\n",
       "3 Women/Tops & Blouses/Blouse                       \n",
       "4 Home/Home DÃ©cor/Home DÃ©cor Accents              \n",
       "5 Women/Jewelry/Necklaces                           \n",
       "6 Women/Other/Other                                 "
      ]
     },
     "metadata": {},
     "output_type": "display_data"
    }
   ],
   "source": [
    "# Lets separate category variable into 3 categories\n",
    "\n",
    "category_name = train_df$category_name\n",
    "train_df = train_df %>% separate(category_name, c (\"main_category\", \"subcat_1\", \"subcat_2\"), sep=\"/\")\n",
    "train_df$category_name = category_name\n",
    "head(train_df)"
   ]
  },
  {
   "cell_type": "markdown",
   "id": "aa404722",
   "metadata": {},
   "source": [
    "# Lets separate category variable into 3 categories\n",
    "\n",
    "#Label encoding converting categories into numberical categories or form \n",
    "#, brand_name, subcat_1, subcat_2\n",
    "\n",
    "\n",
    "category_name=train_df$category_name\n",
    "train_df = train_df %>% separate(category_name, c(\"main_category\", \"subcat_1\", \"subcat_2\"), sep=\"/\")\n",
    "train_df$category_name=category_name\n",
    "lbl_main_category <- LabelEncoder$new()\n",
    "lbl_main_category$fit(train_df$main_category)\n",
    "\n",
    "lbl_brand_name <- LabelEncoder$new()\n",
    "lbl_brand_name$fit(train_df$brand_name)\n",
    "\n",
    "lbl_subcat_1 <- LabelEncoder$new()\n",
    "lbl_subcat_1$fit(train_df$subcat_1)\n",
    "\n",
    "lbl_subcat_2 <- LabelEncoder$new()\n",
    "lbl_subcat_2$fit(train_df$subcat_2)\n",
    "\n",
    "train_df$n_main_category <- lbl_main_category$transform(train_df$main_category)\n",
    "train_df$n_brand_name = lbl_brand_name$transform(train_df$brand_name)\n",
    "train_df$n_subcat_1 = lbl_subcat_1$transform(train_df$subcat_1)\n",
    "train_df$n_subcat_2 = lbl_subcat_2$transform(train_df$subcat_2)\n",
    "\n",
    "head(train_df)\n",
    "#Missing value treatment\n",
    "#This step involves the process of filling the missing values in appropriate ways so that the data is not lost."
   ]
  },
  {
   "cell_type": "code",
   "execution_count": 17,
   "id": "5c4f0d4b",
   "metadata": {},
   "outputs": [
    {
     "data": {
      "text/html": [
       "<table class=\"dataframe\">\n",
       "<caption>A data.frame: 5 × 18</caption>\n",
       "<thead>\n",
       "\t<tr><th></th><th scope=col>train_id</th><th scope=col>name</th><th scope=col>item_condition_id</th><th scope=col>brand_name</th><th scope=col>price</th><th scope=col>shipping</th><th scope=col>item_description</th><th scope=col>main_category</th><th scope=col>subcat_1</th><th scope=col>subcat_2</th><th scope=col>category_name</th><th scope=col>n_main_category</th><th scope=col>n_brand_name</th><th scope=col>n_subcat_1</th><th scope=col>n_subcat_2</th><th scope=col>description</th><th scope=col>clean_description</th><th scope=col>lower_clean_description</th></tr>\n",
       "\t<tr><th></th><th scope=col>&lt;int&gt;</th><th scope=col>&lt;chr&gt;</th><th scope=col>&lt;int&gt;</th><th scope=col>&lt;chr&gt;</th><th scope=col>&lt;dbl&gt;</th><th scope=col>&lt;int&gt;</th><th scope=col>&lt;chr&gt;</th><th scope=col>&lt;chr&gt;</th><th scope=col>&lt;chr&gt;</th><th scope=col>&lt;chr&gt;</th><th scope=col>&lt;chr&gt;</th><th scope=col>&lt;dbl&gt;</th><th scope=col>&lt;dbl&gt;</th><th scope=col>&lt;dbl&gt;</th><th scope=col>&lt;dbl&gt;</th><th scope=col>&lt;chr&gt;</th><th scope=col>&lt;chr&gt;</th><th scope=col>&lt;chr&gt;</th></tr>\n",
       "</thead>\n",
       "<tbody>\n",
       "\t<tr><th scope=row>2</th><td>1</td><td>Razer BlackWidow Chroma Keyboard</td><td>3</td><td>Razer </td><td>52</td><td>0</td><td>This keyboard is in great condition and works like it came out of the box. All of the ports are tested and work perfectly. The lights are customizable via the Razer Synapse app on your PC.</td><td>Electronics</td><td>Computers &amp; Tablets</td><td>Components &amp; Parts </td><td>Electronics/Computers &amp; Tablets/Components &amp; Parts</td><td>1</td><td>1</td><td>1</td><td>1</td><td><span style=white-space:pre-wrap>This keyboard is in great condition and works like it came out of the box  All of the ports are tested and work perfectly  The lights are customizable via the Razer Synapse app on your PC </span></td><td>This keyboard be in great condition and work like it come out of the box All of the port be test and work perfectly The light be customizable via the Razer Synapse app on your PC</td><td>this keyboard be in great condition and work like it come out of the box all of the port be test and work perfectly the light be customizable via the razer synapse app on your pc</td></tr>\n",
       "\t<tr><th scope=row>3</th><td>2</td><td><span style=white-space:pre-wrap>AVA-VIV Blouse                  </span></td><td>1</td><td>Target</td><td>10</td><td>1</td><td><span style=white-space:pre-wrap>Adorable top with a hint of lace and a key hole in the back! The pale pink is a 1X, and I also have a 3X available in white!                                                                </span></td><td><span style=white-space:pre-wrap>Women      </span></td><td><span style=white-space:pre-wrap>Tops &amp; Blouses     </span></td><td><span style=white-space:pre-wrap>Blouse             </span></td><td><span style=white-space:pre-wrap>Women/Tops &amp; Blouses/Blouse                       </span></td><td>2</td><td>2</td><td>2</td><td>2</td><td><span style=white-space:pre-wrap>Adorable top with a hint of lace and a key hole in the back  The pale pink is a 1X  and I also have a 3X available in white                                                                 </span></td><td><span style=white-space:pre-wrap>Adorable top with a hint of lace and a key hole in the back The pale pink be a 1X and I also have a 3X available in white                                                         </span></td><td><span style=white-space:pre-wrap>adorable top with a hint of lace and a key hole in the back the pale pink be a 1x and i also have a 3x available in white                                                         </span></td></tr>\n",
       "\t<tr><th scope=row>4</th><td>3</td><td>Leather Horse Statues           </td><td>1</td><td>      </td><td>35</td><td>1</td><td>New with tags. Leather horses. Retail for [rm] each. Stand about a foot high. They are being sold as a pair. Any questions please ask. Free shipping. Just got out of storage               </td><td>Home       </td><td>Home DÃ©cor        </td><td>Home DÃ©cor Accents</td><td>Home/Home DÃ©cor/Home DÃ©cor Accents              </td><td>3</td><td>0</td><td>3</td><td>3</td><td>New with tags  Leather horses  Retail for  rm  each  Stand about a foot high  They are being sold as a pair  Any questions please ask  Free shipping  Just got out of storage               </td><td>New with tag Leather horse Retail for rm each Stand about a foot high They be be sell as a pair Any question please ask Free ship Just get out of storage                         </td><td>new with tag leather horse retail for rm each stand about a foot high they be be sell as a pair any question please ask free ship just get out of storage                         </td></tr>\n",
       "\t<tr><th scope=row>5</th><td>4</td><td>24K GOLD plated rose            </td><td>1</td><td>      </td><td>44</td><td>0</td><td>Complete with certificate of authenticity                                                                                                                                                   </td><td>Women      </td><td>Jewelry            </td><td>Necklaces          </td><td>Women/Jewelry/Necklaces                           </td><td>2</td><td>0</td><td>4</td><td>4</td><td>Complete with certificate of authenticity                                                                                                                                                   </td><td>Complete with certificate of authenticity                                                                                                                                         </td><td>complete with certificate of authenticity                                                                                                                                         </td></tr>\n",
       "\t<tr><th scope=row>6</th><td>5</td><td>Bundled items requested for Ruie</td><td>3</td><td>      </td><td>59</td><td>0</td><td>Banana republic bottoms, Candies skirt with matching blazer,Amy Byers suit, Loft bottoms and cami top.                                                                                      </td><td>Women      </td><td>Other              </td><td>Other              </td><td>Women/Other/Other                                 </td><td>2</td><td>0</td><td>5</td><td>5</td><td>Banana republic bottoms  Candies skirt with matching blazer Amy Byers suit  Loft bottoms and cami top                                                                                       </td><td>Banana republic bottom candy skirt with match blazer Amy Byers suit Loft bottom and cami top                                                                                      </td><td>banana republic bottom candy skirt with match blazer amy byers suit loft bottom and cami top                                                                                      </td></tr>\n",
       "</tbody>\n",
       "</table>\n"
      ],
      "text/latex": [
       "A data.frame: 5 × 18\n",
       "\\begin{tabular}{r|llllllllllllllllll}\n",
       "  & train\\_id & name & item\\_condition\\_id & brand\\_name & price & shipping & item\\_description & main\\_category & subcat\\_1 & subcat\\_2 & category\\_name & n\\_main\\_category & n\\_brand\\_name & n\\_subcat\\_1 & n\\_subcat\\_2 & description & clean\\_description & lower\\_clean\\_description\\\\\n",
       "  & <int> & <chr> & <int> & <chr> & <dbl> & <int> & <chr> & <chr> & <chr> & <chr> & <chr> & <dbl> & <dbl> & <dbl> & <dbl> & <chr> & <chr> & <chr>\\\\\n",
       "\\hline\n",
       "\t2 & 1 & Razer BlackWidow Chroma Keyboard & 3 & Razer  & 52 & 0 & This keyboard is in great condition and works like it came out of the box. All of the ports are tested and work perfectly. The lights are customizable via the Razer Synapse app on your PC. & Electronics & Computers \\& Tablets & Components \\& Parts  & Electronics/Computers \\& Tablets/Components \\& Parts & 1 & 1 & 1 & 1 & This keyboard is in great condition and works like it came out of the box  All of the ports are tested and work perfectly  The lights are customizable via the Razer Synapse app on your PC  & This keyboard be in great condition and work like it come out of the box All of the port be test and work perfectly The light be customizable via the Razer Synapse app on your PC & this keyboard be in great condition and work like it come out of the box all of the port be test and work perfectly the light be customizable via the razer synapse app on your pc\\\\\n",
       "\t3 & 2 & AVA-VIV Blouse                   & 1 & Target & 10 & 1 & Adorable top with a hint of lace and a key hole in the back! The pale pink is a 1X, and I also have a 3X available in white!                                                                 & Women       & Tops \\& Blouses      & Blouse              & Women/Tops \\& Blouses/Blouse                        & 2 & 2 & 2 & 2 & Adorable top with a hint of lace and a key hole in the back  The pale pink is a 1X  and I also have a 3X available in white                                                                  & Adorable top with a hint of lace and a key hole in the back The pale pink be a 1X and I also have a 3X available in white                                                          & adorable top with a hint of lace and a key hole in the back the pale pink be a 1x and i also have a 3x available in white                                                         \\\\\n",
       "\t4 & 3 & Leather Horse Statues            & 1 &        & 35 & 1 & New with tags. Leather horses. Retail for {[}rm{]} each. Stand about a foot high. They are being sold as a pair. Any questions please ask. Free shipping. Just got out of storage                & Home        & Home DÃ©cor         & Home DÃ©cor Accents & Home/Home DÃ©cor/Home DÃ©cor Accents               & 3 & 0 & 3 & 3 & New with tags  Leather horses  Retail for  rm  each  Stand about a foot high  They are being sold as a pair  Any questions please ask  Free shipping  Just got out of storage                & New with tag Leather horse Retail for rm each Stand about a foot high They be be sell as a pair Any question please ask Free ship Just get out of storage                          & new with tag leather horse retail for rm each stand about a foot high they be be sell as a pair any question please ask free ship just get out of storage                         \\\\\n",
       "\t5 & 4 & 24K GOLD plated rose             & 1 &        & 44 & 0 & Complete with certificate of authenticity                                                                                                                                                    & Women       & Jewelry             & Necklaces           & Women/Jewelry/Necklaces                            & 2 & 0 & 4 & 4 & Complete with certificate of authenticity                                                                                                                                                    & Complete with certificate of authenticity                                                                                                                                          & complete with certificate of authenticity                                                                                                                                         \\\\\n",
       "\t6 & 5 & Bundled items requested for Ruie & 3 &        & 59 & 0 & Banana republic bottoms, Candies skirt with matching blazer,Amy Byers suit, Loft bottoms and cami top.                                                                                       & Women       & Other               & Other               & Women/Other/Other                                  & 2 & 0 & 5 & 5 & Banana republic bottoms  Candies skirt with matching blazer Amy Byers suit  Loft bottoms and cami top                                                                                        & Banana republic bottom candy skirt with match blazer Amy Byers suit Loft bottom and cami top                                                                                       & banana republic bottom candy skirt with match blazer amy byers suit loft bottom and cami top                                                                                      \\\\\n",
       "\\end{tabular}\n"
      ],
      "text/markdown": [
       "\n",
       "A data.frame: 5 × 18\n",
       "\n",
       "| <!--/--> | train_id &lt;int&gt; | name &lt;chr&gt; | item_condition_id &lt;int&gt; | brand_name &lt;chr&gt; | price &lt;dbl&gt; | shipping &lt;int&gt; | item_description &lt;chr&gt; | main_category &lt;chr&gt; | subcat_1 &lt;chr&gt; | subcat_2 &lt;chr&gt; | category_name &lt;chr&gt; | n_main_category &lt;dbl&gt; | n_brand_name &lt;dbl&gt; | n_subcat_1 &lt;dbl&gt; | n_subcat_2 &lt;dbl&gt; | description &lt;chr&gt; | clean_description &lt;chr&gt; | lower_clean_description &lt;chr&gt; |\n",
       "|---|---|---|---|---|---|---|---|---|---|---|---|---|---|---|---|---|---|---|\n",
       "| 2 | 1 | Razer BlackWidow Chroma Keyboard | 3 | Razer  | 52 | 0 | This keyboard is in great condition and works like it came out of the box. All of the ports are tested and work perfectly. The lights are customizable via the Razer Synapse app on your PC. | Electronics | Computers &amp; Tablets | Components &amp; Parts  | Electronics/Computers &amp; Tablets/Components &amp; Parts | 1 | 1 | 1 | 1 | This keyboard is in great condition and works like it came out of the box  All of the ports are tested and work perfectly  The lights are customizable via the Razer Synapse app on your PC  | This keyboard be in great condition and work like it come out of the box All of the port be test and work perfectly The light be customizable via the Razer Synapse app on your PC | this keyboard be in great condition and work like it come out of the box all of the port be test and work perfectly the light be customizable via the razer synapse app on your pc |\n",
       "| 3 | 2 | AVA-VIV Blouse                   | 1 | Target | 10 | 1 | Adorable top with a hint of lace and a key hole in the back! The pale pink is a 1X, and I also have a 3X available in white!                                                                 | Women       | Tops &amp; Blouses      | Blouse              | Women/Tops &amp; Blouses/Blouse                        | 2 | 2 | 2 | 2 | Adorable top with a hint of lace and a key hole in the back  The pale pink is a 1X  and I also have a 3X available in white                                                                  | Adorable top with a hint of lace and a key hole in the back The pale pink be a 1X and I also have a 3X available in white                                                          | adorable top with a hint of lace and a key hole in the back the pale pink be a 1x and i also have a 3x available in white                                                          |\n",
       "| 4 | 3 | Leather Horse Statues            | 1 | <!----> | 35 | 1 | New with tags. Leather horses. Retail for [rm] each. Stand about a foot high. They are being sold as a pair. Any questions please ask. Free shipping. Just got out of storage                | Home        | Home DÃ©cor         | Home DÃ©cor Accents | Home/Home DÃ©cor/Home DÃ©cor Accents               | 3 | 0 | 3 | 3 | New with tags  Leather horses  Retail for  rm  each  Stand about a foot high  They are being sold as a pair  Any questions please ask  Free shipping  Just got out of storage                | New with tag Leather horse Retail for rm each Stand about a foot high They be be sell as a pair Any question please ask Free ship Just get out of storage                          | new with tag leather horse retail for rm each stand about a foot high they be be sell as a pair any question please ask free ship just get out of storage                          |\n",
       "| 5 | 4 | 24K GOLD plated rose             | 1 | <!----> | 44 | 0 | Complete with certificate of authenticity                                                                                                                                                    | Women       | Jewelry             | Necklaces           | Women/Jewelry/Necklaces                            | 2 | 0 | 4 | 4 | Complete with certificate of authenticity                                                                                                                                                    | Complete with certificate of authenticity                                                                                                                                          | complete with certificate of authenticity                                                                                                                                          |\n",
       "| 6 | 5 | Bundled items requested for Ruie | 3 | <!----> | 59 | 0 | Banana republic bottoms, Candies skirt with matching blazer,Amy Byers suit, Loft bottoms and cami top.                                                                                       | Women       | Other               | Other               | Women/Other/Other                                  | 2 | 0 | 5 | 5 | Banana republic bottoms  Candies skirt with matching blazer Amy Byers suit  Loft bottoms and cami top                                                                                        | Banana republic bottom candy skirt with match blazer Amy Byers suit Loft bottom and cami top                                                                                       | banana republic bottom candy skirt with match blazer amy byers suit loft bottom and cami top                                                                                       |\n",
       "\n"
      ],
      "text/plain": [
       "  train_id name                             item_condition_id brand_name price\n",
       "2 1        Razer BlackWidow Chroma Keyboard 3                 Razer      52   \n",
       "3 2        AVA-VIV Blouse                   1                 Target     10   \n",
       "4 3        Leather Horse Statues            1                            35   \n",
       "5 4        24K GOLD plated rose             1                            44   \n",
       "6 5        Bundled items requested for Ruie 3                            59   \n",
       "  shipping\n",
       "2 0       \n",
       "3 1       \n",
       "4 1       \n",
       "5 0       \n",
       "6 0       \n",
       "  item_description                                                                                                                                                                            \n",
       "2 This keyboard is in great condition and works like it came out of the box. All of the ports are tested and work perfectly. The lights are customizable via the Razer Synapse app on your PC.\n",
       "3 Adorable top with a hint of lace and a key hole in the back! The pale pink is a 1X, and I also have a 3X available in white!                                                                \n",
       "4 New with tags. Leather horses. Retail for [rm] each. Stand about a foot high. They are being sold as a pair. Any questions please ask. Free shipping. Just got out of storage               \n",
       "5 Complete with certificate of authenticity                                                                                                                                                   \n",
       "6 Banana republic bottoms, Candies skirt with matching blazer,Amy Byers suit, Loft bottoms and cami top.                                                                                      \n",
       "  main_category subcat_1            subcat_2           \n",
       "2 Electronics   Computers & Tablets Components & Parts \n",
       "3 Women         Tops & Blouses      Blouse             \n",
       "4 Home          Home DÃ©cor         Home DÃ©cor Accents\n",
       "5 Women         Jewelry             Necklaces          \n",
       "6 Women         Other               Other              \n",
       "  category_name                                      n_main_category\n",
       "2 Electronics/Computers & Tablets/Components & Parts 1              \n",
       "3 Women/Tops & Blouses/Blouse                        2              \n",
       "4 Home/Home DÃ©cor/Home DÃ©cor Accents               3              \n",
       "5 Women/Jewelry/Necklaces                            2              \n",
       "6 Women/Other/Other                                  2              \n",
       "  n_brand_name n_subcat_1 n_subcat_2\n",
       "2 1            1          1         \n",
       "3 2            2          2         \n",
       "4 0            3          3         \n",
       "5 0            4          4         \n",
       "6 0            5          5         \n",
       "  description                                                                                                                                                                                 \n",
       "2 This keyboard is in great condition and works like it came out of the box  All of the ports are tested and work perfectly  The lights are customizable via the Razer Synapse app on your PC \n",
       "3 Adorable top with a hint of lace and a key hole in the back  The pale pink is a 1X  and I also have a 3X available in white                                                                 \n",
       "4 New with tags  Leather horses  Retail for  rm  each  Stand about a foot high  They are being sold as a pair  Any questions please ask  Free shipping  Just got out of storage               \n",
       "5 Complete with certificate of authenticity                                                                                                                                                   \n",
       "6 Banana republic bottoms  Candies skirt with matching blazer Amy Byers suit  Loft bottoms and cami top                                                                                       \n",
       "  clean_description                                                                                                                                                                 \n",
       "2 This keyboard be in great condition and work like it come out of the box All of the port be test and work perfectly The light be customizable via the Razer Synapse app on your PC\n",
       "3 Adorable top with a hint of lace and a key hole in the back The pale pink be a 1X and I also have a 3X available in white                                                         \n",
       "4 New with tag Leather horse Retail for rm each Stand about a foot high They be be sell as a pair Any question please ask Free ship Just get out of storage                         \n",
       "5 Complete with certificate of authenticity                                                                                                                                         \n",
       "6 Banana republic bottom candy skirt with match blazer Amy Byers suit Loft bottom and cami top                                                                                      \n",
       "  lower_clean_description                                                                                                                                                           \n",
       "2 this keyboard be in great condition and work like it come out of the box all of the port be test and work perfectly the light be customizable via the razer synapse app on your pc\n",
       "3 adorable top with a hint of lace and a key hole in the back the pale pink be a 1x and i also have a 3x available in white                                                         \n",
       "4 new with tag leather horse retail for rm each stand about a foot high they be be sell as a pair any question please ask free ship just get out of storage                         \n",
       "5 complete with certificate of authenticity                                                                                                                                         \n",
       "6 banana republic bottom candy skirt with match blazer amy byers suit loft bottom and cami top                                                                                      "
      ]
     },
     "metadata": {},
     "output_type": "display_data"
    }
   ],
   "source": [
    "#Text Cleaning\n",
    "#Removing the rows which is not having proper description\n",
    "\n",
    "train_df <- subset(train_df, item_description != \"No description yet\")\n",
    "#replace unwanted symbols\n",
    "train_df$description = str_replace_all(train_df$item_description, \"[[:punct:]]\", \" \")\n",
    "#Lemmatization\n",
    "train_df$clean_description = lemmatize_strings(train_df$description)\n",
    "# Making all the text lower case\n",
    "train_df$lower_clean_description = tolower(train_df$clean_description)\n",
    "head(train_df,5)"
   ]
  },
  {
   "cell_type": "code",
   "execution_count": 20,
   "id": "7d3fbf86",
   "metadata": {},
   "outputs": [],
   "source": [
    "df <- data.frame(train_df)                #  Assign big data to df\n",
    "small_df <- head(df, 50)         #  Assign the first 50 rows to small_df"
   ]
  },
  {
   "cell_type": "code",
   "execution_count": 21,
   "id": "ebb3a89e",
   "metadata": {},
   "outputs": [
    {
     "data": {
      "text/html": [
       "<table class=\"dataframe\">\n",
       "<caption>A data.frame: 6 × 18</caption>\n",
       "<thead>\n",
       "\t<tr><th></th><th scope=col>train_id</th><th scope=col>name</th><th scope=col>item_condition_id</th><th scope=col>brand_name</th><th scope=col>price</th><th scope=col>shipping</th><th scope=col>item_description</th><th scope=col>main_category</th><th scope=col>subcat_1</th><th scope=col>subcat_2</th><th scope=col>category_name</th><th scope=col>n_main_category</th><th scope=col>n_brand_name</th><th scope=col>n_subcat_1</th><th scope=col>n_subcat_2</th><th scope=col>description</th><th scope=col>clean_description</th><th scope=col>lower_clean_description</th></tr>\n",
       "\t<tr><th></th><th scope=col>&lt;int&gt;</th><th scope=col>&lt;chr&gt;</th><th scope=col>&lt;int&gt;</th><th scope=col>&lt;chr&gt;</th><th scope=col>&lt;dbl&gt;</th><th scope=col>&lt;int&gt;</th><th scope=col>&lt;chr&gt;</th><th scope=col>&lt;chr&gt;</th><th scope=col>&lt;chr&gt;</th><th scope=col>&lt;chr&gt;</th><th scope=col>&lt;chr&gt;</th><th scope=col>&lt;dbl&gt;</th><th scope=col>&lt;dbl&gt;</th><th scope=col>&lt;dbl&gt;</th><th scope=col>&lt;dbl&gt;</th><th scope=col>&lt;chr&gt;</th><th scope=col>&lt;chr&gt;</th><th scope=col>&lt;chr&gt;</th></tr>\n",
       "</thead>\n",
       "<tbody>\n",
       "\t<tr><th scope=row>2</th><td>1</td><td><span style=white-space:pre-wrap>Razer BlackWidow Chroma Keyboard  </span></td><td>3</td><td><span style=white-space:pre-wrap>Razer          </span></td><td>52</td><td>0</td><td>This keyboard is in great condition and works like it came out of the box. All of the ports are tested and work perfectly. The lights are customizable via the Razer Synapse app on your PC.</td><td>Electronics</td><td>Computers &amp; Tablets</td><td>Components &amp; Parts </td><td>Electronics/Computers &amp; Tablets/Components &amp; Parts</td><td>1</td><td>1</td><td>1</td><td>1</td><td><span style=white-space:pre-wrap>This keyboard is in great condition and works like it came out of the box  All of the ports are tested and work perfectly  The lights are customizable via the Razer Synapse app on your PC </span></td><td>This keyboard be in great condition and work like it come out of the box All of the port be test and work perfectly The light be customizable via the Razer Synapse app on your PC</td><td>this keyboard be in great condition and work like it come out of the box all of the port be test and work perfectly the light be customizable via the razer synapse app on your pc</td></tr>\n",
       "\t<tr><th scope=row>3</th><td>2</td><td><span style=white-space:pre-wrap>AVA-VIV Blouse                    </span></td><td>1</td><td><span style=white-space:pre-wrap>Target         </span></td><td>10</td><td>1</td><td><span style=white-space:pre-wrap>Adorable top with a hint of lace and a key hole in the back! The pale pink is a 1X, and I also have a 3X available in white!                                                                </span></td><td><span style=white-space:pre-wrap>Women      </span></td><td><span style=white-space:pre-wrap>Tops &amp; Blouses     </span></td><td><span style=white-space:pre-wrap>Blouse             </span></td><td><span style=white-space:pre-wrap>Women/Tops &amp; Blouses/Blouse                       </span></td><td>2</td><td>2</td><td>2</td><td>2</td><td><span style=white-space:pre-wrap>Adorable top with a hint of lace and a key hole in the back  The pale pink is a 1X  and I also have a 3X available in white                                                                 </span></td><td><span style=white-space:pre-wrap>Adorable top with a hint of lace and a key hole in the back The pale pink be a 1X and I also have a 3X available in white                                                         </span></td><td><span style=white-space:pre-wrap>adorable top with a hint of lace and a key hole in the back the pale pink be a 1x and i also have a 3x available in white                                                         </span></td></tr>\n",
       "\t<tr><th scope=row>4</th><td>3</td><td>Leather Horse Statues             </td><td>1</td><td>               </td><td>35</td><td>1</td><td>New with tags. Leather horses. Retail for [rm] each. Stand about a foot high. They are being sold as a pair. Any questions please ask. Free shipping. Just got out of storage               </td><td>Home       </td><td>Home DÃ©cor        </td><td>Home DÃ©cor Accents</td><td>Home/Home DÃ©cor/Home DÃ©cor Accents              </td><td>3</td><td>0</td><td>3</td><td>3</td><td>New with tags  Leather horses  Retail for  rm  each  Stand about a foot high  They are being sold as a pair  Any questions please ask  Free shipping  Just got out of storage               </td><td>New with tag Leather horse Retail for rm each Stand about a foot high They be be sell as a pair Any question please ask Free ship Just get out of storage                         </td><td>new with tag leather horse retail for rm each stand about a foot high they be be sell as a pair any question please ask free ship just get out of storage                         </td></tr>\n",
       "\t<tr><th scope=row>5</th><td>4</td><td>24K GOLD plated rose              </td><td>1</td><td>               </td><td>44</td><td>0</td><td>Complete with certificate of authenticity                                                                                                                                                   </td><td>Women      </td><td>Jewelry            </td><td>Necklaces          </td><td>Women/Jewelry/Necklaces                           </td><td>2</td><td>0</td><td>4</td><td>4</td><td>Complete with certificate of authenticity                                                                                                                                                   </td><td>Complete with certificate of authenticity                                                                                                                                         </td><td>complete with certificate of authenticity                                                                                                                                         </td></tr>\n",
       "\t<tr><th scope=row>6</th><td>5</td><td>Bundled items requested for Ruie  </td><td>3</td><td>               </td><td>59</td><td>0</td><td>Banana republic bottoms, Candies skirt with matching blazer,Amy Byers suit, Loft bottoms and cami top.                                                                                      </td><td>Women      </td><td>Other              </td><td>Other              </td><td>Women/Other/Other                                 </td><td>2</td><td>0</td><td>5</td><td>5</td><td>Banana republic bottoms  Candies skirt with matching blazer Amy Byers suit  Loft bottoms and cami top                                                                                       </td><td>Banana republic bottom candy skirt with match blazer Amy Byers suit Loft bottom and cami top                                                                                      </td><td>banana republic bottom candy skirt with match blazer amy byers suit loft bottom and cami top                                                                                      </td></tr>\n",
       "\t<tr><th scope=row>7</th><td>6</td><td>Acacia pacific tides santorini top</td><td>3</td><td>Acacia Swimwear</td><td>64</td><td>0</td><td>Size small but straps slightly shortened to fit xs, besides that, perfect condition                                                                                                         </td><td>Women      </td><td>Swimwear           </td><td>Two-Piece          </td><td>Women/Swimwear/Two-Piece                          </td><td>2</td><td>3</td><td>6</td><td>6</td><td>Size small but straps slightly shortened to fit xs  besides that  perfect condition                                                                                                         </td><td>Size small but strap slightly shorten to fit xs besides that perfect condition                                                                                                    </td><td>size small but strap slightly shorten to fit xs besides that perfect condition                                                                                                    </td></tr>\n",
       "</tbody>\n",
       "</table>\n"
      ],
      "text/latex": [
       "A data.frame: 6 × 18\n",
       "\\begin{tabular}{r|llllllllllllllllll}\n",
       "  & train\\_id & name & item\\_condition\\_id & brand\\_name & price & shipping & item\\_description & main\\_category & subcat\\_1 & subcat\\_2 & category\\_name & n\\_main\\_category & n\\_brand\\_name & n\\_subcat\\_1 & n\\_subcat\\_2 & description & clean\\_description & lower\\_clean\\_description\\\\\n",
       "  & <int> & <chr> & <int> & <chr> & <dbl> & <int> & <chr> & <chr> & <chr> & <chr> & <chr> & <dbl> & <dbl> & <dbl> & <dbl> & <chr> & <chr> & <chr>\\\\\n",
       "\\hline\n",
       "\t2 & 1 & Razer BlackWidow Chroma Keyboard   & 3 & Razer           & 52 & 0 & This keyboard is in great condition and works like it came out of the box. All of the ports are tested and work perfectly. The lights are customizable via the Razer Synapse app on your PC. & Electronics & Computers \\& Tablets & Components \\& Parts  & Electronics/Computers \\& Tablets/Components \\& Parts & 1 & 1 & 1 & 1 & This keyboard is in great condition and works like it came out of the box  All of the ports are tested and work perfectly  The lights are customizable via the Razer Synapse app on your PC  & This keyboard be in great condition and work like it come out of the box All of the port be test and work perfectly The light be customizable via the Razer Synapse app on your PC & this keyboard be in great condition and work like it come out of the box all of the port be test and work perfectly the light be customizable via the razer synapse app on your pc\\\\\n",
       "\t3 & 2 & AVA-VIV Blouse                     & 1 & Target          & 10 & 1 & Adorable top with a hint of lace and a key hole in the back! The pale pink is a 1X, and I also have a 3X available in white!                                                                 & Women       & Tops \\& Blouses      & Blouse              & Women/Tops \\& Blouses/Blouse                        & 2 & 2 & 2 & 2 & Adorable top with a hint of lace and a key hole in the back  The pale pink is a 1X  and I also have a 3X available in white                                                                  & Adorable top with a hint of lace and a key hole in the back The pale pink be a 1X and I also have a 3X available in white                                                          & adorable top with a hint of lace and a key hole in the back the pale pink be a 1x and i also have a 3x available in white                                                         \\\\\n",
       "\t4 & 3 & Leather Horse Statues              & 1 &                 & 35 & 1 & New with tags. Leather horses. Retail for {[}rm{]} each. Stand about a foot high. They are being sold as a pair. Any questions please ask. Free shipping. Just got out of storage                & Home        & Home DÃ©cor         & Home DÃ©cor Accents & Home/Home DÃ©cor/Home DÃ©cor Accents               & 3 & 0 & 3 & 3 & New with tags  Leather horses  Retail for  rm  each  Stand about a foot high  They are being sold as a pair  Any questions please ask  Free shipping  Just got out of storage                & New with tag Leather horse Retail for rm each Stand about a foot high They be be sell as a pair Any question please ask Free ship Just get out of storage                          & new with tag leather horse retail for rm each stand about a foot high they be be sell as a pair any question please ask free ship just get out of storage                         \\\\\n",
       "\t5 & 4 & 24K GOLD plated rose               & 1 &                 & 44 & 0 & Complete with certificate of authenticity                                                                                                                                                    & Women       & Jewelry             & Necklaces           & Women/Jewelry/Necklaces                            & 2 & 0 & 4 & 4 & Complete with certificate of authenticity                                                                                                                                                    & Complete with certificate of authenticity                                                                                                                                          & complete with certificate of authenticity                                                                                                                                         \\\\\n",
       "\t6 & 5 & Bundled items requested for Ruie   & 3 &                 & 59 & 0 & Banana republic bottoms, Candies skirt with matching blazer,Amy Byers suit, Loft bottoms and cami top.                                                                                       & Women       & Other               & Other               & Women/Other/Other                                  & 2 & 0 & 5 & 5 & Banana republic bottoms  Candies skirt with matching blazer Amy Byers suit  Loft bottoms and cami top                                                                                        & Banana republic bottom candy skirt with match blazer Amy Byers suit Loft bottom and cami top                                                                                       & banana republic bottom candy skirt with match blazer amy byers suit loft bottom and cami top                                                                                      \\\\\n",
       "\t7 & 6 & Acacia pacific tides santorini top & 3 & Acacia Swimwear & 64 & 0 & Size small but straps slightly shortened to fit xs, besides that, perfect condition                                                                                                          & Women       & Swimwear            & Two-Piece           & Women/Swimwear/Two-Piece                           & 2 & 3 & 6 & 6 & Size small but straps slightly shortened to fit xs  besides that  perfect condition                                                                                                          & Size small but strap slightly shorten to fit xs besides that perfect condition                                                                                                     & size small but strap slightly shorten to fit xs besides that perfect condition                                                                                                    \\\\\n",
       "\\end{tabular}\n"
      ],
      "text/markdown": [
       "\n",
       "A data.frame: 6 × 18\n",
       "\n",
       "| <!--/--> | train_id &lt;int&gt; | name &lt;chr&gt; | item_condition_id &lt;int&gt; | brand_name &lt;chr&gt; | price &lt;dbl&gt; | shipping &lt;int&gt; | item_description &lt;chr&gt; | main_category &lt;chr&gt; | subcat_1 &lt;chr&gt; | subcat_2 &lt;chr&gt; | category_name &lt;chr&gt; | n_main_category &lt;dbl&gt; | n_brand_name &lt;dbl&gt; | n_subcat_1 &lt;dbl&gt; | n_subcat_2 &lt;dbl&gt; | description &lt;chr&gt; | clean_description &lt;chr&gt; | lower_clean_description &lt;chr&gt; |\n",
       "|---|---|---|---|---|---|---|---|---|---|---|---|---|---|---|---|---|---|---|\n",
       "| 2 | 1 | Razer BlackWidow Chroma Keyboard   | 3 | Razer           | 52 | 0 | This keyboard is in great condition and works like it came out of the box. All of the ports are tested and work perfectly. The lights are customizable via the Razer Synapse app on your PC. | Electronics | Computers &amp; Tablets | Components &amp; Parts  | Electronics/Computers &amp; Tablets/Components &amp; Parts | 1 | 1 | 1 | 1 | This keyboard is in great condition and works like it came out of the box  All of the ports are tested and work perfectly  The lights are customizable via the Razer Synapse app on your PC  | This keyboard be in great condition and work like it come out of the box All of the port be test and work perfectly The light be customizable via the Razer Synapse app on your PC | this keyboard be in great condition and work like it come out of the box all of the port be test and work perfectly the light be customizable via the razer synapse app on your pc |\n",
       "| 3 | 2 | AVA-VIV Blouse                     | 1 | Target          | 10 | 1 | Adorable top with a hint of lace and a key hole in the back! The pale pink is a 1X, and I also have a 3X available in white!                                                                 | Women       | Tops &amp; Blouses      | Blouse              | Women/Tops &amp; Blouses/Blouse                        | 2 | 2 | 2 | 2 | Adorable top with a hint of lace and a key hole in the back  The pale pink is a 1X  and I also have a 3X available in white                                                                  | Adorable top with a hint of lace and a key hole in the back The pale pink be a 1X and I also have a 3X available in white                                                          | adorable top with a hint of lace and a key hole in the back the pale pink be a 1x and i also have a 3x available in white                                                          |\n",
       "| 4 | 3 | Leather Horse Statues              | 1 | <!----> | 35 | 1 | New with tags. Leather horses. Retail for [rm] each. Stand about a foot high. They are being sold as a pair. Any questions please ask. Free shipping. Just got out of storage                | Home        | Home DÃ©cor         | Home DÃ©cor Accents | Home/Home DÃ©cor/Home DÃ©cor Accents               | 3 | 0 | 3 | 3 | New with tags  Leather horses  Retail for  rm  each  Stand about a foot high  They are being sold as a pair  Any questions please ask  Free shipping  Just got out of storage                | New with tag Leather horse Retail for rm each Stand about a foot high They be be sell as a pair Any question please ask Free ship Just get out of storage                          | new with tag leather horse retail for rm each stand about a foot high they be be sell as a pair any question please ask free ship just get out of storage                          |\n",
       "| 5 | 4 | 24K GOLD plated rose               | 1 | <!----> | 44 | 0 | Complete with certificate of authenticity                                                                                                                                                    | Women       | Jewelry             | Necklaces           | Women/Jewelry/Necklaces                            | 2 | 0 | 4 | 4 | Complete with certificate of authenticity                                                                                                                                                    | Complete with certificate of authenticity                                                                                                                                          | complete with certificate of authenticity                                                                                                                                          |\n",
       "| 6 | 5 | Bundled items requested for Ruie   | 3 | <!----> | 59 | 0 | Banana republic bottoms, Candies skirt with matching blazer,Amy Byers suit, Loft bottoms and cami top.                                                                                       | Women       | Other               | Other               | Women/Other/Other                                  | 2 | 0 | 5 | 5 | Banana republic bottoms  Candies skirt with matching blazer Amy Byers suit  Loft bottoms and cami top                                                                                        | Banana republic bottom candy skirt with match blazer Amy Byers suit Loft bottom and cami top                                                                                       | banana republic bottom candy skirt with match blazer amy byers suit loft bottom and cami top                                                                                       |\n",
       "| 7 | 6 | Acacia pacific tides santorini top | 3 | Acacia Swimwear | 64 | 0 | Size small but straps slightly shortened to fit xs, besides that, perfect condition                                                                                                          | Women       | Swimwear            | Two-Piece           | Women/Swimwear/Two-Piece                           | 2 | 3 | 6 | 6 | Size small but straps slightly shortened to fit xs  besides that  perfect condition                                                                                                          | Size small but strap slightly shorten to fit xs besides that perfect condition                                                                                                     | size small but strap slightly shorten to fit xs besides that perfect condition                                                                                                     |\n",
       "\n"
      ],
      "text/plain": [
       "  train_id name                               item_condition_id brand_name     \n",
       "2 1        Razer BlackWidow Chroma Keyboard   3                 Razer          \n",
       "3 2        AVA-VIV Blouse                     1                 Target         \n",
       "4 3        Leather Horse Statues              1                                \n",
       "5 4        24K GOLD plated rose               1                                \n",
       "6 5        Bundled items requested for Ruie   3                                \n",
       "7 6        Acacia pacific tides santorini top 3                 Acacia Swimwear\n",
       "  price shipping\n",
       "2 52    0       \n",
       "3 10    1       \n",
       "4 35    1       \n",
       "5 44    0       \n",
       "6 59    0       \n",
       "7 64    0       \n",
       "  item_description                                                                                                                                                                            \n",
       "2 This keyboard is in great condition and works like it came out of the box. All of the ports are tested and work perfectly. The lights are customizable via the Razer Synapse app on your PC.\n",
       "3 Adorable top with a hint of lace and a key hole in the back! The pale pink is a 1X, and I also have a 3X available in white!                                                                \n",
       "4 New with tags. Leather horses. Retail for [rm] each. Stand about a foot high. They are being sold as a pair. Any questions please ask. Free shipping. Just got out of storage               \n",
       "5 Complete with certificate of authenticity                                                                                                                                                   \n",
       "6 Banana republic bottoms, Candies skirt with matching blazer,Amy Byers suit, Loft bottoms and cami top.                                                                                      \n",
       "7 Size small but straps slightly shortened to fit xs, besides that, perfect condition                                                                                                         \n",
       "  main_category subcat_1            subcat_2           \n",
       "2 Electronics   Computers & Tablets Components & Parts \n",
       "3 Women         Tops & Blouses      Blouse             \n",
       "4 Home          Home DÃ©cor         Home DÃ©cor Accents\n",
       "5 Women         Jewelry             Necklaces          \n",
       "6 Women         Other               Other              \n",
       "7 Women         Swimwear            Two-Piece          \n",
       "  category_name                                      n_main_category\n",
       "2 Electronics/Computers & Tablets/Components & Parts 1              \n",
       "3 Women/Tops & Blouses/Blouse                        2              \n",
       "4 Home/Home DÃ©cor/Home DÃ©cor Accents               3              \n",
       "5 Women/Jewelry/Necklaces                            2              \n",
       "6 Women/Other/Other                                  2              \n",
       "7 Women/Swimwear/Two-Piece                           2              \n",
       "  n_brand_name n_subcat_1 n_subcat_2\n",
       "2 1            1          1         \n",
       "3 2            2          2         \n",
       "4 0            3          3         \n",
       "5 0            4          4         \n",
       "6 0            5          5         \n",
       "7 3            6          6         \n",
       "  description                                                                                                                                                                                 \n",
       "2 This keyboard is in great condition and works like it came out of the box  All of the ports are tested and work perfectly  The lights are customizable via the Razer Synapse app on your PC \n",
       "3 Adorable top with a hint of lace and a key hole in the back  The pale pink is a 1X  and I also have a 3X available in white                                                                 \n",
       "4 New with tags  Leather horses  Retail for  rm  each  Stand about a foot high  They are being sold as a pair  Any questions please ask  Free shipping  Just got out of storage               \n",
       "5 Complete with certificate of authenticity                                                                                                                                                   \n",
       "6 Banana republic bottoms  Candies skirt with matching blazer Amy Byers suit  Loft bottoms and cami top                                                                                       \n",
       "7 Size small but straps slightly shortened to fit xs  besides that  perfect condition                                                                                                         \n",
       "  clean_description                                                                                                                                                                 \n",
       "2 This keyboard be in great condition and work like it come out of the box All of the port be test and work perfectly The light be customizable via the Razer Synapse app on your PC\n",
       "3 Adorable top with a hint of lace and a key hole in the back The pale pink be a 1X and I also have a 3X available in white                                                         \n",
       "4 New with tag Leather horse Retail for rm each Stand about a foot high They be be sell as a pair Any question please ask Free ship Just get out of storage                         \n",
       "5 Complete with certificate of authenticity                                                                                                                                         \n",
       "6 Banana republic bottom candy skirt with match blazer Amy Byers suit Loft bottom and cami top                                                                                      \n",
       "7 Size small but strap slightly shorten to fit xs besides that perfect condition                                                                                                    \n",
       "  lower_clean_description                                                                                                                                                           \n",
       "2 this keyboard be in great condition and work like it come out of the box all of the port be test and work perfectly the light be customizable via the razer synapse app on your pc\n",
       "3 adorable top with a hint of lace and a key hole in the back the pale pink be a 1x and i also have a 3x available in white                                                         \n",
       "4 new with tag leather horse retail for rm each stand about a foot high they be be sell as a pair any question please ask free ship just get out of storage                         \n",
       "5 complete with certificate of authenticity                                                                                                                                         \n",
       "6 banana republic bottom candy skirt with match blazer amy byers suit loft bottom and cami top                                                                                      \n",
       "7 size small but strap slightly shorten to fit xs besides that perfect condition                                                                                                    "
      ]
     },
     "metadata": {},
     "output_type": "display_data"
    }
   ],
   "source": [
    "head(train_df)"
   ]
  },
  {
   "cell_type": "code",
   "execution_count": 23,
   "id": "a9b9809f",
   "metadata": {},
   "outputs": [
    {
     "data": {
      "text/html": [
       "<strong>CRAN:</strong> 'https://cran.r-project.org'"
      ],
      "text/latex": [
       "\\textbf{CRAN:} 'https://cran.r-project.org'"
      ],
      "text/markdown": [
       "**CRAN:** 'https://cran.r-project.org'"
      ],
      "text/plain": [
       "                        CRAN \n",
       "\"https://cran.r-project.org\" "
      ]
     },
     "metadata": {},
     "output_type": "display_data"
    }
   ],
   "source": [
    "options(\"repos\")[[1]][1]"
   ]
  },
  {
   "cell_type": "code",
   "execution_count": 28,
   "id": "29fc5c82",
   "metadata": {},
   "outputs": [
    {
     "data": {
      "text/html": [
       "'C:/Users/Ragla/Documents/R/win-library/4.1/rpart'"
      ],
      "text/latex": [
       "'C:/Users/Ragla/Documents/R/win-library/4.1/rpart'"
      ],
      "text/markdown": [
       "'C:/Users/Ragla/Documents/R/win-library/4.1/rpart'"
      ],
      "text/plain": [
       "[1] \"C:/Users/Ragla/Documents/R/win-library/4.1/rpart\""
      ]
     },
     "metadata": {},
     "output_type": "display_data"
    }
   ],
   "source": [
    "find.package('rpart')"
   ]
  },
  {
   "cell_type": "code",
   "execution_count": 56,
   "id": "5787bc81",
   "metadata": {},
   "outputs": [
    {
     "data": {
      "image/png": "[encoded data removed]",
      "text/plain": [
       "plot without title"
      ]
     },
     "metadata": {
      "image/png": {
       "height": 420,
       "width": 420
      }
     },
     "output_type": "display_data"
    }
   ],
   "source": [
    "#Top 10 Brand based on average and median price\n",
    "\n",
    "data=ddply(train_df,.(brand_name), summarize, \"mean\"=mean(price), \"median\"=median(price))\n",
    "data %>% arrange(desc(mean)) %>% head(10) %>%\n",
    "  ggplot(aes(x=reorder(brand_name,mean), y=mean)) +\n",
    "   geom_point(color='red') +\n",
    "     coord_flip() +\n",
    "     scale_y_continuous(labels=scales::dollar) +\n",
    "     labs(title= 'Top 10 brand on average price')"
   ]
  },
  {
   "cell_type": "markdown",
   "id": "c3abb516",
   "metadata": {},
   "source": [
    "train_price = lm(price ~ price, train_df)"
   ]
  },
  {
   "cell_type": "code",
   "execution_count": 132,
   "id": "102f4bda",
   "metadata": {},
   "outputs": [
    {
     "data": {
      "text/plain": [
       "\n",
       "Call:\n",
       "lm(formula = price ~ price, data = train_df)\n",
       "\n",
       "Residuals:\n",
       "    Min      1Q  Median      3Q     Max \n",
       " -26.95  -16.95   -9.95    2.05 1479.05 \n",
       "\n",
       "Coefficients:\n",
       "            Estimate Std. Error t value Pr(>|t|)    \n",
       "(Intercept)  26.9536     0.2332   115.6   <2e-16 ***\n",
       "---\n",
       "Signif. codes:  0 '***' 0.001 '**' 0.01 '*' 0.05 '.' 0.1 ' ' 1\n",
       "\n",
       "Residual standard error: 40.39 on 29998 degrees of freedom\n"
      ]
     },
     "metadata": {},
     "output_type": "display_data"
    }
   ],
   "source": [
    "summary(train_price)"
   ]
  },
  {
   "cell_type": "code",
   "execution_count": 133,
   "id": "57c72b05",
   "metadata": {},
   "outputs": [
    {
     "data": {
      "text/html": [
       "<table class=\"dataframe\">\n",
       "<caption>A matrix: 1 × 4 of type dbl</caption>\n",
       "<thead>\n",
       "\t<tr><th></th><th scope=col>Estimate</th><th scope=col>Std. Error</th><th scope=col>t value</th><th scope=col>Pr(&gt;|t|)</th></tr>\n",
       "</thead>\n",
       "<tbody>\n",
       "\t<tr><th scope=row>(Intercept)</th><td>26.95358</td><td>0.2332245</td><td>115.5692</td><td>0</td></tr>\n",
       "</tbody>\n",
       "</table>\n"
      ],
      "text/latex": [
       "A matrix: 1 × 4 of type dbl\n",
       "\\begin{tabular}{r|llll}\n",
       "  & Estimate & Std. Error & t value & Pr(>\\textbar{}t\\textbar{})\\\\\n",
       "\\hline\n",
       "\t(Intercept) & 26.95358 & 0.2332245 & 115.5692 & 0\\\\\n",
       "\\end{tabular}\n"
      ],
      "text/markdown": [
       "\n",
       "A matrix: 1 × 4 of type dbl\n",
       "\n",
       "| <!--/--> | Estimate | Std. Error | t value | Pr(&gt;|t|) |\n",
       "|---|---|---|---|---|\n",
       "| (Intercept) | 26.95358 | 0.2332245 | 115.5692 | 0 |\n",
       "\n"
      ],
      "text/plain": [
       "            Estimate Std. Error t value  Pr(>|t|)\n",
       "(Intercept) 26.95358 0.2332245  115.5692 0       "
      ]
     },
     "metadata": {},
     "output_type": "display_data"
    }
   ],
   "source": [
    "coef(summary(train_price))"
   ]
  },
  {
   "cell_type": "code",
   "execution_count": 134,
   "id": "2a8417a1",
   "metadata": {},
   "outputs": [],
   "source": [
    "co = coef(summary(train_price))"
   ]
  },
  {
   "cell_type": "code",
   "execution_count": 135,
   "id": "3de81ead",
   "metadata": {},
   "outputs": [
    {
     "data": {
      "text/html": [
       "26.9535817860563"
      ],
      "text/latex": [
       "26.9535817860563"
      ],
      "text/markdown": [
       "26.9535817860563"
      ],
      "text/plain": [
       "[1] 26.95358"
      ]
     },
     "metadata": {},
     "output_type": "display_data"
    }
   ],
   "source": [
    "co[ ,1]"
   ]
  },
  {
   "cell_type": "code",
   "execution_count": 136,
   "id": "9a026aeb",
   "metadata": {},
   "outputs": [
    {
     "data": {
      "text/html": [
       "0"
      ],
      "text/latex": [
       "0"
      ],
      "text/markdown": [
       "0"
      ],
      "text/plain": [
       "[1] 0"
      ]
     },
     "metadata": {},
     "output_type": "display_data"
    }
   ],
   "source": [
    "co[ , 4]"
   ]
  },
  {
   "cell_type": "code",
   "execution_count": 109,
   "id": "34fcb4d8",
   "metadata": {},
   "outputs": [],
   "source": [
    "train_price = lm(price ~ price, train_df)"
   ]
  },
  {
   "cell_type": "code",
   "execution_count": 138,
   "id": "20303643",
   "metadata": {
    "scrolled": true
   },
   "outputs": [
    {
     "data": {
      "text/plain": [
       "    train_id         name           item_condition_id category_name     \n",
       " Min.   :    0   Length:29999       Min.   :1.000     Length:29999      \n",
       " 1st Qu.: 7500   Class :character   1st Qu.:1.000     Class :character  \n",
       " Median :14999   Mode  :character   Median :2.000     Mode  :character  \n",
       " Mean   :14999                      Mean   :1.906                       \n",
       " 3rd Qu.:22499                      3rd Qu.:3.000                       \n",
       " Max.   :29998                      Max.   :5.000                       \n",
       "  brand_name            price            shipping      item_description  \n",
       " Length:29999       Min.   :   0.00   Min.   :0.0000   Length:29999      \n",
       " Class :character   1st Qu.:  10.00   1st Qu.:0.0000   Class :character  \n",
       " Mode  :character   Median :  17.00   Median :0.0000   Mode  :character  \n",
       "                    Mean   :  26.95   Mean   :0.4477                     \n",
       "                    3rd Qu.:  29.00   3rd Qu.:1.0000                     \n",
       "                    Max.   :1506.00   Max.   :1.0000                     "
      ]
     },
     "metadata": {},
     "output_type": "display_data"
    }
   ],
   "source": [
    "summary(train_df)"
   ]
  }
 ],
 "metadata": {
  "kernelspec": {
   "display_name": "R",
   "language": "R",
   "name": "ir"
  },
  "language_info": {
   "codemirror_mode": "r",
   "file_extension": ".r",
   "mimetype": "text/x-r-source",
   "name": "R",
   "pygments_lexer": "r",
   "version": "4.1.2"
  }
 },
 "nbformat": 4,
 "nbformat_minor": 5
}
